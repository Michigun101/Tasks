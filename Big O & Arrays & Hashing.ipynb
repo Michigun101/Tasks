{
 "cells": [
  {
   "cell_type": "code",
   "execution_count": 1,
   "id": "4ec1e8cc",
   "metadata": {},
   "outputs": [],
   "source": [
    "import timeit"
   ]
  },
  {
   "cell_type": "code",
   "execution_count": 8,
   "id": "82698de1",
   "metadata": {},
   "outputs": [],
   "source": [
    "def logaritmic(n):\n",
    "    start = timeit.default_timer()\n",
    "    \n",
    "    k=0\n",
    "    while n>0:\n",
    "        n=n//2\n",
    "        k+=1\n",
    "    \n",
    "    run_time = (timeit.default_timer() - start) * 1000\n",
    "    print('logarithmic: {} Time: {:.6f} ms'.format(k,run_time))"
   ]
  },
  {
   "cell_type": "code",
   "execution_count": 3,
   "id": "c9ae389a",
   "metadata": {},
   "outputs": [],
   "source": [
    "def linear(n):\n",
    "    start = timeit.default_timer()\n",
    "    \n",
    "    k=0\n",
    "    for _ in range(n):\n",
    "        k+=1\n",
    "    \n",
    "    run_time = (timeit.default_timer() - start) * 1000\n",
    "    print('linear: {} Time: {:.6f} ms'.format(k,run_time))"
   ]
  },
  {
   "cell_type": "code",
   "execution_count": 4,
   "id": "adce4cf9",
   "metadata": {},
   "outputs": [],
   "source": [
    "def quadratic(n):\n",
    "    start = timeit.default_timer()\n",
    "    \n",
    "    k=0\n",
    "    for _ in range(n):\n",
    "        for _ in range(n):\n",
    "            k+=1\n",
    "    \n",
    "    run_time = (timeit.default_timer() - start) * 1000\n",
    "    print('quadratic: {} Time: {:.6f} ms'.format(k,run_time))"
   ]
  },
  {
   "cell_type": "code",
   "execution_count": 6,
   "id": "15c7ccc4",
   "metadata": {},
   "outputs": [],
   "source": [
    "def exponential(n):\n",
    "    start = timeit.default_timer()\n",
    "    \n",
    "    k=0\n",
    "    for _ in range(2**n):\n",
    "         k+=1\n",
    "    \n",
    "    run_time = (timeit.default_timer() - start) * 1000\n",
    "    print('exponential: {} Time: {:.6f} ms'.format(k,run_time))"
   ]
  },
  {
   "cell_type": "code",
   "execution_count": 9,
   "id": "470f3ade",
   "metadata": {},
   "outputs": [
    {
     "name": "stdout",
     "output_type": "stream",
     "text": [
      "logarithmic: 4 Time: 0.004167 ms\n",
      "linear: 10 Time: 0.004291 ms\n",
      "quadratic: 100 Time: 0.019541 ms\n",
      "exponential: 1024 Time: 0.194959 ms\n"
     ]
    }
   ],
   "source": [
    "n=10\n",
    "logaritmic(n)\n",
    "linear(n)\n",
    "quadratic(n)\n",
    "exponential(n)"
   ]
  },
  {
   "cell_type": "code",
   "execution_count": 10,
   "id": "b61ea8d3",
   "metadata": {},
   "outputs": [
    {
     "name": "stdout",
     "output_type": "stream",
     "text": [
      "logarithmic: 7 Time: 0.008083 ms\n",
      "linear: 100 Time: 0.009250 ms\n",
      "quadratic: 10000 Time: 1.382834 ms\n"
     ]
    },
    {
     "ename": "KeyboardInterrupt",
     "evalue": "",
     "output_type": "error",
     "traceback": [
      "\u001b[0;31m---------------------------------------------------------------------------\u001b[0m",
      "\u001b[0;31mKeyboardInterrupt\u001b[0m                         Traceback (most recent call last)",
      "Cell \u001b[0;32mIn[10], line 5\u001b[0m\n\u001b[1;32m      3\u001b[0m linear(n)\n\u001b[1;32m      4\u001b[0m quadratic(n)\n\u001b[0;32m----> 5\u001b[0m \u001b[43mexponential\u001b[49m\u001b[43m(\u001b[49m\u001b[43mn\u001b[49m\u001b[43m)\u001b[49m\n",
      "Cell \u001b[0;32mIn[6], line 6\u001b[0m, in \u001b[0;36mexponential\u001b[0;34m(n)\u001b[0m\n\u001b[1;32m      4\u001b[0m k\u001b[38;5;241m=\u001b[39m\u001b[38;5;241m0\u001b[39m\n\u001b[1;32m      5\u001b[0m \u001b[38;5;28;01mfor\u001b[39;00m _ \u001b[38;5;129;01min\u001b[39;00m \u001b[38;5;28mrange\u001b[39m(\u001b[38;5;241m2\u001b[39m\u001b[38;5;241m*\u001b[39m\u001b[38;5;241m*\u001b[39mn):\n\u001b[0;32m----> 6\u001b[0m      k\u001b[38;5;241m+\u001b[39m\u001b[38;5;241m=\u001b[39m\u001b[38;5;241m1\u001b[39m\n\u001b[1;32m      8\u001b[0m run_time \u001b[38;5;241m=\u001b[39m (timeit\u001b[38;5;241m.\u001b[39mdefault_timer() \u001b[38;5;241m-\u001b[39m start) \u001b[38;5;241m*\u001b[39m \u001b[38;5;241m1000\u001b[39m\n\u001b[1;32m      9\u001b[0m \u001b[38;5;28mprint\u001b[39m(\u001b[38;5;124m'\u001b[39m\u001b[38;5;124mexponential: \u001b[39m\u001b[38;5;132;01m{}\u001b[39;00m\u001b[38;5;124m Time: \u001b[39m\u001b[38;5;132;01m{:.6f}\u001b[39;00m\u001b[38;5;124m ms\u001b[39m\u001b[38;5;124m'\u001b[39m\u001b[38;5;241m.\u001b[39mformat(k,run_time))\n",
      "\u001b[0;31mKeyboardInterrupt\u001b[0m: "
     ]
    }
   ],
   "source": [
    "n=100\n",
    "logaritmic(n)\n",
    "linear(n)\n",
    "quadratic(n)\n",
    "exponential(n)"
   ]
  },
  {
   "cell_type": "markdown",
   "id": "75b9d7a4",
   "metadata": {},
   "source": [
    "## Leetcode 217. Contains Duplicate\n",
    "Given an integer array nums, return true if any value appears at least twice in the array, and return false if every element is distinct."
   ]
  },
  {
   "cell_type": "code",
   "execution_count": null,
   "id": "52b585ed",
   "metadata": {},
   "outputs": [],
   "source": [
    "class Solution:\n",
    "    def containsDuplicate(self, nums: List[int]) -> bool:\n",
    "        known = set()\n",
    "        for num in nums:\n",
    "            if num in known:\n",
    "                return True\n",
    "            known.add(num)\n",
    "        return False"
   ]
  },
  {
   "cell_type": "markdown",
   "id": "7c1b590c",
   "metadata": {},
   "source": [
    "## Leetcode 242. Valid Anagram\n",
    "Given two strings s and t, return true if t is an anagram of s, and false otherwise.\n",
    "\n"
   ]
  },
  {
   "cell_type": "code",
   "execution_count": null,
   "id": "63bc74ea",
   "metadata": {},
   "outputs": [],
   "source": [
    "from collections import Counter\n",
    "class Solution:\n",
    "    def isAnagram(self, s: str, t: str) -> bool:\n",
    "        if len(s)!=len(t):\n",
    "            return False\n",
    "        \n",
    "        return Counter(s) == Counter(t)"
   ]
  },
  {
   "cell_type": "code",
   "execution_count": null,
   "id": "e448c81d",
   "metadata": {},
   "outputs": [],
   "source": [
    "class Solution:\n",
    "    def isAnagram(self, s: str, t: str) -> bool:\n",
    "        if len(s)!=len(t):\n",
    "            return False\n",
    "        count_s = {}\n",
    "        count_t = {}\n",
    "        for char_s,char_t in zip(s,t):\n",
    "            count_s[char_s] = count_s.get(char_s,0) + 1\n",
    "            count_t[char_t] = count_t.get(char_t,0) + 1\n",
    "\n",
    "        return count_s == count_t"
   ]
  },
  {
   "cell_type": "markdown",
   "id": "4e07d3d5",
   "metadata": {},
   "source": [
    "## Leetcode 1. Two Sum\n",
    "Given an array of integers nums and an integer target, return indices of the two numbers such that they add up to target.\n",
    "\n",
    "You may assume that each input would have exactly one solution, and you may not use the same element twice.\n",
    "\n",
    "You can return the answer in any order."
   ]
  },
  {
   "cell_type": "code",
   "execution_count": null,
   "id": "a51eac95",
   "metadata": {},
   "outputs": [],
   "source": [
    "class Solution:\n",
    "    def twoSum(self, nums: List[int], target: int) -> List[int]:\n",
    "        known_numbers = {}\n",
    "        for idx,num in enumerate(nums):\n",
    "            desire = target - num\n",
    "            if desire in known_numbers:\n",
    "                return [known_numbers[desire],idx]\n",
    "            \n",
    "            known_numbers[num] = idx"
   ]
  },
  {
   "cell_type": "markdown",
   "id": "88bab11b",
   "metadata": {},
   "source": [
    "## Leetcode 49. Group Anagrams\n",
    "Given an array of strings strs, group the anagrams together. You can return the answer in any order.\n"
   ]
  },
  {
   "cell_type": "code",
   "execution_count": 2,
   "id": "3e27a05d",
   "metadata": {},
   "outputs": [],
   "source": [
    "class Solution:\n",
    "    def groupAnagrams(self, strs: str):\n",
    "        result = {}\n",
    "        for word in strs:\n",
    "            counts = [0] * 26 # a .. z\n",
    "            for ch in word:\n",
    "                counts[ord(ch) - ord('a')] += 1 # a=0 ,b=1,... z=25 idx\n",
    "            key = tuple(counts)\n",
    "            if key not in result:\n",
    "                result[key] = []\n",
    "            result[key].append(word)\n",
    "        \n",
    "        return list(result.values())"
   ]
  },
  {
   "cell_type": "markdown",
   "id": "11329452",
   "metadata": {},
   "source": [
    "## Leetcode 238. Product of Array Except Self\n",
    "Given an integer array nums, return an array answer such that answer[i] is equal to the product of all the elements of nums except nums[i].\n",
    "\n",
    "The product of any prefix or suffix of nums is guaranteed to fit in a 32-bit integer.\n",
    "\n",
    "You must write an algorithm that runs in O(n) time and without using the division operation."
   ]
  },
  {
   "cell_type": "markdown",
   "id": "35863c83",
   "metadata": {},
   "source": [
    "Решение нужно за O(1) по памяти и O(n) по времени"
   ]
  },
  {
   "cell_type": "code",
   "execution_count": 4,
   "id": "ee9a502f",
   "metadata": {},
   "outputs": [],
   "source": [
    "class Solution:\n",
    "    def productExceptSelf(self, nums):\n",
    "        result = [1]*len(nums)\n",
    "        prefix = 1\n",
    "        for i,num in enumerate(nums):\n",
    "            result[i] = prefix\n",
    "            prefix *=num\n",
    "        \n",
    "        postfix = 1\n",
    "        for i in range(len(nums) - 1, -1,-1):\n",
    "            result[i]*=postfix\n",
    "            postfix*=nums[i]\n",
    "\n",
    "        return result"
   ]
  },
  {
   "cell_type": "markdown",
   "id": "5698fd3e",
   "metadata": {},
   "source": [
    "## Leetcode 36. Valid Sudoku\n",
    "Determine if a 9 x 9 Sudoku board is valid. Only the filled cells need to be validated according to the following rules:\n",
    "\n",
    "Each row must contain the digits 1-9 without repetition.\n",
    "Each column must contain the digits 1-9 without repetition.\n",
    "Each of the nine 3 x 3 sub-boxes of the grid must contain the digits 1-9 without repetition.\n",
    "Note:\n",
    "\n",
    "A Sudoku board (partially filled) could be valid but is not necessarily solvable.\n",
    "Only the filled cells need to be validated according to the mentioned rules."
   ]
  },
  {
   "cell_type": "code",
   "execution_count": 5,
   "id": "68387d34",
   "metadata": {},
   "outputs": [],
   "source": [
    "from collections import defaultdict\n",
    "class Solution:\n",
    "    def isValidSudoku(self, board:list) -> bool:\n",
    "        cols = defaultdict(set) # idx col\n",
    "        rows = defaultdict(set) # idx row\n",
    "        boxes = defaultdict(set) #[idx_row, idx_col]\n",
    "\n",
    "        for idx_row,row in enumerate(board):\n",
    "            for idx_col,el in enumerate(row):\n",
    "                if el == '.':\n",
    "                    continue\n",
    "                \n",
    "                idx_box = (idx_row//3, idx_col // 3)\n",
    "                if (\n",
    "                    el in cols[idx_col] or\n",
    "                    el in rows[idx_row] or\n",
    "                    el in boxes[idx_box]\n",
    "                ):\n",
    "                    return False\n",
    "                \n",
    "                cols[idx_col].add(el)\n",
    "                rows[idx_row].add(el)\n",
    "                boxes[idx_box].add(el)\n",
    "\n",
    "        return True\n"
   ]
  },
  {
   "cell_type": "markdown",
   "id": "f5e8201c",
   "metadata": {},
   "source": [
    "## Leetcode 169. Majority Element\n",
    "Given an array nums of size n, return the majority element.\n",
    "\n",
    "The majority element is the element that appears more than ⌊n / 2⌋ times. You may assume that the majority element always exists in the array.\n",
    "### Простое решение O(n) Memory\n",
    "Используем Hash Map, и в ходе прохода храним макс элемент в переменной "
   ]
  },
  {
   "cell_type": "code",
   "execution_count": null,
   "id": "03f4c495",
   "metadata": {},
   "outputs": [],
   "source": [
    "class Solution:\n",
    "    def majorityElement(self, nums: List[int]) -> int:\n",
    "        cache = {}\n",
    "        res = nums[0]\n",
    "        max_count = 0\n",
    "        for num in nums:\n",
    "            cache[num] = cache.get(num,0) + 1\n",
    "            if cache[num] > max_count:\n",
    "                max_count = cache[num]\n",
    "                res = num\n",
    "                \n",
    "        return res"
   ]
  },
  {
   "cell_type": "markdown",
   "id": "43de3b7c",
   "metadata": {},
   "source": [
    "### Эффективное решение O(1) Space. Boyer-Moore majority vote algorithm\n",
    "Будем держать в памяти элемент, который встречается чаще всего. Далее вычитаем из частоты след элементы и находим наиб частовстречающийся"
   ]
  },
  {
   "cell_type": "code",
   "execution_count": null,
   "id": "2864aa1c",
   "metadata": {},
   "outputs": [],
   "source": [
    "class Solution:\n",
    "    def majorityElement(self, nums: List[int]) -> int:\n",
    "        res = None\n",
    "        count = 0\n",
    "        for num in nums:\n",
    "            if count == 0:\n",
    "                res = num\n",
    "                count += 1\n",
    "                continue\n",
    "            \n",
    "            if res == num:\n",
    "                count += 1\n",
    "            else:\n",
    "                count -= 1 \n",
    "                \n",
    "                \n",
    "        return res"
   ]
  },
  {
   "cell_type": "markdown",
   "id": "7b054dd0",
   "metadata": {},
   "source": [
    "## Leetcode 1503. Last Moment Before All Ants Fall Out of a Plank\n",
    "We have a wooden plank of the length n units. Some ants are walking on the plank, each ant moves with a speed of 1 unit per second. Some of the ants move to the left, the other move to the right.\n",
    "\n",
    "When two ants moving in two different directions meet at some point, they change their directions and continue moving again. Assume changing directions does not take any additional time.\n",
    "\n",
    "When an ant reaches one end of the plank at a time t, it falls out of the plank immediately.\n",
    "\n",
    "Given an integer n and two integer arrays left and right, the positions of the ants moving to the left and the right, return the moment when the last ant(s) fall out of the plank."
   ]
  },
  {
   "cell_type": "markdown",
   "id": "bedc1c6b",
   "metadata": {},
   "source": [
    "Путь муравья считаем длина планки - тек поз(если муравьи идут в одну сторону) и выбираем макс длину. Если один из муравьев идет в другую сторону (по той же стороне ветки),смотрим где они встретятся и считаем обратный путь. Но в итоге выходит, что эти муравьи проходят такой путь, что если бы им никто не мешал"
   ]
  },
  {
   "cell_type": "code",
   "execution_count": null,
   "id": "efc268fe",
   "metadata": {},
   "outputs": [],
   "source": [
    "class Solution:\n",
    "    def getLastMoment(self, n: int, left: List[int], right: List[int]) -> int: #Time O(n) Memory O(1)\n",
    "        res = 0\n",
    "        for pos in right:\n",
    "            res = max(res,n-pos)\n",
    "\n",
    "        for pos in left:\n",
    "            res = max(res,pos)\n",
    "        return res"
   ]
  },
  {
   "cell_type": "code",
   "execution_count": null,
   "id": "dd66a48d",
   "metadata": {},
   "outputs": [],
   "source": [
    "class Solution:\n",
    "    def getLastMoment(self, n: int, left: List[int], right: List[int]) -> int:\n",
    "        max_left = max(left) if left else 0\n",
    "        max_right = max([n-r for r in right]) if right else 0\n",
    "        return max(max_left, max_right)"
   ]
  },
  {
   "cell_type": "markdown",
   "id": "9aab38bd",
   "metadata": {},
   "source": [
    "## Leetcode 136. Single Number (Через манапуляцию битами)\n",
    "Given a non-empty array of integers nums, every element appears twice except for one. Find that single one.\n",
    "\n",
    "You must implement a solution with a linear runtime complexity and use only constant extra space.\n",
    "\n"
   ]
  },
  {
   "cell_type": "markdown",
   "id": "37bb16da",
   "metadata": {},
   "source": [
    "Каждое число - набор битов. Используем исключающее или по всему массиву, и в итоге останется то число, которое без пары"
   ]
  },
  {
   "cell_type": "code",
   "execution_count": null,
   "id": "c8e17a19",
   "metadata": {},
   "outputs": [],
   "source": [
    "class Solution:\n",
    "    def singleNumber(self, nums: List[int]) -> int:\n",
    "        res = 0\n",
    "\n",
    "        for num in nums:\n",
    "            res ^=num\n",
    "            \n",
    "        return res"
   ]
  },
  {
   "cell_type": "markdown",
   "id": "581d5763",
   "metadata": {},
   "source": [
    "## Leetcode 135. Candy\n",
    "There are n children standing in a line. Each child is assigned a rating value given in the integer array ratings.\n",
    "\n",
    "You are giving candies to these children subjected to the following requirements:\n",
    "\n",
    "Each child must have at least one candy.\n",
    "Children with a higher rating get more candies than their neighbors.\n",
    "Return the minimum number of candies you need to have to distribute the candies to the children."
   ]
  },
  {
   "cell_type": "markdown",
   "id": "a561ee47",
   "metadata": {},
   "source": [
    "Расставляем сначала всем по 1 конфете. Делаем два прохода в разные стороны, и сравниваем ранги соседей, если ранг больше, то человеку +1 конфета от макс у соседа"
   ]
  },
  {
   "cell_type": "code",
   "execution_count": null,
   "id": "3d7e6b66",
   "metadata": {},
   "outputs": [],
   "source": [
    "class Solution: # Time O(n) Memory O(n)\n",
    "    def candy(self, ratings: List[int]) -> int:\n",
    "        n = len(ratings)\n",
    "        candies = [1] * n\n",
    "\n",
    "        for idx in range(1,n):\n",
    "            if ratings[idx] > ratings[idx - 1]:\n",
    "                candies[idx] = candies[idx - 1] + 1\n",
    "\n",
    "        for idx in range(n-1,-1,-1):\n",
    "            if ratings[idx] > ratings[idx + 1]:\n",
    "                candies[idx] = max(candies[idx],candies[idx + 1] + 1)\n",
    "\n",
    "        return sum(candies)"
   ]
  },
  {
   "cell_type": "markdown",
   "id": "24880b3e",
   "metadata": {},
   "source": [
    "## Lintcode 659 · Encode and Decode Strings\n",
    "Design an algorithm to encode a list of strings to a string. The encoded string is then sent over the network and is decoded back to the original list of strings."
   ]
  },
  {
   "cell_type": "code",
   "execution_count": 4,
   "id": "ed8731f1",
   "metadata": {},
   "outputs": [],
   "source": [
    "class Solution:\n",
    "    \"\"\"\n",
    "    @param: strs: a list of strings\n",
    "    @return: encodes a list of strings to a single string.\n",
    "    \"\"\"\n",
    "    def encode(self, strs):\n",
    "        # write your code here\n",
    "        delimeter = '|'\n",
    "        string = ''\n",
    "        for word in strs:\n",
    "            string += '{count}{delimeter}{word}'.format(count = len(word),delimeter = delimeter,word = word)\n",
    "        return string\n",
    "    \"\"\"\n",
    "    @param: str: A string\n",
    "    @return: decodes a single string to a list of strings\n",
    "    \"\"\"\n",
    "    def decode(self, str):\n",
    "        # write your code here\n",
    "        delimeter = '|'\n",
    "        result = []\n",
    "        last_char_pos = 0\n",
    "        string_len = len(str)\n",
    "        \n",
    "        while last_char_pos < string_len:\n",
    "            num_pos = last_char_pos\n",
    "            while str[num_pos] != delimeter:\n",
    "                num_pos+=1\n",
    "            word_len = int(str[last_char_pos:num_pos])\n",
    "            word_start = num_pos + 1\n",
    "            word_end = word_start + word_len\n",
    "            word = str[word_start:word_end]\n",
    "\n",
    "            result.append(word)\n",
    "            last_char_pos = word_end\n",
    "\n",
    "        return result"
   ]
  },
  {
   "cell_type": "code",
   "execution_count": 5,
   "id": "7a89466b",
   "metadata": {},
   "outputs": [
    {
     "name": "stdout",
     "output_type": "stream",
     "text": [
      "3|foo10||spam|eggs4|bar|\n",
      "['foo', '|spam|eggs', 'bar|']\n"
     ]
    }
   ],
   "source": [
    "solution = Solution()\n",
    "encoded = solution.encode(['foo','|spam|eggs','bar|'])\n",
    "print(encoded)\n",
    "decoded = solution.decode(encoded)\n",
    "print(decoded)"
   ]
  },
  {
   "cell_type": "markdown",
   "id": "6d6f7336",
   "metadata": {},
   "source": [
    "## Leetcode 128. Longest Consecutive Sequence\n",
    "Given an unsorted array of integers nums, return the length of the longest consecutive elements sequence.\n",
    "\n",
    "You must write an algorithm that runs in O(n) time."
   ]
  },
  {
   "cell_type": "code",
   "execution_count": null,
   "id": "0c6ebbbf",
   "metadata": {},
   "outputs": [],
   "source": [
    "class Solution: # Time O(n) Memory O(n)\n",
    "    def longestConsecutive(self, nums):\n",
    "        nums = set(nums)\n",
    "        best = 0\n",
    "        for x in nums:\n",
    "            if x - 1 not in nums:\n",
    "                y = x + 1\n",
    "                while y in nums:\n",
    "                    y += 1\n",
    "                best = max(best, y - x)\n",
    "        return best"
   ]
  },
  {
   "cell_type": "markdown",
   "id": "2e5a606b",
   "metadata": {},
   "source": [
    "## Leetcode 229. Majority Element II\n",
    "Given an integer array of size n, find all elements that appear more than ⌊ n/3 ⌋ times.\n",
    "\n"
   ]
  },
  {
   "cell_type": "markdown",
   "id": "5475fba9",
   "metadata": {},
   "source": [
    "Нужно найти эл-ты, которые встречаются более трети раз и их не может быть более двух"
   ]
  },
  {
   "cell_type": "code",
   "execution_count": null,
   "id": "188b4fd2",
   "metadata": {},
   "outputs": [],
   "source": [
    "class Solution:\n",
    "    def majorityElement(self, nums: List[int]) -> List[int]: \n",
    "        cache = {}\n",
    "        res= []\n",
    "\n",
    "        for num in nums:\n",
    "            cache[num] = cache.get(num,0) + 1\n",
    "            if len(cache) > 2:\n",
    "                for num,count in list(cache.items()):\n",
    "                    if count == 1 :\n",
    "                        cache.pop(num)\n",
    "                    else:\n",
    "                        cache[num] = count - 1\n",
    "        third = len(nums) // 3\n",
    "        for num in cache.keys():\n",
    "            if nums.count(num) > third:\n",
    "                res.append(num)\n",
    "        return res"
   ]
  },
  {
   "cell_type": "markdown",
   "id": "e12fb482",
   "metadata": {},
   "source": [
    "## Leetcode 1743. Restore the Array From Adjacent Pairs\n",
    "There is an integer array nums that consists of n unique elements, but you have forgotten it. However, you do remember every pair of adjacent elements in nums.\n",
    "\n",
    "You are given a 2D integer array adjacentPairs of size n - 1 where each adjacentPairs[i] = [ui, vi] indicates that the elements ui and vi are adjacent in nums.\n",
    "\n",
    "It is guaranteed that every adjacent pair of elements nums[i] and nums[i+1] will exist in adjacentPairs, either as [nums[i], nums[i+1]] or [nums[i+1], nums[i]]. The pairs can appear in any order.\n",
    "\n",
    "Return the original array nums. If there are multiple solutions, return any of them."
   ]
  },
  {
   "cell_type": "code",
   "execution_count": null,
   "id": "7238faf4",
   "metadata": {},
   "outputs": [],
   "source": [
    "class Solution:\n",
    "    def restoreArray(self, adjacentPairs: List[List[int]]) -> List[int]: # Time O(n) Memory O(n)\n",
    "        res = []\n",
    "        graph = defaultdict(list)\n",
    "\n",
    "        for a,b in adjacentPairs:\n",
    "            graph[a].append(b)\n",
    "            graph[b].append(a)\n",
    "\n",
    "        for num, neighbours in graph.items():\n",
    "            if len(neighbours) == 1:\n",
    "                res.append(num)\n",
    "                res.append(neighbours[0])\n",
    "                break\n",
    "\n",
    "        while len(res) <=len(adjacentPairs):\n",
    "            last = res[-1]\n",
    "            prev = res[-2]\n",
    "            neighbours = graph[last]\n",
    "            if neighbours[0] == prev:\n",
    "                res.append(neighbours[1])\n",
    "            else:\n",
    "                res.append(neighbours[0])\n",
    "\n",
    "        return res"
   ]
  },
  {
   "cell_type": "markdown",
   "id": "9f637fd3",
   "metadata": {},
   "source": [
    "## Leetcode 204. Count Primes(Решето Эратосфена)\n",
    "Given an integer n, return the number of prime numbers that are strictly less than n."
   ]
  },
  {
   "cell_type": "code",
   "execution_count": null,
   "id": "204f6974",
   "metadata": {},
   "outputs": [],
   "source": [
    "class Solution:\n",
    "    def countPrimes(self, n: int) -> int:\n",
    "        if n <= 2:\n",
    "            return 0\n",
    "        is_prime = [True] * n\n",
    "        is_prime[0] = is_prime[1] = False\n",
    "\n",
    "        count = 0\n",
    "        for i in range(2,n):\n",
    "            if is_prime[i]:\n",
    "                count +=1\n",
    "                for j in range(i*i,n,i):\n",
    "                    is_prime[j] = False\n",
    "\n",
    "        return count"
   ]
  },
  {
   "cell_type": "code",
   "execution_count": null,
   "id": "5bcd8704",
   "metadata": {},
   "outputs": [],
   "source": []
  },
  {
   "cell_type": "code",
   "execution_count": null,
   "id": "ad14b36d",
   "metadata": {},
   "outputs": [],
   "source": []
  },
  {
   "cell_type": "code",
   "execution_count": null,
   "id": "ae6d616e",
   "metadata": {},
   "outputs": [],
   "source": []
  },
  {
   "cell_type": "code",
   "execution_count": null,
   "id": "9404b9fa",
   "metadata": {},
   "outputs": [],
   "source": []
  },
  {
   "cell_type": "code",
   "execution_count": null,
   "id": "0fb0bde4",
   "metadata": {},
   "outputs": [],
   "source": []
  },
  {
   "cell_type": "code",
   "execution_count": null,
   "id": "89da870d",
   "metadata": {},
   "outputs": [],
   "source": []
  },
  {
   "cell_type": "code",
   "execution_count": null,
   "id": "010c554b",
   "metadata": {},
   "outputs": [],
   "source": []
  },
  {
   "cell_type": "code",
   "execution_count": null,
   "id": "5cfebdde",
   "metadata": {},
   "outputs": [],
   "source": []
  },
  {
   "cell_type": "code",
   "execution_count": null,
   "id": "be9dd347",
   "metadata": {},
   "outputs": [],
   "source": []
  },
  {
   "cell_type": "code",
   "execution_count": null,
   "id": "f76ff659",
   "metadata": {},
   "outputs": [],
   "source": []
  },
  {
   "cell_type": "code",
   "execution_count": null,
   "id": "3b03777c",
   "metadata": {},
   "outputs": [],
   "source": []
  },
  {
   "cell_type": "code",
   "execution_count": null,
   "id": "2546a114",
   "metadata": {},
   "outputs": [],
   "source": []
  },
  {
   "cell_type": "code",
   "execution_count": null,
   "id": "213e9de3",
   "metadata": {},
   "outputs": [],
   "source": []
  },
  {
   "cell_type": "code",
   "execution_count": null,
   "id": "755b2db2",
   "metadata": {},
   "outputs": [],
   "source": []
  },
  {
   "cell_type": "code",
   "execution_count": null,
   "id": "0e09acaa",
   "metadata": {},
   "outputs": [],
   "source": []
  },
  {
   "cell_type": "code",
   "execution_count": null,
   "id": "dc33b442",
   "metadata": {},
   "outputs": [],
   "source": []
  },
  {
   "cell_type": "code",
   "execution_count": null,
   "id": "b15f20ec",
   "metadata": {},
   "outputs": [],
   "source": []
  },
  {
   "cell_type": "code",
   "execution_count": null,
   "id": "1c66fdfa",
   "metadata": {},
   "outputs": [],
   "source": []
  },
  {
   "cell_type": "code",
   "execution_count": null,
   "id": "99d223ab",
   "metadata": {},
   "outputs": [],
   "source": []
  },
  {
   "cell_type": "code",
   "execution_count": null,
   "id": "ad434a07",
   "metadata": {},
   "outputs": [],
   "source": []
  },
  {
   "cell_type": "code",
   "execution_count": null,
   "id": "2b40cbe2",
   "metadata": {},
   "outputs": [],
   "source": []
  },
  {
   "cell_type": "code",
   "execution_count": null,
   "id": "bf124a66",
   "metadata": {},
   "outputs": [],
   "source": []
  },
  {
   "cell_type": "code",
   "execution_count": null,
   "id": "89a2c05e",
   "metadata": {},
   "outputs": [],
   "source": []
  },
  {
   "cell_type": "code",
   "execution_count": null,
   "id": "3ac5ddda",
   "metadata": {},
   "outputs": [],
   "source": []
  },
  {
   "cell_type": "code",
   "execution_count": null,
   "id": "ca3fef0a",
   "metadata": {},
   "outputs": [],
   "source": []
  },
  {
   "cell_type": "code",
   "execution_count": null,
   "id": "b8401c3c",
   "metadata": {},
   "outputs": [],
   "source": []
  },
  {
   "cell_type": "code",
   "execution_count": null,
   "id": "63b500a5",
   "metadata": {},
   "outputs": [],
   "source": []
  },
  {
   "cell_type": "code",
   "execution_count": null,
   "id": "70f3a8c7",
   "metadata": {},
   "outputs": [],
   "source": []
  },
  {
   "cell_type": "code",
   "execution_count": null,
   "id": "949351c0",
   "metadata": {},
   "outputs": [],
   "source": []
  },
  {
   "cell_type": "code",
   "execution_count": null,
   "id": "87253a64",
   "metadata": {},
   "outputs": [],
   "source": []
  },
  {
   "cell_type": "code",
   "execution_count": null,
   "id": "1e7966b7",
   "metadata": {},
   "outputs": [],
   "source": []
  },
  {
   "cell_type": "code",
   "execution_count": null,
   "id": "983fafe2",
   "metadata": {},
   "outputs": [],
   "source": []
  },
  {
   "cell_type": "code",
   "execution_count": null,
   "id": "c7c7d82a",
   "metadata": {},
   "outputs": [],
   "source": []
  },
  {
   "cell_type": "code",
   "execution_count": null,
   "id": "618fa9e7",
   "metadata": {},
   "outputs": [],
   "source": []
  },
  {
   "cell_type": "code",
   "execution_count": null,
   "id": "846f5caa",
   "metadata": {},
   "outputs": [],
   "source": []
  },
  {
   "cell_type": "code",
   "execution_count": null,
   "id": "d6f2f15a",
   "metadata": {},
   "outputs": [],
   "source": []
  },
  {
   "cell_type": "code",
   "execution_count": null,
   "id": "4eb78c81",
   "metadata": {},
   "outputs": [],
   "source": []
  },
  {
   "cell_type": "code",
   "execution_count": null,
   "id": "68a6e209",
   "metadata": {},
   "outputs": [],
   "source": []
  },
  {
   "cell_type": "code",
   "execution_count": null,
   "id": "94ff763b",
   "metadata": {},
   "outputs": [],
   "source": []
  },
  {
   "cell_type": "code",
   "execution_count": null,
   "id": "a46ed6ce",
   "metadata": {},
   "outputs": [],
   "source": []
  },
  {
   "cell_type": "code",
   "execution_count": null,
   "id": "331c5511",
   "metadata": {},
   "outputs": [],
   "source": []
  },
  {
   "cell_type": "code",
   "execution_count": null,
   "id": "96c53e97",
   "metadata": {},
   "outputs": [],
   "source": []
  },
  {
   "cell_type": "code",
   "execution_count": null,
   "id": "7a3f7dd8",
   "metadata": {},
   "outputs": [],
   "source": []
  },
  {
   "cell_type": "code",
   "execution_count": null,
   "id": "a1771b58",
   "metadata": {},
   "outputs": [],
   "source": []
  },
  {
   "cell_type": "code",
   "execution_count": null,
   "id": "86a028bd",
   "metadata": {},
   "outputs": [],
   "source": []
  },
  {
   "cell_type": "code",
   "execution_count": null,
   "id": "e27c21c2",
   "metadata": {},
   "outputs": [],
   "source": []
  },
  {
   "cell_type": "code",
   "execution_count": null,
   "id": "4cb9894b",
   "metadata": {},
   "outputs": [],
   "source": []
  },
  {
   "cell_type": "code",
   "execution_count": null,
   "id": "bee7a7bd",
   "metadata": {},
   "outputs": [],
   "source": []
  },
  {
   "cell_type": "code",
   "execution_count": null,
   "id": "8c46f818",
   "metadata": {},
   "outputs": [],
   "source": []
  },
  {
   "cell_type": "code",
   "execution_count": null,
   "id": "e1be5ff9",
   "metadata": {},
   "outputs": [],
   "source": []
  },
  {
   "cell_type": "code",
   "execution_count": null,
   "id": "614a25bc",
   "metadata": {},
   "outputs": [],
   "source": []
  },
  {
   "cell_type": "code",
   "execution_count": null,
   "id": "f7f75dcb",
   "metadata": {},
   "outputs": [],
   "source": []
  },
  {
   "cell_type": "code",
   "execution_count": null,
   "id": "f59650b9",
   "metadata": {},
   "outputs": [],
   "source": []
  },
  {
   "cell_type": "code",
   "execution_count": null,
   "id": "13ab11a3",
   "metadata": {},
   "outputs": [],
   "source": []
  },
  {
   "cell_type": "code",
   "execution_count": null,
   "id": "6a65df60",
   "metadata": {},
   "outputs": [],
   "source": []
  },
  {
   "cell_type": "code",
   "execution_count": null,
   "id": "0e35193b",
   "metadata": {},
   "outputs": [],
   "source": []
  },
  {
   "cell_type": "code",
   "execution_count": null,
   "id": "24628d1d",
   "metadata": {},
   "outputs": [],
   "source": []
  },
  {
   "cell_type": "code",
   "execution_count": null,
   "id": "33c050d5",
   "metadata": {},
   "outputs": [],
   "source": []
  },
  {
   "cell_type": "code",
   "execution_count": null,
   "id": "6be260a6",
   "metadata": {},
   "outputs": [],
   "source": []
  },
  {
   "cell_type": "code",
   "execution_count": null,
   "id": "21809455",
   "metadata": {},
   "outputs": [],
   "source": []
  },
  {
   "cell_type": "code",
   "execution_count": null,
   "id": "bd06aec8",
   "metadata": {},
   "outputs": [],
   "source": []
  },
  {
   "cell_type": "code",
   "execution_count": null,
   "id": "f83394c1",
   "metadata": {},
   "outputs": [],
   "source": []
  },
  {
   "cell_type": "code",
   "execution_count": null,
   "id": "9335dbbe",
   "metadata": {},
   "outputs": [],
   "source": []
  },
  {
   "cell_type": "code",
   "execution_count": null,
   "id": "7569c806",
   "metadata": {},
   "outputs": [],
   "source": []
  },
  {
   "cell_type": "code",
   "execution_count": null,
   "id": "dd10fdc1",
   "metadata": {},
   "outputs": [],
   "source": []
  },
  {
   "cell_type": "code",
   "execution_count": null,
   "id": "9906c298",
   "metadata": {},
   "outputs": [],
   "source": []
  },
  {
   "cell_type": "code",
   "execution_count": null,
   "id": "9941173e",
   "metadata": {},
   "outputs": [],
   "source": []
  },
  {
   "cell_type": "code",
   "execution_count": null,
   "id": "d2cf2bef",
   "metadata": {},
   "outputs": [],
   "source": []
  },
  {
   "cell_type": "code",
   "execution_count": null,
   "id": "239eb000",
   "metadata": {},
   "outputs": [],
   "source": []
  },
  {
   "cell_type": "code",
   "execution_count": null,
   "id": "f1b9a2ed",
   "metadata": {},
   "outputs": [],
   "source": []
  },
  {
   "cell_type": "code",
   "execution_count": null,
   "id": "a367ac20",
   "metadata": {},
   "outputs": [],
   "source": []
  },
  {
   "cell_type": "code",
   "execution_count": null,
   "id": "4b8e02e9",
   "metadata": {},
   "outputs": [],
   "source": []
  },
  {
   "cell_type": "code",
   "execution_count": null,
   "id": "a67cfa76",
   "metadata": {},
   "outputs": [],
   "source": []
  },
  {
   "cell_type": "code",
   "execution_count": null,
   "id": "4e66fc77",
   "metadata": {},
   "outputs": [],
   "source": []
  },
  {
   "cell_type": "code",
   "execution_count": null,
   "id": "14cbbad4",
   "metadata": {},
   "outputs": [],
   "source": []
  },
  {
   "cell_type": "code",
   "execution_count": null,
   "id": "5bda036d",
   "metadata": {},
   "outputs": [],
   "source": []
  },
  {
   "cell_type": "code",
   "execution_count": null,
   "id": "564d69dd",
   "metadata": {},
   "outputs": [],
   "source": []
  },
  {
   "cell_type": "code",
   "execution_count": null,
   "id": "72f67983",
   "metadata": {},
   "outputs": [],
   "source": []
  },
  {
   "cell_type": "code",
   "execution_count": null,
   "id": "fcb7202e",
   "metadata": {},
   "outputs": [],
   "source": []
  },
  {
   "cell_type": "code",
   "execution_count": null,
   "id": "6885c03d",
   "metadata": {},
   "outputs": [],
   "source": []
  },
  {
   "cell_type": "code",
   "execution_count": null,
   "id": "8a49579f",
   "metadata": {},
   "outputs": [],
   "source": []
  },
  {
   "cell_type": "code",
   "execution_count": null,
   "id": "400a065b",
   "metadata": {},
   "outputs": [],
   "source": []
  },
  {
   "cell_type": "code",
   "execution_count": null,
   "id": "55439a16",
   "metadata": {},
   "outputs": [],
   "source": []
  },
  {
   "cell_type": "code",
   "execution_count": null,
   "id": "e1682b8f",
   "metadata": {},
   "outputs": [],
   "source": []
  },
  {
   "cell_type": "code",
   "execution_count": null,
   "id": "d0432406",
   "metadata": {},
   "outputs": [],
   "source": []
  },
  {
   "cell_type": "code",
   "execution_count": null,
   "id": "ae3a1eba",
   "metadata": {},
   "outputs": [],
   "source": []
  },
  {
   "cell_type": "code",
   "execution_count": null,
   "id": "005d215a",
   "metadata": {},
   "outputs": [],
   "source": []
  },
  {
   "cell_type": "code",
   "execution_count": null,
   "id": "c093f629",
   "metadata": {},
   "outputs": [],
   "source": []
  },
  {
   "cell_type": "code",
   "execution_count": null,
   "id": "db979522",
   "metadata": {},
   "outputs": [],
   "source": []
  },
  {
   "cell_type": "code",
   "execution_count": null,
   "id": "53bae79c",
   "metadata": {},
   "outputs": [],
   "source": []
  },
  {
   "cell_type": "code",
   "execution_count": null,
   "id": "e2670597",
   "metadata": {},
   "outputs": [],
   "source": []
  },
  {
   "cell_type": "code",
   "execution_count": null,
   "id": "ca7f9ba1",
   "metadata": {},
   "outputs": [],
   "source": []
  },
  {
   "cell_type": "code",
   "execution_count": null,
   "id": "da1e46cf",
   "metadata": {},
   "outputs": [],
   "source": []
  },
  {
   "cell_type": "code",
   "execution_count": null,
   "id": "d9648a4e",
   "metadata": {},
   "outputs": [],
   "source": []
  },
  {
   "cell_type": "code",
   "execution_count": null,
   "id": "885ab180",
   "metadata": {},
   "outputs": [],
   "source": []
  },
  {
   "cell_type": "code",
   "execution_count": null,
   "id": "d63f12ea",
   "metadata": {},
   "outputs": [],
   "source": []
  },
  {
   "cell_type": "code",
   "execution_count": null,
   "id": "80395afd",
   "metadata": {},
   "outputs": [],
   "source": []
  },
  {
   "cell_type": "code",
   "execution_count": null,
   "id": "4269288d",
   "metadata": {},
   "outputs": [],
   "source": []
  },
  {
   "cell_type": "code",
   "execution_count": null,
   "id": "cc7c0648",
   "metadata": {},
   "outputs": [],
   "source": []
  },
  {
   "cell_type": "code",
   "execution_count": null,
   "id": "54dc95c1",
   "metadata": {},
   "outputs": [],
   "source": []
  },
  {
   "cell_type": "code",
   "execution_count": null,
   "id": "e0d1c7cf",
   "metadata": {},
   "outputs": [],
   "source": []
  },
  {
   "cell_type": "code",
   "execution_count": null,
   "id": "00feba85",
   "metadata": {},
   "outputs": [],
   "source": []
  },
  {
   "cell_type": "code",
   "execution_count": null,
   "id": "366fe148",
   "metadata": {},
   "outputs": [],
   "source": []
  },
  {
   "cell_type": "code",
   "execution_count": null,
   "id": "05172527",
   "metadata": {},
   "outputs": [],
   "source": []
  },
  {
   "cell_type": "code",
   "execution_count": null,
   "id": "f950e0ac",
   "metadata": {},
   "outputs": [],
   "source": []
  },
  {
   "cell_type": "code",
   "execution_count": null,
   "id": "383a34d2",
   "metadata": {},
   "outputs": [],
   "source": []
  },
  {
   "cell_type": "code",
   "execution_count": null,
   "id": "fce6ad4b",
   "metadata": {},
   "outputs": [],
   "source": []
  },
  {
   "cell_type": "code",
   "execution_count": null,
   "id": "f5e886c2",
   "metadata": {},
   "outputs": [],
   "source": []
  },
  {
   "cell_type": "code",
   "execution_count": null,
   "id": "fcbc5d29",
   "metadata": {},
   "outputs": [],
   "source": []
  },
  {
   "cell_type": "code",
   "execution_count": null,
   "id": "24a3dc22",
   "metadata": {},
   "outputs": [],
   "source": []
  },
  {
   "cell_type": "code",
   "execution_count": null,
   "id": "b4cbd6d0",
   "metadata": {},
   "outputs": [],
   "source": []
  },
  {
   "cell_type": "code",
   "execution_count": null,
   "id": "9868a451",
   "metadata": {},
   "outputs": [],
   "source": []
  },
  {
   "cell_type": "code",
   "execution_count": null,
   "id": "93ecb1a2",
   "metadata": {},
   "outputs": [],
   "source": []
  },
  {
   "cell_type": "code",
   "execution_count": null,
   "id": "2694afe9",
   "metadata": {},
   "outputs": [],
   "source": []
  },
  {
   "cell_type": "code",
   "execution_count": null,
   "id": "0bd492b5",
   "metadata": {},
   "outputs": [],
   "source": []
  },
  {
   "cell_type": "code",
   "execution_count": null,
   "id": "f3678dfc",
   "metadata": {},
   "outputs": [],
   "source": []
  },
  {
   "cell_type": "code",
   "execution_count": null,
   "id": "15dad14f",
   "metadata": {},
   "outputs": [],
   "source": []
  },
  {
   "cell_type": "code",
   "execution_count": null,
   "id": "21c97a46",
   "metadata": {},
   "outputs": [],
   "source": []
  },
  {
   "cell_type": "code",
   "execution_count": null,
   "id": "9d1e1c7f",
   "metadata": {},
   "outputs": [],
   "source": []
  },
  {
   "cell_type": "code",
   "execution_count": null,
   "id": "cfe577a3",
   "metadata": {},
   "outputs": [],
   "source": []
  },
  {
   "cell_type": "code",
   "execution_count": null,
   "id": "3d8486f3",
   "metadata": {},
   "outputs": [],
   "source": []
  },
  {
   "cell_type": "code",
   "execution_count": null,
   "id": "5b4cbd05",
   "metadata": {},
   "outputs": [],
   "source": []
  },
  {
   "cell_type": "code",
   "execution_count": null,
   "id": "97a9e85a",
   "metadata": {},
   "outputs": [],
   "source": []
  },
  {
   "cell_type": "code",
   "execution_count": null,
   "id": "b7bb850e",
   "metadata": {},
   "outputs": [],
   "source": []
  },
  {
   "cell_type": "code",
   "execution_count": null,
   "id": "d8a63d7e",
   "metadata": {},
   "outputs": [],
   "source": []
  },
  {
   "cell_type": "code",
   "execution_count": null,
   "id": "0699554c",
   "metadata": {},
   "outputs": [],
   "source": []
  },
  {
   "cell_type": "code",
   "execution_count": null,
   "id": "fc2f6896",
   "metadata": {},
   "outputs": [],
   "source": []
  },
  {
   "cell_type": "code",
   "execution_count": null,
   "id": "1fb71a03",
   "metadata": {},
   "outputs": [],
   "source": []
  },
  {
   "cell_type": "code",
   "execution_count": null,
   "id": "686edbf3",
   "metadata": {},
   "outputs": [],
   "source": []
  },
  {
   "cell_type": "code",
   "execution_count": null,
   "id": "e3a29e4f",
   "metadata": {},
   "outputs": [],
   "source": []
  },
  {
   "cell_type": "code",
   "execution_count": null,
   "id": "d4d36f0a",
   "metadata": {},
   "outputs": [],
   "source": []
  },
  {
   "cell_type": "code",
   "execution_count": null,
   "id": "61ed649b",
   "metadata": {},
   "outputs": [],
   "source": []
  },
  {
   "cell_type": "code",
   "execution_count": null,
   "id": "c7f4dc60",
   "metadata": {},
   "outputs": [],
   "source": []
  },
  {
   "cell_type": "code",
   "execution_count": null,
   "id": "020c19f0",
   "metadata": {},
   "outputs": [],
   "source": []
  },
  {
   "cell_type": "code",
   "execution_count": null,
   "id": "0b28fbf3",
   "metadata": {},
   "outputs": [],
   "source": []
  },
  {
   "cell_type": "code",
   "execution_count": null,
   "id": "1af1a36a",
   "metadata": {},
   "outputs": [],
   "source": []
  },
  {
   "cell_type": "code",
   "execution_count": null,
   "id": "24104d87",
   "metadata": {},
   "outputs": [],
   "source": []
  },
  {
   "cell_type": "code",
   "execution_count": null,
   "id": "12c6e015",
   "metadata": {},
   "outputs": [],
   "source": []
  },
  {
   "cell_type": "code",
   "execution_count": null,
   "id": "d9ba6fcb",
   "metadata": {},
   "outputs": [],
   "source": []
  },
  {
   "cell_type": "code",
   "execution_count": null,
   "id": "ce0a4df3",
   "metadata": {},
   "outputs": [],
   "source": []
  },
  {
   "cell_type": "code",
   "execution_count": null,
   "id": "386999d8",
   "metadata": {},
   "outputs": [],
   "source": []
  },
  {
   "cell_type": "code",
   "execution_count": null,
   "id": "45771168",
   "metadata": {},
   "outputs": [],
   "source": []
  },
  {
   "cell_type": "code",
   "execution_count": null,
   "id": "31868511",
   "metadata": {},
   "outputs": [],
   "source": []
  },
  {
   "cell_type": "code",
   "execution_count": null,
   "id": "63114977",
   "metadata": {},
   "outputs": [],
   "source": []
  },
  {
   "cell_type": "code",
   "execution_count": null,
   "id": "f7d01fe4",
   "metadata": {},
   "outputs": [],
   "source": []
  },
  {
   "cell_type": "code",
   "execution_count": null,
   "id": "791a2fbd",
   "metadata": {},
   "outputs": [],
   "source": []
  },
  {
   "cell_type": "code",
   "execution_count": null,
   "id": "3b9eceea",
   "metadata": {},
   "outputs": [],
   "source": []
  },
  {
   "cell_type": "code",
   "execution_count": null,
   "id": "9c5a00b0",
   "metadata": {},
   "outputs": [],
   "source": []
  },
  {
   "cell_type": "code",
   "execution_count": null,
   "id": "24d1718b",
   "metadata": {},
   "outputs": [],
   "source": []
  },
  {
   "cell_type": "code",
   "execution_count": null,
   "id": "279c04b8",
   "metadata": {},
   "outputs": [],
   "source": []
  },
  {
   "cell_type": "code",
   "execution_count": null,
   "id": "6e3290e5",
   "metadata": {},
   "outputs": [],
   "source": []
  },
  {
   "cell_type": "code",
   "execution_count": null,
   "id": "c11694f0",
   "metadata": {},
   "outputs": [],
   "source": []
  },
  {
   "cell_type": "code",
   "execution_count": null,
   "id": "3f7f7e99",
   "metadata": {},
   "outputs": [],
   "source": []
  },
  {
   "cell_type": "code",
   "execution_count": null,
   "id": "ab373b8f",
   "metadata": {},
   "outputs": [],
   "source": []
  },
  {
   "cell_type": "code",
   "execution_count": null,
   "id": "115e9122",
   "metadata": {},
   "outputs": [],
   "source": []
  },
  {
   "cell_type": "code",
   "execution_count": null,
   "id": "b90636bd",
   "metadata": {},
   "outputs": [],
   "source": []
  },
  {
   "cell_type": "code",
   "execution_count": null,
   "id": "04be3b0d",
   "metadata": {},
   "outputs": [],
   "source": []
  },
  {
   "cell_type": "code",
   "execution_count": null,
   "id": "aeb29d35",
   "metadata": {},
   "outputs": [],
   "source": []
  },
  {
   "cell_type": "code",
   "execution_count": null,
   "id": "b62caa0e",
   "metadata": {},
   "outputs": [],
   "source": []
  },
  {
   "cell_type": "code",
   "execution_count": null,
   "id": "ed94aaee",
   "metadata": {},
   "outputs": [],
   "source": []
  },
  {
   "cell_type": "code",
   "execution_count": null,
   "id": "3f18bf71",
   "metadata": {},
   "outputs": [],
   "source": []
  },
  {
   "cell_type": "code",
   "execution_count": null,
   "id": "125fd6a1",
   "metadata": {},
   "outputs": [],
   "source": []
  },
  {
   "cell_type": "code",
   "execution_count": null,
   "id": "ccb40b49",
   "metadata": {},
   "outputs": [],
   "source": []
  },
  {
   "cell_type": "code",
   "execution_count": null,
   "id": "b576bae3",
   "metadata": {},
   "outputs": [],
   "source": []
  },
  {
   "cell_type": "code",
   "execution_count": null,
   "id": "3d455a94",
   "metadata": {},
   "outputs": [],
   "source": []
  }
 ],
 "metadata": {
  "kernelspec": {
   "display_name": "base",
   "language": "python",
   "name": "python3"
  },
  "language_info": {
   "codemirror_mode": {
    "name": "ipython",
    "version": 3
   },
   "file_extension": ".py",
   "mimetype": "text/x-python",
   "name": "python",
   "nbconvert_exporter": "python",
   "pygments_lexer": "ipython3",
   "version": "3.10.9"
  }
 },
 "nbformat": 4,
 "nbformat_minor": 5
}
