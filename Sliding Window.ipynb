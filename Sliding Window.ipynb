{
 "cells": [
  {
   "cell_type": "markdown",
   "id": "ca4691f4",
   "metadata": {},
   "source": [
    "# Leetcode 643. Maximum Average Subarray I\n",
    "You are given an integer array nums consisting of n elements, and an integer k.\n",
    "\n",
    "Find a contiguous subarray whose length is equal to k that has the maximum average value and return this value. Any answer with a calculation error less than 10-5 will be accepted."
   ]
  },
  {
   "cell_type": "code",
   "execution_count": 1,
   "id": "8f1346d7",
   "metadata": {},
   "outputs": [],
   "source": [
    "class Solution:\n",
    "    def findMaxAverage(self, nums, k: int) -> float:\n",
    "        begin = 0\n",
    "        window_state =0\n",
    "        result = float('-inf')\n",
    "        for end in range(len(nums)):\n",
    "            window_state +=nums[end]\n",
    "            if end-begin+1==k:\n",
    "                result = max(result,window_state)\n",
    "                window_state -=nums[begin]\n",
    "                begin+=1\n",
    "        return result/k"
   ]
  },
  {
   "cell_type": "markdown",
   "id": "378a3ff6",
   "metadata": {},
   "source": [
    "# Leetcode 209. Minimum Size Subarray Sum\n",
    "Given an array of positive integers nums and a positive integer target, return the minimal length of a subarray whose sum is greater than or equal to target. If there is no such subarray, return 0 instead."
   ]
  },
  {
   "cell_type": "code",
   "execution_count": 2,
   "id": "398d467b",
   "metadata": {},
   "outputs": [],
   "source": [
    "class Solution:\n",
    "    def minSubArrayLen(self, target: int, nums) -> int:\n",
    "        begin = 0\n",
    "        window_state =0\n",
    "        result = float('inf')\n",
    "        for end in range(len(nums)):\n",
    "            window_state +=nums[end]\n",
    "\n",
    "            while window_state >=target:\n",
    "                window_size = end-begin+1\n",
    "                result = min(result,window_size)\n",
    "                window_state -=nums[begin]\n",
    "                begin+=1\n",
    "\n",
    "        if result == float('inf'):\n",
    "            return 0\n",
    "        return result\n",
    "        "
   ]
  },
  {
   "cell_type": "markdown",
   "id": "3fc4a46e",
   "metadata": {},
   "source": [
    "# Leetcode 1004. Max Consecutive Ones III\n",
    "Given a binary array nums and an integer k, return the maximum number of consecutive 1's in the array if you can flip at most k 0's."
   ]
  },
  {
   "cell_type": "code",
   "execution_count": 4,
   "id": "836ba972",
   "metadata": {},
   "outputs": [],
   "source": [
    "class Solution:\n",
    "    def longestOnes(self, nums, k: int) -> int:\n",
    "        begin = 0\n",
    "        window_state = 0 #Количество нулей\n",
    "        result = 0\n",
    "        for end in range(len(nums)):\n",
    "            if nums[end]==0:\n",
    "                window_state +=1\n",
    "\n",
    "            while window_state >k: # храним рамку, когда k нулей\n",
    "                window_size = end-begin+1\n",
    "                if nums[begin]==0:\n",
    "                    window_state -=1\n",
    "                begin+=1\n",
    "            result = max(result,end-begin+1)\n",
    "\n",
    "        return result\n",
    "        "
   ]
  },
  {
   "cell_type": "markdown",
   "id": "f38e2b54",
   "metadata": {},
   "source": [
    "# Leetcode 1493. Longest Subarray of 1's After Deleting One Element\n",
    "Given a binary array nums, you should delete one element from it.\n",
    "\n",
    "Return the size of the longest non-empty subarray containing only 1's in the resulting array. Return 0 if there is no such subarray."
   ]
  },
  {
   "cell_type": "code",
   "execution_count": 6,
   "id": "4c0e5b65",
   "metadata": {},
   "outputs": [],
   "source": [
    "class Solution:\n",
    "    def longestSubarray(self, nums) -> int:\n",
    "        begin = 0\n",
    "        window_state = 0 #Количество нулей\n",
    "        result = 0\n",
    "        for end in range(len(nums)):\n",
    "            if nums[end]==0:\n",
    "                window_state +=1\n",
    "\n",
    "            while window_state >1: # храним рамку, когда k нулей\n",
    "                window_size = end-begin+1\n",
    "                if nums[begin]==0:\n",
    "                    window_state -=1\n",
    "                begin+=1\n",
    "            result = max(result,end-begin+1)\n",
    "\n",
    "        return result-1\n",
    "        \n",
    "        "
   ]
  },
  {
   "cell_type": "markdown",
   "id": "dcb921ca",
   "metadata": {},
   "source": [
    "# Leetcode 904. Fruit Into Baskets\n",
    "You are visiting a farm that has a single row of fruit trees arranged from left to right. The trees are represented by an integer array fruits where fruits[i] is the type of fruit the ith tree produces.\n",
    "\n",
    "You want to collect as much fruit as possible. However, the owner has some strict rules that you must follow:\n",
    "\n",
    "You only have two baskets, and each basket can only hold a single type of fruit. There is no limit on the amount of fruit each basket can hold.\n",
    "Starting from any tree of your choice, you must pick exactly one fruit from every tree (including the start tree) while moving to the right. The picked fruits must fit in one of your baskets.\n",
    "Once you reach a tree with fruit that cannot fit in your baskets, you must stop.\n",
    "Given the integer array fruits, return the maximum number of fruits you can pick."
   ]
  },
  {
   "cell_type": "code",
   "execution_count": 7,
   "id": "398ccba6",
   "metadata": {},
   "outputs": [],
   "source": [
    "class Solution:\n",
    "    def totalFruit(self, fruits) -> int:\n",
    "        begin = 0\n",
    "        window_state = defaultdict(int)\n",
    "        result = 0\n",
    "        for end in range(len(fruits)):\n",
    "            window_state[fruits[end]]+=1\n",
    "\n",
    "            while len(window_state)>2: # храним рамку, когда k нулей\n",
    "                window_state[fruits[begin]]-=1\n",
    "                if window_state[fruits[begin]]==0:\n",
    "                    del window_state[fruits[begin]]\n",
    "                begin+=1\n",
    "            result = max(result,end-begin+1)\n",
    "\n",
    "        return result"
   ]
  },
  {
   "cell_type": "markdown",
   "id": "89ca6c38",
   "metadata": {},
   "source": [
    "## Leetcode 1876. Substrings of Size Three with Distinct Characters (we can use for any number)\n",
    "A string is good if there are no repeated characters.\n",
    "\n",
    "Given a string s​​​​​, return the number of good substrings of length three in s​​​​​​.\n",
    "\n",
    "Note that if there are multiple occurrences of the same substring, every occurrence should be counted.\n",
    "\n",
    "A substring is a contiguous sequence of characters in a string."
   ]
  },
  {
   "cell_type": "code",
   "execution_count": null,
   "id": "b29599cd",
   "metadata": {},
   "outputs": [],
   "source": [
    "from collections import defaultdict\n",
    "class Solution:\n",
    "    def countGoodSubstrings(self, s: str) -> int:\n",
    "        memory = collections.defaultdict(int)\n",
    "        left = 0\n",
    "        res = 0\n",
    "        n = 3 # it can be any number\n",
    "        for right, cur_char in enumerate(s):\n",
    "            memory[cur_char] +=1\n",
    "\n",
    "            if right - left == n:\n",
    "                left_char = s[left]\n",
    "\n",
    "                memory[left_char] -=1\n",
    "                if memory[left_char] == 0: del memory[left_char]\n",
    "\n",
    "                left +=1\n",
    "            \n",
    "            if len(memory) ==  n:\n",
    "                res +=1\n",
    "\n",
    "        return res"
   ]
  },
  {
   "cell_type": "markdown",
   "id": "c288daa5",
   "metadata": {},
   "source": [
    "## Leetcode 3. Longest Substring Without Repeating Characters\n",
    "Given a string s, find the length of the longest substring without duplicate characters"
   ]
  },
  {
   "cell_type": "code",
   "execution_count": null,
   "id": "b4d7802b",
   "metadata": {},
   "outputs": [],
   "source": [
    "import collections\n",
    "class Solution:\n",
    "    def lengthOfLongestSubstring(self, s: str) -> int:\n",
    "        memory = collections.defaultdict(int)\n",
    "        left = 0\n",
    "        res = 0 \n",
    "        for right,cur_char in enumerate(s):\n",
    "                memory[cur_char]+=1\n",
    "                len_subs = right - left + 1\n",
    "                if len(memory) == len_subs:\n",
    "                    res = max(res, len_subs)\n",
    "                else:\n",
    "                    left_char = s[left]\n",
    "                    memory[left_char] -=1\n",
    "                    if memory[left_char] == 0: del memory[left_char]\n",
    "                    left +=1\n",
    "        return res"
   ]
  },
  {
   "cell_type": "code",
   "execution_count": 6,
   "id": "ea188e72",
   "metadata": {},
   "outputs": [
    {
     "data": {
      "text/plain": [
       "3"
      ]
     },
     "execution_count": 6,
     "metadata": {},
     "output_type": "execute_result"
    }
   ],
   "source": [
    "s= Solution()\n",
    "s.lengthOfLongestSubstring(s = \"pwwkew\")"
   ]
  },
  {
   "cell_type": "markdown",
   "id": "2e70ef36",
   "metadata": {},
   "source": [
    "### Реализация через set для лучшей памяти"
   ]
  },
  {
   "cell_type": "code",
   "execution_count": null,
   "id": "05e5660c",
   "metadata": {},
   "outputs": [],
   "source": [
    "class Solution:\n",
    "    def lengthOfLongestSubstring(self, s: str) -> int:\n",
    "        memory = set()\n",
    "        left = 0\n",
    "        res = 0 \n",
    "        for right,cur_char in enumerate(s):\n",
    "                while cur_char in memory:\n",
    "                     left_char = s[left]\n",
    "                     memory.remove(left_char)\n",
    "\n",
    "                     left+=1\n",
    "                    \n",
    "                memory.add(cur_char)\n",
    "                res = max(right - left + 1, res)\n",
    "        return res"
   ]
  },
  {
   "cell_type": "markdown",
   "id": "0a3042d9",
   "metadata": {},
   "source": [
    "## Leetcode 159. Longest Substring At Most Two Distinct Characters"
   ]
  },
  {
   "cell_type": "code",
   "execution_count": null,
   "id": "7689b4ea",
   "metadata": {},
   "outputs": [],
   "source": [
    "import collections\n",
    "class Solution:\n",
    "    def lengthOfLongestSubstringTwoDistinct(self, s: str) -> int:\n",
    "        memory = collections.defaultdict(int)\n",
    "        left = 0\n",
    "        res = 0 \n",
    "        for right,cur_char in enumerate(s):\n",
    "                memory[cur_char]+=1\n",
    "\n",
    "                while len(memory) > 2:\n",
    "                    left_char = s[left]\n",
    "                    memory[left_char] -=1\n",
    "\n",
    "                    if memory[left_char] == 0: del memory[left_char]\n",
    "                    \n",
    "                    left +=1\n",
    "                \n",
    "                res = max(right-left+1,res)\n",
    "                \n",
    "        return res\n",
    "    \n",
    "    #Time O(n)\n",
    "    #Space O(1)\n"
   ]
  },
  {
   "cell_type": "markdown",
   "id": "b65fa0c2",
   "metadata": {},
   "source": [
    "## Leetcode 340. Longest Substring with At Most K Distinct Characters"
   ]
  },
  {
   "cell_type": "code",
   "execution_count": null,
   "id": "32557d73",
   "metadata": {},
   "outputs": [],
   "source": [
    "import collections\n",
    "class Solution:\n",
    "    def lengthOfLongestSubstringKDistinct(self, s: str, k: int) -> int:\n",
    "        memory = collections.defaultdict(int)\n",
    "        left = 0\n",
    "        res = 0 \n",
    "        for right,cur_char in enumerate(s):\n",
    "                memory[cur_char]+=1\n",
    "\n",
    "                while len(memory) > k:\n",
    "                    left_char = s[left]\n",
    "                    memory[left_char] -=1\n",
    "\n",
    "                    if memory[left_char] == 0: del memory[left_char]\n",
    "                    \n",
    "                    left +=1\n",
    "                \n",
    "                res = max(right-left+1,res)\n",
    "                \n",
    "        return res\n",
    "\n",
    "#Time O(n)\n",
    "#Space O(k)"
   ]
  },
  {
   "cell_type": "markdown",
   "id": "739fbd2e",
   "metadata": {},
   "source": [
    "## Leetcode 76. Minimum Window Substring\n",
    "Given two strings s and t of lengths m and n respectively, return the minimum window substring of s such that every character in t (including duplicates) is included in the window. If there is no such substring, return the empty string \"\".\n",
    "\n",
    "The testcases will be generated such that the answer is unique."
   ]
  },
  {
   "cell_type": "code",
   "execution_count": 8,
   "id": "182f10a0",
   "metadata": {},
   "outputs": [],
   "source": [
    "import collections\n",
    "class Solution:\n",
    "    def minWindow(self, s: str, t: str) -> str:\n",
    "        memory = collections.defaultdict(int)\n",
    "        left = 0\n",
    "        res = [0, sys.maxsize]\n",
    "        cur_size = 0\n",
    "\n",
    "        # create State\n",
    "        for char in t: \n",
    "            memory[char]+=1\n",
    "\n",
    "        for right, cur_char in enumerate(s):\n",
    "            if cur_char in memory:\n",
    "                memory[cur_char] -=1\n",
    "\n",
    "                if memory[cur_char] == 0:\n",
    "                    cur_size +=1\n",
    "\n",
    "            while cur_size == len(memory):\n",
    "                cur_len = right - left\n",
    "                prev_len = res[1] - res[0]\n",
    "\n",
    "                if cur_len < prev_len:\n",
    "                    res[0] = left\n",
    "                    res[1] = right\n",
    "\n",
    "                left_char = s[left]\n",
    "                if left_char in memory:\n",
    "                    if memory[left_char] == 0:\n",
    "                        cur_size -= 1\n",
    "                    memory[left_char] += 1\n",
    "\n",
    "                left +=1\n",
    "\n",
    "        if res[1] == sys.maxsize:\n",
    "            return ''\n",
    "\n",
    "        return s[res[0]:res[1] +1 ]\n",
    "#time O(t) + O(s) - O(1), тк O(max(26,len(t))) = O(26) = O(1)"
   ]
  },
  {
   "cell_type": "code",
   "execution_count": null,
   "id": "d00dcdac",
   "metadata": {},
   "outputs": [],
   "source": []
  },
  {
   "cell_type": "code",
   "execution_count": null,
   "id": "86b0e7fc",
   "metadata": {},
   "outputs": [],
   "source": []
  },
  {
   "cell_type": "code",
   "execution_count": null,
   "id": "4c00499d",
   "metadata": {},
   "outputs": [],
   "source": []
  },
  {
   "cell_type": "code",
   "execution_count": null,
   "id": "3a93484f",
   "metadata": {},
   "outputs": [],
   "source": []
  },
  {
   "cell_type": "code",
   "execution_count": null,
   "id": "f7a10a47",
   "metadata": {},
   "outputs": [],
   "source": []
  }
 ],
 "metadata": {
  "kernelspec": {
   "display_name": "base",
   "language": "python",
   "name": "python3"
  },
  "language_info": {
   "codemirror_mode": {
    "name": "ipython",
    "version": 3
   },
   "file_extension": ".py",
   "mimetype": "text/x-python",
   "name": "python",
   "nbconvert_exporter": "python",
   "pygments_lexer": "ipython3",
   "version": "3.10.9"
  }
 },
 "nbformat": 4,
 "nbformat_minor": 5
}
