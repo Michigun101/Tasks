{
 "cells": [
  {
   "cell_type": "markdown",
   "metadata": {},
   "source": [
    "## Leetcode 933. Number of Recent Calls\n",
    "You have a RecentCounter class which counts the number of recent requests within a certain time frame.\n",
    "\n",
    "Implement the RecentCounter class:\n",
    "\n",
    "RecentCounter() Initializes the counter with zero recent requests.\n",
    "int ping(int t) Adds a new request at time t, where t represents some time in milliseconds, and returns the number of requests that has happened in the past 3000 milliseconds (including the new request). Specifically, return the number of requests that have happened in the inclusive range [t - 3000, t].\n",
    "It is guaranteed that every call to ping uses a strictly larger value of t than the previous call."
   ]
  },
  {
   "cell_type": "code",
   "execution_count": 1,
   "metadata": {},
   "outputs": [],
   "source": [
    "class RecentCounter:\n",
    "\n",
    "    def __init__(self):\n",
    "        self.q = deque()\n",
    "\n",
    "    def ping(self, t: int) -> int:\n",
    "        self.q.append(t)\n",
    "        window_start = t -3000\n",
    "        while self.q and self.q[0] < window_start:\n",
    "            self.q.popleft()\n",
    "        \n",
    "        return len(self.q)\n",
    "\n",
    "\n",
    "\n",
    "\n",
    "\n",
    "# Your RecentCounter object will be instantiated and called as such:\n",
    "# obj = RecentCounter()\n",
    "# param_1 = obj.ping(t)a"
   ]
  },
  {
   "cell_type": "markdown",
   "metadata": {},
   "source": [
    "## Leetcode 622. Design Circular Queue\n",
    "Design your implementation of the circular queue. The circular queue is a linear data structure in which the operations are performed based on FIFO (First In First Out) principle, and the last position is connected back to the first position to make a circle. It is also called \"Ring Buffer\".\n",
    "\n",
    "One of the benefits of the circular queue is that we can make use of the spaces in front of the queue. In a normal queue, once the queue becomes full, we cannot insert the next element even if there is a space in front of the queue. But using the circular queue, we can use the space to store new values.\n",
    "\n",
    "Implement the MyCircularQueue class:\n",
    "\n",
    "MyCircularQueue(k) Initializes the object with the size of the queue to be k.\n",
    "int Front() Gets the front item from the queue. If the queue is empty, return -1.\n",
    "int Rear() Gets the last item from the queue. If the queue is empty, return -1.\n",
    "boolean enQueue(int value) Inserts an element into the circular queue. Return true if the operation is successful.\n",
    "boolean deQueue() Deletes an element from the circular queue. Return true if the operation is successful.\n",
    "boolean isEmpty() Checks whether the circular queue is empty or not.\n",
    "boolean isFull() Checks whether the circular queue is full or not.\n",
    "You must solve the problem without using the built-in queue data structure in your programming language. "
   ]
  },
  {
   "cell_type": "code",
   "execution_count": 2,
   "metadata": {},
   "outputs": [],
   "source": [
    "# Реализация через связный список и использования фиктивных узлов (конец и начало)\n",
    "class ListNode:\n",
    "    def __init__(self, val, next, prev):\n",
    "        self.val = val\n",
    "        self.next = next\n",
    "        self.prev = prev\n",
    "\n",
    "class MyCircularQueue:\n",
    "\n",
    "    def __init__(self, k: int):\n",
    "        self.space = k\n",
    "        self.left = ListNode(0,None,None)\n",
    "        self.right = ListNode(0,None,self.left)\n",
    "        self.left.next = self.right\n",
    "\n",
    "    def enQueue(self, value: int) -> bool:\n",
    "        if self.isFull(): return False\n",
    "        cur = ListNode(value, self.right, self.right.prev)\n",
    "        self.right.prev.next = cur\n",
    "        self.right.prev = cur\n",
    "\n",
    "        self.space -=1\n",
    "\n",
    "        return True\n",
    "    def deQueue(self) -> bool:\n",
    "        if self.isEmpty(): return False\n",
    "        self.left.next = self.left.next.next\n",
    "        self.left.next.prev = self.left\n",
    "        \n",
    "        self.space +=1\n",
    "        \n",
    "        return True\n",
    "\n",
    "    def Front(self) -> int:\n",
    "        if self.isEmpty(): return -1\n",
    "        return self.left.next.val\n",
    "\n",
    "    def Rear(self) -> int:\n",
    "        if self.isEmpty(): return -1\n",
    "        return self.right.prev.val\n",
    "\n",
    "    def isEmpty(self) -> bool:\n",
    "        return self.left.next == self.right\n",
    "\n",
    "    def isFull(self) -> bool:\n",
    "        return self.space == 0\n",
    "\n",
    "\n",
    "# Your MyCircularQueue object will be instantiated and called as such:\n",
    "# obj = MyCircularQueue(k)\n",
    "# param_1 = obj.enQueue(value)\n",
    "# param_2 = obj.deQueue()\n",
    "# param_3 = obj.Front()\n",
    "# param_4 = obj.Rear()\n",
    "# param_5 = obj.isEmpty()\n",
    "# param_6 = obj.isFull()"
   ]
  },
  {
   "cell_type": "code",
   "execution_count": null,
   "metadata": {},
   "outputs": [],
   "source": []
  },
  {
   "cell_type": "code",
   "execution_count": null,
   "metadata": {},
   "outputs": [],
   "source": []
  },
  {
   "cell_type": "code",
   "execution_count": null,
   "metadata": {},
   "outputs": [],
   "source": []
  },
  {
   "cell_type": "code",
   "execution_count": null,
   "metadata": {},
   "outputs": [],
   "source": []
  },
  {
   "cell_type": "code",
   "execution_count": null,
   "metadata": {},
   "outputs": [],
   "source": []
  },
  {
   "cell_type": "code",
   "execution_count": null,
   "metadata": {},
   "outputs": [],
   "source": []
  },
  {
   "cell_type": "code",
   "execution_count": null,
   "metadata": {},
   "outputs": [],
   "source": []
  },
  {
   "cell_type": "code",
   "execution_count": null,
   "metadata": {},
   "outputs": [],
   "source": []
  },
  {
   "cell_type": "code",
   "execution_count": null,
   "metadata": {},
   "outputs": [],
   "source": []
  },
  {
   "cell_type": "code",
   "execution_count": null,
   "metadata": {},
   "outputs": [],
   "source": []
  },
  {
   "cell_type": "code",
   "execution_count": null,
   "metadata": {},
   "outputs": [],
   "source": []
  },
  {
   "cell_type": "code",
   "execution_count": null,
   "metadata": {},
   "outputs": [],
   "source": []
  },
  {
   "cell_type": "code",
   "execution_count": null,
   "metadata": {},
   "outputs": [],
   "source": []
  },
  {
   "cell_type": "code",
   "execution_count": null,
   "metadata": {},
   "outputs": [],
   "source": []
  },
  {
   "cell_type": "code",
   "execution_count": null,
   "metadata": {},
   "outputs": [],
   "source": []
  },
  {
   "cell_type": "code",
   "execution_count": null,
   "metadata": {},
   "outputs": [],
   "source": []
  }
 ],
 "metadata": {
  "kernelspec": {
   "display_name": "base",
   "language": "python",
   "name": "python3"
  },
  "language_info": {
   "codemirror_mode": {
    "name": "ipython",
    "version": 3
   },
   "file_extension": ".py",
   "mimetype": "text/x-python",
   "name": "python",
   "nbconvert_exporter": "python",
   "pygments_lexer": "ipython3",
   "version": "3.10.9"
  }
 },
 "nbformat": 4,
 "nbformat_minor": 2
}
