{
 "cells": [
  {
   "cell_type": "markdown",
   "id": "815eb433",
   "metadata": {},
   "source": [
    "# 1 тип"
   ]
  },
  {
   "cell_type": "markdown",
   "id": "b47828b7",
   "metadata": {},
   "source": [
    "## LeetCode 344.Reverse String\n",
    "\n",
    "Write a function that reverses a string. The input string is given as an array of characters s.\n",
    "\n",
    "You must do this by modifying the input array in-place with O(1) extra memory."
   ]
  },
  {
   "cell_type": "code",
   "execution_count": 3,
   "id": "01b152c0",
   "metadata": {},
   "outputs": [],
   "source": [
    "class Solution:\n",
    "    def reverseString(self, s) -> None:\n",
    "        \"\"\"\n",
    "        Do not return anything, modify s in-place instead.\n",
    "        \"\"\"\n",
    "        left = 0\n",
    "        right = len(s)-1\n",
    "        while left < right:\n",
    "            s[left],s[right] = s[right],s[left]\n",
    "            left+=1\n",
    "            right-=1\n",
    "        return s"
   ]
  },
  {
   "cell_type": "code",
   "execution_count": 6,
   "id": "10c44644",
   "metadata": {},
   "outputs": [
    {
     "data": {
      "text/plain": [
       "['o', 'l', 'l', 'e', 'h']"
      ]
     },
     "execution_count": 6,
     "metadata": {},
     "output_type": "execute_result"
    }
   ],
   "source": [
    "s=Solution()\n",
    "s.reverseString([\"h\",\"e\",\"l\",\"l\",\"o\"])"
   ]
  },
  {
   "cell_type": "markdown",
   "id": "0f0687f1",
   "metadata": {},
   "source": [
    "## Leetcode 125. Valid Palindrome\n",
    "A phrase is a palindrome if, after converting all uppercase letters into lowercase letters and removing all non-alphanumeric characters, it reads the same forward and backward. Alphanumeric characters include letters and numbers.\n",
    "\n",
    "Given a string s, return true if it is a palindrome, or false otherwise."
   ]
  },
  {
   "cell_type": "code",
   "execution_count": 7,
   "id": "a457b7cc",
   "metadata": {},
   "outputs": [],
   "source": [
    "import re\n",
    "class Solution:\n",
    "    def isPalindrome(self, s: str) -> bool: \n",
    "        left, right = 0,len(s) -1\n",
    "        while left < right:\n",
    "            while left < right and not s[left].isalnum(): left+=1\n",
    "            while left < right and not s[right].isalnum(): right-=1\n",
    "           \n",
    "            if s[left].lower()!=s[right].lower():return False\n",
    "            left+=1\n",
    "            right-=1\n",
    "        return True\n"
   ]
  },
  {
   "cell_type": "markdown",
   "id": "ed326dd9",
   "metadata": {},
   "source": [
    "## Leetcode 167. Two Sum II - Input Array Is Sorted\n",
    "Given a 1-indexed array of integers numbers that is already sorted in non-decreasing order, find two numbers such that they add up to a specific target number. Let these two numbers be numbers[index1] and numbers[index2] where 1 <= index1 < index2 <= numbers.length.\n",
    "\n",
    "Return the indices of the two numbers, index1 and index2, added by one as an integer array [index1, index2] of length 2.\n",
    "\n",
    "The tests are generated such that there is exactly one solution. You may not use the same element twice.\n",
    "\n",
    "Your solution must use only constant extra space."
   ]
  },
  {
   "cell_type": "code",
   "execution_count": 10,
   "id": "8e204de9",
   "metadata": {},
   "outputs": [],
   "source": [
    "class Solution:\n",
    "    def twoSum(self, n, target: int):\n",
    "        left,right = 0,len(n) -1\n",
    "\n",
    "        while left < right:\n",
    "            if n[left] + n[right] > target: right-=1\n",
    "            elif n[left] + n[right] < target: left+=1\n",
    "            else: return [left+1,right+1]"
   ]
  },
  {
   "cell_type": "markdown",
   "id": "9e0a18d8",
   "metadata": {},
   "source": [
    "## Leetcode 15. 3Sum\n",
    "Given an integer array nums, return all the triplets [nums[i], nums[j], nums[k]] such that i != j, i != k, and j != k, and nums[i] + nums[j] + nums[k] == 0.\n",
    "\n",
    "Notice that the solution set must not contain duplicate triplets."
   ]
  },
  {
   "cell_type": "code",
   "execution_count": 12,
   "id": "61de20b4",
   "metadata": {},
   "outputs": [],
   "source": [
    "class Solution:\n",
    "    def threeSum(self, nums):\n",
    "        ans = []\n",
    "        nums.sort()\n",
    "        #need to now perform two pointer for every i\n",
    "        for i in range(len(nums)):\n",
    "            #this is in case the number before is the same\n",
    "            #to cut on the time taken to compute\n",
    "            if i>0 and nums[i] == nums[i-1]:\n",
    "                continue\n",
    "            j,k = i+1,len(nums)-1\n",
    "            #two pointer \n",
    "            while j<k:\n",
    "                if nums[j]+nums[k]+nums[i]<0:\n",
    "                    j+=1\n",
    "                elif nums[j]+nums[k]+nums[i]>0:\n",
    "                    k-=1\n",
    "                else:\n",
    "                    ans.append([nums[i],nums[j],nums[k]])\n",
    "                    j+=1\n",
    "                    #if it repeats, we pass on as it will be accounted for above\n",
    "                    while nums[j] == nums[j-1] and j<k:\n",
    "                        j+=1\n",
    "        return ans\n"
   ]
  },
  {
   "cell_type": "markdown",
   "id": "6a6f850b",
   "metadata": {},
   "source": [
    "## Leetcode 977. Squares of a Sorted Array\n",
    "Given an integer array nums sorted in non-decreasing order, return an array of the squares of each number sorted in non-decreasing order."
   ]
  },
  {
   "cell_type": "code",
   "execution_count": 13,
   "id": "a4421162",
   "metadata": {},
   "outputs": [],
   "source": [
    "class Solution:\n",
    "    def sortedSquares(self, nums):\n",
    "        n = len(nums)\n",
    "        result = [0]*n\n",
    "        left,right = 0,n-1\n",
    "        for i in range(n-1,-1,-1):\n",
    "            if abs(nums[left])<abs(nums[right]):\n",
    "                result[i]=nums[right]**2\n",
    "                right-=1\n",
    "            else:\n",
    "                result[i]=nums[left]**2\n",
    "                left+=1\n",
    "        return result"
   ]
  },
  {
   "cell_type": "markdown",
   "id": "7bdf8f9f",
   "metadata": {},
   "source": [
    "## Leetcode 11. Container With Most Water\n",
    "You are given an integer array height of length n. There are n vertical lines drawn such that the two endpoints of the ith line are (i, 0) and (i, height[i]).\n",
    "\n",
    "Find two lines that together with the x-axis form a container, such that the container contains the most water.\n",
    "\n",
    "Return the maximum amount of water a container can store.\n",
    "\n",
    "Notice that you may not slant the container."
   ]
  },
  {
   "cell_type": "code",
   "execution_count": null,
   "id": "9358f36a",
   "metadata": {},
   "outputs": [],
   "source": [
    "class Solution:\n",
    "    def maxArea(self, h: List[int]) -> int:\n",
    "        left,right = 0,len(h)-1\n",
    "        result = 0\n",
    "        while left < right:\n",
    "            width = right-left\n",
    "            height = min(h[left],h[right])\n",
    "            result = max(result, width*height)\n",
    "            if h[left]< h[right]:\n",
    "                left+=1\n",
    "            else:\n",
    "                right-=1\n",
    "\n",
    "        return result\n",
    "    \n",
    "        "
   ]
  },
  {
   "cell_type": "markdown",
   "id": "aff98bcb",
   "metadata": {},
   "source": [
    "# 2 тип"
   ]
  },
  {
   "cell_type": "markdown",
   "id": "9ac00bbf",
   "metadata": {},
   "source": [
    "## Leetcode 26. Remove Duplicates from Sorted Array\n",
    "Given an integer array nums sorted in non-decreasing order, remove the duplicates in-place such that each unique element appears only once. The relative order of the elements should be kept the same. Then return the number of unique elements in nums.\n",
    "\n",
    "Consider the number of unique elements of nums to be k, to get accepted, you need to do the following things:\n",
    "\n",
    "Change the array nums such that the first k elements of nums contain the unique elements in the order they were present in nums initially. The remaining elements of nums are not important as well as the size of nums.\n",
    "Return k."
   ]
  },
  {
   "cell_type": "code",
   "execution_count": 14,
   "id": "874ba265",
   "metadata": {},
   "outputs": [],
   "source": [
    "class Solution:\n",
    "    def removeDuplicates(self, nums) -> int:\n",
    "        k=0\n",
    "        for i in range(len(nums)):\n",
    "            if nums[k]!=nums[i]:\n",
    "                k+=1\n",
    "                nums[k]=nums[i]\n",
    "        return k+1"
   ]
  },
  {
   "cell_type": "markdown",
   "id": "412e8efa",
   "metadata": {},
   "source": [
    "## Leetcode 283. Move Zeroes\n",
    "Given an integer array nums, move all 0's to the end of it while maintaining the relative order of the non-zero elements.\n",
    "\n",
    "Note that you must do this in-place without making a copy of the array."
   ]
  },
  {
   "cell_type": "code",
   "execution_count": 15,
   "id": "d49eaf53",
   "metadata": {},
   "outputs": [],
   "source": [
    "class Solution:\n",
    "    def moveZeroes(self, nums) -> None:\n",
    "        p=0\n",
    "        for i in range(len(nums)):\n",
    "            if nums[i]!=0:\n",
    "                nums[i],nums[p] = nums[p],nums[i]\n",
    "                p+=1\n",
    "        return nums"
   ]
  },
  {
   "cell_type": "markdown",
   "id": "1c1a556e",
   "metadata": {},
   "source": [
    "# 3 тип\n",
    "## Leetcode 392. Is Subsequence\n",
    "Given two strings s and t, return true if s is a subsequence of t, or false otherwise.\n",
    "\n",
    "A subsequence of a string is a new string that is formed from the original string by deleting some (can be none) of the characters without disturbing the relative positions of the remaining characters. (i.e., \"ace\" is a subsequence of \"abcde\" while \"aec\" is not)."
   ]
  },
  {
   "cell_type": "code",
   "execution_count": 17,
   "id": "9692a5f2",
   "metadata": {},
   "outputs": [],
   "source": [
    "class Solution:\n",
    "    def isSubsequence(self, sub: str, s: str) -> bool:\n",
    "        p1,p2=0,0\n",
    "        while p1< len(sub) and p2<len(s):\n",
    "            if sub[p1]==s[p2]:\n",
    "                p1+=1\n",
    "            p2+=1\n",
    "        return p1==len(sub)"
   ]
  },
  {
   "cell_type": "markdown",
   "id": "9bfcc787",
   "metadata": {},
   "source": [
    "## Leetcode 844. Backspace String Compare\n",
    "Given two strings s and t, return true if they are equal when both are typed into empty text editors. '#' means a backspace character.\n",
    "\n",
    "Note that after backspacing an empty text, the text will continue empty.\n",
    "\n"
   ]
  },
  {
   "cell_type": "code",
   "execution_count": 18,
   "id": "7c42bcaa",
   "metadata": {},
   "outputs": [],
   "source": [
    "class Solution:\n",
    "    def backspaceCompare(self, s: str, t: str) -> bool:\n",
    "        n=len(s)-1\n",
    "        m=len(t)-1\n",
    "        skip_s=0\n",
    "        skip_t=0\n",
    "        while n>=0 or m>=0:\n",
    "            while n>=0 and (skip_s> 0 or s[n]=='#'):\n",
    "                if s[n]=='#':\n",
    "                    skip_s+=1\n",
    "                else:\n",
    "                    skip_s-=1\n",
    "                n-=1\n",
    "            while m>=0 and (skip_t> 0 or t[m]=='#'):\n",
    "                if t[m]=='#':\n",
    "                    skip_t+=1\n",
    "                else:\n",
    "                    skip_t-=1\n",
    "                m-=1\n",
    "            if (n>=0 and m>=0 and s[n]== t[m]) or (n<0 and m<0):\n",
    "                n-=1\n",
    "                m-=1\n",
    "            else:\n",
    "                return False\n",
    "        return n==m\n",
    "        "
   ]
  },
  {
   "cell_type": "markdown",
   "id": "663e722f",
   "metadata": {},
   "source": [
    "## Leetcode 88. Merge Sorted Array\n",
    "You are given two integer arrays nums1 and nums2, sorted in non-decreasing order, and two integers m and n, representing the number of elements in nums1 and nums2 respectively.\n",
    "\n",
    "Merge nums1 and nums2 into a single array sorted in non-decreasing order.\n",
    "\n",
    "The final sorted array should not be returned by the function, but instead be stored inside the array nums1. To accommodate this, nums1 has a length of m + n, where the first m elements denote the elements that should be merged, and the last n elements are set to 0 and should be ignored. nums2 has a length of n."
   ]
  },
  {
   "cell_type": "code",
   "execution_count": 19,
   "id": "fd7027bd",
   "metadata": {},
   "outputs": [],
   "source": [
    "class Solution:\n",
    "    def merge(self, nums1, m: int, nums2, n: int) -> None:\n",
    "        \"\"\"\n",
    "        Do not return anything, modify nums1 in-place instead.\n",
    "        \"\"\"\n",
    "        p1=m-1\n",
    "        p2=n-1\n",
    "        result = m+n-1\n",
    "        while p1>=0 and p2>=0:\n",
    "            if nums1[p1]>nums2[p2]:\n",
    "                nums1[result] = nums1[p1]\n",
    "                p1-=1\n",
    "            else:\n",
    "                nums1[result] = nums2[p2]\n",
    "                p2-=1\n",
    "            result -=1\n",
    "\n",
    "        while p2>=0:\n",
    "            nums1[result] = nums2[p2]\n",
    "            p2-=1\n",
    "            result-=1\n",
    "        "
   ]
  },
  {
   "cell_type": "markdown",
   "id": "c3a63c81",
   "metadata": {},
   "source": [
    "# Случайные Типы задач"
   ]
  },
  {
   "cell_type": "markdown",
   "id": "e6421243",
   "metadata": {},
   "source": [
    "## Leetcode 905. Sort Array By Parity\n",
    "Given an integer array nums, move all the even integers at the beginning of the array followed by all the odd integers.\n",
    "\n",
    "Return any array that satisfies this condition."
   ]
  },
  {
   "cell_type": "markdown",
   "id": "f23bd502",
   "metadata": {},
   "source": [
    "#### Простой способ\n",
    "Два раза проходим по массиву. первый раз если встречаем четное число - записываем в конец ответа. Второй раз если нечетное - записываем в конец ответа. Возвращаем массив. O(n) Memory O(n) Time n - размер массива А"
   ]
  },
  {
   "cell_type": "code",
   "execution_count": null,
   "id": "531efff5",
   "metadata": {},
   "outputs": [],
   "source": []
  },
  {
   "cell_type": "markdown",
   "id": "b50b17a3",
   "metadata": {},
   "source": [
    "#### Второй способ\n",
    "По времение не улучшим. Пока каждое число не посетим - не можем сказать, что должно быть в результате. Посещение каждого числа - O(n). По памяти можем сделать in-place. В стиле быстрой сортировки, Основной внешний цикл - и два указателя - изначально в начале и в конце - пропускают то, что должно быть на своем месте - и останавливаются на том, что нужно поменять. После того, как нашли элементы для обмена - меняем. \n",
    "\n",
    "O(n) Time O(1) Memory"
   ]
  },
  {
   "cell_type": "code",
   "execution_count": null,
   "id": "855da266",
   "metadata": {},
   "outputs": [],
   "source": [
    "class Solution:\n",
    "    def sortArrayByParity(self, nums: List[int]) -> List[int]:\n",
    "        l = 0\n",
    "        for r in range(len(nums)):\n",
    "            if nums[r] % 2 == 0:\n",
    "                nums[l],nums[r] = nums[r],nums[l]\n",
    "                l+=1\n",
    "        return nums"
   ]
  },
  {
   "cell_type": "markdown",
   "id": "0c3006de",
   "metadata": {},
   "source": [
    "## Leetcode 922. Sort Array By Parity II\n",
    "Given an array of integers nums, half of the integers in nums are odd, and the other half are even.\n",
    "\n",
    "Sort the array so that whenever nums[i] is odd, i is odd, and whenever nums[i] is even, i is even.\n",
    "\n",
    "Return any answer array that satisfies this condition."
   ]
  },
  {
   "cell_type": "markdown",
   "id": "27a498d7",
   "metadata": {},
   "source": []
  },
  {
   "cell_type": "code",
   "execution_count": null,
   "id": "19c0ea5d",
   "metadata": {},
   "outputs": [],
   "source": [
    "class Solution:\n",
    "    def sortArrayByParityII(self, nums: List[int]) -> List[int]:\n",
    "        "
   ]
  },
  {
   "cell_type": "code",
   "execution_count": null,
   "id": "38e7b94e",
   "metadata": {},
   "outputs": [],
   "source": []
  },
  {
   "cell_type": "code",
   "execution_count": null,
   "id": "9bf00a6d",
   "metadata": {},
   "outputs": [],
   "source": []
  },
  {
   "cell_type": "code",
   "execution_count": null,
   "id": "768a45a3",
   "metadata": {},
   "outputs": [],
   "source": []
  },
  {
   "cell_type": "code",
   "execution_count": null,
   "id": "ac16150a",
   "metadata": {},
   "outputs": [],
   "source": []
  },
  {
   "cell_type": "code",
   "execution_count": null,
   "id": "a6e1254a",
   "metadata": {},
   "outputs": [],
   "source": []
  },
  {
   "cell_type": "code",
   "execution_count": null,
   "id": "dedffb62",
   "metadata": {},
   "outputs": [],
   "source": []
  },
  {
   "cell_type": "code",
   "execution_count": null,
   "id": "8289f567",
   "metadata": {},
   "outputs": [],
   "source": []
  },
  {
   "cell_type": "code",
   "execution_count": null,
   "id": "3617c5f8",
   "metadata": {},
   "outputs": [],
   "source": []
  },
  {
   "cell_type": "code",
   "execution_count": null,
   "id": "b869d1fc",
   "metadata": {},
   "outputs": [],
   "source": []
  },
  {
   "cell_type": "code",
   "execution_count": null,
   "id": "f22bc220",
   "metadata": {},
   "outputs": [],
   "source": []
  },
  {
   "cell_type": "code",
   "execution_count": null,
   "id": "eb7c5e22",
   "metadata": {},
   "outputs": [],
   "source": []
  },
  {
   "cell_type": "code",
   "execution_count": null,
   "id": "f2e05a15",
   "metadata": {},
   "outputs": [],
   "source": []
  },
  {
   "cell_type": "code",
   "execution_count": null,
   "id": "b367b97d",
   "metadata": {},
   "outputs": [],
   "source": []
  },
  {
   "cell_type": "code",
   "execution_count": null,
   "id": "dbb2925a",
   "metadata": {},
   "outputs": [],
   "source": []
  },
  {
   "cell_type": "code",
   "execution_count": null,
   "id": "baece1f0",
   "metadata": {},
   "outputs": [],
   "source": []
  },
  {
   "cell_type": "code",
   "execution_count": null,
   "id": "f80094aa",
   "metadata": {},
   "outputs": [],
   "source": []
  },
  {
   "cell_type": "code",
   "execution_count": null,
   "id": "23896a4b",
   "metadata": {},
   "outputs": [],
   "source": []
  },
  {
   "cell_type": "code",
   "execution_count": null,
   "id": "f0cf9fbe",
   "metadata": {},
   "outputs": [],
   "source": []
  },
  {
   "cell_type": "code",
   "execution_count": null,
   "id": "b95a563e",
   "metadata": {},
   "outputs": [],
   "source": []
  },
  {
   "cell_type": "code",
   "execution_count": null,
   "id": "0db9b795",
   "metadata": {},
   "outputs": [],
   "source": []
  },
  {
   "cell_type": "code",
   "execution_count": null,
   "id": "d71f422b",
   "metadata": {},
   "outputs": [],
   "source": []
  },
  {
   "cell_type": "code",
   "execution_count": null,
   "id": "e48a38d5",
   "metadata": {},
   "outputs": [],
   "source": []
  },
  {
   "cell_type": "code",
   "execution_count": null,
   "id": "cfb44618",
   "metadata": {},
   "outputs": [],
   "source": []
  },
  {
   "cell_type": "code",
   "execution_count": null,
   "id": "48466593",
   "metadata": {},
   "outputs": [],
   "source": []
  },
  {
   "cell_type": "code",
   "execution_count": null,
   "id": "93a55e70",
   "metadata": {},
   "outputs": [],
   "source": []
  },
  {
   "cell_type": "code",
   "execution_count": null,
   "id": "8a5fa29c",
   "metadata": {},
   "outputs": [],
   "source": []
  },
  {
   "cell_type": "code",
   "execution_count": null,
   "id": "33e13495",
   "metadata": {},
   "outputs": [],
   "source": []
  },
  {
   "cell_type": "code",
   "execution_count": null,
   "id": "e3924529",
   "metadata": {},
   "outputs": [],
   "source": []
  },
  {
   "cell_type": "code",
   "execution_count": null,
   "id": "6ebfd4ef",
   "metadata": {},
   "outputs": [],
   "source": []
  },
  {
   "cell_type": "code",
   "execution_count": null,
   "id": "e4aed8e7",
   "metadata": {},
   "outputs": [],
   "source": []
  },
  {
   "cell_type": "code",
   "execution_count": null,
   "id": "891123b9",
   "metadata": {},
   "outputs": [],
   "source": []
  },
  {
   "cell_type": "code",
   "execution_count": null,
   "id": "5bdb52dc",
   "metadata": {},
   "outputs": [],
   "source": []
  },
  {
   "cell_type": "code",
   "execution_count": null,
   "id": "4bf708e7",
   "metadata": {},
   "outputs": [],
   "source": []
  },
  {
   "cell_type": "code",
   "execution_count": null,
   "id": "18357645",
   "metadata": {},
   "outputs": [],
   "source": []
  }
 ],
 "metadata": {
  "kernelspec": {
   "display_name": "Python 3 (ipykernel)",
   "language": "python",
   "name": "python3"
  },
  "language_info": {
   "codemirror_mode": {
    "name": "ipython",
    "version": 3
   },
   "file_extension": ".py",
   "mimetype": "text/x-python",
   "name": "python",
   "nbconvert_exporter": "python",
   "pygments_lexer": "ipython3",
   "version": "3.10.9"
  }
 },
 "nbformat": 4,
 "nbformat_minor": 5
}
