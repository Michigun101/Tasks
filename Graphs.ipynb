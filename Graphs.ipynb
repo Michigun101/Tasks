{
 "cells": [
  {
   "cell_type": "markdown",
   "metadata": {},
   "source": [
    "# Graphs"
   ]
  },
  {
   "cell_type": "markdown",
   "metadata": {},
   "source": [
    "## Leetcode 752. Open the Lock\n",
    "You have a lock in front of you with 4 circular wheels. Each wheel has 10 slots: '0', '1', '2', '3', '4', '5', '6', '7', '8', '9'. The wheels can rotate freely and wrap around: for example we can turn '9' to be '0', or '0' to be '9'. Each move consists of turning one wheel one slot.\n",
    "\n",
    "The lock initially starts at '0000', a string representing the state of the 4 wheels.\n",
    "\n",
    "You are given a list of deadends dead ends, meaning if the lock displays any of these codes, the wheels of the lock will stop turning and you will be unable to open it.\n",
    "\n",
    "Given a target representing the value of the wheels that will unlock the lock, return the minimum total number of turns required to open the lock, or -1 if it is impossible."
   ]
  },
  {
   "cell_type": "markdown",
   "metadata": {},
   "source": [
    "Ищем с помощью графа прокрутки каждого числа(они будут соседями). Тупиковые ситуации добавим сразу же в seen. Используем BFS чтобы найти нужную комбинацию"
   ]
  },
  {
   "cell_type": "code",
   "execution_count": null,
   "metadata": {},
   "outputs": [],
   "source": []
  },
  {
   "cell_type": "markdown",
   "metadata": {},
   "source": [
    "## Leetcode 841. Keys and Rooms\n",
    "There are n rooms labeled from 0 to n - 1 and all the rooms are locked except for room 0. Your goal is to visit all the rooms. However, you cannot enter a locked room without having its key.\n",
    "\n",
    "When you visit a room, you may find a set of distinct keys in it. Each key has a number on it, denoting which room it unlocks, and you can take all of them with you to unlock the other rooms.\n",
    "\n",
    "Given an array rooms where rooms[i] is the set of keys that you can obtain if you visited room i, return true if you can visit all the rooms, or false otherwise."
   ]
  },
  {
   "cell_type": "markdown",
   "metadata": {},
   "source": [
    "Ищем кол-во комнат, далее в конце смотрим размер seen и если он равен колву комнат, то все комнаты посетили."
   ]
  },
  {
   "cell_type": "markdown",
   "metadata": {},
   "source": [
    "### Рекурсивная реализация"
   ]
  },
  {
   "cell_type": "code",
   "execution_count": null,
   "metadata": {},
   "outputs": [],
   "source": [
    "class Solution:\n",
    "    def canVisitAllRooms(self, rooms: List[List[int]]) -> bool:\n",
    "        def traverse(room):\n",
    "            for neighbour in rooms[room]:\n",
    "                if neighbour not in seen:\n",
    "                    seen.add(neighbour)\n",
    "                    traverse(neighbour)\n",
    "\n",
    "        seen = {0}\n",
    "        traverse(0)\n",
    "        return len(seen) == len(rooms)"
   ]
  },
  {
   "cell_type": "markdown",
   "metadata": {},
   "source": [
    "### Итеративная реализация"
   ]
  },
  {
   "cell_type": "code",
   "execution_count": null,
   "metadata": {},
   "outputs": [],
   "source": [
    "class Solution:\n",
    "    def canVisitAllRooms(self, rooms: List[List[int]]) -> bool:\n",
    "        seen = {0}\n",
    "        stack = [0]\n",
    "\n",
    "        while stack:\n",
    "            room = stack.pop()\n",
    "            for neighbour in rooms[room]:\n",
    "                if neighbour not in seen:\n",
    "                    seen.add(neighbour)\n",
    "                    stack.append(neighbour)\n",
    "        return len(seen) == len(rooms)"
   ]
  },
  {
   "cell_type": "markdown",
   "metadata": {},
   "source": [
    "## Leetcode 1971. Find if Path Exists in Graph\n",
    "There is a bi-directional graph with n vertices, where each vertex is labeled from 0 to n - 1 (inclusive). The edges in the graph are represented as a 2D integer array edges, where each edges[i] = [ui, vi] denotes a bi-directional edge between vertex ui and vertex vi. Every vertex pair is connected by at most one edge, and no vertex has an edge to itself.\n",
    "\n",
    "You want to determine if there is a valid path that exists from vertex source to vertex destination.\n",
    "\n",
    "Given edges and the integers n, source, and destination, return true if there is a valid path from source to destination, or false otherwise."
   ]
  },
  {
   "cell_type": "markdown",
   "metadata": {},
   "source": [
    "### Через DFS"
   ]
  },
  {
   "cell_type": "markdown",
   "metadata": {},
   "source": [
    "Граф двунаправленный. Делаем DFS, а далее идем по графам"
   ]
  },
  {
   "cell_type": "code",
   "execution_count": null,
   "metadata": {},
   "outputs": [],
   "source": [
    "from collections import defaultdict\n",
    "class Solution:\n",
    "    def validPath(self, n: int, edges: List[List[int]], source: int, destination: int) -> bool:\n",
    "        graph = defaultdict(list)\n",
    "        for a,b in edges:\n",
    "            graph[a].append(b)\n",
    "            graph[b].append(a)\n",
    "\n",
    "        seen = set()\n",
    "        seen.add(source)\n",
    "        stack = [source]\n",
    "        while stack:\n",
    "            v = stack.pop()\n",
    "            if v == destination:\n",
    "                return True\n",
    "            for n in graph[v]:\n",
    "                if n not in seen:\n",
    "                    seen.add(n)\n",
    "                    stack.append(n)\n",
    "\n",
    "        return False"
   ]
  },
  {
   "cell_type": "markdown",
   "metadata": {},
   "source": [
    "### Через BFS"
   ]
  },
  {
   "cell_type": "code",
   "execution_count": null,
   "metadata": {},
   "outputs": [],
   "source": [
    "from collections import defaultdict\n",
    "import queue\n",
    "class Solution:\n",
    "    def validPath(self, n: int, edges: List[List[int]], source: int, destination: int) -> bool:\n",
    "        graph = defaultdict(list)\n",
    "        for a,b in edges:\n",
    "            graph[a].append(b)\n",
    "            graph[b].append(a)\n",
    "\n",
    "        seen = set()\n",
    "        seen.add(source)\n",
    "        queue = deque([source])\n",
    "        while queue:\n",
    "            v = queue.popleft()\n",
    "            if v == destination:\n",
    "                return True\n",
    "            for n in graph[v]:\n",
    "                if n not in seen:\n",
    "                    seen.add(n)\n",
    "                    queue.append(n)\n",
    "\n",
    "        return False"
   ]
  },
  {
   "cell_type": "markdown",
   "metadata": {},
   "source": [
    "## Leetcode 133. Clone Graph\n",
    "Given a reference of a node in a connected undirected graph.\n",
    "\n",
    "Return a deep copy (clone) of the graph.\n",
    "\n",
    "Each node in the graph contains a value (int) and a list (List[Node]) of its neighbors.\n",
    "\n",
    "class Node {\n",
    "    public int val;\n",
    "    public List<Node> neighbors;\n",
    "}\n",
    " \n",
    "\n",
    "Test case format:\n",
    "\n",
    "For simplicity, each node's value is the same as the node's index (1-indexed). For example, the first node with val == 1, the second node with val == 2, and so on. The graph is represented in the test case using an adjacency list.\n",
    "\n",
    "An adjacency list is a collection of unordered lists used to represent a finite graph. Each list describes the set of neighbors of a node in the graph.\n",
    "\n",
    "The given node will always be the first node with val = 1. You must return the copy of the given node as a reference to the cloned graph."
   ]
  },
  {
   "cell_type": "markdown",
   "metadata": {},
   "source": [
    "Создали массив seen, кого мы уже видели и его же будем использовать для хранения копий. Через DFS находим соседей и так же копируем в seen, при этом не теряя соседей"
   ]
  },
  {
   "cell_type": "markdown",
   "metadata": {},
   "source": [
    "### DFS"
   ]
  },
  {
   "cell_type": "code",
   "execution_count": null,
   "metadata": {},
   "outputs": [],
   "source": [
    "\"\"\"\n",
    "# Definition for a Node.\n",
    "class Node:\n",
    "    def __init__(self, val = 0, neighbors = None):\n",
    "        self.val = val\n",
    "        self.neighbors = neighbors if neighbors is not None else []\n",
    "\"\"\"\n",
    "\n",
    "from typing import Optional\n",
    "class Solution:\n",
    "    def cloneGraph(self, node: Optional['Node']) -> Optional['Node']:\n",
    "        if not node:\n",
    "            return node\n",
    "        \n",
    "        seen = {}\n",
    "        stack = [node]\n",
    "        seen[node] = Node(node.val, [])\n",
    "        while stack:\n",
    "            v= stack.pop()\n",
    "            for n in v.neighbors:\n",
    "                if n not in seen:\n",
    "                    seen[n] = Node(n.val, [])\n",
    "                    stack.append(n)\n",
    "                seen[v].neighbors.append(seen[n])\n",
    "                \n",
    "        return seen[node]"
   ]
  },
  {
   "cell_type": "markdown",
   "metadata": {},
   "source": [
    "## Leetcode 1557. Minimum Number of Vertices to Reach All Nodes\n",
    "Given a directed acyclic graph, with n vertices numbered from 0 to n-1, and an array edges where edges[i] = [fromi, toi] represents a directed edge from node fromi to node toi.\n",
    "\n",
    "Find the smallest set of vertices from which all nodes in the graph are reachable. It's guaranteed that a unique solution exists.\n",
    "\n",
    "Notice that you can return the vertices in any order."
   ]
  },
  {
   "cell_type": "markdown",
   "metadata": {},
   "source": [
    "Если у ноды нет входов, то она автоматом должна быть в ответе. Input: n = 6, edges = [[0,1],[0,2],[2,5],[3,4],[4,2]]. Колво входов - это второе число. ищем те элементы, у которых их 0"
   ]
  },
  {
   "cell_type": "code",
   "execution_count": null,
   "metadata": {},
   "outputs": [],
   "source": [
    "class Solution:\n",
    "    def findSmallestSetOfVertices(self, n: int, edges: List[List[int]]) -> List[int]:\n",
    "        in_degree = [0] * n\n",
    "        for _,to in edges:\n",
    "            in_degree[to] +=1\n",
    "        return [node for node in range(n) if in_degree[node] == 0]"
   ]
  },
  {
   "cell_type": "markdown",
   "metadata": {},
   "source": [
    "## Leetcode 323. Number of Connected Components in an Undirected Graph\n",
    "Given n nodes labeled from 0 to n - 1 and a list of undirected edges (each edge is a pair of nodes), write a function to find the number of connected components in an undirected graph."
   ]
  },
  {
   "cell_type": "markdown",
   "metadata": {},
   "source": [
    "### DFS"
   ]
  },
  {
   "cell_type": "code",
   "execution_count": null,
   "metadata": {},
   "outputs": [],
   "source": [
    "class Solution:\n",
    "    def countComponents(self, n: int, edges: List[List[int]]) -> int:\n",
    "        graph = defaultdict(list)\n",
    "\n",
    "        for a,b in edges:\n",
    "            graph[a].append(b)\n",
    "            graph[b].append(a)\n",
    "\n",
    "        seen = set()\n",
    "        numb = 0\n",
    "\n",
    "        for i in range(n):\n",
    "            if i not in seen:\n",
    "                numb+=1\n",
    "                seen.add(i)\n",
    "\n",
    "                stack = [i]\n",
    "                while stack:\n",
    "                    v=stack.pop()\n",
    "                    for n in graph[v]:\n",
    "                        if n not in seen:\n",
    "                            seen.add(n)\n",
    "                            stack.append(n)\n",
    "\n",
    "        return numb\n",
    "    #TIME O(v+e) Mem O(v)"
   ]
  },
  {
   "cell_type": "markdown",
   "metadata": {},
   "source": [
    "### BFS"
   ]
  },
  {
   "cell_type": "code",
   "execution_count": null,
   "metadata": {},
   "outputs": [],
   "source": [
    "class Solution:\n",
    "    def countComponents(self, n: int, edges: List[List[int]]) -> int:\n",
    "        graph = defaultdict(list)\n",
    "\n",
    "        for a,b in edges:\n",
    "            graph[a].append(b)\n",
    "            graph[b].append(a)\n",
    "\n",
    "        seen = set()\n",
    "        numb = 0\n",
    "\n",
    "        for i in range(n):\n",
    "            if i not in seen:\n",
    "                numb+=1\n",
    "                seen.add(i)\n",
    "\n",
    "                queue = deque([i])\n",
    "                while queue:\n",
    "                    v=queue.popleft()\n",
    "                    for n in graph[v]:\n",
    "                        if n not in seen:\n",
    "                            seen.add(n)\n",
    "                            queue.append(n)\n",
    "\n",
    "        return numb\n",
    "    #TIME O(v+e) Mem O(v)"
   ]
  },
  {
   "cell_type": "markdown",
   "metadata": {},
   "source": [
    "## Leetcode 547. Number of Provinces\n",
    "There are n cities. Some of them are connected, while some are not. If city a is connected directly with city b, and city b is connected directly with city c, then city a is connected indirectly with city c.\n",
    "\n",
    "A province is a group of directly or indirectly connected cities and no other cities outside of the group.\n",
    "\n",
    "You are given an n x n matrix isConnected where isConnected[i][j] = 1 if the ith city and the jth city are directly connected, and isConnected[i][j] = 0 otherwise.\n",
    "\n",
    "Return the total number of provinces."
   ]
  },
  {
   "cell_type": "markdown",
   "metadata": {},
   "source": [
    "Как и прошлая задача, но граф задается матрицей"
   ]
  },
  {
   "cell_type": "code",
   "execution_count": null,
   "metadata": {},
   "outputs": [],
   "source": [
    "class Solution:\n",
    "    def findCircleNum(self, isConnected: List[List[int]]) -> int:\n",
    "        graph = defaultdict(list)\n",
    "        n=len(isConnected)\n",
    "        for i in range(n):\n",
    "            for j in range(i+1,n):\n",
    "                if isConnected[i][j]:\n",
    "                    graph[i].append(j)\n",
    "                    graph[j].append(i)\n",
    "\n",
    "        seen = set()\n",
    "        numb = 0\n",
    "\n",
    "        for i in range(n):\n",
    "            if i not in seen:\n",
    "                numb+=1\n",
    "                seen.add(i)\n",
    "\n",
    "                queue = deque([i])\n",
    "                while queue:\n",
    "                    v=queue.popleft()\n",
    "                    for n in graph[v]:\n",
    "                        if n not in seen:\n",
    "                            seen.add(n)\n",
    "                            queue.append(n)\n",
    "\n",
    "        return numb\n",
    "    #TIME O(v^2) Mem O(v)"
   ]
  },
  {
   "cell_type": "markdown",
   "metadata": {},
   "source": [
    "## Leetcode 200. Number of Islands\n",
    "Given an m x n 2D binary grid grid which represents a map of '1's (land) and '0's (water), return the number of islands.\n",
    "\n",
    "An island is surrounded by water and is formed by connecting adjacent lands horizontally or vertically. You may assume all four edges of the grid are all surrounded by water."
   ]
  },
  {
   "cell_type": "code",
   "execution_count": null,
   "metadata": {},
   "outputs": [],
   "source": [
    "class Solution:\n",
    "    def numIslands(self, grid: List[List[str]]) -> int:\n",
    "        if not grid:\n",
    "            return 0\n",
    "        \n",
    "        number = 0\n",
    "        n=len(grid)\n",
    "        m=len(grid[0])\n",
    "\n",
    "        def is_valid(r,c):\n",
    "            return not(r < 0 or c < 0 or r >= n or c>=m or grid[r][c] != '1')\n",
    "        \n",
    "        for i in range(n):\n",
    "            for j in range(m):\n",
    "                if grid[i][j] == '1':\n",
    "                    number+=1\n",
    "\n",
    "                    queue = deque([(i,j)])\n",
    "                    while queue:\n",
    "                        r,c = queue.popleft()\n",
    "                        if is_valid(r,c):\n",
    "                            grid[r][c] = '0'\n",
    "                            queue.append((r+1,c))\n",
    "                            queue.append((r-1,c))\n",
    "                            queue.append((r,c+1))\n",
    "                            queue.append((r,c-1))\n",
    "\n",
    "        return number\n",
    "    # Time O(n*m) Memory O(n*m) в худшем случае\n",
    "\n"
   ]
  },
  {
   "cell_type": "code",
   "execution_count": null,
   "metadata": {},
   "outputs": [],
   "source": [
    "class Solution:\n",
    "    def numIslands(self, grid: List[List[str]]) -> int:\n",
    "        if not grid:\n",
    "            return 0\n",
    "        \n",
    "        number = 0\n",
    "        n=len(grid)\n",
    "        m=len(grid[0])\n",
    "\n",
    "        def is_valid(r,c):\n",
    "            return not(r < 0 or c < 0 or r >= n or c>=m or grid[r][c] != '1')\n",
    "        \n",
    "        for i in range(n):\n",
    "            for j in range(m):\n",
    "                if grid[i][j] == '1':\n",
    "                    number+=1\n",
    "\n",
    "                    queue = deque([(i,j)])\n",
    "                    while queue:\n",
    "                        r,c = queue.popleft()\n",
    "                        if is_valid(r,c):\n",
    "                            grid[r][c] = '0'\n",
    "                            for dx,dy in [(0,1),(1,0),(-1,0),(0,-1)]:\n",
    "                                queue.append((r+dx,c+dy))\n",
    "                                \n",
    "\n",
    "        return number\n",
    "    # Time O(n*m) Memory O(n*m) в худшем случае\n",
    "\n"
   ]
  },
  {
   "cell_type": "markdown",
   "metadata": {},
   "source": [
    "## Leetcode 1466. Reorder Routes to Make All Paths Lead to the City Zero\n",
    "There are n cities numbered from 0 to n - 1 and n - 1 roads such that there is only one way to travel between two different cities (this network form a tree). Last year, The ministry of transport decided to orient the roads in one direction because they are too narrow.\n",
    "\n",
    "Roads are represented by connections where connections[i] = [ai, bi] represents a road from city ai to city bi.\n",
    "\n",
    "This year, there will be a big event in the capital (city 0), and many people want to travel to this city.\n",
    "\n",
    "Your task consists of reorienting some roads such that each city can visit the city 0. Return the minimum number of edges changed.\n",
    "\n",
    "It's guaranteed that each city can reach city 0 after reorder."
   ]
  },
  {
   "cell_type": "markdown",
   "metadata": {},
   "source": [
    "Запоминаем у каждого ребра оригинальное направление, а затем граф конвертнем в ненаправленный. После будем смотреть старое направление ребер, и было ли оно обращено в 0"
   ]
  },
  {
   "cell_type": "code",
   "execution_count": null,
   "metadata": {},
   "outputs": [],
   "source": [
    "class Solution:\n",
    "    def minReorder(self, n: int, connections: List[List[int]]) -> int:\n",
    "        graph = defaultdict(list)\n",
    "        og_directions = set()\n",
    "        for a,b in connections:\n",
    "            graph[a].append(b)\n",
    "            graph[b].append(a)\n",
    "            og_directions.add((a,b))\n",
    "\n",
    "        turns = 0\n",
    "        seen = {0}\n",
    "        stack = [0]\n",
    "        while stack:\n",
    "            v = stack.pop()\n",
    "            for n in graph[v]:\n",
    "                if n not in seen:\n",
    "                    if (v,n) in og_directions:\n",
    "                        turns+=1\n",
    "                    stack.append(n)\n",
    "                    seen.add(n)\n",
    "\n",
    "        return turns"
   ]
  },
  {
   "cell_type": "markdown",
   "metadata": {},
   "source": [
    "## Leetcode 695. Max Area of Island\n",
    "You are given an m x n binary matrix grid. An island is a group of 1's (representing land) connected 4-directionally (horizontal or vertical.) You may assume all four edges of the grid are surrounded by water.\n",
    "\n",
    "The area of an island is the number of cells with a value 1 in the island.\n",
    "\n",
    "Return the maximum area of an island in grid. If there is no island, return 0.\n"
   ]
  },
  {
   "cell_type": "code",
   "execution_count": 2,
   "metadata": {},
   "outputs": [],
   "source": [
    "class Solution:\n",
    "    def maxAreaOfIsland(self, grid: list) -> int:\n",
    "        if not grid:\n",
    "            return 0\n",
    "        \n",
    "        n=len(grid)\n",
    "        m=len(grid[0])\n",
    "\n",
    "        def is_valid(r,c):\n",
    "            return not(r < 0 or c < 0 or r >= n or c>=m or grid[r][c] != 1)\n",
    "        \n",
    "        max_area = 0\n",
    "        \n",
    "        for i in range(n):\n",
    "            for j in range(m):\n",
    "                if grid[i][j] == 1:\n",
    "                    cur_area = 0\n",
    "                    queue = deque([(i,j)])\n",
    "                    grid[i][j] = 0\n",
    "                    while queue:\n",
    "                        r,c = queue.popleft()\n",
    "                        cur_area+=1\n",
    "                        for dx,dy in [(0,1),(1,0),(-1,0),(0,-1)]:\n",
    "                            nr,nc = r+dx,c+dy\n",
    "                            if is_valid(nr,nc):\n",
    "                                queue.append((nr,nc))\n",
    "                                grid[nr][nc] = 0\n",
    "\n",
    "                    max_area = max(max_area,cur_area)\n",
    "\n",
    "        return max_area\n",
    "    # Time O(n*m) Memory O(n*m) в худшем случае\n"
   ]
  },
  {
   "cell_type": "markdown",
   "metadata": {},
   "source": [
    "## Leetcode 2368. Reachable Nodes With Restrictions\n",
    "There is an undirected tree with n nodes labeled from 0 to n - 1 and n - 1 edges.\n",
    "\n",
    "You are given a 2D integer array edges of length n - 1 where edges[i] = [ai, bi] indicates that there is an edge between nodes ai and bi in the tree. You are also given an integer array restricted which represents restricted nodes.\n",
    "\n",
    "Return the maximum number of nodes you can reach from node 0 without visiting a restricted node.\n",
    "\n",
    "Note that node 0 will not be a restricted node."
   ]
  },
  {
   "cell_type": "code",
   "execution_count": null,
   "metadata": {},
   "outputs": [],
   "source": [
    "class Solution:\n",
    "    def reachableNodes(self, n: int, edges: List[List[int]], restricted: List[int]) -> int:\n",
    "        graph = defaultdict(list)\n",
    "        for a,b in edges:\n",
    "            graph[a].append(b)\n",
    "            graph[b].append(a)\n",
    "\n",
    "        seen = set(restricted)\n",
    "        seen.add(0)\n",
    "        stack = [0]\n",
    "        result = 0\n",
    "        while stack:\n",
    "            v = stack.pop()\n",
    "            result+=1\n",
    "            for n in graph[v]:\n",
    "                if n not in seen:\n",
    "                    stack.append(n)\n",
    "                    seen.add(n)\n",
    "\n",
    "        return result"
   ]
  },
  {
   "cell_type": "markdown",
   "metadata": {},
   "source": [
    "## Leetcode 542. 01 Matrix\n",
    "Given an m x n binary matrix mat, return the distance of the nearest 0 for each cell.\n",
    "\n",
    "The distance between two cells sharing a common edge is 1."
   ]
  },
  {
   "cell_type": "markdown",
   "metadata": {},
   "source": [
    "Запускаем внешний фор для поиска нулей,и добавим в очередь все позиции нулей, тогда каждый BFS начнет разрастаться друг на встречу другу. Если один из BFS пометил точку, то он к ней был ближе, и не надо отмечать ее другим BFS"
   ]
  },
  {
   "cell_type": "code",
   "execution_count": null,
   "metadata": {},
   "outputs": [],
   "source": [
    "class Solution:\n",
    "    def updateMatrix(self, mat: List[List[int]]) -> List[List[int]]:\n",
    "        if not mat:\n",
    "            return mat\n",
    "        \n",
    "        n=len(mat)\n",
    "        m=len(mat[0])\n",
    "        seen = set()\n",
    "\n",
    "        def is_valid(r,c):\n",
    "            return not(r < 0 or c < 0 or r >= n or c>=m or (r,c) in seen)\n",
    "        \n",
    "        queue = deque([])\n",
    "        \n",
    "        for i in range(n):\n",
    "            for j in range(m):\n",
    "                if mat[i][j] == 0:\n",
    "                    queue.append((i,j,1))\n",
    "                    seen.add((i,j))\n",
    "        \n",
    "        while queue:\n",
    "            r,c,dist = queue.popleft()\n",
    "            for dx,dy in [(0,1),(1,0),(-1,0),(0,-1)]:\n",
    "                if is_valid(r+dx,c+dy):\n",
    "                    mat[r+dx][c+dy] = dist\n",
    "                    queue.append((r+dx,c+dy,dist+1))\n",
    "                    seen.add((r+dx,c+dy))\n",
    "\n",
    "        return mat\n",
    "        \n",
    "                "
   ]
  },
  {
   "cell_type": "markdown",
   "metadata": {},
   "source": [
    "## Leetcode 1129. Shortest Path with Alternating Colors\n",
    "You are given an integer n, the number of nodes in a directed graph where the nodes are labeled from 0 to n - 1. Each edge is red or blue in this graph, and there could be self-edges and parallel edges.\n",
    "\n",
    "You are given two arrays redEdges and blueEdges where:\n",
    "\n",
    "redEdges[i] = [ai, bi] indicates that there is a directed red edge from node ai to node bi in the graph, and\n",
    "blueEdges[j] = [uj, vj] indicates that there is a directed blue edge from node uj to node vj in the graph.\n",
    "Return an array answer of length n, where each answer[x] is the length of the shortest path from node 0 to node x such that the edge colors alternate along the path, or -1 if such a path does not exist."
   ]
  },
  {
   "cell_type": "markdown",
   "metadata": {},
   "source": [
    "Используем два мапы - красную и синюю, а именно 0: color: []. Используем BFS для поиска кратчайшего пути. Будем искать ребра у которые соседи 0 и цвет противоположный(для нуля). Стартуем с нуля. В queue изначально кладем 0 с обоими цветами [0:red],[0:blue]. На каждой итерации флипаем цвет"
   ]
  },
  {
   "cell_type": "code",
   "execution_count": null,
   "metadata": {},
   "outputs": [],
   "source": [
    "class Solution:\n",
    "    def shortestAlternatingPaths(self, n: int, redEdges: List[List[int]], blueEdges: List[List[int]]) -> List[int]:\n",
    "        RED = 0\n",
    "        BLUE = 1\n",
    "\n",
    "        graph = defaultdict(lambda: defaultdict(list))\n",
    "        for a,b in redEdges:\n",
    "            graph[RED][a].append(b)\n",
    "\n",
    "        for a,b in blueEdges:\n",
    "            graph[BLUE][a].append(b)\n",
    "\n",
    "        result = [float('inf')] * n\n",
    "        result[0] = 0\n",
    "        queue = deque([(0,RED,0),(0,BLUE,0)])\n",
    "        seen = {(0,RED),(0,BLUE)}\n",
    "\n",
    "        while queue:\n",
    "            v,color,depth = queue.popleft()\n",
    "            result[v] = min(result[v],depth)\n",
    "\n",
    "            for n in graph[color][v]:\n",
    "                if (n,1-color) not in seen:\n",
    "                    seen.add((n,1-color))\n",
    "                    queue.append((n,1-color,depth+1))\n",
    "\n",
    "        return [x if x!=float('inf') else -1 for x in result]"
   ]
  },
  {
   "cell_type": "markdown",
   "metadata": {},
   "source": [
    "## Leetcode 1926. Nearest Exit from Entrance in Maze\n",
    "You are given an m x n matrix maze (0-indexed) with empty cells (represented as '.') and walls (represented as '+'). You are also given the entrance of the maze, where entrance = [entrancerow, entrancecol] denotes the row and column of the cell you are initially standing at.\n",
    "\n",
    "In one step, you can move one cell up, down, left, or right. You cannot step into a cell with a wall, and you cannot step outside the maze. Your goal is to find the nearest exit from the entrance. An exit is defined as an empty cell that is at the border of the maze. The entrance does not count as an exit.\n",
    "\n",
    "Return the number of steps in the shortest path from the entrance to the nearest exit, or -1 if no such path exists."
   ]
  },
  {
   "cell_type": "code",
   "execution_count": null,
   "metadata": {},
   "outputs": [],
   "source": [
    "class Solution:\n",
    "    def nearestExit(self, maze: List[List[str]], entrance: List[int]) -> int: # Time O(n*m)\n",
    "        rows = len(maze)\n",
    "        cols = len(maze[0])\n",
    "        entrance_row,entrance_col = entrance\n",
    "        maze[entrance_row][entrance_col] = '+' # вход не мб выходом\n",
    "        queue = deque([(entrance_row,entrance_col,0)])\n",
    "\n",
    "        while queue:\n",
    "            r,c,num = queue.popleft()\n",
    "            for dr,dc in [(0,1),(1,0),(-1,0),(0,-1)]:\n",
    "                new_r = r+dr\n",
    "                new_c = c+dc\n",
    "                if 0<=new_r<rows and 0<=new_c<cols and maze[new_r][new_c] == '.':\n",
    "                    if new_r == 0 or new_r == rows - 1 or new_c == 0 or new_c == cols - 1:\n",
    "                        return num + 1\n",
    "                    \n",
    "                    queue.append((new_r,new_c,num+1))\n",
    "                    maze[new_r][new_c] = '+'\n",
    "\n",
    "        return -1\n"
   ]
  },
  {
   "cell_type": "markdown",
   "metadata": {},
   "source": [
    "## Leetcode 1091. Shortest Path in Binary Matrix\n",
    "Given an n x n binary matrix grid, return the length of the shortest clear path in the matrix. If there is no clear path, return -1.\n",
    "\n",
    "A clear path in a binary matrix is a path from the top-left cell (i.e., (0, 0)) to the bottom-right cell (i.e., (n - 1, n - 1)) such that:\n",
    "\n",
    "All the visited cells of the path are 0.\n",
    "All the adjacent cells of the path are 8-directionally connected (i.e., they are different and they share an edge or a corner).\n",
    "The length of a clear path is the number of visited cells of this path."
   ]
  },
  {
   "cell_type": "code",
   "execution_count": null,
   "metadata": {},
   "outputs": [],
   "source": [
    "class Solution:\n",
    "    def shortestPathBinaryMatrix(self, grid: List[List[int]]) -> int:\n",
    "        rows = len(grid)\n",
    "        cols = len(grid[0])\n",
    "        if grid[0][0] == 1:\n",
    "            return -1\n",
    "        \n",
    "        grid[0][0] = 1\n",
    "        queue = deque([(0,0,1)])\n",
    "\n",
    "        while queue:\n",
    "            r,c,num = queue.popleft()\n",
    "            if r == rows - 1 and c == cols - 1:\n",
    "                return num \n",
    "            for dr,dc in [(0,1),(1,0),(-1,0),(0,-1),(1,1),(1,-1),(-1,1),(-1,-1)]:\n",
    "                new_r = r+dr\n",
    "                new_c = c+dc\n",
    "                if 0<=new_r<rows and 0<=new_c<cols and grid[new_r][new_c] == 0:\n",
    "                    if new_r == rows - 1 and new_c == cols - 1:\n",
    "                        return num + 1\n",
    "                    \n",
    "                    queue.append((new_r,new_c,num+1))\n",
    "                    grid[new_r][new_c] = 1\n",
    "\n",
    "        return -1\n"
   ]
  },
  {
   "cell_type": "markdown",
   "metadata": {},
   "source": [
    "## Leetcode 752. Open the Lock\n",
    "You have a lock in front of you with 4 circular wheels. Each wheel has 10 slots: '0', '1', '2', '3', '4', '5', '6', '7', '8', '9'. The wheels can rotate freely and wrap around: for example we can turn '9' to be '0', or '0' to be '9'. Each move consists of turning one wheel one slot.\n",
    "\n",
    "The lock initially starts at '0000', a string representing the state of the 4 wheels.\n",
    "\n",
    "You are given a list of deadends dead ends, meaning if the lock displays any of these codes, the wheels of the lock will stop turning and you will be unable to open it.\n",
    "\n",
    "Given a target representing the value of the wheels that will unlock the lock, return the minimum total number of turns required to open the lock, or -1 if it is impossible."
   ]
  },
  {
   "cell_type": "code",
   "execution_count": null,
   "metadata": {},
   "outputs": [],
   "source": [
    "class Solution:\n",
    "    def openLock(self, deadends: List[str], target: str) -> int: # Time O()\n",
    "        if '0000' in deadends:\n",
    "            return -1\n",
    "        \n",
    "        queue = deque([('0000',0)])\n",
    "        seen = set(deadends)\n",
    "\n",
    "        def neighbours(current):\n",
    "            result = []\n",
    "            for i in range(4):\n",
    "                num = int(current[i])\n",
    "                for d in [-1,1]:\n",
    "                    x=(num + d)%10\n",
    "                    result.append(current[:i] + str(x) + current[i+1:])\n",
    "            return result\n",
    "        \n",
    "\n",
    "        while queue:\n",
    "            cur,steps = queue.popleft()\n",
    "            if cur == target:\n",
    "                return steps\n",
    "            for n in neighbours(cur):\n",
    "                if n not in seen:\n",
    "                    queue.append((n,steps+1))\n",
    "                    seen.add(n)\n",
    "        return -1"
   ]
  },
  {
   "cell_type": "markdown",
   "metadata": {},
   "source": [
    "## Leetcode 994. Rotting Oranges\n",
    "You are given an m x n grid where each cell can have one of three values:\n",
    "\n",
    "0 representing an empty cell,\n",
    "1 representing a fresh orange, or\n",
    "2 representing a rotten orange.\n",
    "Every minute, any fresh orange that is 4-directionally adjacent to a rotten orange becomes rotten.\n",
    "\n",
    "Return the minimum number of minutes that must elapse until no cell has a fresh orange. If this is impossible, return -1."
   ]
  },
  {
   "cell_type": "code",
   "execution_count": null,
   "metadata": {},
   "outputs": [],
   "source": [
    "class Solution:\n",
    "    def orangesRotting(self, grid: List[List[int]]) -> int:\n",
    "        rows = len(grid)\n",
    "        cols = len(grid[0])\n",
    "\n",
    "        fresh_counts=0\n",
    "        minutes = 0\n",
    "        queue = deque([])\n",
    "\n",
    "        for i in range(rows):\n",
    "            for j in range(cols):\n",
    "                if grid[i][j] == 1:\n",
    "                    fresh_counts +=1\n",
    "                if grid[i][j] == 2:\n",
    "                    queue.append((i,j,minutes))\n",
    "\n",
    "        while queue:\n",
    "            i,j,minutes = queue.popleft()\n",
    "\n",
    "            for di,dj in [(0,1),(0,-1),(1,0),(-1,0)]:\n",
    "                new_i = i+di\n",
    "                new_j = j+dj\n",
    "                if 0<=new_i<rows and 0<=new_j<cols and grid[new_i][new_j] == 1:\n",
    "                    fresh_counts-=1\n",
    "                    grid[new_i][new_j] = 2\n",
    "                    queue.append((new_i,new_j,minutes+1))\n",
    "\n",
    "        if fresh_counts == 0:\n",
    "            return minutes\n",
    "        \n",
    "        return -1"
   ]
  },
  {
   "cell_type": "code",
   "execution_count": null,
   "metadata": {},
   "outputs": [],
   "source": []
  },
  {
   "cell_type": "code",
   "execution_count": null,
   "metadata": {},
   "outputs": [],
   "source": []
  },
  {
   "cell_type": "code",
   "execution_count": null,
   "metadata": {},
   "outputs": [],
   "source": []
  },
  {
   "cell_type": "code",
   "execution_count": null,
   "metadata": {},
   "outputs": [],
   "source": []
  },
  {
   "cell_type": "code",
   "execution_count": null,
   "metadata": {},
   "outputs": [],
   "source": []
  },
  {
   "cell_type": "code",
   "execution_count": null,
   "metadata": {},
   "outputs": [],
   "source": []
  },
  {
   "cell_type": "code",
   "execution_count": null,
   "metadata": {},
   "outputs": [],
   "source": []
  },
  {
   "cell_type": "code",
   "execution_count": null,
   "metadata": {},
   "outputs": [],
   "source": []
  },
  {
   "cell_type": "code",
   "execution_count": null,
   "metadata": {},
   "outputs": [],
   "source": []
  },
  {
   "cell_type": "code",
   "execution_count": null,
   "metadata": {},
   "outputs": [],
   "source": []
  },
  {
   "cell_type": "code",
   "execution_count": null,
   "metadata": {},
   "outputs": [],
   "source": []
  },
  {
   "cell_type": "code",
   "execution_count": null,
   "metadata": {},
   "outputs": [],
   "source": []
  },
  {
   "cell_type": "code",
   "execution_count": null,
   "metadata": {},
   "outputs": [],
   "source": []
  },
  {
   "cell_type": "code",
   "execution_count": null,
   "metadata": {},
   "outputs": [],
   "source": []
  },
  {
   "cell_type": "code",
   "execution_count": null,
   "metadata": {},
   "outputs": [],
   "source": []
  },
  {
   "cell_type": "code",
   "execution_count": null,
   "metadata": {},
   "outputs": [],
   "source": []
  },
  {
   "cell_type": "code",
   "execution_count": null,
   "metadata": {},
   "outputs": [],
   "source": []
  },
  {
   "cell_type": "code",
   "execution_count": null,
   "metadata": {},
   "outputs": [],
   "source": []
  },
  {
   "cell_type": "code",
   "execution_count": null,
   "metadata": {},
   "outputs": [],
   "source": []
  },
  {
   "cell_type": "code",
   "execution_count": null,
   "metadata": {},
   "outputs": [],
   "source": []
  },
  {
   "cell_type": "code",
   "execution_count": null,
   "metadata": {},
   "outputs": [],
   "source": []
  },
  {
   "cell_type": "code",
   "execution_count": null,
   "metadata": {},
   "outputs": [],
   "source": []
  },
  {
   "cell_type": "code",
   "execution_count": null,
   "metadata": {},
   "outputs": [],
   "source": []
  }
 ],
 "metadata": {
  "kernelspec": {
   "display_name": "base",
   "language": "python",
   "name": "python3"
  },
  "language_info": {
   "codemirror_mode": {
    "name": "ipython",
    "version": 3
   },
   "file_extension": ".py",
   "mimetype": "text/x-python",
   "name": "python",
   "nbconvert_exporter": "python",
   "pygments_lexer": "ipython3",
   "version": "3.10.9"
  }
 },
 "nbformat": 4,
 "nbformat_minor": 2
}
