{
 "cells": [
  {
   "cell_type": "markdown",
   "metadata": {},
   "source": [
    "# Генератор псевдослучайных чисел \n",
    "— это алгоритм, который выдает числа, похожие на случайные, но на самом деле они полностью определяются начальным значением (seed).\n",
    "\n",
    "Такие числа называются псевдослучайными, потому что при одинаковом seed они будут одинаковыми."
   ]
  },
  {
   "cell_type": "markdown",
   "metadata": {},
   "source": [
    "## Как работает генератор псевдослучайных чисел?\n",
    "Самый простой пример — линейный конгруэнтный метод (LCG):\n",
    "\n",
    "X_{n+1} = (a * X_n + c) % m\n",
    "\n",
    "Где:\n",
    "\n",
    "X_n — текущее число,\n",
    "\n",
    "a — множитель (коэффициент),\n",
    "\n",
    "c — приращение,\n",
    "\n",
    "m — модуль,\n",
    "\n",
    "X_0 — начальное значение (seed).\n"
   ]
  },
  {
   "cell_type": "markdown",
   "metadata": {},
   "source": []
  },
  {
   "cell_type": "code",
   "execution_count": 1,
   "metadata": {},
   "outputs": [],
   "source": [
    "class MyRandom:\n",
    "    def __init__(self,seed = 1):\n",
    "        self.a = 1664525       # стандартные параметры\n",
    "        self.c = 1013904223\n",
    "        self.m = 2 ** 32\n",
    "        self.state = seed      # начальное значение (seed)\n",
    "\n",
    "    def next(self):\n",
    "        self.state = (self.a*self.state+self.c) % self.m\n",
    "        return self.state\n",
    "\n",
    "    def rand(self): # возвращает число от 0 до 1\n",
    "        return self.next() / self.m"
   ]
  },
  {
   "cell_type": "code",
   "execution_count": 2,
   "metadata": {},
   "outputs": [
    {
     "name": "stdout",
     "output_type": "stream",
     "text": [
      "0.2523451747838408\n",
      "0.08812504541128874\n",
      "0.5772811982315034\n",
      "0.22255426598712802\n",
      "0.37566019711084664\n"
     ]
    }
   ],
   "source": [
    "rng = MyRandom(seed=42)\n",
    "for _ in range(5):\n",
    "    print(rng.rand())\n"
   ]
  },
  {
   "cell_type": "markdown",
   "metadata": {},
   "source": [
    "### Важно понимать:\n",
    "Генератор не является настоящим случайным — он детерминирован.\n",
    "\n",
    "В стандартной библиотеке Python random использует Mersenne Twister — это гораздо более сложный и надёжный генератор."
   ]
  },
  {
   "cell_type": "markdown",
   "metadata": {},
   "source": [
    "### Пример на Python\n",
    "Напишем собственный генератор:"
   ]
  },
  {
   "cell_type": "markdown",
   "metadata": {},
   "source": [
    "напишем класс генераторов псевдослучайных чисел. Он будет:\n",
    "\n",
    "* поддерживать задание seed (для воспроизводимости);\n",
    "\n",
    "* генерировать последовательности чисел;\n",
    "\n",
    "* использовать разные алгоритмы (например, линейный конгруэнтный метод);\n",
    "\n",
    "* иметь методы для:\n",
    "\n",
    "* * генерации чисел от 0 до 1,\n",
    "\n",
    "* * генерации целых чисел в заданном диапазоне, \n",
    "\n",
    "* * отображения распределения (график).\n",
    "\n"
   ]
  },
  {
   "cell_type": "code",
   "execution_count": 1,
   "metadata": {},
   "outputs": [],
   "source": [
    "import matplotlib.pyplot as plt"
   ]
  },
  {
   "cell_type": "code",
   "execution_count": 2,
   "metadata": {},
   "outputs": [],
   "source": [
    "class MyRandom:\n",
    "    def __init__(self,seed=1):\n",
    "        self.seed = seed\n",
    "        self.a = 1103515245  # множитель\n",
    "        self.c = 12345       # приращение\n",
    "        self.m = 2**31       # модуль\n",
    "        self.state = seed\n",
    "\n",
    "    def reseed(self,new_seed):\n",
    "        \"\"\"Устанавливает новое значение начального состояния.\"\"\"\n",
    "        self.state = new_seed\n",
    "\n",
    "    def random(self):\n",
    "        \"\"\"Возвращает псевдослучайное число от 0 до 1.\"\"\"\n",
    "        self.state = (self.a * self.state + self.c)%self.m\n",
    "        return self.state/self.m\n",
    "    \n",
    "    def randint(self,low,high):\n",
    "        \"\"\"Генерирует псевдослучайное целое число в диапазоне [low, high].\"\"\"\n",
    "        return low + int(self.random() * (high-low+1))\n",
    "    \n",
    "    def generate(self,n=100):\n",
    "        \"\"\"Генерирует список из n чисел от 0 до 1.\"\"\"\n",
    "        return [self.random() for _ in range(n)]\n",
    "    \n",
    "    def plot_distribution(self, n=1000):\n",
    "        \"\"\"Строит гистограмму распределения случайных чисел.\"\"\"\n",
    "        data = self.generate(n)\n",
    "        plt.hist(data,bins=20,edgecolor = 'black')\n",
    "        plt.title(f'Распределение {n} случайных чисел')\n",
    "        plt.xlabel('Значение')\n",
    "        plt.ylabel('Частота')\n",
    "        plt.grid(True)\n",
    "        plt.show()"
   ]
  },
  {
   "cell_type": "code",
   "execution_count": 3,
   "metadata": {},
   "outputs": [
    {
     "name": "stdout",
     "output_type": "stream",
     "text": [
      "0.5823075897060335\n",
      "15\n",
      "[0.46597642498090863, 0.7770372582599521, 0.42286502895876765, 0.03337232954800129, 0.41738913068547845]\n"
     ]
    },
    {
     "data": {
      "image/png": "[encoded data removed]",
      "text/plain": [
       "<Figure size 640x480 with 1 Axes>"
      ]
     },
     "metadata": {},
     "output_type": "display_data"
    }
   ],
   "source": [
    "rng = MyRandom(seed=42)\n",
    "\n",
    "# Одно число от 0 до 1\n",
    "print(rng.random())\n",
    "\n",
    "# Целое число от 10 до 20\n",
    "print(rng.randint(10, 20))\n",
    "\n",
    "# Список из 5 случайных чисел\n",
    "print(rng.generate(5))\n",
    "\n",
    "# График распределения\n",
    "rng.plot_distribution(1000)\n"
   ]
  },
  {
   "cell_type": "markdown",
   "metadata": {},
   "source": [
    "Новые функции, которые добавим:\n",
    "1. choice(sequence) — случайный элемент из списка.\n",
    "\n",
    "2. shuffle(sequence) — перемешивание списка (по алгоритму Фишера-Йейтса).\n",
    "\n",
    "3. normal(mu, sigma) — числа по нормальному (Гауссову) распределению (через метод Бокса-Мюллера).\n",
    "\n",
    "4. randrange(start, stop, step) — как range, но случайный выбор одного значения.\n",
    "\n",
    "5. sample(sequence, k) — случайный выбор k неповторяющихся элементов."
   ]
  },
  {
   "cell_type": "code",
   "execution_count": 4,
   "metadata": {},
   "outputs": [],
   "source": [
    "import math\n",
    "\n",
    "class MyRandom:\n",
    "    def __init__(self,seed=1):\n",
    "        self.seed = seed\n",
    "        self.a = 1103515245  # множитель\n",
    "        self.c = 12345       # приращение\n",
    "        self.m = 2**31       # модуль\n",
    "        self.state = seed\n",
    "\n",
    "    def reseed(self,new_seed):\n",
    "        \"\"\"Устанавливает новое значение начального состояния.\"\"\"\n",
    "        self.state = new_seed\n",
    "\n",
    "    def random(self):\n",
    "        \"\"\"Возвращает псевдослучайное число от 0 до 1.\"\"\"\n",
    "        self.state = (self.a * self.state + self.c)%self.m\n",
    "        return self.state/self.m\n",
    "    \n",
    "    def randint(self,low,high):\n",
    "        \"\"\"Генерирует псевдослучайное целое число в диапазоне [low, high].\"\"\"\n",
    "        return low + int(self.random() * (high-low+1))\n",
    "    \n",
    "    def generate(self,n=100):\n",
    "        \"\"\"Генерирует список из n чисел от 0 до 1.\"\"\"\n",
    "        return [self.random() for _ in range(n)]\n",
    "    \n",
    "    def plot_distribution(self, n=1000):\n",
    "        \"\"\"Строит гистограмму распределения случайных чисел.\"\"\"\n",
    "        data = self.generate(n)\n",
    "        plt.hist(data,bins=20,edgecolor = 'black')\n",
    "        plt.title(f'Распределение {n} случайных чисел')\n",
    "        plt.xlabel('Значение')\n",
    "        plt.ylabel('Частота')\n",
    "        plt.grid(True)\n",
    "        plt.show()\n",
    "\n",
    "    def choice(self, sequence):\n",
    "        \"\"\"Выбирает случайный элемент из последовательности.\"\"\"\n",
    "        idx = self.randint(0,len(sequence) - 1)\n",
    "        return sequence[idx]\n",
    "    \n",
    "    def shuffle(self,sequence):\n",
    "        \"\"\"Перемешивает последовательность по алгоритму Фишера-Йейтса.\"\"\"\n",
    "        n = len(sequence)\n",
    "        for i in range(n-1,0,-1):\n",
    "            j = self.randint(0,i)\n",
    "            sequence[i], sequence[j] = sequence[j], sequence[i]\n",
    "\n",
    "    def normal(self, mu=0, sigma=1):\n",
    "        \"\"\"Генерирует число с нормальным распределением (Box-Muller).\"\"\"\n",
    "        u1 = self.random()\n",
    "        u2 = self.random()\n",
    "        z = math.sqrt(-2*math.log(u1))* math.cos(2 * math.pi * u2)\n",
    "        return mu+z*sigma\n",
    "    \n",
    "    def randrange(self,start,stop=None,step = 1):\n",
    "        \"\"\"Выбирает случайное значение из диапазона.\"\"\"\n",
    "        if stop is None:\n",
    "            start,stop = 0,start\n",
    "        values = list(range(start,stop,step))\n",
    "        return self.choice(values)\n",
    "    \n",
    "    def sample(self,sequence,k):\n",
    "        \"\"\"Возвращает k уникальных случайных элементов из последовательности.\"\"\"\n",
    "        if k > len(sequence):\n",
    "            raise ValueError(\"Sample size larger than population.\")\n",
    "        seq_copy = list(sequence)\n",
    "        self.shuffle(seq_copy)\n",
    "        return seq_copy[:k]\n"
   ]
  },
  {
   "cell_type": "code",
   "execution_count": 5,
   "metadata": {},
   "outputs": [
    {
     "name": "stdout",
     "output_type": "stream",
     "text": [
      "яблоко\n",
      "[1, 3, 2, 5, 4]\n",
      "78.80205788140918\n",
      "20\n",
      "['b', 'e', 'c']\n"
     ]
    }
   ],
   "source": [
    "rng = MyRandom(seed=123)\n",
    "\n",
    "print(rng.choice(['яблоко', 'груша', 'слива']))\n",
    "lst = [1, 2, 3, 4, 5]\n",
    "rng.shuffle(lst)\n",
    "print(lst)\n",
    "\n",
    "print(rng.normal(mu=100, sigma=15))\n",
    "print(rng.randrange(10, 50, 5))\n",
    "print(rng.sample(['a', 'b', 'c', 'd', 'e'], 3))\n"
   ]
  },
  {
   "cell_type": "markdown",
   "metadata": {},
   "source": [
    "1. random_string(length)\n",
    "Генерация случайной строки из букв и цифр.\n",
    "\n",
    "2. exponential(lambd)\n",
    "Число из экспоненциального распределения.\n",
    "\n",
    "3. bernoulli(p)\n",
    "Бернуллиевская случайная величина (0 или 1 с заданной вероятностью).\n",
    "\n",
    "4. set_seed_from_time()\n",
    "Автоматическая инициализация генератора от текущего времени.\n"
   ]
  },
  {
   "cell_type": "code",
   "execution_count": 9,
   "metadata": {},
   "outputs": [],
   "source": [
    "import math\n",
    "import time\n",
    "\n",
    "class MyRandom:\n",
    "    def __init__(self,seed=1):\n",
    "        self.seed = seed\n",
    "        self.a = 1103515245  # множитель\n",
    "        self.c = 12345       # приращение\n",
    "        self.m = 2**31       # модуль\n",
    "        self.state = seed\n",
    "\n",
    "    def reseed(self,new_seed):\n",
    "        \"\"\"Устанавливает новое значение начального состояния.\"\"\"\n",
    "        self.state = new_seed\n",
    "\n",
    "    def set_seed_from_time(self):\n",
    "        \"\"\"Инициализация генератора по текущему времени\"\"\"\n",
    "        self.state = int(time.time())\n",
    "        \n",
    "    def random(self):\n",
    "        \"\"\"Возвращает псевдослучайное число от 0 до 1.\"\"\"\n",
    "        self.state = (self.a * self.state + self.c)%self.m\n",
    "        return self.state/self.m\n",
    "    \n",
    "    def randint(self,low,high):\n",
    "        \"\"\"Генерирует псевдослучайное целое число в диапазоне [low, high].\"\"\"\n",
    "        return low + int(self.random() * (high-low+1))\n",
    "    \n",
    "    def generate(self,n=100):\n",
    "        \"\"\"Генерирует список из n чисел от 0 до 1.\"\"\"\n",
    "        return [self.random() for _ in range(n)]\n",
    "    \n",
    "    def plot_distribution(self, n=1000):\n",
    "        \"\"\"Строит гистограмму распределения случайных чисел.\"\"\"\n",
    "        data = self.generate(n)\n",
    "        plt.hist(data,bins=20,edgecolor = 'black')\n",
    "        plt.title(f'Распределение {n} случайных чисел')\n",
    "        plt.xlabel('Значение')\n",
    "        plt.ylabel('Частота')\n",
    "        plt.grid(True)\n",
    "        plt.show()\n",
    "\n",
    "    def choice(self, sequence):\n",
    "        \"\"\"Выбирает случайный элемент из последовательности.\"\"\"\n",
    "        idx = self.randint(0,len(sequence) - 1)\n",
    "        return sequence[idx]\n",
    "    \n",
    "    def shuffle(self,sequence):\n",
    "        \"\"\"Перемешивает последовательность по алгоритму Фишера-Йейтса.\"\"\"\n",
    "        n = len(sequence)\n",
    "        for i in range(n-1,0,-1):\n",
    "            j = self.randint(0,i)\n",
    "            sequence[i], sequence[j] = sequence[j], sequence[i]\n",
    "\n",
    "    def normal(self, mu=0, sigma=1):\n",
    "        \"\"\"Генерирует число с нормальным распределением (Box-Muller).\"\"\"\n",
    "        u1 = self.random()\n",
    "        u2 = self.random()\n",
    "        z = math.sqrt(-2*math.log(u1))* math.cos(2 * math.pi * u2)\n",
    "        return mu+z*sigma\n",
    "    \n",
    "    def randrange(self,start,stop=None,step = 1):\n",
    "        \"\"\"Выбирает случайное значение из диапазона.\"\"\"\n",
    "        if stop is None:\n",
    "            start,stop = 0,start\n",
    "        values = list(range(start,stop,step))\n",
    "        return self.choice(values)\n",
    "    \n",
    "    def sample(self,sequence,k):\n",
    "        \"\"\"Возвращает k уникальных случайных элементов из последовательности.\"\"\"\n",
    "        if k > len(sequence):\n",
    "            raise ValueError(\"Sample size larger than population.\")\n",
    "        seq_copy = list(sequence)\n",
    "        self.shuffle(seq_copy)\n",
    "        return seq_copy[:k]\n",
    "    \n",
    "    def exponential(self, lambd=1.0):\n",
    "        \"\"\"Генерирует число из экспоненциального распределения.\"\"\"\n",
    "        u = self.random()\n",
    "        return -math.log(1-u)/lambd\n",
    "    \n",
    "    def bernoulli(self, p=0.5):\n",
    "        \"\"\"Возвращает 1 с вероятностью p, иначе 0.\"\"\"\n",
    "        return 1 if self.random()<p else 0\n",
    "    \n",
    "    def random_string(self, length=8):\n",
    "        \"\"\"Генерация случайной строки из латинских букв и цифр.\"\"\"\n",
    "        chars = 'abcdefghijklmnopqrstuvwxyzABCDEFGHIJKLMNOPQRSTUVWXYZ0123456789'\n",
    "        return ''.join([self.choice(chars) for _ in range(length)])\n"
   ]
  },
  {
   "cell_type": "code",
   "execution_count": 13,
   "metadata": {},
   "outputs": [
    {
     "name": "stdout",
     "output_type": "stream",
     "text": [
      "Бернулли: 0\n",
      "Экспоненциальное: 0.034536316893741655\n",
      "Случайная строка: DczXcX53YM\n"
     ]
    }
   ],
   "source": [
    "rng = MyRandom()\n",
    "rng.set_seed_from_time()\n",
    "\n",
    "print(\"Бернулли:\", rng.bernoulli(0.3))\n",
    "print(\"Экспоненциальное:\", rng.exponential(1.5))\n",
    "print(\"Случайная строка:\", rng.random_string(10))\n"
   ]
  },
  {
   "cell_type": "code",
   "execution_count": null,
   "metadata": {},
   "outputs": [],
   "source": []
  }
 ],
 "metadata": {
  "kernelspec": {
   "display_name": "base",
   "language": "python",
   "name": "python3"
  },
  "language_info": {
   "codemirror_mode": {
    "name": "ipython",
    "version": 3
   },
   "file_extension": ".py",
   "mimetype": "text/x-python",
   "name": "python",
   "nbconvert_exporter": "python",
   "pygments_lexer": "ipython3",
   "version": "3.10.9"
  }
 },
 "nbformat": 4,
 "nbformat_minor": 2
}
