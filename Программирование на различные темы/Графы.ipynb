{
 "cells": [
  {
   "cell_type": "markdown",
   "metadata": {},
   "source": [
    "## Представление графов\n",
    "пусть у графа n вершин\n",
    "### 1) Граф может существовать в виде матрицы смежности"
   ]
  },
  {
   "cell_type": "code",
   "execution_count": null,
   "metadata": {},
   "outputs": [],
   "source": [
    "a= [\n",
    "    [0,1,1,0],\n",
    "    [1,0,1,0],\n",
    "    [1,1,0,1],\n",
    "    [0,0,1,0]\n",
    "]"
   ]
  },
  {
   "cell_type": "markdown",
   "metadata": {},
   "source": [
    "### 2) Граф может существовать в виде списка ребер"
   ]
  },
  {
   "cell_type": "code",
   "execution_count": null,
   "metadata": {},
   "outputs": [],
   "source": [
    "b = [\n",
    "    [5,6],\n",
    "    [2,3],\n",
    "    [7,1],\n",
    "    [8,9],\n",
    "    [0,4],\n",
    "    [5,7]\n",
    "    ]"
   ]
  },
  {
   "cell_type": "markdown",
   "metadata": {},
   "source": [
    "### Задача: дан граф в виде списка ребер. Представить его в виде матрицы смежности"
   ]
  },
  {
   "cell_type": "code",
   "execution_count": 12,
   "metadata": {},
   "outputs": [
    {
     "name": "stdout",
     "output_type": "stream",
     "text": [
      "[0, 0, 0, 0, 1, 0, 0, 0, 0, 0]\n",
      "[0, 0, 0, 0, 0, 0, 0, 1, 0, 0]\n",
      "[0, 0, 0, 1, 0, 0, 0, 0, 0, 0]\n",
      "[0, 0, 1, 0, 0, 0, 0, 0, 0, 0]\n",
      "[1, 0, 0, 0, 0, 0, 0, 0, 0, 0]\n",
      "[0, 0, 0, 0, 0, 0, 1, 1, 0, 0]\n",
      "[0, 0, 0, 0, 0, 1, 0, 0, 0, 0]\n",
      "[0, 1, 0, 0, 0, 1, 0, 0, 0, 0]\n",
      "[0, 0, 0, 0, 0, 0, 0, 0, 0, 1]\n",
      "[0, 0, 0, 0, 0, 0, 0, 0, 1, 0]\n"
     ]
    }
   ],
   "source": [
    "'''\n",
    "n,m= map(int,input().split())\n",
    "edges = [] # Список ребер. Пока пустой\n",
    "for i in range(m):\n",
    "    v1,v2 = map(int,input().split())\n",
    "    edges.append([v1,v2])\n",
    "a= [[0] * n for _ in range(n)]\n",
    "print(b)\n",
    "'''\n",
    "edges = [\n",
    "    [5,6],\n",
    "    [2,3],\n",
    "    [7,1],\n",
    "    [8,9],\n",
    "    [0,4],\n",
    "    [5,7]\n",
    "    ]\n",
    "for (v1,v2) in edges:\n",
    "    a[v1][v2] = 1\n",
    "    a[v2][v1] = 1\n",
    "\n",
    "for row in a:\n",
    "    print(row)"
   ]
  },
  {
   "cell_type": "markdown",
   "metadata": {},
   "source": [
    "### Теперь наоборот"
   ]
  },
  {
   "cell_type": "code",
   "execution_count": 14,
   "metadata": {},
   "outputs": [
    {
     "name": "stdout",
     "output_type": "stream",
     "text": [
      "[[0, 4], [1, 7], [2, 3], [5, 6], [5, 7], [8, 9]]\n"
     ]
    }
   ],
   "source": [
    "n,m= map(int,input().split())\n",
    "edges = []\n",
    "for v1 in range(n):\n",
    "    for v2 in range(v1+1,n):\n",
    "        if a[v1][v2] == 1:\n",
    "            edges.append([v1,v2])\n",
    "print(edges)"
   ]
  },
  {
   "cell_type": "markdown",
   "metadata": {},
   "source": [
    "### 3) Список смежностей\n",
    "это список из n списков. i-ый список содержит вершины, с которыми смежна v_i"
   ]
  },
  {
   "cell_type": "code",
   "execution_count": 17,
   "metadata": {},
   "outputs": [],
   "source": [
    "ss = [\n",
    "    [1,4],\n",
    "    [0,3,4],\n",
    "    [],\n",
    "    [1,4],\n",
    "    [0,1,3]\n",
    "]"
   ]
  },
  {
   "cell_type": "markdown",
   "metadata": {},
   "source": [
    "### Задача. Переделать список смежностей в матрицу смежностей"
   ]
  },
  {
   "cell_type": "code",
   "execution_count": 20,
   "metadata": {},
   "outputs": [
    {
     "name": "stdout",
     "output_type": "stream",
     "text": [
      "[0, 1, 0, 0, 1, 0, 0, 0, 0, 0]\n",
      "[1, 0, 0, 1, 1, 0, 0, 1, 0, 0]\n",
      "[0, 0, 0, 1, 0, 0, 0, 0, 0, 0]\n",
      "[0, 1, 1, 0, 1, 0, 0, 0, 0, 0]\n",
      "[1, 1, 0, 1, 0, 0, 0, 0, 0, 0]\n",
      "[0, 0, 0, 0, 0, 0, 1, 1, 0, 0]\n",
      "[0, 0, 0, 0, 0, 1, 0, 0, 0, 0]\n",
      "[0, 1, 0, 0, 0, 1, 0, 0, 0, 0]\n",
      "[0, 0, 0, 0, 0, 0, 0, 0, 0, 1]\n",
      "[0, 0, 0, 0, 0, 0, 0, 0, 1, 0]\n"
     ]
    }
   ],
   "source": [
    "n = len(ss)\n",
    "for v1 in range(n):\n",
    "    for v2 in ss[v1]:\n",
    "        a[v1][v2] = 1\n",
    "for row in a:\n",
    "    print(row)"
   ]
  },
  {
   "cell_type": "markdown",
   "metadata": {},
   "source": [
    "### Задача наоборот"
   ]
  },
  {
   "cell_type": "code",
   "execution_count": 22,
   "metadata": {},
   "outputs": [
    {
     "name": "stdout",
     "output_type": "stream",
     "text": [
      "[[1, 4], [0, 3, 4, 7], [3], [1, 2, 4], [0, 1, 3], [6, 7], [5], [1, 5], [9], [8]]\n"
     ]
    }
   ],
   "source": [
    "n = len(a)\n",
    "ss = []\n",
    "for v1 in range(n):\n",
    "    ss.append([])\n",
    "    for v2 in range(n):\n",
    "        if a[v1][v2] == 1:\n",
    "            ss[v1].append(v2)\n",
    "print(ss)"
   ]
  },
  {
   "cell_type": "markdown",
   "metadata": {},
   "source": [
    "### 1. def степень_вершины(V, E, v1): (найти степень вершины в графе)"
   ]
  },
  {
   "cell_type": "code",
   "execution_count": 35,
   "metadata": {},
   "outputs": [],
   "source": [
    "## Подготовка данныйх\n",
    "# edges - список рёбер\n",
    "edges = [\n",
    "    [0, 1],\n",
    "    [1, 2],\n",
    "    [2, 3],\n",
    "    [3, 0],\n",
    "    [1, 3],\n",
    "    [3, 4]\n",
    "]\n",
    "\n",
    "# Создаем список смежности\n",
    "def build_adjacency_list(n,edges):\n",
    "    ss = [[] for _ in range(n)]\n",
    "    for v1,v2 in edges:\n",
    "        ss[v1].append(v2)\n",
    "        ss[v2].append(v1) # если граф неориентированный\n",
    "    return ss "
   ]
  },
  {
   "cell_type": "code",
   "execution_count": null,
   "metadata": {},
   "outputs": [],
   "source": [
    "def vertex_degree(V, E, v1):\n",
    "    count = 0\n",
    "    for u,v in E:\n",
    "        if u == v1 or v == v1:\n",
    "            count+=1\n",
    "    return count\n"
   ]
  },
  {
   "cell_type": "markdown",
   "metadata": {},
   "source": [
    "### 2. def является_ли_деревом(n, edges):\n",
    "Граф — это дерево, если:\n",
    "\n",
    "Он связный (все вершины соединены).\n",
    "\n",
    "В нём нет циклов.\n",
    "\n",
    "В дереве всегда ровно n - 1 ребро, где n — число вершин.\n",
    "\n"
   ]
  },
  {
   "cell_type": "code",
   "execution_count": 30,
   "metadata": {},
   "outputs": [],
   "source": [
    "def is_tree(n, edges):\n",
    "    if len(edges) != n-1: # в дереве должно быть n-1 ребро\n",
    "        return False\n",
    "    \n",
    "    parent = [-1]*n # Массив для хранения «родителя» каждой вершины\n",
    "\n",
    "    def find(v): # Функция find(v) — ищет корневого родителя для вершины v.\n",
    "        while parent[v] != -1:\n",
    "            print(v,parent[v])\n",
    "            v = parent[v]\n",
    "        return v\n",
    "    \n",
    "    for v1,v2 in edges:\n",
    "        p1,p2 = find(v1),find(v2)\n",
    "        print(f'p1={p1},p2={p2}')\n",
    "        if p1 == p2: # Если p1 == p2, значит обе вершины уже в одном множестве, \n",
    "            return False # но между ними снова добавляется ребро → значит, это цикл.\n",
    "        parent[p2] = p1\n",
    "        print(parent)\n",
    "    return True\n",
    "    "
   ]
  },
  {
   "cell_type": "code",
   "execution_count": 31,
   "metadata": {},
   "outputs": [
    {
     "name": "stdout",
     "output_type": "stream",
     "text": [
      "p1=0,p2=1\n",
      "[-1, 0, -1, -1]\n",
      "1 0\n",
      "p1=0,p2=2\n",
      "[-1, 0, 0, -1]\n",
      "2 0\n",
      "p1=0,p2=3\n",
      "[-1, 0, 0, 0]\n"
     ]
    },
    {
     "data": {
      "text/plain": [
       "True"
      ]
     },
     "execution_count": 31,
     "metadata": {},
     "output_type": "execute_result"
    }
   ],
   "source": [
    "n = 4\n",
    "edges = [[0, 1], [1, 2], [2, 3]]\n",
    "\n",
    "is_tree(n,edges)"
   ]
  },
  {
   "cell_type": "markdown",
   "metadata": {},
   "source": [
    "### 3. def есть_ли_цикл(n, edges):\n",
    "DFS + visited"
   ]
  },
  {
   "cell_type": "code",
   "execution_count": 38,
   "metadata": {},
   "outputs": [],
   "source": [
    "def has_cycle(n, edges):\n",
    "    ss = build_adjacency_list(n, edges)\n",
    "    visited = [False] * n\n",
    "\n",
    "    def dfs(v, parent):\n",
    "        visited[v] = True\n",
    "        for neighbor in ss[v]:\n",
    "            if not visited[neighbor]:\n",
    "                if dfs(neighbor, v):\n",
    "                    return True\n",
    "            elif neighbor != parent:\n",
    "                return True\n",
    "        return False\n",
    "\n",
    "    for i in range(n):\n",
    "        if not visited[i]:\n",
    "            if dfs(i, -1):\n",
    "                return True\n",
    "    return False\n"
   ]
  },
  {
   "cell_type": "code",
   "execution_count": 39,
   "metadata": {},
   "outputs": [
    {
     "data": {
      "text/plain": [
       "True"
      ]
     },
     "execution_count": 39,
     "metadata": {},
     "output_type": "execute_result"
    }
   ],
   "source": [
    "n = 4\n",
    "edges = [\n",
    "    [0, 1],\n",
    "    [1, 2],\n",
    "    [2, 0]  # цикл 0-1-2-0\n",
    "]\n",
    "has_cycle(n,edges)"
   ]
  },
  {
   "cell_type": "markdown",
   "metadata": {},
   "source": [
    "### 4. def найти_цикл(n, edges):\n",
    "DFS, сохраняем путь"
   ]
  },
  {
   "cell_type": "code",
   "execution_count": 37,
   "metadata": {},
   "outputs": [],
   "source": [
    "def find_cycle(n, edges):\n",
    "    ss = build_adjacency_list(n, edges)\n",
    "    visited = [False] * n\n",
    "    path = []                            # путь текущего обхода (используется для хранения цикла)\n",
    "    def dfs(v, parent): # поиск в глубину (DFS)\n",
    "        visited[v] = True\n",
    "        path.append(v)\n",
    "        for neighbor in ss[v]: # Проходимся по всем соседям\n",
    "            if not visited[neighbor]: # Если сосед уже посещён и не является родителем\n",
    "                if dfs(neighbor, v):\n",
    "                    return True\n",
    "            elif neighbor != parent: # Эта проверка neighbor != parent защищает от \n",
    "                path.append(neighbor)    # замыкаем цикл\n",
    "                return True # \"обратного хода\" в DFS (по неориентированному ребру назад).\n",
    "        path.pop()\n",
    "        return False\n",
    "\n",
    "    for i in range(n):\n",
    "        if not visited[i]:\n",
    "            if dfs(i, -1): # # -1 = нет родителя у первой вершины\n",
    "                return path\n",
    "    return None\n"
   ]
  },
  {
   "cell_type": "code",
   "execution_count": 42,
   "metadata": {},
   "outputs": [
    {
     "data": {
      "text/plain": [
       "[0, 1, 2, 0]"
      ]
     },
     "execution_count": 42,
     "metadata": {},
     "output_type": "execute_result"
    }
   ],
   "source": [
    "n = 4\n",
    "edges = [\n",
    "    [0, 1],\n",
    "    [1, 2],\n",
    "    [2, 0]  # цикл 0-1-2-0\n",
    "]\n",
    "find_cycle(n,edges)"
   ]
  },
  {
   "cell_type": "markdown",
   "metadata": {},
   "source": [
    "### 5. def найти_путь_если_есть(v1, v2, ss):\n",
    "DFS с запоминанием пути"
   ]
  },
  {
   "cell_type": "code",
   "execution_count": 43,
   "metadata": {},
   "outputs": [],
   "source": [
    "def find_path(v1, v2, ss):\n",
    "    visited = [False]*len(ss)\n",
    "    path = []\n",
    "\n",
    "    def dfs(current):\n",
    "        visited[current] = True\n",
    "        path.append(current)\n",
    "        if current == v2:\n",
    "            return True\n",
    "        for neighbor in ss[current]:\n",
    "            if not visited[neighbor]:\n",
    "                if dfs(neighbor):\n",
    "                    return True\n",
    "        path.pop()\n",
    "        return False\n",
    "    \n",
    "    if dfs(v1):\n",
    "        return path\n",
    "    else:\n",
    "        return None"
   ]
  },
  {
   "cell_type": "code",
   "execution_count": 47,
   "metadata": {},
   "outputs": [],
   "source": [
    "# Пример графа:\n",
    "# 0 - 1 - 2\n",
    "#     |\n",
    "#     3\n",
    "edges = [[0,1], [1,2], [1,3]]\n",
    "n = 4\n",
    "\n",
    "# Построим список смежности из рёбер\n",
    "def edges_to_adj_list(n, edges):\n",
    "    ss = [[] for _ in range(n)]\n",
    "    for v1, v2 in edges:\n",
    "        ss[v1].append(v2)\n",
    "        ss[v2].append(v1)\n",
    "    return ss\n",
    "\n",
    "ss = edges_to_adj_list(n, edges)\n"
   ]
  },
  {
   "cell_type": "code",
   "execution_count": 48,
   "metadata": {},
   "outputs": [
    {
     "name": "stdout",
     "output_type": "stream",
     "text": [
      "\n",
      "5) find_path\n",
      "[0, 1, 2]\n"
     ]
    }
   ],
   "source": [
    "print(\"\\n5) find_path\")\n",
    "print(find_path(0, 2, ss))  # Пример пути: [0, 1, 2]"
   ]
  },
  {
   "cell_type": "markdown",
   "metadata": {},
   "source": [
    "### 6. def найти_кратчайший_путь(v1, v2, ss):\n",
    "BFS даёт кратчайший путь в невзвешенном графе\n"
   ]
  },
  {
   "cell_type": "code",
   "execution_count": null,
   "metadata": {},
   "outputs": [],
   "source": [
    "from collections import deque\n",
    "\n",
    "def shortest_path(v1, v2, ss):\n",
    "    visited = [False] * len(ss)\n",
    "    prev = [None] * len(ss) # хранит, откуда пришли в каждую вершину, чтобы потом восстановить путь.\n",
    "    queue = deque([v1]) # очередь deque, для поиска в ширину (BFS).\n",
    "    visited[v1] = True\n",
    "\n",
    "    while queue:\n",
    "        current = queue.popleft()\n",
    "        if current == v2:\n",
    "            break\n",
    "        for neighbor in ss[current]:\n",
    "            if not visited[neighbor]:\n",
    "                visited[neighbor] = True\n",
    "                prev[neighbor] = current\n",
    "                queue.append(neighbor) \n",
    "    if not visited[v2]:\n",
    "        return None\n",
    "    \n",
    "    # восстановление пути\n",
    "    path = []\n",
    "    at = v2 # Начинаем с v2 и по prev «идём назад» к началу (v1).\n",
    "    while at is not None: \n",
    "        path.append(at)\n",
    "        at = prev[at]\n",
    "    path.reverse()\n",
    "    return path"
   ]
  },
  {
   "cell_type": "code",
   "execution_count": 46,
   "metadata": {},
   "outputs": [
    {
     "name": "stdout",
     "output_type": "stream",
     "text": [
      "[0, 1, 3]\n"
     ]
    }
   ],
   "source": [
    "# Граф:\n",
    "# 0 — 1 — 2\n",
    "#      \\\n",
    "#       3\n",
    "\n",
    "ss = [\n",
    "    [1],        # 0\n",
    "    [0, 2, 3],  # 1\n",
    "    [1],        # 2\n",
    "    [1]         # 3\n",
    "]\n",
    "\n",
    "print(shortest_path(0, 3, ss))  # ➜ [0, 1, 3]"
   ]
  },
  {
   "cell_type": "markdown",
   "metadata": {},
   "source": [
    "### 7. def найти_длиннейший_путь(v1, v2, ss):\n",
    "Это NP-трудная задача, но можно перебором DFS:"
   ]
  },
  {
   "cell_type": "code",
   "execution_count": 53,
   "metadata": {},
   "outputs": [],
   "source": [
    "def longest_path(v1, v2, ss):\n",
    "    visited = [False] * len(ss)\n",
    "    max_path = []\n",
    "\n",
    "    def dfs(current, path):\n",
    "        nonlocal max_path\n",
    "        if current == v2:\n",
    "            if len(path) > len(max_path):\n",
    "                max_path = list(path)\n",
    "            return \n",
    "        visited[current] = True\n",
    "        for neighbor in ss[current]:\n",
    "            if not visited[neighbor]:\n",
    "                path.append(neighbor)\n",
    "                dfs(neighbor,path)\n",
    "                path.pop()\n",
    "        visited[current] = False\n",
    "\n",
    "    dfs(v1,[v1])\n",
    "    return max_path"
   ]
  },
  {
   "cell_type": "code",
   "execution_count": 54,
   "metadata": {},
   "outputs": [
    {
     "name": "stdout",
     "output_type": "stream",
     "text": [
      "\n",
      "7) longest_path\n",
      "[0, 1, 2]\n"
     ]
    }
   ],
   "source": [
    "print(\"\\n7) longest_path\")\n",
    "print(longest_path(0, 2, ss))  # Ожидаем: [0, 1, 2] (в невзвешенном графе совпадает)\n"
   ]
  },
  {
   "cell_type": "markdown",
   "metadata": {},
   "source": [
    "### 8. def найти_количество_путей(v1, v2, ss):\n",
    "DFS с подсчётом"
   ]
  },
  {
   "cell_type": "code",
   "execution_count": 55,
   "metadata": {},
   "outputs": [],
   "source": [
    "def count_paths(v1, v2, ss):\n",
    "    visited = [False] * len(ss)\n",
    "    count = 0\n",
    "\n",
    "    def dfs(current):\n",
    "        nonlocal count\n",
    "        if current == v2:\n",
    "            count += 1\n",
    "            return\n",
    "        visited[current] = True\n",
    "        for neighbor in ss[current]:\n",
    "            if not visited[neighbor]:\n",
    "                dfs(neighbor)\n",
    "        visited[current] = False\n",
    "\n",
    "    dfs(v1)\n",
    "    return count"
   ]
  },
  {
   "cell_type": "code",
   "execution_count": 56,
   "metadata": {},
   "outputs": [
    {
     "name": "stdout",
     "output_type": "stream",
     "text": [
      "\n",
      "8) count_paths\n",
      "1\n"
     ]
    }
   ],
   "source": [
    "print(\"\\n8) count_paths\")\n",
    "print(count_paths(0, 2, ss))  # Ожидаем 1 (один путь между 0 и 2)"
   ]
  },
  {
   "cell_type": "markdown",
   "metadata": {},
   "source": [
    "### Нарисуем граф"
   ]
  },
  {
   "cell_type": "code",
   "execution_count": 57,
   "metadata": {},
   "outputs": [
    {
     "name": "stderr",
     "output_type": "stream",
     "text": [
      "2025-04-08 11:31:57.119 python[86498:33811814] +[IMKClient subclass]: chose IMKClient_Modern\n",
      "2025-04-08 11:31:57.120 python[86498:33811814] +[IMKInputSession subclass]: chose IMKInputSession_Modern\n"
     ]
    }
   ],
   "source": [
    "import turtle,math\n",
    "R=100\n",
    "\"\"\"\n",
    "5\n",
    "0 1 1 1 1\n",
    "1 0 1 1 1\n",
    "1 1 0 1 1\n",
    "1 1 1 0 1\n",
    "1 1 1 1 0\n",
    "\"\"\"\n",
    "n= int(input())\n",
    "a=[]\n",
    "for i in range(n):\n",
    "    a.append([int(s) for s in input().split()])\n",
    "\n",
    "vert = []\n",
    "for i in range(n):\n",
    "    alpha = (2*math.pi)/n\n",
    "    t = alpha*i\n",
    "    (x,y) = (R*math.cos(t),R*math.sin(t))\n",
    "    vert.append((x,y))\n",
    "\n",
    "for v1 in range(n):\n",
    "    for v2 in range(v1+1,n):\n",
    "        if a[v1][v2] == 1:\n",
    "            turtle.penup()\n",
    "            turtle.goto(vert[v1])\n",
    "            turtle.pendown()\n",
    "            turtle.goto(vert[v2])\n",
    "\n",
    "turtle.done()\n"
   ]
  },
  {
   "cell_type": "code",
   "execution_count": null,
   "metadata": {},
   "outputs": [],
   "source": []
  }
 ],
 "metadata": {
  "kernelspec": {
   "display_name": "base",
   "language": "python",
   "name": "python3"
  },
  "language_info": {
   "codemirror_mode": {
    "name": "ipython",
    "version": 3
   },
   "file_extension": ".py",
   "mimetype": "text/x-python",
   "name": "python",
   "nbconvert_exporter": "python",
   "pygments_lexer": "ipython3",
   "version": "3.10.9"
  }
 },
 "nbformat": 4,
 "nbformat_minor": 2
}
