{
 "cells": [
  {
   "cell_type": "markdown",
   "metadata": {},
   "source": [
    "## Leetcode 2115. Find All Possible Recipes from Given Supplies\n",
    "You have information about n different recipes. You are given a string array recipes and a 2D string array ingredients. The ith recipe has the name recipes[i], and you can create it if you have all the needed ingredients from ingredients[i]. A recipe can also be an ingredient for other recipes, i.e., ingredients[i] may contain a string that is in recipes.\n",
    "\n",
    "You are also given a string array supplies containing all the ingredients that you initially have, and you have an infinite supply of all of them.\n",
    "\n",
    "Return a list of all the recipes that you can create. You may return the answer in any order.\n",
    "\n",
    "Note that two recipes may contain each other in their ingredients."
   ]
  },
  {
   "cell_type": "code",
   "execution_count": null,
   "metadata": {},
   "outputs": [],
   "source": [
    "from collections import defaultdict\n",
    "from collections import deque\n",
    "class Solution:\n",
    "    def findAllRecipes(self, recipes: List[str], ingredients: List[List[str]], supplies: List[str]) -> List[str]:\n",
    "        in_degree = {}\n",
    "        g = defaultdict(list)\n",
    "\n",
    "        for recipe, components in zip(recipes,ingredients):\n",
    "            in_degree[recipe] = len(components)\n",
    "            for component in components:\n",
    "                g[component].append(recipe)\n",
    "\n",
    "        q = deque(supplies)\n",
    "        result = []\n",
    "\n",
    "        while q:\n",
    "            supply = q.popleft()\n",
    "            for recipe in g[supply]:\n",
    "                in_degree[recipe] -=1\n",
    "                if in_degree[recipe] == 0:\n",
    "                    q.append(recipe)\n",
    "                    result.append(recipe)\n",
    "\n",
    "        return result"
   ]
  },
  {
   "cell_type": "markdown",
   "metadata": {},
   "source": [
    "## Leetcode 207. Course Schedule\n",
    "There are a total of numCourses courses you have to take, labeled from 0 to numCourses - 1. You are given an array prerequisites where prerequisites[i] = [ai, bi] indicates that you must take course bi first if you want to take course ai.\n",
    "\n",
    "For example, the pair [0, 1], indicates that to take course 0 you have to first take course 1.\n",
    "Return true if you can finish all courses. Otherwise, return false."
   ]
  },
  {
   "cell_type": "code",
   "execution_count": null,
   "metadata": {},
   "outputs": [],
   "source": [
    "class Solution:\n",
    "    def canFinish(self, numCourses: int, prerequisites: List[List[int]]) -> bool:\n",
    "        g = defaultdict(list)\n",
    "        in_degree = defaultdict(int)\n",
    "\n",
    "        for a,b in prerequisites:\n",
    "            g[b].append(a)\n",
    "            in_degree[a] +=1\n",
    "\n",
    "        queue = deque()\n",
    "        for i in range(numCourses):\n",
    "            if in_degree[i] == 0:\n",
    "                queue.append(i)\n",
    "\n",
    "        n=0\n",
    "        while queue:\n",
    "            node = queue.popleft()\n",
    "            n+=1\n",
    "            for ngh in g[node]:\n",
    "                in_degree[ngh] -=1\n",
    "                if in_degree[ngh] == 0:\n",
    "                    queue.append(ngh)\n",
    "\n",
    "        return n == numCourses\n"
   ]
  },
  {
   "cell_type": "markdown",
   "metadata": {},
   "source": [
    "## Leetcode 210. Course Schedule II\n",
    "There are a total of numCourses courses you have to take, labeled from 0 to numCourses - 1. You are given an array prerequisites where prerequisites[i] = [ai, bi] indicates that you must take course bi first if you want to take course ai.\n",
    "\n",
    "For example, the pair [0, 1], indicates that to take course 0 you have to first take course 1.\n",
    "Return the ordering of courses you should take to finish all courses. If there are many valid answers, return any of them. If it is impossible to finish all courses, return an empty array."
   ]
  },
  {
   "cell_type": "code",
   "execution_count": null,
   "metadata": {},
   "outputs": [],
   "source": [
    "class Solution:\n",
    "    def findOrder(self, numCourses: int, prerequisites: List[List[int]]) -> List[int]:\n",
    "        g = defaultdict(list)\n",
    "        in_degree = defaultdict(int)\n",
    "\n",
    "        for a,b in prerequisites:\n",
    "            g[b].append(a)\n",
    "            in_degree[a] +=1\n",
    "\n",
    "        queue = deque()\n",
    "        for i in range(numCourses):\n",
    "            if in_degree[i] == 0:\n",
    "                queue.append(i)\n",
    "\n",
    "        order = []\n",
    "        while queue:\n",
    "            node = queue.popleft()\n",
    "            order.append(node)\n",
    "            for ngh in g[node]:\n",
    "                in_degree[ngh] -=1\n",
    "                if in_degree[ngh] == 0:\n",
    "                    queue.append(ngh)\n",
    "\n",
    "        if len(order) == numCourses:\n",
    "            return order\n",
    "        else:\n",
    "            return []"
   ]
  },
  {
   "cell_type": "markdown",
   "metadata": {},
   "source": [
    "## Lintcode 3673 · Parallel Courses\n",
    "In this problem, there are n courses. They are numbered 1 to n.\n",
    "\n",
    "There is also a two-dimensional array relations. Inside each array contains two courses. The first course is a pre-requisite for the second course. That is, you must learn the first course in the array before learning the second course in the array.\n",
    "\n",
    "You may study any number of courses in a semester, provided you have completed all prerequisites for that course in the previous semester.\n",
    "\n",
    "Return minimum semester of full coursework, or -1 if full coursework cannot be completed."
   ]
  },
  {
   "cell_type": "code",
   "execution_count": null,
   "metadata": {},
   "outputs": [],
   "source": [
    "from typing import (\n",
    "    List,\n",
    ")\n",
    "\n",
    "class Solution:\n",
    "    \"\"\"\n",
    "    @param n: the number of courses\n",
    "    @param relations: the relationship between all courses\n",
    "    @return: ehe minimum number of semesters required to complete all courses\n",
    "    \"\"\"\n",
    "    def minimum_semesters(self, n: int, relations: List[List[int]]) -> int:\n",
    "        # write your code here\n",
    "        g = defaultdict(list)\n",
    "        in_degree = defaultdict(int)\n",
    "\n",
    "        for a,b in relations:\n",
    "            g[a].append(b)\n",
    "            in_degree[b]+=1\n",
    "\n",
    "        queue = deque()\n",
    "        for i in range(1,n+1):\n",
    "            if in_degree[i] == 0:\n",
    "                queue.append(i)\n",
    "\n",
    "        semesters = 0\n",
    "        while queue:\n",
    "            level = len(queue)\n",
    "            for _ in range(level):\n",
    "                node = queue.popleft()\n",
    "                n-=1\n",
    "                for ngh in g[node]:\n",
    "                    in_degree[ngh] -=1\n",
    "                    if in_degree[ngh] == 0:\n",
    "                        queue.append(ngh)\n",
    "            semesters +=1\n",
    "\n",
    "        if n == 0:\n",
    "            return semesters\n",
    "        else:\n",
    "            return -1\n",
    "            "
   ]
  },
  {
   "cell_type": "code",
   "execution_count": null,
   "metadata": {},
   "outputs": [],
   "source": []
  },
  {
   "cell_type": "code",
   "execution_count": null,
   "metadata": {},
   "outputs": [],
   "source": []
  },
  {
   "cell_type": "code",
   "execution_count": null,
   "metadata": {},
   "outputs": [],
   "source": []
  },
  {
   "cell_type": "code",
   "execution_count": null,
   "metadata": {},
   "outputs": [],
   "source": []
  },
  {
   "cell_type": "code",
   "execution_count": null,
   "metadata": {},
   "outputs": [],
   "source": []
  },
  {
   "cell_type": "code",
   "execution_count": null,
   "metadata": {},
   "outputs": [],
   "source": []
  },
  {
   "cell_type": "code",
   "execution_count": null,
   "metadata": {},
   "outputs": [],
   "source": []
  },
  {
   "cell_type": "code",
   "execution_count": null,
   "metadata": {},
   "outputs": [],
   "source": []
  },
  {
   "cell_type": "code",
   "execution_count": null,
   "metadata": {},
   "outputs": [],
   "source": []
  },
  {
   "cell_type": "code",
   "execution_count": null,
   "metadata": {},
   "outputs": [],
   "source": []
  },
  {
   "cell_type": "code",
   "execution_count": null,
   "metadata": {},
   "outputs": [],
   "source": []
  },
  {
   "cell_type": "code",
   "execution_count": null,
   "metadata": {},
   "outputs": [],
   "source": []
  },
  {
   "cell_type": "code",
   "execution_count": null,
   "metadata": {},
   "outputs": [],
   "source": []
  },
  {
   "cell_type": "code",
   "execution_count": null,
   "metadata": {},
   "outputs": [],
   "source": []
  },
  {
   "cell_type": "code",
   "execution_count": null,
   "metadata": {},
   "outputs": [],
   "source": []
  },
  {
   "cell_type": "code",
   "execution_count": null,
   "metadata": {},
   "outputs": [],
   "source": []
  },
  {
   "cell_type": "code",
   "execution_count": null,
   "metadata": {},
   "outputs": [],
   "source": []
  },
  {
   "cell_type": "code",
   "execution_count": null,
   "metadata": {},
   "outputs": [],
   "source": []
  },
  {
   "cell_type": "code",
   "execution_count": null,
   "metadata": {},
   "outputs": [],
   "source": []
  },
  {
   "cell_type": "code",
   "execution_count": null,
   "metadata": {},
   "outputs": [],
   "source": []
  },
  {
   "cell_type": "code",
   "execution_count": null,
   "metadata": {},
   "outputs": [],
   "source": []
  },
  {
   "cell_type": "code",
   "execution_count": null,
   "metadata": {},
   "outputs": [],
   "source": []
  },
  {
   "cell_type": "code",
   "execution_count": null,
   "metadata": {},
   "outputs": [],
   "source": []
  },
  {
   "cell_type": "code",
   "execution_count": null,
   "metadata": {},
   "outputs": [],
   "source": []
  },
  {
   "cell_type": "code",
   "execution_count": null,
   "metadata": {},
   "outputs": [],
   "source": []
  },
  {
   "cell_type": "code",
   "execution_count": null,
   "metadata": {},
   "outputs": [],
   "source": []
  },
  {
   "cell_type": "code",
   "execution_count": null,
   "metadata": {},
   "outputs": [],
   "source": []
  },
  {
   "cell_type": "code",
   "execution_count": null,
   "metadata": {},
   "outputs": [],
   "source": []
  },
  {
   "cell_type": "code",
   "execution_count": null,
   "metadata": {},
   "outputs": [],
   "source": []
  },
  {
   "cell_type": "code",
   "execution_count": null,
   "metadata": {},
   "outputs": [],
   "source": []
  },
  {
   "cell_type": "code",
   "execution_count": null,
   "metadata": {},
   "outputs": [],
   "source": []
  },
  {
   "cell_type": "code",
   "execution_count": null,
   "metadata": {},
   "outputs": [],
   "source": []
  },
  {
   "cell_type": "code",
   "execution_count": null,
   "metadata": {},
   "outputs": [],
   "source": []
  },
  {
   "cell_type": "code",
   "execution_count": null,
   "metadata": {},
   "outputs": [],
   "source": []
  },
  {
   "cell_type": "code",
   "execution_count": null,
   "metadata": {},
   "outputs": [],
   "source": []
  },
  {
   "cell_type": "code",
   "execution_count": null,
   "metadata": {},
   "outputs": [],
   "source": []
  }
 ],
 "metadata": {
  "language_info": {
   "name": "python"
  }
 },
 "nbformat": 4,
 "nbformat_minor": 2
}
