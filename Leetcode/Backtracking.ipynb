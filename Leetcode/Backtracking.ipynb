{
 "cells": [
  {
   "cell_type": "markdown",
   "metadata": {},
   "source": [
    "## Leetcode 46. Permutations\n",
    "Given an array nums of distinct integers, return all the possible permutations. You can return the answer in any order."
   ]
  },
  {
   "cell_type": "code",
   "execution_count": null,
   "metadata": {},
   "outputs": [],
   "source": [
    "class Solution:\n",
    "    def permute(self, nums: List[int]) -> List[List[int]]:\n",
    "        result= []\n",
    "        def backtrack(acc):\n",
    "            if len(acc) == len(nums):\n",
    "                result.append(acc[:])\n",
    "            for num in nums:\n",
    "                if num not in acc:\n",
    "                    acc.append(num)\n",
    "                    backtrack(acc)\n",
    "                    acc.pop()\n",
    "\n",
    "        backtrack([])\n",
    "        return result"
   ]
  },
  {
   "cell_type": "markdown",
   "metadata": {},
   "source": [
    "## Leetcode 77. Combinations\n",
    "Given two integers n and k, return all possible combinations of k numbers chosen from the range [1, n].\n",
    "\n",
    "You may return the answer in any order."
   ]
  },
  {
   "cell_type": "code",
   "execution_count": null,
   "metadata": {},
   "outputs": [],
   "source": [
    "class Solution:\n",
    "    def combine(self, n: int, k: int) -> List[List[int]]:\n",
    "        result = []\n",
    "\n",
    "        def backtrack(acc,start):\n",
    "            if len(acc) == k:\n",
    "                result.append(acc[:])\n",
    "                return\n",
    "            for num in range(start,n+1):\n",
    "                acc.append(num)\n",
    "                backtrack(acc,num+1)\n",
    "                acc.pop()\n",
    "\n",
    "        backtrack([],1)\n",
    "\n",
    "        return result"
   ]
  },
  {
   "cell_type": "markdown",
   "metadata": {},
   "source": [
    "## Leetcode 78. Subsets\n",
    "Given an integer array nums of unique elements, return all possible subsets (the power set).\n",
    "\n",
    "The solution set must not contain duplicate subsets. Return the solution in any order."
   ]
  },
  {
   "cell_type": "markdown",
   "metadata": {},
   "source": [
    "### Через import combinations"
   ]
  },
  {
   "cell_type": "code",
   "execution_count": 2,
   "metadata": {},
   "outputs": [],
   "source": [
    "from itertools import combinations\n",
    "\n",
    "class Solution:\n",
    "    def subsets(self, nums: list):\n",
    "        results = [[]]\n",
    "        for i in range(1,len(nums)+1):\n",
    "            results.extend(combinations(nums,i))\n",
    "        return results "
   ]
  },
  {
   "cell_type": "markdown",
   "metadata": {},
   "source": [
    "### Через backtracking"
   ]
  },
  {
   "cell_type": "code",
   "execution_count": null,
   "metadata": {},
   "outputs": [],
   "source": [
    "class Solution:\n",
    "    def combine(self, n: int, k: int) -> List[List[int]]:\n",
    "        result = []\n",
    "\n",
    "        def backtrack(acc,start):\n",
    "            if len(acc) > n:\n",
    "                return\n",
    "            result.append(acc[:])\n",
    "\n",
    "            for i in range(start,n+1):\n",
    "                acc.append(num)\n",
    "                backtrack(acc,num+1)\n",
    "                acc.pop()\n",
    "\n",
    "        backtrack([],0)\n",
    "\n",
    "        return result"
   ]
  },
  {
   "cell_type": "code",
   "execution_count": null,
   "metadata": {},
   "outputs": [],
   "source": [
    "class Solution:\n",
    "    def subsets(self, nums: List[int]) -> List[List[int]]:\n",
    "        result = []\n",
    "        n = len(nums)\n",
    "\n",
    "        def backtrack(acc,start):\n",
    "            if start > n:\n",
    "                return\n",
    "            result.append(acc[:])\n",
    "\n",
    "            for i in range(start,n):\n",
    "                acc.append(nums[i])\n",
    "                backtrack(acc,i+1)\n",
    "                acc.pop()\n",
    "\n",
    "        backtrack([],0)\n",
    "\n",
    "        return result"
   ]
  },
  {
   "cell_type": "code",
   "execution_count": 6,
   "metadata": {},
   "outputs": [
    {
     "name": "stdout",
     "output_type": "stream",
     "text": [
      "[[], [1], [1, 2], [1, 2, 3], [1, 3], [2], [2, 3], [3]]\n"
     ]
    }
   ],
   "source": [
    "def subsets(nums):\n",
    "    result = []\n",
    "    n = len(nums)\n",
    "\n",
    "    def backtrack(acc,start):\n",
    "        if start > n:\n",
    "            return\n",
    "        result.append(acc[:])\n",
    "\n",
    "        for i in range(start,n):\n",
    "            acc.append(nums[i])\n",
    "            backtrack(acc,i+1)\n",
    "            acc.pop()\n",
    "\n",
    "    backtrack([],0)\n",
    "\n",
    "    return result\n",
    "    \n",
    "print(subsets([1,2,3]))"
   ]
  },
  {
   "cell_type": "markdown",
   "metadata": {},
   "source": [
    "## Leetcode 22. Generate Parentheses\n",
    "Given n pairs of parentheses, write a function to generate all combinations of well-formed parentheses."
   ]
  },
  {
   "cell_type": "markdown",
   "metadata": {},
   "source": [
    "### 1 реализация"
   ]
  },
  {
   "cell_type": "code",
   "execution_count": null,
   "metadata": {},
   "outputs": [],
   "source": [
    "class Solution:\n",
    "    def generateParenthesis(self, n: int) -> List[str]:\n",
    "        self.stack = []\n",
    "        self.res = []\n",
    "        self.n = n\n",
    "\n",
    "        self.backtrack(0,0)\n",
    "        return self.res\n",
    "\n",
    "    def backtrack(self, opened, closed):\n",
    "        if opened == closed == self.n:\n",
    "            self.res.append(''.join(self.stack))\n",
    "            return \n",
    "\n",
    "        if opened < self.n:\n",
    "            self.stack.append('(')\n",
    "            self.backtrack(opened + 1, closed)\n",
    "            self.stack.pop()\n",
    "\n",
    "        if closed < opened:\n",
    "            self.stack.append(')')\n",
    "            self.backtrack(opened, closed + 1)\n",
    "            self.stack.pop()"
   ]
  },
  {
   "cell_type": "markdown",
   "metadata": {},
   "source": [
    "### 2 реализация"
   ]
  },
  {
   "cell_type": "code",
   "execution_count": null,
   "metadata": {},
   "outputs": [],
   "source": [
    "class Solution:\n",
    "    def generateParenthesis(self, n: int) -> List[str]:\n",
    "        result = []\n",
    "        def backtrack(acc,op,cl): # op-open, cl - closed\n",
    "            if len(acc) == 2*n:\n",
    "                result.append(acc)\n",
    "                return\n",
    "            if op < n:\n",
    "                backtrack(acc + '(',op+1,cl)\n",
    "            if cl < op:\n",
    "                backtrack(acc + ')',op,cl+1)\n",
    "\n",
    "        backtrack('',0,0)\n",
    "        return result\n"
   ]
  },
  {
   "cell_type": "markdown",
   "metadata": {},
   "source": [
    "## Leetcode 216. Combination Sum III\n",
    "Find all valid combinations of k numbers that sum up to n such that the following conditions are true:\n",
    "\n",
    "Only numbers 1 through 9 are used.\n",
    "Each number is used at most once.\n",
    "Return a list of all possible valid combinations. The list must not contain the same combination twice, and the combinations may be returned in any order."
   ]
  },
  {
   "cell_type": "code",
   "execution_count": null,
   "metadata": {},
   "outputs": [],
   "source": [
    "class Solution:\n",
    "    def combinationSum3(self, k: int, n: int) -> List[List[int]]: #Time C(n,k) = n!/(k!*(n-k)!)\n",
    "        result = []\n",
    "\n",
    "        def backtrack(start,acc,path_sum):\n",
    "            if len(acc) == k:\n",
    "                if path_sum == n:\n",
    "                    result.append(acc[:])\n",
    "                return\n",
    "            \n",
    "            if path_sum > n:\n",
    "                return\n",
    "            \n",
    "            for num in range(start,10):\n",
    "                acc.append(num)\n",
    "                backtrack(num+1,acc,path_sum+num)\n",
    "                acc.pop()\n",
    "\n",
    "        backtrack(1,[],0)\n",
    "        return result"
   ]
  },
  {
   "cell_type": "markdown",
   "metadata": {},
   "source": [
    "## Leetcode 17. Letter Combinations of a Phone Number\n",
    "Given a string containing digits from 2-9 inclusive, return all possible letter combinations that the number could represent. Return the answer in any order.\n",
    "\n",
    "A mapping of digits to letters (just like on the telephone buttons) is given below. Note that 1 does not map to any letters."
   ]
  },
  {
   "cell_type": "code",
   "execution_count": null,
   "metadata": {},
   "outputs": [],
   "source": [
    "class Solution:\n",
    "    def letterCombinations(self, digits: str) -> List[str]:\n",
    "        keyboard = {\n",
    "            '2': 'abc',\n",
    "            '3': 'def',\n",
    "            '4': 'ghi',\n",
    "            '5': 'jkl',\n",
    "            '6': 'mno',\n",
    "            '7': 'pqrs',\n",
    "            '8': 'tuv',\n",
    "            '9': 'wxyz'\n",
    "        }\n",
    "\n",
    "        result = []\n",
    "        if not digits:\n",
    "            return result\n",
    "\n",
    "        def bt(pos,word):\n",
    "            if len(word) == len(digits):\n",
    "                result.append(word)\n",
    "                return\n",
    "\n",
    "            for letter in keyboard[digits[pos]]:\n",
    "                bt(pos+1,word+letter)\n",
    "\n",
    "        bt(0,'')\n",
    "\n",
    "        return result"
   ]
  },
  {
   "cell_type": "markdown",
   "metadata": {},
   "source": [
    "## Leetcode 51. N-Queens\n",
    "The n-queens puzzle is the problem of placing n queens on an n x n chessboard such that no two queens attack each other.\n",
    "\n",
    "Given an integer n, return all distinct solutions to the n-queens puzzle. You may return the answer in any order.\n",
    "\n",
    "Each solution contains a distinct board configuration of the n-queens' placement, where 'Q' and '.' both indicate a queen and an empty space, respectively."
   ]
  },
  {
   "cell_type": "markdown",
   "metadata": {},
   "source": [
    "Храним в state(колонку,и две диагонали). Также отделно храним ряд. На одной из диагонали значение row+col одинаковые, на второй row-col"
   ]
  },
  {
   "cell_type": "code",
   "execution_count": null,
   "metadata": {},
   "outputs": [],
   "source": [
    "class Solution:\n",
    "    def solveNQueens(self, n: int) -> List[List[str]]: # Time O(n!)\n",
    "        result = []\n",
    "\n",
    "        def bt(row,columns,diagonals,t_diagonals,board):\n",
    "            if row==n:\n",
    "                result.append([\"\".join(board[i]) for i in range(n)])\n",
    "                return\n",
    "            \n",
    "            for col in range(n):\n",
    "                current_diagonal = row+col\n",
    "                current_t_diagonal = row-col\n",
    "                if col in columns or current_diagonal in diagonals or current_t_diagonal in t_diagonals:\n",
    "                    continue\n",
    "\n",
    "                columns.add(col)\n",
    "                diagonals.add(current_diagonal) # append\n",
    "                t_diagonals.add(current_t_diagonal)\n",
    "                board[row][col] = 'Q'\n",
    "\n",
    "                bt(row+1,columns,diagonals,t_diagonals,board)\n",
    "\n",
    "                columns.remove(col)\n",
    "                diagonals.remove(current_diagonal) # pop\n",
    "                t_diagonals.remove(current_t_diagonal)\n",
    "                board[row][col] = '.'\n",
    "\n",
    "        board = [['.']*n for _ in range(n)]\n",
    "\n",
    "        bt(0,set(),set(),set(),board)\n",
    "\n",
    "        return result"
   ]
  },
  {
   "cell_type": "markdown",
   "metadata": {},
   "source": [
    "## Lintcode 1514 (Leetcode 489) · Robot Room Cleaner \n",
    "\n",
    "Given a robot cleaner in a room modeled as a grid.\n",
    "\n",
    "Each cell in the grid can be empty or blocked.\n",
    "\n",
    "The robot cleaner with 4 given APIs can move forward, turn left or turn right. Each turn it made is 90 degrees.\n",
    "\n",
    "When it tries to move into a blocked cell, its bumper sensor detects the obstacle and it stays on the current cell.\n",
    "\n",
    "Design an algorithm to clean the entire room using only the 4 given APIs shown below."
   ]
  },
  {
   "cell_type": "code",
   "execution_count": null,
   "metadata": {},
   "outputs": [],
   "source": [
    "# \"\"\"\n",
    "# This is the robot's control interface.\n",
    "# You should not implement it, or speculate about its implementation\n",
    "# \"\"\"\n",
    "#class Robot:\n",
    "#    def move(self):\n",
    "#        \"\"\"\n",
    "#        Returns true if the cell in front is open and robot moves into the cell.\n",
    "#        Returns false if the cell in front is blocked and robot stays in the current cell.\n",
    "#        :rtype bool\n",
    "#        \"\"\"\n",
    "#\n",
    "#    def turnLeft(self):\n",
    "#        \"\"\"\n",
    "#        Robot will stay in the same cell after calling turnLeft/turnRight.\n",
    "#        Each turn will be 90 degrees.\n",
    "#        :rtype void\n",
    "#        \"\"\"\n",
    "#\n",
    "#    def turnRight(self):\n",
    "#        \"\"\"\n",
    "#        Robot will stay in the same cell after calling turnLeft/turnRight.\n",
    "#        Each turn will be 90 degrees.\n",
    "#        :rtype void\n",
    "#        \"\"\"\n",
    "#\n",
    "#    def clean(self):\n",
    "#        \"\"\"\n",
    "#        Clean the current cell.\n",
    "#        :rtype void\n",
    "#        \"\"\"\n",
    "class Solution:\n",
    "    \"\"\"\n",
    "    :type robot: Robot\n",
    "    :rtype: None\n",
    "    \"\"\"\n",
    "    def cleanRoom(self, robot):\n",
    "        #write your code here\n",
    "        directions = [(1,0),(0,-1),(-1,0),(0,1)]\n",
    "        visited = set()\n",
    "\n",
    "        def bt(x,y,direction):\n",
    "            if (x,y) in visited:\n",
    "                return\n",
    "            \n",
    "            visited.add((x,y))\n",
    "            robot.clean()\n",
    "\n",
    "            for i in range(len(directions)):\n",
    "                new_direction = (direction + i)%len(directions)\n",
    "                dx =directions[new_direction][0]\n",
    "                dy = directions[new_direction][1]\n",
    "                new_x = x + dx\n",
    "                new_y = y + dy\n",
    "                if (new_x, new_y) not in visited and robot.move():\n",
    "                    bt(new_x,new_y,new_direction)\n",
    "                    robot.turnRight()\n",
    "                    robot.turnRight()\n",
    "                    robot.move()\n",
    "                    robot.turnRight()\n",
    "                    robot.turnRight()\n",
    "\n",
    "                robot.turnRight()\n",
    "\n",
    "        bt(0,0,0)\n",
    "\n",
    "        return "
   ]
  },
  {
   "cell_type": "markdown",
   "metadata": {},
   "source": [
    "## Leetcode 79. Word Search\n",
    "Given an m x n grid of characters board and a string word, return true if word exists in the grid.\n",
    "\n",
    "The word can be constructed from letters of sequentially adjacent cells, where adjacent cells are horizontally or vertically neighboring. The same letter cell may not be used more than once."
   ]
  },
  {
   "cell_type": "markdown",
   "metadata": {},
   "source": [
    "### DFS\n",
    "1. Проверяем на совпадению букву, если совпала идем к шагу 2, если нет, то идем дальше по буквам\n",
    "2. Проверяем буквы сверху, снизу, слева, справа если символ подходил, то идем дальше по слову\n",
    "3. Если нашли нужную длины, то выводим True. Если не нашли ответ в матрице, то выводим False"
   ]
  },
  {
   "cell_type": "code",
   "execution_count": null,
   "metadata": {},
   "outputs": [],
   "source": [
    "class Solution:\n",
    "    def dfs(self,row:int,col:int,idx:int) -> bool:\n",
    "            if idx == len(self.word):\n",
    "                return True\n",
    "            res = False\n",
    "            key = row,col\n",
    "\n",
    "            if (\n",
    "                row < 0 or col<0 or row >= self.rows or col>=self.cols or \n",
    "                self.word[idx] != self.board[row][col] or key in self.path\n",
    "            ):\n",
    "                return False\n",
    "\n",
    "            self.path.add(key)\n",
    "\n",
    "            for r,c in ((-1,0),(0,1),(1,0),(0,-1)):\n",
    "                 if self.dfs(row + r,col+c,idx + 1):\n",
    "                    res = True\n",
    "                    break\n",
    "\n",
    "            self.path.remove(key)\n",
    "            return res\n",
    "    \n",
    "\n",
    "    def exist(self, board: List[List[str]], word: str) -> bool:\n",
    "        self.board = board\n",
    "        self.word = word\n",
    "        self.rows = len(board)\n",
    "        self.cols = len(board[0])\n",
    "        self.path = set()\n",
    "\n",
    "        for row in range(self.rows):\n",
    "            for col in range(self.cols):\n",
    "                 if self.dfs(row,col,0):\n",
    "                      return True\n",
    "                 \n",
    "        return False"
   ]
  },
  {
   "cell_type": "markdown",
   "metadata": {},
   "source": [
    "## Leetcode 52. N-Queens II\n",
    "The n-queens puzzle is the problem of placing n queens on an n x n chessboard such that no two queens attack each other.\n",
    "\n",
    "Given an integer n, return the number of distinct solutions to the n-queens puzzle."
   ]
  },
  {
   "cell_type": "markdown",
   "metadata": {},
   "source": [
    "Используем set() для хранения строк,столбцов и двух диагоналей. диагонали вычисляются как row+col и row-col. (строки хранить не обязательно, тк идем сверху вниз и уже не будем использовать строки, которые были до этого) "
   ]
  },
  {
   "cell_type": "code",
   "execution_count": null,
   "metadata": {},
   "outputs": [],
   "source": [
    "class Solution:\n",
    "\n",
    "    def backtrack(self,row:int) ->None:\n",
    "        if row == self.n:\n",
    "            self.res +=1\n",
    "            return\n",
    "        \n",
    "        \n",
    "        for col in range(self.n):\n",
    "            pos_idx = row+col\n",
    "            neg_idx = row-col\n",
    "            if (\n",
    "                col in self.occupied_cols or \n",
    "                pos_idx in self.occupied_pos_diag or\n",
    "                neg_idx in self.occupied_neg_diag\n",
    "            ):\n",
    "                #skip this combination\n",
    "                continue\n",
    "\n",
    "            # mark as occupied\n",
    "            self.occupied_cols.add(col)\n",
    "            self.occupied_pos_diag.add(pos_idx)\n",
    "            self.occupied_neg_diag.add(neg_idx)\n",
    "\n",
    "            #check next row\n",
    "            self.board[row][col] = 'Q'\n",
    "            self.backtrack(row+1)\n",
    "            self.board[row][col] = '.'\n",
    "\n",
    "            # free space\n",
    "            self.occupied_cols.remove(col)\n",
    "            self.occupied_pos_diag.remove(pos_idx)\n",
    "            self.occupied_neg_diag.remove(neg_idx)\n",
    "\n",
    "\n",
    "    def totalNQueens(self, n: int) -> int:\n",
    "        self.n = n\n",
    "        self.occupied_cols = set() # cols\n",
    "        self.occupied_pos_diag = set() # row+col\n",
    "        self.occupied_neg_diag = set() #row-col\n",
    "        self.board = [['.'] * n for _ in range(n)]\n",
    "        self.res = 0\n",
    "\n",
    "        self.backtrack(0)\n",
    "\n",
    "        return self.res\n"
   ]
  },
  {
   "cell_type": "code",
   "execution_count": null,
   "metadata": {},
   "outputs": [],
   "source": []
  },
  {
   "cell_type": "code",
   "execution_count": null,
   "metadata": {},
   "outputs": [],
   "source": []
  },
  {
   "cell_type": "code",
   "execution_count": null,
   "metadata": {},
   "outputs": [],
   "source": []
  },
  {
   "cell_type": "code",
   "execution_count": null,
   "metadata": {},
   "outputs": [],
   "source": []
  },
  {
   "cell_type": "code",
   "execution_count": null,
   "metadata": {},
   "outputs": [],
   "source": []
  },
  {
   "cell_type": "code",
   "execution_count": null,
   "metadata": {},
   "outputs": [],
   "source": []
  },
  {
   "cell_type": "code",
   "execution_count": null,
   "metadata": {},
   "outputs": [],
   "source": []
  },
  {
   "cell_type": "code",
   "execution_count": null,
   "metadata": {},
   "outputs": [],
   "source": []
  },
  {
   "cell_type": "code",
   "execution_count": null,
   "metadata": {},
   "outputs": [],
   "source": []
  },
  {
   "cell_type": "code",
   "execution_count": null,
   "metadata": {},
   "outputs": [],
   "source": []
  },
  {
   "cell_type": "code",
   "execution_count": null,
   "metadata": {},
   "outputs": [],
   "source": []
  },
  {
   "cell_type": "code",
   "execution_count": null,
   "metadata": {},
   "outputs": [],
   "source": []
  },
  {
   "cell_type": "code",
   "execution_count": null,
   "metadata": {},
   "outputs": [],
   "source": []
  },
  {
   "cell_type": "code",
   "execution_count": null,
   "metadata": {},
   "outputs": [],
   "source": []
  },
  {
   "cell_type": "code",
   "execution_count": null,
   "metadata": {},
   "outputs": [],
   "source": []
  },
  {
   "cell_type": "code",
   "execution_count": null,
   "metadata": {},
   "outputs": [],
   "source": []
  },
  {
   "cell_type": "code",
   "execution_count": null,
   "metadata": {},
   "outputs": [],
   "source": []
  },
  {
   "cell_type": "code",
   "execution_count": null,
   "metadata": {},
   "outputs": [],
   "source": []
  },
  {
   "cell_type": "code",
   "execution_count": null,
   "metadata": {},
   "outputs": [],
   "source": []
  },
  {
   "cell_type": "code",
   "execution_count": null,
   "metadata": {},
   "outputs": [],
   "source": []
  },
  {
   "cell_type": "code",
   "execution_count": null,
   "metadata": {},
   "outputs": [],
   "source": []
  },
  {
   "cell_type": "code",
   "execution_count": null,
   "metadata": {},
   "outputs": [],
   "source": []
  },
  {
   "cell_type": "code",
   "execution_count": null,
   "metadata": {},
   "outputs": [],
   "source": []
  },
  {
   "cell_type": "code",
   "execution_count": null,
   "metadata": {},
   "outputs": [],
   "source": []
  },
  {
   "cell_type": "code",
   "execution_count": null,
   "metadata": {},
   "outputs": [],
   "source": []
  },
  {
   "cell_type": "code",
   "execution_count": null,
   "metadata": {},
   "outputs": [],
   "source": []
  },
  {
   "cell_type": "code",
   "execution_count": null,
   "metadata": {},
   "outputs": [],
   "source": []
  },
  {
   "cell_type": "code",
   "execution_count": null,
   "metadata": {},
   "outputs": [],
   "source": []
  },
  {
   "cell_type": "code",
   "execution_count": null,
   "metadata": {},
   "outputs": [],
   "source": []
  },
  {
   "cell_type": "code",
   "execution_count": null,
   "metadata": {},
   "outputs": [],
   "source": []
  },
  {
   "cell_type": "code",
   "execution_count": null,
   "metadata": {},
   "outputs": [],
   "source": []
  },
  {
   "cell_type": "code",
   "execution_count": null,
   "metadata": {},
   "outputs": [],
   "source": []
  },
  {
   "cell_type": "code",
   "execution_count": null,
   "metadata": {},
   "outputs": [],
   "source": []
  },
  {
   "cell_type": "code",
   "execution_count": null,
   "metadata": {},
   "outputs": [],
   "source": []
  },
  {
   "cell_type": "code",
   "execution_count": null,
   "metadata": {},
   "outputs": [],
   "source": []
  },
  {
   "cell_type": "code",
   "execution_count": null,
   "metadata": {},
   "outputs": [],
   "source": []
  },
  {
   "cell_type": "code",
   "execution_count": null,
   "metadata": {},
   "outputs": [],
   "source": []
  },
  {
   "cell_type": "code",
   "execution_count": null,
   "metadata": {},
   "outputs": [],
   "source": []
  },
  {
   "cell_type": "code",
   "execution_count": null,
   "metadata": {},
   "outputs": [],
   "source": []
  },
  {
   "cell_type": "code",
   "execution_count": null,
   "metadata": {},
   "outputs": [],
   "source": []
  },
  {
   "cell_type": "code",
   "execution_count": null,
   "metadata": {},
   "outputs": [],
   "source": []
  },
  {
   "cell_type": "code",
   "execution_count": null,
   "metadata": {},
   "outputs": [],
   "source": []
  },
  {
   "cell_type": "code",
   "execution_count": null,
   "metadata": {},
   "outputs": [],
   "source": []
  },
  {
   "cell_type": "code",
   "execution_count": null,
   "metadata": {},
   "outputs": [],
   "source": []
  },
  {
   "cell_type": "code",
   "execution_count": null,
   "metadata": {},
   "outputs": [],
   "source": []
  },
  {
   "cell_type": "code",
   "execution_count": null,
   "metadata": {},
   "outputs": [],
   "source": []
  },
  {
   "cell_type": "code",
   "execution_count": null,
   "metadata": {},
   "outputs": [],
   "source": []
  },
  {
   "cell_type": "code",
   "execution_count": null,
   "metadata": {},
   "outputs": [],
   "source": []
  },
  {
   "cell_type": "code",
   "execution_count": null,
   "metadata": {},
   "outputs": [],
   "source": []
  },
  {
   "cell_type": "code",
   "execution_count": null,
   "metadata": {},
   "outputs": [],
   "source": []
  },
  {
   "cell_type": "code",
   "execution_count": null,
   "metadata": {},
   "outputs": [],
   "source": []
  }
 ],
 "metadata": {
  "kernelspec": {
   "display_name": "base",
   "language": "python",
   "name": "python3"
  },
  "language_info": {
   "codemirror_mode": {
    "name": "ipython",
    "version": 3
   },
   "file_extension": ".py",
   "mimetype": "text/x-python",
   "name": "python",
   "nbconvert_exporter": "python",
   "pygments_lexer": "ipython3",
   "version": "3.10.9"
  }
 },
 "nbformat": 4,
 "nbformat_minor": 2
}
