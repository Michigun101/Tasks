{
 "cells": [
  {
   "cell_type": "markdown",
   "metadata": {},
   "source": [
    "## Leetcode 704. Binary Search (Реализация бинарного поиска)\n",
    "Given an array of integers nums which is sorted in ascending order, and an integer target, write a function to search target in nums. If target exists, then return its index. Otherwise, return -1.\n",
    "\n",
    "You must write an algorithm with O(log n) runtime complexity."
   ]
  },
  {
   "cell_type": "code",
   "execution_count": 2,
   "metadata": {},
   "outputs": [],
   "source": [
    "class Solution:\n",
    "    def search(self, nums, target: int) -> int:\n",
    "        left = 0\n",
    "        right = len(nums) - 1\n",
    "\n",
    "        while left <= right:\n",
    "            mid = (left + right)//2\n",
    "            # mid = left + ((right - left)//2) - чтобы не переполнялась память\n",
    "            if nums[mid] > target:\n",
    "                right = mid -1\n",
    "            elif nums[mid] < target:\n",
    "                left = mid + 1 \n",
    "            else:\n",
    "                return mid\n",
    "\n",
    "        return -1\n",
    "            "
   ]
  },
  {
   "cell_type": "markdown",
   "metadata": {},
   "source": [
    "## Leetcode 33. Search in Rotated Sorted Array\n",
    "There is an integer array nums sorted in ascending order (with distinct values).\n",
    "\n",
    "Prior to being passed to your function, nums is possibly rotated at an unknown pivot index k (1 <= k < nums.length) such that the resulting array is [nums[k], nums[k+1], ..., nums[n-1], nums[0], nums[1], ..., nums[k-1]] (0-indexed). For example, [0,1,2,4,5,6,7] might be rotated at pivot index 3 and become [4,5,6,7,0,1,2].\n",
    "\n",
    "Given the array nums after the possible rotation and an integer target, return the index of target if it is in nums, or -1 if it is not in nums.\n",
    "\n",
    "You must write an algorithm with O(log n) runtime complexity."
   ]
  },
  {
   "cell_type": "code",
   "execution_count": 3,
   "metadata": {},
   "outputs": [],
   "source": [
    "class Solution:\n",
    "    def search(self, nums, target: int) -> int:\n",
    "        left = 0\n",
    "        right = len(nums) - 1 \n",
    "        \n",
    "        while left <= right:\n",
    "            #mid = (right + left)//2\n",
    "            mid = left + ((right - left)//2)\n",
    "\n",
    "            middle_value = nums[mid]\n",
    "            if target == middle_value:\n",
    "                return mid\n",
    "            \n",
    "            if nums[left] <= middle_value:\n",
    "                #left is sorted\n",
    "                if target > middle_value or target < nums[left]:\n",
    "                    left = mid + 1\n",
    "                else:\n",
    "                    right = mid - 1\n",
    "            else:\n",
    "                #right is sorted\n",
    "                if target < middle_value or target > nums[right]:\n",
    "                    right = mid - 1\n",
    "                else:\n",
    "                    left = mid + 1\n",
    "\n",
    "        return -1"
   ]
  },
  {
   "cell_type": "markdown",
   "metadata": {},
   "source": [
    "## Leetcode 153. Find Minimum in Rotated Sorted Array\n",
    "Suppose an array of length n sorted in ascending order is rotated between 1 and n times. For example, the array nums = [0,1,2,4,5,6,7] might become:\n",
    "\n",
    "[4,5,6,7,0,1,2] if it was rotated 4 times.\n",
    "[0,1,2,4,5,6,7] if it was rotated 7 times.\n",
    "Notice that rotating an array [a[0], a[1], a[2], ..., a[n-1]] 1 time results in the array [a[n-1], a[0], a[1], a[2], ..., a[n-2]].\n",
    "\n",
    "Given the sorted rotated array nums of unique elements, return the minimum element of this array.\n",
    "\n",
    "You must write an algorithm that runs in O(log n) time."
   ]
  },
  {
   "cell_type": "code",
   "execution_count": 4,
   "metadata": {},
   "outputs": [],
   "source": [
    "class Solution:\n",
    "    def findMin(self, nums) -> int:\n",
    "        left = 0\n",
    "        right = len(nums) - 1 \n",
    "        result = nums[0]\n",
    "        \n",
    "        while left <= right:\n",
    "            result = min(result, nums[left])\n",
    "            mid = left + ((right-left)//2)\n",
    "            result = min(result,nums[mid])\n",
    "\n",
    "            if nums[left] <= nums[mid]:\n",
    "                #left is sorted\n",
    "                left = mid + 1\n",
    "            else:\n",
    "                # right is sorted\n",
    "                right = mid - 1\n",
    "\n",
    "        return result"
   ]
  },
  {
   "cell_type": "markdown",
   "metadata": {},
   "source": [
    "### Вторая реализация (ведем левый указатель на индекс, где самое маленькое значение. Получается без лишних переменных и проверок)"
   ]
  },
  {
   "cell_type": "code",
   "execution_count": 6,
   "metadata": {},
   "outputs": [],
   "source": [
    "class Solution:\n",
    "    def findMin(self, nums) -> int:\n",
    "        left = 0\n",
    "        right = len(nums) - 1 \n",
    "        \n",
    "        while left < right:\n",
    "            mid = left + ((right-left)//2)\n",
    "\n",
    "            if nums[mid] > nums[right]:\n",
    "                #left is sorted\n",
    "                left = mid + 1\n",
    "            else:\n",
    "                # right is sorted\n",
    "                right = mid \n",
    "\n",
    "        return nums[left]"
   ]
  },
  {
   "cell_type": "markdown",
   "metadata": {},
   "source": [
    "## Leetcode 981. Time Based Key-Value Store\n",
    "Design a time-based key-value data structure that can store multiple values for the same key at different time stamps and retrieve the key's value at a certain timestamp.\n",
    "\n",
    "Implement the TimeMap class:\n",
    "\n",
    "TimeMap() Initializes the object of the data structure.\n",
    "void set(String key, String value, int timestamp) Stores the key key with the value value at the given time timestamp.\n",
    "String get(String key, int timestamp) Returns a value such that set was called previously, with timestamp_prev <= timestamp. If there are multiple such values, it returns the value associated with the largest timestamp_prev. If there are no values, it returns \"\"."
   ]
  },
  {
   "cell_type": "code",
   "execution_count": 8,
   "metadata": {},
   "outputs": [],
   "source": [
    "class TimeMap:\n",
    "\n",
    "    def __init__(self):\n",
    "        self.storage = {}\n",
    "\n",
    "\n",
    "    def set(self, key: str, value: str, timestamp: int) -> None:\n",
    "        if key not in self.storage:\n",
    "            self.storage[key] = []\n",
    "        self.storage[key].append((value,timestamp))\n",
    "\n",
    "    def get(self, key: str, timestamp: int) -> str:\n",
    "        res = ''\n",
    "        values = self.storage.get(key, [])\n",
    "        left = 0\n",
    "        right = len(values) - 1\n",
    "\n",
    "        while left <= right:\n",
    "            mid = left +((right - left)//2)\n",
    "            value, ts_prev = values[mid]\n",
    "            if ts_prev <= timestamp:\n",
    "                res = value\n",
    "                left = mid + 1\n",
    "            else:\n",
    "                right = mid - 1\n",
    "        return res\n",
    "\n",
    "# Your TimeMap object will be instantiated and called as such:\n",
    "# obj = TimeMap()\n",
    "# obj.set(key,value,timestamp)\n",
    "# param_2 = obj.get(key,timestamp)\n",
    "#Memory O(n)\n",
    "# Time O(log n)"
   ]
  },
  {
   "cell_type": "code",
   "execution_count": null,
   "metadata": {},
   "outputs": [],
   "source": [
    "class TimeMap:\n",
    "\n",
    "    def __init__(self):\n",
    "        self.store = {} # key = string, value = [list of [val,timestamp]]\n",
    "\n",
    "    def set(self, key: str, value: str, timestamp: int) -> None:\n",
    "        if key not in self.store:\n",
    "            self.store[key] = []\n",
    "        self.store[key].append([value,timestamp])\n",
    "\n",
    "    def get(self, key: str, timestamp: int) -> str:\n",
    "        res = ''\n",
    "        values = self.store.get(key,[])\n",
    "\n",
    "        #binary search\n",
    "        l,r = 0,len(values) - 1\n",
    "        while l <= r:\n",
    "            m = (l+r)//2\n",
    "            if values[m][1] <= timestamp:\n",
    "                res = values[m][0]\n",
    "                l = m + 1\n",
    "            else:\n",
    "                r = m - 1\n",
    "\n",
    "        return res\n",
    "\n",
    "# Your TimeMap object will be instantiated and called as such:\n",
    "# obj = TimeMap()\n",
    "# obj.set(key,value,timestamp)\n",
    "# param_2 = obj.get(key,timestamp)"
   ]
  },
  {
   "cell_type": "markdown",
   "metadata": {},
   "source": [
    "### Leetcode 374. Guess Number Higher or Lower\n",
    "We are playing the Guess Game. The game is as follows:\n",
    "\n",
    "I pick a number from 1 to n. You have to guess which number I picked.\n",
    "\n",
    "Every time you guess wrong, I will tell you whether the number I picked is higher or lower than your guess.\n",
    "\n",
    "You call a pre-defined API int guess(int num), which returns three possible results:\n",
    "\n",
    "-1: Your guess is higher than the number I picked (i.e. num > pick).\n",
    "1: Your guess is lower than the number I picked (i.e. num < pick).\n",
    "0: your guess is equal to the number I picked (i.e. num == pick).\n",
    "Return the number that I picked."
   ]
  },
  {
   "cell_type": "code",
   "execution_count": 9,
   "metadata": {},
   "outputs": [],
   "source": [
    "# The guess API is already defined for you.\n",
    "# @param num, your guess\n",
    "# @return -1 if num is higher than the picked number\n",
    "#          1 if num is lower than the picked number\n",
    "#          otherwise return 0\n",
    "# def guess(num: int) -> int:\n",
    "\n",
    "#Time O(log n) Memory O(1)\n",
    "class Solution:\n",
    "    def guessNumber(self, n: int) -> int:\n",
    "        left = 0\n",
    "        right = n\n",
    "\n",
    "        while left <= right:\n",
    "            mid = left + ((right - left)//2)\n",
    "            res = guess(mid)\n",
    "            if res == -1:\n",
    "                right = mid - 1\n",
    "            elif res == 1:\n",
    "                left = mid +1\n",
    "            else:\n",
    "                return mid"
   ]
  },
  {
   "cell_type": "markdown",
   "metadata": {},
   "source": [
    "## Leetcode 81. Search in Rotated Sorted Array II\n",
    "There is an integer array nums sorted in non-decreasing order (not necessarily with distinct values).\n",
    "\n",
    "Before being passed to your function, nums is rotated at an unknown pivot index k (0 <= k < nums.length) such that the resulting array is [nums[k], nums[k+1], ..., nums[n-1], nums[0], nums[1], ..., nums[k-1]] (0-indexed). For example, [0,1,2,4,4,4,5,6,6,7] might be rotated at pivot index 5 and become [4,5,6,6,7,0,1,2,4,4].\n",
    "\n",
    "Given the array nums after the rotation and an integer target, return true if target is in nums, or false if it is not in nums.\n",
    "\n",
    "You must decrease the overall operation steps as much as possible."
   ]
  },
  {
   "cell_type": "code",
   "execution_count": 11,
   "metadata": {},
   "outputs": [],
   "source": [
    "# Time O(log n) - в лучшем случае, O(n) - в худшем\n",
    "# Memory O(1)\n",
    "class Solution:\n",
    "    def search(self, nums, target: int) -> bool:\n",
    "        left = 0\n",
    "        right = len(nums) - 1\n",
    "\n",
    "        while left <= right:\n",
    "            mid = left + ((right - left)//2)\n",
    "            mid_val  = nums[mid]\n",
    "\n",
    "            if mid_val == target:\n",
    "                return True\n",
    "            \n",
    "            while left < mid and nums[left] == mid_val:\n",
    "                left +=1\n",
    "\n",
    "            while right > mid and nums[right] == mid_val:\n",
    "                right -=1\n",
    "\n",
    "            left_val = nums[left]\n",
    "            right_val = nums[right]\n",
    "\n",
    "            if mid_val >= left_val:\n",
    "                #left side is sorted\n",
    "                if left_val<=target < mid_val:\n",
    "                    right = mid - 1\n",
    "                else:\n",
    "                    left = mid + 1\n",
    "            else:\n",
    "                #right side is sorted \n",
    "                if mid_val < target <= right_val:\n",
    "                    left = mid + 1\n",
    "                else:\n",
    "                    right = mid - 1\n",
    "\n",
    "\n",
    "        return False\n",
    "        "
   ]
  },
  {
   "cell_type": "markdown",
   "metadata": {},
   "source": [
    "## Leetcode 875. Koko Eating Bananas\n",
    "Koko loves to eat bananas. There are n piles of bananas, the ith pile has piles[i] bananas. The guards have gone and will come back in h hours.\n",
    "\n",
    "Koko can decide her bananas-per-hour eating speed of k. Each hour, she chooses some pile of bananas and eats k bananas from that pile. If the pile has less than k bananas, she eats all of them instead and will not eat any more bananas during this hour.\n",
    "\n",
    "Koko likes to eat slowly but still wants to finish eating all the bananas before the guards return.\n",
    "\n",
    "Return the minimum integer k such that she can eat all the bananas within h hours."
   ]
  },
  {
   "cell_type": "markdown",
   "metadata": {},
   "source": [
    "1. Можно решить перебором. Начинаем со скорости 1 и идем до того момента не попадем в необходимое количество часов. Способ долгий по времени. Time Limit Exceeded. На маленьких test case работает, но дальше нет"
   ]
  },
  {
   "cell_type": "code",
   "execution_count": null,
   "metadata": {},
   "outputs": [],
   "source": [
    "import numpy as np\n",
    "class Solution:\n",
    "    def minEatingSpeed(self, piles: List[int], h: int) -> int:\n",
    "        result = 1\n",
    "\n",
    "        while True:\n",
    "            need_hours = 0\n",
    "            for num in piles:\n",
    "                need_hours += np.ceil(num/result)\n",
    "            if need_hours > h:\n",
    "                result +=1\n",
    "            else:\n",
    "                break\n",
    "\n",
    "        return result"
   ]
  },
  {
   "cell_type": "code",
   "execution_count": 11,
   "metadata": {},
   "outputs": [
    {
     "data": {
      "text/plain": [
       "3.0"
      ]
     },
     "execution_count": 11,
     "metadata": {},
     "output_type": "execute_result"
    }
   ],
   "source": [
    "import numpy as np\n",
    "np.ceil(3 / 2)\n",
    "np.ceil(5 / 2)"
   ]
  },
  {
   "cell_type": "markdown",
   "metadata": {},
   "source": [
    "2. Во-первых, ответ может быть от 1 до макс числа из бананов, поэтому у нас есть упорядоченный список и мы можем использовать бинарный поиск для находления наилучшей скорости"
   ]
  },
  {
   "cell_type": "code",
   "execution_count": null,
   "metadata": {},
   "outputs": [],
   "source": [
    "import math\n",
    "\n",
    "class Solution:\n",
    "    def minEatingSpeed(self, piles: List[int], h: int) -> int:\n",
    "        left = 1\n",
    "        right = max(piles)\n",
    "        result = right\n",
    "\n",
    "        while left <= right:\n",
    "            mid =((right+left)//2)\n",
    "            need_hours = 0\n",
    "            for num in piles: \n",
    "                need_hours += math.ceil(num/mid)\n",
    "                if need_hours > h:\n",
    "                    break\n",
    "            \n",
    "            if need_hours <= h:\n",
    "                result = mid\n",
    "                right = mid - 1\n",
    "            else:\n",
    "                left = mid + 1\n",
    "\n",
    "\n",
    "        return result\n"
   ]
  },
  {
   "cell_type": "code",
   "execution_count": null,
   "metadata": {},
   "outputs": [],
   "source": [
    "from typing import (\n",
    "    List,\n",
    ")\n",
    "\n",
    "class Solution:\n",
    "    \"\"\"\n",
    "    @param piles: an array\n",
    "    @param h: an integer\n",
    "    @return: the minimum integer K\n",
    "    \"\"\"\n",
    "    def min_eating_speed(self, piles: List[int], h: int) -> int:\n",
    "        # Write your code here\n",
    "        l,r = 1,max(piles)\n",
    "        res = r\n",
    "\n",
    "        while l <=r:\n",
    "            k = (l+r)//2\n",
    "            hours = 0\n",
    "            for p in piles:\n",
    "                hours+=math.ceil(p/k)\n",
    "                if hours > h:\n",
    "                    break\n",
    "                \n",
    "            if hours <=h:\n",
    "                res = min(res,k)\n",
    "                r = k-1\n",
    "            else:\n",
    "                l = k+1\n",
    "\n",
    "        return res\n"
   ]
  },
  {
   "cell_type": "markdown",
   "metadata": {},
   "source": [
    "## Leetcode 4. Median of Two Sorted Arrays\n",
    "Given two sorted arrays nums1 and nums2 of size m and n respectively, return the median of the two sorted arrays.\n",
    "\n",
    "The overall run time complexity should be O(log (m+n))."
   ]
  },
  {
   "cell_type": "code",
   "execution_count": null,
   "metadata": {},
   "outputs": [],
   "source": [
    "class Solution:\n",
    "    max_val = 10**6+1\n",
    "    min_val = - max_val\n",
    "\n",
    "    def get_middle_vals(self,idx:int,nums:List[int]) -> Tuple[int,int]:\n",
    "        max_left = nums[idx] if idx >=0 else self.min_val\n",
    "        next_idx = idx+1\n",
    "        min_right = nums[next_idx] if next_idx < len(nums) else self.max_val\n",
    "        return max_left,min_right\n",
    "\n",
    "    def findMedianSortedArrays(self, nums1: List[int], nums2: List[int]) -> float: # M: O(1) T: O(log(n+m))\n",
    "        s1 = len(nums1)\n",
    "        s2 = len(nums2)\n",
    "        if s1>s2:\n",
    "            return self.findMedianSortedArrays(nums2,nums1)\n",
    "        \n",
    "        total = s1+s2\n",
    "        half,is_odd = divmod(total,2)\n",
    "        left = 0\n",
    "        right = s1-1\n",
    "        while True:\n",
    "            idx1 = left + (right-left)//2\n",
    "            idx2 = half - idx1-2\n",
    "            max_left_1,min_right_1=self.get_middle_vals(idx1,nums1)\n",
    "            max_left_2,min_right_2=self.get_middle_vals(idx2,nums2)\n",
    "\n",
    "            if max_left_1 <= min_right_2 and max_left_2<=min_right_1:\n",
    "                if is_odd:\n",
    "                    return min(min_right_1,min_right_2)\n",
    "                return (\n",
    "                    min(min_right_1,min_right_2) +\n",
    "                    max(max_left_1,max_left_2)\n",
    "                )/2\n",
    "            if max_left_1 > min_right_2:\n",
    "                right = idx1 - 1\n",
    "            else:\n",
    "                left = idx1+1\n"
   ]
  },
  {
   "cell_type": "markdown",
   "metadata": {},
   "source": [
    "## Leetcode 367. Valid Perfect Square\n",
    "Given a positive integer num, return true if num is a perfect square or false otherwise.\n",
    "\n",
    "A perfect square is an integer that is the square of an integer. In other words, it is the product of some integer with itself.\n",
    "\n",
    "You must not use any built-in library function, such as sqrt."
   ]
  },
  {
   "cell_type": "code",
   "execution_count": null,
   "metadata": {},
   "outputs": [],
   "source": [
    "class Solution:\n",
    "    def isPerfectSquare(self, num: int) -> bool: # O(logn)\n",
    "        left,right = 1,num\n",
    "\n",
    "        while left <= right:\n",
    "            mid = left + (right-left)//2\n",
    "\n",
    "            if mid * mid == num:\n",
    "                return True\n",
    "            elif mid * mid > num:\n",
    "                right = mid - 1\n",
    "            else:\n",
    "                left = mid + 1\n",
    "\n",
    "        return False"
   ]
  },
  {
   "cell_type": "markdown",
   "metadata": {},
   "source": [
    "## Leetcode 34. Find First and Last Position of Element in Sorted Array\n",
    "Given an array of integers nums sorted in non-decreasing order, find the starting and ending position of a given target value.\n",
    "\n",
    "If target is not found in the array, return [-1, -1].\n",
    "\n",
    "You must write an algorithm with O(log n) runtime complexity."
   ]
  },
  {
   "cell_type": "code",
   "execution_count": null,
   "metadata": {},
   "outputs": [],
   "source": [
    "class Solution:\n",
    "    def searchRange(self, nums: List[int], target: int) -> List[int]:\n",
    "        left = self.binSearch(nums,target,True)\n",
    "        right = self.binSearch(nums,target,False)\n",
    "        return [left,right]\n",
    "        \n",
    "    def binSearch(self,nums,target,leftBias):\n",
    "        l, r = 0,len(nums) - 1\n",
    "        i=-1\n",
    "        while l<=r:\n",
    "            m =(l+r)//2\n",
    "            if target > nums[m]:\n",
    "                l = m+1\n",
    "            elif target < nums[m]:\n",
    "                r = m-1\n",
    "            else:\n",
    "                i = m\n",
    "                if leftBias:\n",
    "                    r = m - 1\n",
    "                else:\n",
    "                    l = m + 1\n",
    "        return i\n",
    "        "
   ]
  },
  {
   "cell_type": "markdown",
   "metadata": {},
   "source": [
    "## Leetcode 441. Arranging Coins\n",
    "You have n coins and you want to build a staircase with these coins. The staircase consists of k rows where the ith row has exactly i coins. The last row of the staircase may be incomplete.\n",
    "\n",
    "Given the integer n, return the number of complete rows of the staircase you will build."
   ]
  },
  {
   "cell_type": "markdown",
   "metadata": {},
   "source": [
    "### 1-я реализация по Формуле гауса\n",
    "R/2 * (R+1) = n"
   ]
  },
  {
   "cell_type": "code",
   "execution_count": null,
   "metadata": {},
   "outputs": [],
   "source": [
    "import numpy as np\n",
    "class Solution:\n",
    "    def arrangeCoins(self, n: int) -> int: # Time O(1)\n",
    "        r = np.floor((-1+sqrt(1+8*n))/2)\n",
    "        return int(r)\n"
   ]
  },
  {
   "cell_type": "markdown",
   "metadata": {},
   "source": [
    "### 2-я реализация с бинарным поиском"
   ]
  },
  {
   "cell_type": "code",
   "execution_count": null,
   "metadata": {},
   "outputs": [],
   "source": [
    "class Solution:\n",
    "    def arrangeCoins(self, n: int) -> int:\n",
    "        l,r= 1,n\n",
    "        res = 0\n",
    "        while l<=r:\n",
    "            mid = (l+r)//2\n",
    "            coins = (mid/2)*(mid+1)\n",
    "            if coins > n:\n",
    "                r = m - 1\n",
    "            else:\n",
    "                res = max(mid,res)\n",
    "                l = m + 1\n",
    "        return res"
   ]
  },
  {
   "cell_type": "markdown",
   "metadata": {},
   "source": [
    "## Leetcode 35. Search Insert Position\n",
    "Given a sorted array of distinct integers and a target value, return the index if the target is found. If not, return the index where it would be if it were inserted in order.\n",
    "\n",
    "You must write an algorithm with O(log n) runtime complexity."
   ]
  },
  {
   "cell_type": "code",
   "execution_count": null,
   "metadata": {},
   "outputs": [],
   "source": [
    "class Solution:\n",
    "    def searchInsert(self, nums: List[int], target: int) -> int:\n",
    "        l,r=0,len(nums) - 1\n",
    "\n",
    "        while l<=r:\n",
    "            m = l + (r-l)//2\n",
    "\n",
    "            if nums[m] > target:\n",
    "                r = m - 1\n",
    "            elif nums[m] < target:\n",
    "                l = m + 1\n",
    "            else:\n",
    "                return m\n",
    "            \n",
    "        return l\n"
   ]
  },
  {
   "cell_type": "markdown",
   "metadata": {},
   "source": [
    "## Leetcode 1898. Maximum Number of Removable Characters\n",
    "You are given two strings s and p where p is a subsequence of s. You are also given a distinct 0-indexed integer array removable containing a subset of indices of s (s is also 0-indexed).\n",
    "\n",
    "You want to choose an integer k (0 <= k <= removable.length) such that, after removing k characters from s using the first k indices in removable, p is still a subsequence of s. More formally, you will mark the character at s[removable[i]] for each 0 <= i < k, then remove all marked characters and check if p is still a subsequence.\n",
    "\n",
    "Return the maximum k you can choose such that p is still a subsequence of s after the removals.\n",
    "\n",
    "A subsequence of a string is a new string generated from the original string with some characters (can be none) deleted without changing the relative order of the remaining characters."
   ]
  },
  {
   "cell_type": "code",
   "execution_count": null,
   "metadata": {},
   "outputs": [],
   "source": [
    "class Solution:\n",
    "    def maximumRemovals(self, s: str, p: str, removable: List[int]) -> int:\n",
    "        def isSubseq(s,subseq):\n",
    "            i1,i2 = 0,0\n",
    "\n",
    "            while i1 < len(s) and i2< len(subseq):\n",
    "                if i1 in removed or s[i1]!=subseq[i2]:\n",
    "                    i1+=1\n",
    "                    continue\n",
    "                i1+=1\n",
    "                i2+=1\n",
    "        \n",
    "            return i2 == len(subseq)\n",
    "        \n",
    "        removed = set()\n",
    "        res = 0\n",
    "        l,r = 0,len(removable) - 1\n",
    "        while l<=r:\n",
    "            m=(l+r)//2\n",
    "            removed = set(removable[:m+1])\n",
    "            if isSubseq(s,p):\n",
    "                res = max(res,m+1)\n",
    "                l = m + 1\n",
    "            else:\n",
    "                r = m - 1\n",
    "        return res\n"
   ]
  },
  {
   "cell_type": "markdown",
   "metadata": {},
   "source": [
    "## Leetcode 658. Find K Closest Elements\n",
    "Given a sorted integer array arr, two integers k and x, return the k closest integers to x in the array. The result should also be sorted in ascending order.\n",
    "\n",
    "An integer a is closer to x than an integer b if:\n",
    "\n",
    "|a - x| < |b - x|, or\n",
    "|a - x| == |b - x| and a < b"
   ]
  },
  {
   "cell_type": "markdown",
   "metadata": {},
   "source": [
    "### Реализация 1: Log(n) + k"
   ]
  },
  {
   "cell_type": "code",
   "execution_count": null,
   "metadata": {},
   "outputs": [],
   "source": [
    "class Solution:\n",
    "    def findClosestElements(self, arr: List[int], k: int, x: int) -> List[int]:\n",
    "        l,r = 0,len(arr) - 1\n",
    "\n",
    "        #Нахождение индекса х или ближайшего к нему значения\n",
    "        val,idx = arr[0],0\n",
    "        while l<=r:\n",
    "            m = l + (r-l)//2\n",
    "            curDiff,resDiff = abs(arr[m] - x),abs(val - x)\n",
    "            if curDiff < resDiff or (curDiff == resDiff and arr[m] < val):\n",
    "                val,idx = arr[m],m\n",
    "\n",
    "            if arr[m] < x :\n",
    "                l = m + 1\n",
    "            elif arr[m] > x:\n",
    "                r = m - 1\n",
    "            else:\n",
    "                break\n",
    "\n",
    "        l = r = idx\n",
    "        for i in range(k-1):\n",
    "            if l == 0:\n",
    "                r+=1\n",
    "            elif r == len(arr) - 1 or x - arr[l-1] <= arr[r+1] - x:\n",
    "                l-=1\n",
    "            else:\n",
    "                r+=1\n",
    "\n",
    "        return arr[l:r+1]"
   ]
  },
  {
   "cell_type": "markdown",
   "metadata": {},
   "source": [
    "### Реализация 2: Log(n-k) + k"
   ]
  },
  {
   "cell_type": "code",
   "execution_count": null,
   "metadata": {},
   "outputs": [],
   "source": [
    "class Solution:\n",
    "    def findClosestElements(self, arr: List[int], k: int, x: int) -> List[int]:\n",
    "        l,r = 0,len(arr) - k\n",
    "\n",
    "        while l <r:\n",
    "            m = (l+r)//2\n",
    "            if x - arr[m] > arr[m+k] - x:\n",
    "                l = m+1\n",
    "            else:\n",
    "                r = m\n",
    "        return arr[l:l+k]"
   ]
  },
  {
   "cell_type": "code",
   "execution_count": null,
   "metadata": {},
   "outputs": [],
   "source": []
  },
  {
   "cell_type": "code",
   "execution_count": null,
   "metadata": {},
   "outputs": [],
   "source": []
  },
  {
   "cell_type": "code",
   "execution_count": null,
   "metadata": {},
   "outputs": [],
   "source": []
  },
  {
   "cell_type": "code",
   "execution_count": null,
   "metadata": {},
   "outputs": [],
   "source": []
  },
  {
   "cell_type": "code",
   "execution_count": null,
   "metadata": {},
   "outputs": [],
   "source": []
  },
  {
   "cell_type": "code",
   "execution_count": null,
   "metadata": {},
   "outputs": [],
   "source": []
  },
  {
   "cell_type": "code",
   "execution_count": null,
   "metadata": {},
   "outputs": [],
   "source": []
  },
  {
   "cell_type": "code",
   "execution_count": null,
   "metadata": {},
   "outputs": [],
   "source": []
  },
  {
   "cell_type": "code",
   "execution_count": null,
   "metadata": {},
   "outputs": [],
   "source": []
  },
  {
   "cell_type": "code",
   "execution_count": null,
   "metadata": {},
   "outputs": [],
   "source": []
  },
  {
   "cell_type": "code",
   "execution_count": null,
   "metadata": {},
   "outputs": [],
   "source": []
  },
  {
   "cell_type": "code",
   "execution_count": null,
   "metadata": {},
   "outputs": [],
   "source": []
  },
  {
   "cell_type": "code",
   "execution_count": null,
   "metadata": {},
   "outputs": [],
   "source": []
  },
  {
   "cell_type": "code",
   "execution_count": null,
   "metadata": {},
   "outputs": [],
   "source": []
  },
  {
   "cell_type": "code",
   "execution_count": null,
   "metadata": {},
   "outputs": [],
   "source": []
  },
  {
   "cell_type": "code",
   "execution_count": null,
   "metadata": {},
   "outputs": [],
   "source": []
  },
  {
   "cell_type": "code",
   "execution_count": null,
   "metadata": {},
   "outputs": [],
   "source": []
  },
  {
   "cell_type": "code",
   "execution_count": null,
   "metadata": {},
   "outputs": [],
   "source": []
  },
  {
   "cell_type": "code",
   "execution_count": null,
   "metadata": {},
   "outputs": [],
   "source": []
  }
 ],
 "metadata": {
  "kernelspec": {
   "display_name": "base",
   "language": "python",
   "name": "python3"
  },
  "language_info": {
   "codemirror_mode": {
    "name": "ipython",
    "version": 3
   },
   "file_extension": ".py",
   "mimetype": "text/x-python",
   "name": "python",
   "nbconvert_exporter": "python",
   "pygments_lexer": "ipython3",
   "version": "3.10.9"
  }
 },
 "nbformat": 4,
 "nbformat_minor": 2
}
