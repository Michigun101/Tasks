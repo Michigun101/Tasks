{
 "cells": [
  {
   "cell_type": "markdown",
   "metadata": {
    "vscode": {
     "languageId": "plaintext"
    }
   },
   "source": [
    "## Leetcode 104. Maximum Depth of Binary Tree\n",
    "Given the root of a binary tree, return its maximum depth.\n",
    "\n",
    "A binary tree's maximum depth is the number of nodes along the longest path from the root node down to the farthest leaf node."
   ]
  },
  {
   "cell_type": "markdown",
   "metadata": {},
   "source": [
    "### Рекурсией"
   ]
  },
  {
   "cell_type": "code",
   "execution_count": 2,
   "metadata": {},
   "outputs": [],
   "source": [
    "# Definition for a binary tree node.\n",
    "# class TreeNode:\n",
    "#     def __init__(self, val=0, left=None, right=None):\n",
    "#         self.val = val\n",
    "#         self.left = left\n",
    "#         self.right = right\n",
    "class Solution:\n",
    "    def maxDepth(self, root) -> int:\n",
    "        if not root:\n",
    "            return 0\n",
    "        l = self.maxDepth(root.left)\n",
    "        r = self.maxDepth(root.right)\n",
    "\n",
    "        return max(l,r) + 1\n",
    "        "
   ]
  },
  {
   "cell_type": "markdown",
   "metadata": {},
   "source": [
    "### Recursive DFS"
   ]
  },
  {
   "cell_type": "code",
   "execution_count": null,
   "metadata": {},
   "outputs": [],
   "source": [
    "from lintcode import (\n",
    "    TreeNode,\n",
    ")\n",
    "\n",
    "\"\"\"\n",
    "Definition of TreeNode:\n",
    "class TreeNode:\n",
    "    def __init__(self, val):\n",
    "        self.val = val\n",
    "        self.left, self.right = None, None\n",
    "\"\"\"\n",
    "\n",
    "class Solution:\n",
    "    \"\"\"\n",
    "    @param root: The root of binary tree.\n",
    "    @return: An integer\n",
    "    \"\"\"\n",
    "    def max_depth(self, root: TreeNode) -> int:\n",
    "        # write your code here\n",
    "        if not root:\n",
    "            return 0\n",
    "        \n",
    "        return 1 + max(self.max_depth(root.left),self.max_depth(root.right))"
   ]
  },
  {
   "cell_type": "markdown",
   "metadata": {},
   "source": [
    "### BFS"
   ]
  },
  {
   "cell_type": "code",
   "execution_count": 2,
   "metadata": {},
   "outputs": [],
   "source": [
    "# Definition for a binary tree node.\n",
    "class TreeNode:\n",
    "    def __init__(self, val=0, left=None, right=None):\n",
    "        self.val = val\n",
    "        self.left = left\n",
    "        self.right = right\n",
    "from collections import deque\n",
    "from typing import Optional\n",
    "class Solution:\n",
    "    def maxDepth(self, root: Optional[TreeNode]) -> int:\n",
    "        if not root:\n",
    "            return 0\n",
    "        \n",
    "        level = 0\n",
    "        q =  deque([root])\n",
    "        while q:\n",
    "            for i in range(len(q)):\n",
    "                node = q.popleft()\n",
    "                if node.left:\n",
    "                    q.append(node.left)\n",
    "                if node.right:\n",
    "                    q.append(node.right)\n",
    "            level +=1\n",
    "        return level"
   ]
  },
  {
   "cell_type": "markdown",
   "metadata": {},
   "source": [
    "### Iterative DFS (Stack)"
   ]
  },
  {
   "cell_type": "code",
   "execution_count": null,
   "metadata": {},
   "outputs": [],
   "source": [
    "# Definition for a binary tree node.\n",
    "# class TreeNode:\n",
    "#     def __init__(self, val=0, left=None, right=None):\n",
    "#         self.val = val\n",
    "#         self.left = left\n",
    "#         self.right = right\n",
    "class Solution:\n",
    "    def maxDepth(self, root: Optional[TreeNode]) -> int:        \n",
    "        stack = [[root,1]]\n",
    "        res = 0\n",
    "        while stack:\n",
    "            node,depth = stack.pop()\n",
    "            if node:\n",
    "                res = max(res,depth)\n",
    "                stack.append([node.left,depth+1])\n",
    "                stack.append([node.right,depth+1])\n",
    "\n",
    "        return res"
   ]
  },
  {
   "cell_type": "markdown",
   "metadata": {},
   "source": [
    "### Итеративно через стэк"
   ]
  },
  {
   "cell_type": "code",
   "execution_count": 3,
   "metadata": {},
   "outputs": [],
   "source": [
    "# Definition for a binary tree node.\n",
    "# class TreeNode:\n",
    "#     def __init__(self, val=0, left=None, right=None):\n",
    "#         self.val = val\n",
    "#         self.left = left\n",
    "#         self.right = right\n",
    "class Solution:\n",
    "    def maxDepth(self, root) -> int:\n",
    "        stack = [(root,1)]\n",
    "        result = 0\n",
    "        \n",
    "        while stack:\n",
    "            node,depth = stack.pop()\n",
    "            if not node:\n",
    "                continue\n",
    "            result = max(result,depth)\n",
    "            stack.append((node.left,depth+1))\n",
    "            stack.append((node.right,depth+1))\n",
    "        \n",
    "        return result\n"
   ]
  },
  {
   "cell_type": "markdown",
   "metadata": {},
   "source": [
    "## Leetcode 226. Invert Binary Tree\n",
    "Given the root of a binary tree, invert the tree, and return its root."
   ]
  },
  {
   "cell_type": "code",
   "execution_count": null,
   "metadata": {},
   "outputs": [],
   "source": [
    "# Definition for a binary tree node.\n",
    "# class TreeNode:\n",
    "#     def __init__(self, val=0, left=None, right=None):\n",
    "#         self.val = val\n",
    "#         self.left = left\n",
    "#         self.right = right\n",
    "class Solution:\n",
    "    def invertTree(self, root: Optional[TreeNode]) -> Optional[TreeNode]:\n",
    "        if not root:\n",
    "            return \n",
    "\n",
    "        root.left, root.right = root.right, root.left\n",
    "\n",
    "        self.invertTree(root.left)\n",
    "        self.invertTree(root.right)\n",
    "\n",
    "        return root\n",
    "    \n",
    "# time O(n)"
   ]
  },
  {
   "cell_type": "markdown",
   "metadata": {},
   "source": [
    "## Leetcode 101. Symmetric Tree\n",
    "Given the root of a binary tree, check whether it is a mirror of itself (i.e., symmetric around its center)."
   ]
  },
  {
   "cell_type": "code",
   "execution_count": null,
   "metadata": {},
   "outputs": [],
   "source": [
    "# Definition for a binary tree node.\n",
    "# class TreeNode:\n",
    "#     def __init__(self, val=0, left=None, right=None):\n",
    "#         self.val = val\n",
    "#         self.left = left\n",
    "#         self.right = right\n",
    "class Solution:\n",
    "    def isSymmetric(self, root: Optional[TreeNode]) -> bool:\n",
    "        if not root:\n",
    "            return True\n",
    "        \n",
    "        stack = [root.left, root.right]\n",
    "\n",
    "        while stack:\n",
    "            right = stack.pop()\n",
    "            left = stack.pop()\n",
    "            if not left and not right:\n",
    "                continue\n",
    "            if not left or not right:\n",
    "                return False\n",
    "            if left.val != right.val:\n",
    "                return False\n",
    "            stack.append(left.left)\n",
    "            stack.append(right.right)\n",
    "            stack.append(left.right)\n",
    "            stack.append(right.left)\n",
    "\n",
    "        return True\n",
    "    \n",
    "# O(n)"
   ]
  },
  {
   "cell_type": "markdown",
   "metadata": {},
   "source": [
    "## Leetcode 112. Path Sum\n",
    "Given the root of a binary tree and an integer targetSum, return true if the tree has a root-to-leaf path such that adding up all the values along the path equals targetSum.\n",
    "\n",
    "A leaf is a node with no children."
   ]
  },
  {
   "cell_type": "code",
   "execution_count": null,
   "metadata": {},
   "outputs": [],
   "source": [
    "# Definition for a binary tree node.\n",
    "# class TreeNode:\n",
    "#     def __init__(self, val=0, left=None, right=None):\n",
    "#         self.val = val\n",
    "#         self.left = left\n",
    "#         self.right = right\n",
    "class Solution:\n",
    "    def hasPathSum(self, root: Optional[TreeNode], targetSum: int) -> bool:\n",
    "        stack = [(root,0)]\n",
    "        while stack:\n",
    "            node, current_sum = stack.pop()\n",
    "            if not node:\n",
    "                continue\n",
    "            \n",
    "            current_sum += node.val\n",
    "\n",
    "            if not node.left and not node.right and current_sum == targetSum:\n",
    "                return True\n",
    "            \n",
    "            stack.append((node.left,current_sum))\n",
    "            stack.append((node.right,current_sum))\n",
    "\n",
    "        return False\n",
    "            "
   ]
  },
  {
   "cell_type": "markdown",
   "metadata": {},
   "source": [
    "## Leetcode 700. Search in a Binary Search Tree\n",
    "You are given the root of a binary search tree (BST) and an integer val.\n",
    "\n",
    "Find the node in the BST that the node's value equals val and return the subtree rooted with that node. If such a node does not exist, return null."
   ]
  },
  {
   "cell_type": "code",
   "execution_count": 4,
   "metadata": {},
   "outputs": [],
   "source": [
    "# Definition for a binary tree node.\n",
    "# class TreeNode:\n",
    "#     def __init__(self, val=0, left=None, right=None):\n",
    "#         self.val = val\n",
    "#         self.left = left\n",
    "#         self.right = right\n",
    "class Solution:\n",
    "    def searchBST(self, root, val: int):\n",
    "        if not root:\n",
    "            return None\n",
    "        \n",
    "        if root and root.val == val:\n",
    "            return root\n",
    "        \n",
    "        if val < root.val:\n",
    "            return self.searchBST(root.left,val)\n",
    "        else:\n",
    "            return self.searchBST(root.right,val)"
   ]
  },
  {
   "cell_type": "markdown",
   "metadata": {},
   "source": [
    "## Leetcode 701. Insert into a Binary Search Tree\n",
    "You are given the root node of a binary search tree (BST) and a value to insert into the tree. Return the root node of the BST after the insertion. It is guaranteed that the new value does not exist in the original BST.\n",
    "\n",
    "Notice that there may exist multiple valid ways for the insertion, as long as the tree remains a BST after insertion. You can return any of them.\n",
    "\n"
   ]
  },
  {
   "cell_type": "code",
   "execution_count": null,
   "metadata": {},
   "outputs": [],
   "source": [
    "# Definition for a binary tree node.\n",
    "# class TreeNode:\n",
    "#     def __init__(self, val=0, left=None, right=None):\n",
    "#         self.val = val\n",
    "#         self.left = left\n",
    "#         self.right = right\n",
    "class Solution:\n",
    "    def insertIntoBST(self, root: Optional[TreeNode], val: int) -> Optional[TreeNode]:\n",
    "        if not root:\n",
    "            return TreeNode(val)\n",
    "        \n",
    "        if root and root.val == val:\n",
    "            return root\n",
    "        \n",
    "        if val < root.val:\n",
    "            root.left = self.insertIntoBST(root.left, val)\n",
    "        else:\n",
    "            root.right = self.insertIntoBST(root.right, val)\n",
    "\n",
    "        return root"
   ]
  },
  {
   "cell_type": "markdown",
   "metadata": {},
   "source": [
    "## Leetcode 98. Validate Binary Search Tree\n",
    "Given the root of a binary tree, determine if it is a valid binary search tree (BST).\n",
    "\n",
    "A valid BST is defined as follows:\n",
    "\n",
    "The left subtree of a node contains only nodes with keys less than the node's key.\n",
    "The right subtree of a node contains only nodes with keys greater than the node's key.\n",
    "Both the left and right subtrees must also be binary search trees."
   ]
  },
  {
   "cell_type": "markdown",
   "metadata": {},
   "source": [
    "### 1-я реализация"
   ]
  },
  {
   "cell_type": "code",
   "execution_count": null,
   "metadata": {},
   "outputs": [
    {
     "ename": "NameError",
     "evalue": "name 'Optional' is not defined",
     "output_type": "error",
     "traceback": [
      "\u001b[0;31m---------------------------------------------------------------------------\u001b[0m",
      "\u001b[0;31mNameError\u001b[0m                                 Traceback (most recent call last)",
      "Cell \u001b[0;32mIn[5], line 7\u001b[0m\n\u001b[1;32m      1\u001b[0m \u001b[38;5;66;03m# Definition for a binary tree node.\u001b[39;00m\n\u001b[1;32m      2\u001b[0m \u001b[38;5;66;03m# class TreeNode:\u001b[39;00m\n\u001b[1;32m      3\u001b[0m \u001b[38;5;66;03m#     def __init__(self, val=0, left=None, right=None):\u001b[39;00m\n\u001b[1;32m      4\u001b[0m \u001b[38;5;66;03m#         self.val = val\u001b[39;00m\n\u001b[1;32m      5\u001b[0m \u001b[38;5;66;03m#         self.left = left\u001b[39;00m\n\u001b[1;32m      6\u001b[0m \u001b[38;5;66;03m#         self.right = right\u001b[39;00m\n\u001b[0;32m----> 7\u001b[0m \u001b[38;5;28;01mclass\u001b[39;00m \u001b[38;5;21;01mSolution\u001b[39;00m:\n\u001b[1;32m      8\u001b[0m     \u001b[38;5;28;01mdef\u001b[39;00m \u001b[38;5;21misValidBST\u001b[39m(\u001b[38;5;28mself\u001b[39m, root: Optional[TreeNode]) \u001b[38;5;241m-\u001b[39m\u001b[38;5;241m>\u001b[39m \u001b[38;5;28mbool\u001b[39m:\n\u001b[1;32m      9\u001b[0m         \u001b[38;5;28;01mdef\u001b[39;00m \u001b[38;5;21misValid\u001b[39m(node:TreeNode, low:\u001b[38;5;28mint\u001b[39m,high:\u001b[38;5;28mint\u001b[39m) \u001b[38;5;241m-\u001b[39m\u001b[38;5;241m>\u001b[39m\u001b[38;5;28mbool\u001b[39m:\n",
      "Cell \u001b[0;32mIn[5], line 8\u001b[0m, in \u001b[0;36mSolution\u001b[0;34m()\u001b[0m\n\u001b[1;32m      7\u001b[0m \u001b[38;5;28;01mclass\u001b[39;00m \u001b[38;5;21;01mSolution\u001b[39;00m:\n\u001b[0;32m----> 8\u001b[0m     \u001b[38;5;28;01mdef\u001b[39;00m \u001b[38;5;21misValidBST\u001b[39m(\u001b[38;5;28mself\u001b[39m, root: \u001b[43mOptional\u001b[49m[TreeNode]) \u001b[38;5;241m-\u001b[39m\u001b[38;5;241m>\u001b[39m \u001b[38;5;28mbool\u001b[39m:\n\u001b[1;32m      9\u001b[0m         \u001b[38;5;28;01mdef\u001b[39;00m \u001b[38;5;21misValid\u001b[39m(node:TreeNode, low:\u001b[38;5;28mint\u001b[39m,high:\u001b[38;5;28mint\u001b[39m) \u001b[38;5;241m-\u001b[39m\u001b[38;5;241m>\u001b[39m\u001b[38;5;28mbool\u001b[39m:\n\u001b[1;32m     10\u001b[0m             \u001b[38;5;28;01mif\u001b[39;00m node \u001b[38;5;129;01mis\u001b[39;00m \u001b[38;5;28;01mNone\u001b[39;00m:\n",
      "\u001b[0;31mNameError\u001b[0m: name 'Optional' is not defined"
     ]
    }
   ],
   "source": [
    "# Definition for a binary tree node.\n",
    "# class TreeNode:\n",
    "#     def __init__(self, val=0, left=None, right=None):\n",
    "#         self.val = val\n",
    "#         self.left = left\n",
    "#         self.right = right\n",
    "class Solution:\n",
    "    def isValidBST(self, root: Optional[TreeNode]) -> bool:\n",
    "        def isValid(node:TreeNode, low:int,high:int) ->bool:\n",
    "            if node is None:\n",
    "                return True\n",
    "            \n",
    "            if not(low < node.val<high):\n",
    "                return False\n",
    "            \n",
    "            return (isValid(node.left,low,node.val) and isValid(node.right,node.val,high))\n",
    "        \n",
    "        return isValid(root,float('-inf'),float('inf'))"
   ]
  },
  {
   "cell_type": "markdown",
   "metadata": {},
   "source": [
    "### 2-я реализация"
   ]
  },
  {
   "cell_type": "code",
   "execution_count": null,
   "metadata": {},
   "outputs": [],
   "source": [
    "# Definition for a binary tree node.\n",
    "# class TreeNode:\n",
    "#     def __init__(self, val=0, left=None, right=None):\n",
    "#         self.val = val\n",
    "#         self.left = left\n",
    "#         self.right = right\n",
    "class Solution:\n",
    "    def isValidBST(self, root: Optional[TreeNode]) -> bool:\n",
    "        stack = [(root,float('-inf'),float('inf'))] \n",
    "\n",
    "        while stack:\n",
    "            node,min_r,max_r = stack.pop()\n",
    "            \n",
    "            if not node:\n",
    "                continue\n",
    "            if node.val <= min_r or node.val >=max_r:\n",
    "                return False\n",
    "            \n",
    "            stack.append((node.left,min_r,node.val))\n",
    "            stack.append((node.right,node.val,max_r))\n",
    "\n",
    "        return True"
   ]
  },
  {
   "cell_type": "markdown",
   "metadata": {},
   "source": [
    "## Leetcode 110. Balanced Binary Tree\n",
    "Given a binary tree, determine if it is height-balanced. Height-Balanced\n",
    "A height-balanced binary tree is a binary tree in which the depth of the two subtrees of every node never differs by more than one."
   ]
  },
  {
   "cell_type": "code",
   "execution_count": null,
   "metadata": {},
   "outputs": [],
   "source": [
    "# Definition for a binary tree node.\n",
    "# class TreeNode:\n",
    "#     def __init__(self, val=0, left=None, right=None):\n",
    "#         self.val = val\n",
    "#         self.left = left\n",
    "#         self.right = right\n",
    "class Solution:\n",
    "    def isBalanced(self, root: Optional[TreeNode]) -> bool:\n",
    "        def height(root):\n",
    "            if not root:\n",
    "                return 0\n",
    "            return 1 + max(height(root.left),height(root.right))\n",
    "        \n",
    "        if not root:\n",
    "            return True\n",
    "        \n",
    "        left_h = height(root.left)\n",
    "        right_h = height(root.right)\n",
    "\n",
    "        if abs(left_h - right_h) > 1:\n",
    "            return False\n",
    "        return self.isBalanced(root.left) and self.isBalanced(root.right)"
   ]
  },
  {
   "cell_type": "markdown",
   "metadata": {},
   "source": [
    "# BFS Time O(n) Memory O(n/2) = O(n)"
   ]
  },
  {
   "cell_type": "markdown",
   "metadata": {},
   "source": [
    "## Leetcode 102. Binary Tree Level Order Traversal\n",
    "Given the root of a binary tree, return the level order traversal of its nodes' values. (i.e., from left to right, level by level)."
   ]
  },
  {
   "cell_type": "code",
   "execution_count": 2,
   "metadata": {},
   "outputs": [],
   "source": [
    "# Definition for a binary tree node.\n",
    "# class TreeNode:\n",
    "#     def __init__(self, val=0, left=None, right=None):\n",
    "#         self.val = val\n",
    "#         self.left = left\n",
    "#         self.right = right\n",
    "class Solution:\n",
    "    def levelOrder(self, root):\n",
    "        if not root:\n",
    "            return []\n",
    "\n",
    "        result = []\n",
    "        q=deque([root])\n",
    "       \n",
    "        while q:\n",
    "            level_size = len(q)\n",
    "            current_level = []\n",
    "\n",
    "            for _ in range(level_size):\n",
    "                node = q.popleft()\n",
    "                current_level.append(node.val)\n",
    "\n",
    "                if node.left:\n",
    "                    q.append(node.left)\n",
    "                if node.right:\n",
    "                    q.append(node.right)\n",
    "\n",
    "            result.append(current_level)\n",
    "\n",
    "        return result "
   ]
  },
  {
   "cell_type": "markdown",
   "metadata": {},
   "source": [
    "## Leetcode 1448. Count Good Nodes in Binary Tree\n",
    "Given a binary tree root, a node X in the tree is named good if in the path from root to X there are no nodes with a value greater than X.\n",
    "\n",
    "Return the number of good nodes in the binary tree."
   ]
  },
  {
   "cell_type": "code",
   "execution_count": null,
   "metadata": {},
   "outputs": [],
   "source": [
    "# Definition for a binary tree node.\n",
    "# class TreeNode:\n",
    "#     def __init__(self, val=0, left=None, right=None):\n",
    "#         self.val = val\n",
    "#         self.left = left\n",
    "#         self.right = right\n",
    "class Solution:\n",
    "    def goodNodes(self, root: TreeNode) -> int:\n",
    "        # Time O(n)\n",
    "\n",
    "        def dfs(node,maxVal):\n",
    "            if not node:\n",
    "                return 0\n",
    "            res = 1 if node.val >=maxVal else 0\n",
    "            maxVal = max(maxVal,node.val)\n",
    "            res += dfs(node.left,maxVal)\n",
    "            res += dfs(node.right,maxVal)\n",
    "            return res\n",
    "        \n",
    "        return dfs(root,root.val)"
   ]
  },
  {
   "cell_type": "markdown",
   "metadata": {},
   "source": [
    "## Leetcode 617. Merge Two Binary Trees\n",
    "You are given two binary trees root1 and root2.\n",
    "\n",
    "Imagine that when you put one of them to cover the other, some nodes of the two trees are overlapped while the others are not. You need to merge the two trees into a new binary tree. The merge rule is that if two nodes overlap, then sum node values up as the new value of the merged node. Otherwise, the NOT null node will be used as the node of the new tree.\n",
    "\n",
    "Return the merged tree.\n",
    "\n",
    "Note: The merging process must start from the root nodes of both trees."
   ]
  },
  {
   "cell_type": "code",
   "execution_count": null,
   "metadata": {},
   "outputs": [],
   "source": [
    "# Definition for a binary tree node.\n",
    "# class TreeNode:\n",
    "#     def __init__(self, val=0, left=None, right=None):\n",
    "#         self.val = val\n",
    "#         self.left = left\n",
    "#         self.right = right\n",
    "class Solution:\n",
    "    def mergeTrees(self, t1: Optional[TreeNode], t2: Optional[TreeNode]) -> Optional[TreeNode]:\n",
    "        # Time O(n+m)\n",
    "        if not t1 and not t2:\n",
    "            return None\n",
    "        \n",
    "        v1 = t1.val if t1 else 0\n",
    "        v2 = t2.val if t2 else 0\n",
    "\n",
    "        root = TreeNode(v1 + v2)\n",
    "        root.left = self.mergeTrees(t1.left if t1 else None,t2.left if t2 else None)\n",
    "        root.right = self.mergeTrees(t1.right if t1 else None,t2.right if t2 else None)\n",
    "\n",
    "        return root\n"
   ]
  },
  {
   "cell_type": "markdown",
   "metadata": {},
   "source": [
    "## Leetcode 129. Sum Root to Leaf Numbers\n",
    "You are given the root of a binary tree containing digits from 0 to 9 only.\n",
    "\n",
    "Each root-to-leaf path in the tree represents a number.\n",
    "\n",
    "For example, the root-to-leaf path 1 -> 2 -> 3 represents the number 123.\n",
    "Return the total sum of all root-to-leaf numbers. Test cases are generated so that the answer will fit in a 32-bit integer.\n",
    "\n",
    "A leaf node is a node with no children."
   ]
  },
  {
   "cell_type": "code",
   "execution_count": null,
   "metadata": {},
   "outputs": [],
   "source": [
    "# Definition for a binary tree node.\n",
    "# class TreeNode:\n",
    "#     def __init__(self, val=0, left=None, right=None):\n",
    "#         self.val = val\n",
    "#         self.left = left\n",
    "#         self.right = right\n",
    "class Solution:\n",
    "    def sumNumbers(self, root: Optional[TreeNode]) -> int:\n",
    "        \n",
    "        def dfs(cur,num):\n",
    "            if not cur:\n",
    "                return 0\n",
    "            num = num*10 + cur.val\n",
    "            if not cur.left and not cur.right:\n",
    "                return num\n",
    "            return dfs(cur.left,num) + dfs(cur.right,num)\n",
    "        return dfs(root,0)"
   ]
  },
  {
   "cell_type": "markdown",
   "metadata": {},
   "source": [
    "## Leetcode 515. Find Largest Value in Each Tree Row\n",
    "Given the root of a binary tree, return an array of the largest value in each row of the tree (0-indexed).\n"
   ]
  },
  {
   "cell_type": "code",
   "execution_count": 4,
   "metadata": {},
   "outputs": [],
   "source": [
    "# Definition for a binary tree node.\n",
    "# class TreeNode:\n",
    "#     def __init__(self, val=0, left=None, right=None):\n",
    "#         self.val = val\n",
    "#         self.left = left\n",
    "#         self.right = right\n",
    "class Solution:\n",
    "    def largestValues(self, root):\n",
    "        if not root:\n",
    "            return []\n",
    "\n",
    "        result = []\n",
    "        q=deque([root])\n",
    "       \n",
    "        while q:\n",
    "            level_size = len(q)\n",
    "            level_max = float('-inf')\n",
    "\n",
    "            for _ in range(level_size):\n",
    "                node = q.popleft()\n",
    "                level_max = max(level_max,node.val)\n",
    "\n",
    "                if node.left:\n",
    "                    q.append(node.left)\n",
    "                if node.right:\n",
    "                    q.append(node.right)\n",
    "\n",
    "            result.append(level_max)\n",
    "\n",
    "        return result "
   ]
  },
  {
   "cell_type": "markdown",
   "metadata": {},
   "source": [
    "## Leetcode 199. Binary Tree Right Side View\n",
    "Given the root of a binary tree, imagine yourself standing on the right side of it, return the values of the nodes you can see ordered from top to bottom."
   ]
  },
  {
   "cell_type": "code",
   "execution_count": 6,
   "metadata": {},
   "outputs": [],
   "source": [
    "# Definition for a binary tree node.\n",
    "# class TreeNode:\n",
    "#     def __init__(self, val=0, left=None, right=None):\n",
    "#         self.val = val\n",
    "#         self.left = left\n",
    "#         self.right = right\n",
    "class Solution:\n",
    "    def rightSideView(self, root):\n",
    "        if not root:\n",
    "            return []\n",
    "\n",
    "        result = []\n",
    "        q=deque([root])\n",
    "       \n",
    "        while q:\n",
    "            level_size = len(q)\n",
    "\n",
    "            for i in range(level_size):\n",
    "                node = q.popleft()\n",
    "\n",
    "                if i == level_size - 1:\n",
    "                    result.append(node.val)\n",
    "\n",
    "                if node.left:\n",
    "                    q.append(node.left)\n",
    "                if node.right:\n",
    "                    q.append(node.right)\n",
    "\n",
    "\n",
    "        return result  "
   ]
  },
  {
   "cell_type": "markdown",
   "metadata": {},
   "source": [
    "## Leetcode 117. Populating Next Right Pointers in Each Node II\n",
    "Given a binary tree\n",
    "\n",
    "struct Node {\n",
    "  int val;\n",
    "  Node *left;\n",
    "  Node *right;\n",
    "  Node *next;\n",
    "}\n",
    "Populate each next pointer to point to its next right node. If there is no next right node, the next pointer should be set to NULL.\n",
    "\n",
    "Initially, all next pointers are set to NULL."
   ]
  },
  {
   "cell_type": "code",
   "execution_count": null,
   "metadata": {},
   "outputs": [],
   "source": [
    "\"\"\"\n",
    "# Definition for a Node.\n",
    "class Node:\n",
    "    def __init__(self, val: int = 0, left: 'Node' = None, right: 'Node' = None, next: 'Node' = None):\n",
    "        self.val = val\n",
    "        self.left = left\n",
    "        self.right = right\n",
    "        self.next = next\n",
    "\"\"\"\n",
    "#Time O(n)\n",
    "#Memory O(1)\n",
    "class Solution:\n",
    "    def connect(self, root: 'Node') -> 'Node':\n",
    "        cur,nxt = node, node.left if node else None\n",
    "\n",
    "        while cur and nxt:\n",
    "            cur.left.next = cur.right\n",
    "            if cur.next:\n",
    "                cur.right.next = cur.next.left\n",
    "\n",
    "            cur = cur.next\n",
    "            if not cur:\n",
    "                cur = nxt\n",
    "                nxt = cur.left\n",
    "\n",
    "        return node"
   ]
  },
  {
   "cell_type": "markdown",
   "metadata": {},
   "source": [
    "## Leetcode 1325. Delete Leaves With a Given Value\n",
    "Given a binary tree root and an integer target, delete all the leaf nodes with value target.\n",
    "\n",
    "Note that once you delete a leaf node with value target, if its parent node becomes a leaf node and has the value target, it should also be deleted (you need to continue doing that until you cannot).\n",
    "\n"
   ]
  },
  {
   "cell_type": "code",
   "execution_count": null,
   "metadata": {},
   "outputs": [],
   "source": [
    "# Definition for a binary tree node.\n",
    "# class TreeNode:\n",
    "#     def __init__(self, val=0, left=None, right=None):\n",
    "#         self.val = val\n",
    "#         self.left = left\n",
    "#         self.right = right\n",
    "class Solution:\n",
    "    def removeLeafNodes(self, root: Optional[TreeNode], target: int) -> Optional[TreeNode]:\n",
    "        if not root:\n",
    "            return None\n",
    "        \n",
    "        root.left = self.removeLeafNodes(root.left, target)\n",
    "        root.right = self.removeLeafNodes(root.right, target)\n",
    "\n",
    "        if not root.left and not root.right and root.val == target:\n",
    "            return None\n",
    "        \n",
    "        return root"
   ]
  },
  {
   "cell_type": "markdown",
   "metadata": {},
   "source": [
    "## Leetcode 100. Same Tree\n",
    "Given the roots of two binary trees p and q, write a function to check if they are the same or not.\n",
    "\n",
    "Two binary trees are considered the same if they are structurally identical, and the nodes have the same value."
   ]
  },
  {
   "cell_type": "code",
   "execution_count": null,
   "metadata": {},
   "outputs": [],
   "source": [
    "# Definition for a binary tree node.\n",
    "# class TreeNode:\n",
    "#     def __init__(self, val=0, left=None, right=None):\n",
    "#         self.val = val\n",
    "#         self.left = left\n",
    "#         self.right = right\n",
    "class Solution:\n",
    "    def isSameTree(self, p: Optional[TreeNode], q: Optional[TreeNode]) -> bool:\n",
    "        # Time O(p+q)\n",
    "        if not p and not q:\n",
    "            return True\n",
    "        if (not p or not q) or (p.val != q.val):\n",
    "            return False \n",
    "\n",
    "        return (self.isSameTree(p.left,q.left) and\n",
    "        self.isSameTree(p.right,q.right))"
   ]
  },
  {
   "cell_type": "markdown",
   "metadata": {},
   "source": [
    "## Leetcode 1302. Deepest Leaves Sum\n",
    "Given the root of a binary tree, return the sum of values of its deepest leaves.\n"
   ]
  },
  {
   "cell_type": "code",
   "execution_count": null,
   "metadata": {},
   "outputs": [],
   "source": []
  },
  {
   "cell_type": "markdown",
   "metadata": {},
   "source": [
    "## Leetcode 110. Balanced Binary Tree\n",
    "Given a binary tree, determine if it is height-balanced.\n"
   ]
  },
  {
   "cell_type": "code",
   "execution_count": null,
   "metadata": {},
   "outputs": [],
   "source": [
    "from lintcode import (\n",
    "    TreeNode,\n",
    ")\n",
    "\n",
    "\"\"\"\n",
    "Definition of TreeNode:\n",
    "class TreeNode:\n",
    "    def __init__(self, val):\n",
    "        self.val = val\n",
    "        self.left, self.right = None, None\n",
    "\"\"\"\n",
    "\n",
    "class Solution:\n",
    "    \"\"\"\n",
    "    @param root: The root of binary tree.\n",
    "    @return: True if this Binary tree is Balanced, or false.\n",
    "    \"\"\"\n",
    "    def is_balanced(self, root: TreeNode) -> bool:\n",
    "        # write your code here\n",
    "\n",
    "        def dfs(root):\n",
    "            if not root:\n",
    "                return [True, 0]\n",
    "            left,right = dfs(root.left),dfs(root.right)\n",
    "            balance = left[0] and right[0] and abs(left[1] - right[1]) <=1\n",
    "\n",
    "            return [balance,1+max(left[1],right[1])]\n",
    "\n",
    "        return dfs(root)[0]"
   ]
  },
  {
   "cell_type": "markdown",
   "metadata": {},
   "source": [
    "## Leetcode 543. Diameter of Binary Tree\n",
    "Given the root of a binary tree, return the length of the diameter of the tree.\n",
    "\n",
    "The diameter of a binary tree is the length of the longest path between any two nodes in a tree. This path may or may not pass through the root.\n",
    "\n",
    "The length of a path between two nodes is represented by the number of edges between them."
   ]
  },
  {
   "cell_type": "code",
   "execution_count": 8,
   "metadata": {},
   "outputs": [],
   "source": [
    "# Definition for a binary tree node.\n",
    "# class TreeNode:\n",
    "#     def __init__(self, val=0, left=None, right=None):\n",
    "#         self.val = val\n",
    "#         self.left = left\n",
    "#         self.right = right\n",
    "class Solution:\n",
    "    def diameterOfBinaryTree(self, root) -> int:\n",
    "        self.d=0\n",
    "        def depth(root):\n",
    "            if not root:\n",
    "                return 0\n",
    "            l = depth(root.left)\n",
    "            r = depth(root.right)\n",
    "            self.d=max(self.d,l+r)\n",
    "            return max(l,r) + 1\n",
    "\n",
    "        depth(root)\n",
    "        return self.d"
   ]
  },
  {
   "cell_type": "markdown",
   "metadata": {},
   "source": [
    "## Leetcode 103. Binary Tree Zigzag Level Order Traversal\n",
    "Given the root of a binary tree, return the zigzag level order traversal of its nodes' values. (i.e., from left to right, then right to left for the next level and alternate between).\n",
    "\n"
   ]
  },
  {
   "cell_type": "code",
   "execution_count": null,
   "metadata": {},
   "outputs": [],
   "source": []
  },
  {
   "cell_type": "markdown",
   "metadata": {},
   "source": [
    "## Leetcode 236. Lowest Common Ancestor of a Binary Tree\n",
    "Given a binary tree, find the lowest common ancestor (LCA) of two given nodes in the tree.\n",
    "\n",
    "According to the definition of LCA on Wikipedia: “The lowest common ancestor is defined between two nodes p and q as the lowest node in T that has both p and q as descendants (where we allow a node to be a descendant of itself).”"
   ]
  },
  {
   "cell_type": "code",
   "execution_count": null,
   "metadata": {},
   "outputs": [],
   "source": [
    "# Definition for a binary tree node.\n",
    "# class TreeNode:\n",
    "#     def __init__(self, x):\n",
    "#         self.val = x\n",
    "#         self.left = None\n",
    "#         self.right = None\n",
    "\n",
    "class Solution:\n",
    "    def lowestCommonAncestor(self, root: 'TreeNode', p: 'TreeNode', q: 'TreeNode') -> 'TreeNode':\n",
    "        if not root:\n",
    "            return None\n",
    "        \n",
    "        if root == p or root == q:\n",
    "            return root\n",
    "\n",
    "        l= self.lowestCommonAncestor(root.left,p,q)\n",
    "        r= self.lowestCommonAncestor(root.right,p,q)\n",
    "\n",
    "        if l and r:\n",
    "            return root\n",
    "        \n",
    "        if l:\n",
    "            return l\n",
    "        \n",
    "        if r:\n",
    "            return r\n",
    "\n",
    "        return None"
   ]
  },
  {
   "cell_type": "markdown",
   "metadata": {},
   "source": [
    "# Trie (Префиксное дерево)"
   ]
  },
  {
   "cell_type": "markdown",
   "metadata": {},
   "source": [
    "## Leetcode 208. Implement Trie (Prefix Tree)\n",
    "A trie (pronounced as \"try\") or prefix tree is a tree data structure used to efficiently store and retrieve keys in a dataset of strings. There are various applications of this data structure, such as autocomplete and spellchecker.\n",
    "\n",
    "Implement the Trie class:\n",
    "\n",
    "Trie() Initializes the trie object.\n",
    "void insert(String word) Inserts the string word into the trie.\n",
    "boolean search(String word) Returns true if the string word is in the trie (i.e., was inserted before), and false otherwise.\n",
    "boolean startsWith(String prefix) Returns true if there is a previously inserted string word that has the prefix prefix, and false otherwise."
   ]
  },
  {
   "cell_type": "code",
   "execution_count": null,
   "metadata": {},
   "outputs": [],
   "source": [
    "class Node:\n",
    "    def __init__(self):\n",
    "        self.children = {}\n",
    "        self.terminal = False\n",
    "\n",
    "class Trie:\n",
    "\n",
    "    def __init__(self):\n",
    "        self.root = Node()\n",
    "\n",
    "    def insert(self, word: str) -> None:\n",
    "        node = self.root\n",
    "        for ch in word:\n",
    "            if ch not in node.children:\n",
    "                node.children[ch] = Node()\n",
    "            node = node.children[ch]\n",
    "        node.terminal = True\n",
    "\n",
    "    def search(self, word: str) -> bool:\n",
    "        node = self.root\n",
    "        for ch in word:\n",
    "            if ch not in node.children:\n",
    "                return False\n",
    "            node = node.children[ch]\n",
    "        return node.terminal\n",
    "\n",
    "    def startsWith(self, prefix: str) -> bool:\n",
    "        node = self.root\n",
    "        for ch in prefix:\n",
    "            if ch not in node.children:\n",
    "                return False\n",
    "            node = node.children[ch]\n",
    "        return True\n",
    "\n",
    "\n",
    "# Your Trie object will be instantiated and called as such:\n",
    "# obj = Trie()\n",
    "# obj.insert(word)\n",
    "# param_2 = obj.search(word)\n",
    "# param_3 = obj.startsWith(prefix)"
   ]
  },
  {
   "cell_type": "markdown",
   "metadata": {},
   "source": [
    "## Leetcode 1268. Search Suggestions System\n",
    "You are given an array of strings products and a string searchWord.\n",
    "\n",
    "Design a system that suggests at most three product names from products after each character of searchWord is typed. Suggested products should have common prefix with searchWord. If there are more than three products with a common prefix return the three lexicographically minimums products.\n",
    "\n",
    "Return a list of lists of the suggested products after each character of searchWord is typed.\n",
    "Input: products = [\"mobile\",\"mouse\",\"moneypot\",\"monitor\",\"mousepad\"], searchWord = \"mouse\"\n",
    "Output: [[\"mobile\",\"moneypot\",\"monitor\"],[\"mobile\",\"moneypot\",\"monitor\"],[\"mouse\",\"mousepad\"],[\"mouse\",\"mousepad\"],[\"mouse\",\"mousepad\"]]\n",
    "Explanation: products sorted lexicographically = [\"mobile\",\"moneypot\",\"monitor\",\"mouse\",\"mousepad\"].\n",
    "After typing m and mo all products match and we show user [\"mobile\",\"moneypot\",\"monitor\"].\n",
    "After typing mou, mous and mouse the system suggests [\"mouse\",\"mousepad\"]."
   ]
  },
  {
   "cell_type": "code",
   "execution_count": null,
   "metadata": {},
   "outputs": [],
   "source": [
    "class Node:\n",
    "    def __init__(self):\n",
    "        self.children = {}\n",
    "        self.words = []\n",
    "\n",
    "class Trie:\n",
    "\n",
    "    def __init__(self):\n",
    "        self.root = Node()\n",
    "\n",
    "    def insert(self, word: str) -> None:\n",
    "        node = self.root\n",
    "        for ch in word:\n",
    "            if ch not in node.children:\n",
    "                node.children[ch] = Node()\n",
    "            node = node.children[ch]\n",
    "            node.words.append(word)\n",
    "\n",
    "    def search(self, word: str) -> bool:\n",
    "        node = self.root\n",
    "        for ch in word:\n",
    "            if ch not in node.children:\n",
    "                return False\n",
    "            node = node.children[ch]\n",
    "        return node.words\n",
    "\n",
    "class Solution:\n",
    "    def suggestedProducts(self, products: List[str], searchWord: str) -> List[List[str]]:\n",
    "        root = Trie()\n",
    "        for word in products:\n",
    "            root.insert(word)\n",
    "\n",
    "        result = []\n",
    "\n",
    "        for i in range(len(searchWord)):\n",
    "            found = root.search(searchWord[:i+1])\n",
    "            if found:\n",
    "                result.append(sorted(found)[:3])\n",
    "            else:\n",
    "                result.append([])\n",
    "            \n",
    "        return result\n"
   ]
  },
  {
   "cell_type": "markdown",
   "metadata": {},
   "source": [
    "## Leetcode 94. Binary Tree Inorder Traversal\n",
    "Given the root of a binary tree, return the inorder traversal of its nodes' values.\n",
    "\n"
   ]
  },
  {
   "cell_type": "code",
   "execution_count": null,
   "metadata": {},
   "outputs": [],
   "source": [
    "# Definition for a binary tree node.\n",
    "# class TreeNode:\n",
    "#     def __init__(self, val=0, left=None, right=None):\n",
    "#         self.val = val\n",
    "#         self.left = left\n",
    "#         self.right = right\n",
    "class Solution:\n",
    "    def inorderTraversal(self, root: Optional[TreeNode]) -> List[int]:\n",
    "        res = []\n",
    "        stack = []\n",
    "\n",
    "        while root or stack:\n",
    "            while root:\n",
    "                stack.append(root)\n",
    "                root = root.left\n",
    "            root = stack.pop()\n",
    "            res.append(root.val)\n",
    "            root = root.right\n",
    "        return res"
   ]
  },
  {
   "cell_type": "markdown",
   "metadata": {},
   "source": [
    "## Leetcode 144. Binary Tree Preorder Traversal\n",
    "Given the root of a binary tree, return the preorder traversal of its nodes' values."
   ]
  },
  {
   "cell_type": "code",
   "execution_count": null,
   "metadata": {},
   "outputs": [],
   "source": [
    "# Definition for a binary tree node.\n",
    "# class TreeNode:\n",
    "#     def __init__(self, val=0, left=None, right=None):\n",
    "#         self.val = val\n",
    "#         self.left = left\n",
    "#         self.right = right\n",
    "\n",
    "#Time O(n) Memory O(n)\n",
    "class Solution:\n",
    "    def preorderTraversal(self, root: Optional[TreeNode]) -> List[int]:\n",
    "        stack = [root]\n",
    "        res = []\n",
    "\n",
    "        if not root:\n",
    "            return res\n",
    "        \n",
    "        while stack:\n",
    "            node = stack.pop()\n",
    "            res.append(node.val)\n",
    "            if node.right:\n",
    "                stack.append(node.right)\n",
    "            if node.left:\n",
    "                stack.append(node.left)\n",
    "\n",
    "        return res"
   ]
  },
  {
   "cell_type": "markdown",
   "metadata": {},
   "source": [
    "## Leetcode 1008. Construct Binary Search Tree from Preorder Traversal\n",
    "Given an array of integers preorder, which represents the preorder traversal of a BST (i.e., binary search tree), construct the tree and return its root.\n",
    "\n",
    "It is guaranteed that there is always possible to find a binary search tree with the given requirements for the given test cases.\n",
    "\n",
    "A binary search tree is a binary tree where for every node, any descendant of Node.left has a value strictly less than Node.val, and any descendant of Node.right has a value strictly greater than Node.val.\n",
    "\n",
    "A preorder traversal of a binary tree displays the value of the node first, then traverses Node.left, then traverses Node.right.\n",
    "\n"
   ]
  },
  {
   "cell_type": "code",
   "execution_count": null,
   "metadata": {},
   "outputs": [],
   "source": [
    "# Definition for a binary tree node.\n",
    "# class TreeNode:\n",
    "#     def __init__(self, val=0, left=None, right=None):\n",
    "#         self.val = val\n",
    "#         self.left = left\n",
    "#         self.right = right\n",
    "\n",
    "#Time O(n) Memory O(n)\n",
    "class Solution:\n",
    "    def bstFromPreorder(self, preorder: List[int]) -> Optional[TreeNode]:\n",
    "        root= TreeNode(preorder[0])\n",
    "        stack = [root]\n",
    "\n",
    "        for idx in range(1,len(preorder)):\n",
    "            child =TreeNode(preorder[idx])\n",
    "            parent = stack[-1]\n",
    "\n",
    "            while stack and stack[-1].val < child.val:\n",
    "                parent = stack.pop()\n",
    "\n",
    "            if parent.val < child.val:\n",
    "                parent.right = child\n",
    "            else:\n",
    "                parent.left = child\n",
    "\n",
    "            stack.append(child)\n",
    "\n",
    "        return root"
   ]
  },
  {
   "cell_type": "markdown",
   "metadata": {},
   "source": [
    "# Heap"
   ]
  },
  {
   "cell_type": "markdown",
   "metadata": {},
   "source": [
    "## Реализация MinHeap"
   ]
  },
  {
   "cell_type": "code",
   "execution_count": 3,
   "metadata": {},
   "outputs": [],
   "source": [
    "class MinHeap:\n",
    "\n",
    "    def __init__(self):\n",
    "        \"\"\"Инициализация пустой кучи\"\"\"\n",
    "        self.heap = []\n",
    "\n",
    "    def parent(self,index):\n",
    "        \"\"\"Возвращает индекс родительского узла\"\"\"\n",
    "        return (index - 1)//2\n",
    "    \n",
    "    def left_child(self,index):\n",
    "        \"\"\"Возвращает индекс левого дочернего узла\"\"\"\n",
    "        return 2*index+1\n",
    "    \n",
    "    def right_child(self,index):\n",
    "        \"\"\"Возвращает индекс правого дочернего узла\"\"\"\n",
    "        return 2*index+2\n",
    "\n",
    "    def insert(self,value):\n",
    "        \"\"\"Вставка нового элемента в кучу\"\"\"\n",
    "        self.heap.append(value)\n",
    "        self._heapify_up(len(self.heap) - 1)\n",
    "\n",
    "    def _heapify_up(self,index):\n",
    "        \"\"\"Восстановление свойств кучи после вставки\"\"\"\n",
    "        while index > 0 and self.heap[index] < self.heap[self.parent(index)]:\n",
    "            self.heap[index],self.heap[self.parent(index)] = self.heap[self.parent(index)],self.heap[index]\n",
    "            index = self.parent(index)\n",
    "\n",
    "    def extract_min(self):\n",
    "        \"\"\"Удаляет и возвращает минимальный элемент кучи\"\"\"\n",
    "        if not self.heap:\n",
    "            raise IndexError('Heap is Empty')\n",
    "        \n",
    "        if len(self.heap) == 1:\n",
    "            return self.heap.pop()\n",
    "        \n",
    "        min_value = self.heap[0]\n",
    "        self.heap[0] = self.heap.pop()\n",
    "        self._heapify_down(0)\n",
    "        return min_value\n",
    "    \n",
    "    def _heapify_down(self,index):\n",
    "        \"\"\"Восстановление свойств кучи после удаления минимального элемента\"\"\"\n",
    "        smallest = index\n",
    "        left = self.left_child(index)\n",
    "        right = self.right_child(index)\n",
    "\n",
    "        if left < len(self.heap) and self.heap[left] < self.heap[smallest]:\n",
    "            smallest = left\n",
    "        \n",
    "        if right < len(self.heap) and self.heap[right] < self.heap[smallest]: \n",
    "            smallest = right\n",
    "\n",
    "        if smallest != index:\n",
    "            self.heap[index],self.heap[smallest] = self.heap[smallest],self.heap[index]\n",
    "            self._heapify_down(smallest)\n",
    "\n",
    "    def peek(self):\n",
    "        \"\"\"Возвращает минимальный элемент без удаления\"\"\"\n",
    "        if not self.heap:\n",
    "            raise IndexError('Heap is empty')\n",
    "        return self.heap[0]\n",
    "    \n",
    "    def size(self):\n",
    "        \"\"\"Возвращает количество элементов в куче\"\"\"\n",
    "        return len(self.heap)\n",
    "    \n",
    "    def is_empty(self):\n",
    "        \"\"\"Проверяет, пуста ли куча\"\"\"\n",
    "        return len(self.heap) == 0\n",
    "    \n",
    "    def __str__(self):\n",
    "        \"\"\"Возвращает строковое представление кучи\"\"\"\n",
    "        return str(self.heap)"
   ]
  },
  {
   "cell_type": "code",
   "execution_count": 4,
   "metadata": {},
   "outputs": [
    {
     "name": "stdout",
     "output_type": "stream",
     "text": [
      "Heap: [2, 5, 15, 10, 20]\n",
      "Min Element: 2\n",
      "Heap after extraction: [5, 10, 15, 20]\n"
     ]
    }
   ],
   "source": [
    "# Пример использования\n",
    "heap = MinHeap()\n",
    "heap.insert(10)\n",
    "heap.insert(5)\n",
    "heap.insert(15)\n",
    "heap.insert(2)\n",
    "heap.insert(20)\n",
    "print(\"Heap:\", heap)\n",
    "print(\"Min Element:\", heap.extract_min())\n",
    "print(\"Heap after extraction:\", heap)"
   ]
  },
  {
   "cell_type": "markdown",
   "metadata": {},
   "source": [
    "## Реализация MaxHeap"
   ]
  },
  {
   "cell_type": "code",
   "execution_count": 5,
   "metadata": {},
   "outputs": [
    {
     "name": "stdout",
     "output_type": "stream",
     "text": [
      "Heap: [20, 15, 10, 2, 5]\n",
      "Max Element: 20\n",
      "Heap after extraction: [15, 5, 10, 2]\n"
     ]
    }
   ],
   "source": [
    "class MaxHeap:\n",
    "    def __init__(self):\n",
    "        \"\"\"\n",
    "        Инициализация пустой кучи\n",
    "        \"\"\"\n",
    "        self.heap = []\n",
    "\n",
    "    def parent(self, index):\n",
    "        \"\"\"\n",
    "        Возвращает индекс родительского узла\n",
    "        \"\"\"\n",
    "        return (index - 1) // 2\n",
    "\n",
    "    def left_child(self, index):\n",
    "        \"\"\"\n",
    "        Возвращает индекс левого дочернего узла\n",
    "        \"\"\"\n",
    "        return 2 * index + 1\n",
    "\n",
    "    def right_child(self, index):\n",
    "        \"\"\"\n",
    "        Возвращает индекс правого дочернего узла\n",
    "        \"\"\"\n",
    "        return 2 * index + 2\n",
    "\n",
    "    def insert(self, value):\n",
    "        \"\"\"\n",
    "        Вставка нового элемента в кучу\n",
    "        \"\"\"\n",
    "        self.heap.append(value)\n",
    "        self._heapify_up(len(self.heap) - 1)\n",
    "\n",
    "    def _heapify_up(self, index):\n",
    "        \"\"\"\n",
    "        Восстановление свойств кучи после вставки\n",
    "        \"\"\"\n",
    "        while index > 0 and self.heap[index] > self.heap[self.parent(index)]:\n",
    "            self.heap[index], self.heap[self.parent(index)] = self.heap[self.parent(index)], self.heap[index]\n",
    "            index = self.parent(index)\n",
    "\n",
    "    def extract_max(self):\n",
    "        \"\"\"\n",
    "        Удаляет и возвращает максимальный элемент кучи\n",
    "        \"\"\"\n",
    "        if not self.heap:\n",
    "            raise IndexError(\"Heap is empty\")\n",
    "        \n",
    "        if len(self.heap) == 1:\n",
    "            return self.heap.pop()\n",
    "        \n",
    "        max_value = self.heap[0]\n",
    "        self.heap[0] = self.heap.pop()\n",
    "        self._heapify_down(0)\n",
    "        return max_value\n",
    "\n",
    "    def _heapify_down(self, index):\n",
    "        \"\"\"\n",
    "        Восстановление свойств кучи после удаления максимального элемента\n",
    "        \"\"\"\n",
    "        largest = index\n",
    "        left = self.left_child(index)\n",
    "        right = self.right_child(index)\n",
    "        \n",
    "        if left < len(self.heap) and self.heap[left] > self.heap[largest]:\n",
    "            largest = left\n",
    "        if right < len(self.heap) and self.heap[right] > self.heap[largest]:\n",
    "            largest = right\n",
    "        \n",
    "        if largest != index:\n",
    "            self.heap[index], self.heap[largest] = self.heap[largest], self.heap[index]\n",
    "            self._heapify_down(largest)\n",
    "\n",
    "    def peek(self):\n",
    "        \"\"\"\n",
    "        Возвращает максимальный элемент без удаления\n",
    "        \"\"\"\n",
    "        if not self.heap:\n",
    "            raise IndexError(\"Heap is empty\")\n",
    "        return self.heap[0]\n",
    "\n",
    "    def size(self):\n",
    "        \"\"\"\n",
    "        Возвращает количество элементов в куче\n",
    "        \"\"\"\n",
    "        return len(self.heap)\n",
    "\n",
    "    def is_empty(self):\n",
    "        \"\"\"\n",
    "        Проверяет, пуста ли куча\n",
    "        \"\"\"\n",
    "        return len(self.heap) == 0\n",
    "\n",
    "    def __str__(self):\n",
    "        \"\"\"\n",
    "        Возвращает строковое представление кучи\n",
    "        \"\"\"\n",
    "        return str(self.heap)\n",
    "\n",
    "# Пример использования\n",
    "heap = MaxHeap()\n",
    "heap.insert(10)\n",
    "heap.insert(5)\n",
    "heap.insert(15)\n",
    "heap.insert(2)\n",
    "heap.insert(20)\n",
    "print(\"Heap:\", heap)\n",
    "print(\"Max Element:\", heap.extract_max())\n",
    "print(\"Heap after extraction:\", heap)"
   ]
  },
  {
   "cell_type": "code",
   "execution_count": 4,
   "metadata": {},
   "outputs": [
    {
     "name": "stdout",
     "output_type": "stream",
     "text": [
      "[2, 2, 5, 41, 5, 6, 7]\n",
      "[0, 2, 5, 2, 5, 6, 7, 41]\n",
      "[0, 2, 5, 2, 5, 6, 7, 41]\n"
     ]
    }
   ],
   "source": [
    "import heapq\n",
    "min_heap = [2,41,5,2,5,6,7]\n",
    "heapq.heapify(min_heap)\n",
    "print(min_heap)\n",
    "heapq.heappush(min_heap, 0)\n",
    "print(min_heap)\n",
    "heapq.heapify(min_heap)\n",
    "print(min_heap)"
   ]
  },
  {
   "cell_type": "code",
   "execution_count": 5,
   "metadata": {},
   "outputs": [
    {
     "data": {
      "text/plain": [
       "19"
      ]
     },
     "execution_count": 5,
     "metadata": {},
     "output_type": "execute_result"
    }
   ],
   "source": [
    "arr = [4,1,5,8,19,0,12]\n",
    "max_heap = []\n",
    "for num in arr:\n",
    "    heapq.heappush(max_heap, -num)\n",
    "\n",
    "-heapq.heappop(max_heap)"
   ]
  },
  {
   "cell_type": "markdown",
   "metadata": {},
   "source": [
    "## Leetcode 215. Kth Largest Element in an Array\n",
    "Given an integer array nums and an integer k, return the kth largest element in the array.\n",
    "\n",
    "Note that it is the kth largest element in the sorted order, not the kth distinct element.\n",
    "\n",
    "Can you solve it without sorting?"
   ]
  },
  {
   "cell_type": "code",
   "execution_count": null,
   "metadata": {},
   "outputs": [],
   "source": [
    "class Solution:\n",
    "    def findKthLargest(self, nums: List[int], k: int) -> int:\n",
    "        min_heap = []\n",
    "        for num in nums:\n",
    "            heapq.heappush(min_heap,num)\n",
    "            if len(min_heap) > k:\n",
    "                heapq.heappop(min_heap)\n",
    "\n",
    "        return min_heap[0]"
   ]
  },
  {
   "cell_type": "markdown",
   "metadata": {},
   "source": [
    "## Leetcode 703. Kth Largest Element in a Stream\n",
    "You are part of a university admissions office and need to keep track of the kth highest test score from applicants in real-time. This helps to determine cut-off marks for interviews and admissions dynamically as new applicants submit their scores.\n",
    "\n",
    "You are tasked to implement a class which, for a given integer k, maintains a stream of test scores and continuously returns the kth highest test score after a new score has been submitted. More specifically, we are looking for the kth highest score in the sorted list of all scores.\n",
    "\n",
    "Implement the KthLargest class:\n",
    "\n",
    "KthLargest(int k, int[] nums) Initializes the object with the integer k and the stream of test scores nums.\n",
    "int add(int val) Adds a new test score val to the stream and returns the element representing the kth largest element in the pool of test scores so far."
   ]
  },
  {
   "cell_type": "code",
   "execution_count": null,
   "metadata": {},
   "outputs": [],
   "source": [
    "class KthLargest:\n",
    "\n",
    "    def __init__(self, k: int, nums: List[int]):\n",
    "        self.min_heap = nums\n",
    "        self.k = k\n",
    "        heapq.heapify(self.min_heap)\n",
    "        while len(self.min_heap) > self.k:\n",
    "            heapq.heappop(self.min_heap)\n",
    "\n",
    "    def add(self, val: int) -> int:\n",
    "        heapq.heappush(self.min_heap,val)\n",
    "        if len(self.min_heap) > self.k:\n",
    "            heapq.heappop(self.min_heap)\n",
    "        return self.min_heap[0]\n",
    "\n",
    "# Your KthLargest object will be instantiated and called as such:\n",
    "# obj = KthLargest(k, nums)\n",
    "# param_1 = obj.add(val)"
   ]
  },
  {
   "cell_type": "code",
   "execution_count": null,
   "metadata": {},
   "outputs": [],
   "source": [
    "class KthLargest:\n",
    "\n",
    "    def __init__(self, k: int, nums: List[int]):\n",
    "        self.heap = nums\n",
    "        self.k = k\n",
    "        heapq.heapify(self.heap)\n",
    "        while len(self.heap) > self.k: # эти элементы пока не нужны, так как они не входят в К максимальных\n",
    "            heapq.heappop(self.heap)\n",
    "\n",
    "    def add(self, val: int) -> int:\n",
    "        heapq.heappush(self.heap, val)\n",
    "        if len(self.heap) > self.k:\n",
    "            heapq.heappop(self.heap)\n",
    "        return self.heap[0]\n",
    "\n"
   ]
  },
  {
   "cell_type": "markdown",
   "metadata": {},
   "source": [
    "## Leetcode 347. Top K Frequent Elements\n",
    "Given an integer array nums and an integer k, return the k most frequent elements. You may return the answer in any order."
   ]
  },
  {
   "cell_type": "markdown",
   "metadata": {},
   "source": [
    "### Реализация 1 Heap"
   ]
  },
  {
   "cell_type": "code",
   "execution_count": null,
   "metadata": {},
   "outputs": [],
   "source": [
    "from collections import Counter\n",
    "class Solution:\n",
    "    def topKFrequent(self, nums, k: int):\n",
    "        c = Counter(nums)\n",
    "        min_heap = []\n",
    "        for num,freq in c.items():\n",
    "            heapq.heappush(min_heap,(freq,num))\n",
    "\n",
    "            if len(min_heap) > k:\n",
    "                heapq.heappop(min_heap)\n",
    "\n",
    "        return [item[1] for item in min_heap]"
   ]
  },
  {
   "cell_type": "markdown",
   "metadata": {},
   "source": [
    "### Реализация 2 Bucket Sort"
   ]
  },
  {
   "cell_type": "code",
   "execution_count": null,
   "metadata": {},
   "outputs": [],
   "source": [
    "class Solution:\n",
    "    def topKFrequent(self, nums: List[int], k: int) -> List[int]:\n",
    "        counts = {}\n",
    "        freq = [[] for _ in range(len(nums)+1)]\n",
    "\n",
    "        for num in nums:\n",
    "            counts[num] = counts.get(num,0) + 1\n",
    "\n",
    "        for num, count in counts.items():\n",
    "            freq[count].append(num)\n",
    "\n",
    "        res = []\n",
    "\n",
    "        for i in range(len(freq)-1,0,-1):\n",
    "            for num in freq[i]:\n",
    "                res.append(num)\n",
    "                if len(res) == k:\n",
    "                    return res\n",
    "        return res"
   ]
  },
  {
   "cell_type": "markdown",
   "metadata": {},
   "source": [
    "## Leetcode 451. Sort Characters By Frequency\n",
    "Given a string s, sort it in decreasing order based on the frequency of the characters. The frequency of a character is the number of times it appears in the string.\n",
    "\n",
    "Return the sorted string. If there are multiple answers, return any of them."
   ]
  },
  {
   "cell_type": "code",
   "execution_count": null,
   "metadata": {},
   "outputs": [],
   "source": [
    "# Time O(nlogn) Memory O(n)\n",
    "from collections import Counter\n",
    "class Solution:\n",
    "    def frequencySort(self, s: str) -> str:\n",
    "        c = Counter(s)\n",
    "        max_heap = []\n",
    "\n",
    "        for ch,value in c.items():\n",
    "            heapq.heappush(max_heap,(-value, ch*value))\n",
    "\n",
    "        result = ''\n",
    "        while max_heap:\n",
    "            result+=heapq.heappop(max_heap)[1]\n",
    "\n",
    "        return result"
   ]
  },
  {
   "cell_type": "markdown",
   "metadata": {},
   "source": [
    "## Leetcode 1046. Last Stone Weight\n",
    "You are given an array of integers stones where stones[i] is the weight of the ith stone.\n",
    "\n",
    "We are playing a game with the stones. On each turn, we choose the heaviest two stones and smash them together. Suppose the heaviest two stones have weights x and y with x <= y. The result of this smash is:\n",
    "\n",
    "If x == y, both stones are destroyed, and\n",
    "If x != y, the stone of weight x is destroyed, and the stone of weight y has new weight y - x.\n",
    "At the end of the game, there is at most one stone left.\n",
    "\n",
    "Return the weight of the last remaining stone. If there are no stones left, return 0."
   ]
  },
  {
   "cell_type": "code",
   "execution_count": null,
   "metadata": {},
   "outputs": [],
   "source": [
    "class Solution:\n",
    "    def lastStoneWeight(self, stones: List[int]) -> int:\n",
    "        stones = [-stone for stone in stones]\n",
    "        heapq.heapify(stones)\n",
    "        \n",
    "        while len(stones) > 1:\n",
    "            first = - heapq.heappop(stones)\n",
    "            second = -heapq.heappop(stones)\n",
    "\n",
    "            if first != second:\n",
    "                heapq.heappush(stones, -(first - second))\n",
    "        \n",
    "        if len(stones) == 0:\n",
    "            return 0\n",
    "        else:\n",
    "            return -stones[0]\n"
   ]
  },
  {
   "cell_type": "code",
   "execution_count": null,
   "metadata": {},
   "outputs": [],
   "source": [
    "class Solution:\n",
    "    def lastStoneWeight(self, stones: List[int]) -> int:\n",
    "        stones = [-s for s in stones]\n",
    "        heapq.heapify(stones)\n",
    "\n",
    "        while len(stones) > 1:\n",
    "            first = heapq.heappop(stones)\n",
    "            second = heapq.heappop(stones)\n",
    "            if second > first:\n",
    "                heapq.heappush(stones,first - second)\n",
    "\n",
    "        stones.append(0)\n",
    "        return abs(stones[0])"
   ]
  },
  {
   "cell_type": "markdown",
   "metadata": {},
   "source": [
    "## Leetcode 502. IPO\n",
    "Suppose LeetCode will start its IPO soon. In order to sell a good price of its shares to Venture Capital, LeetCode would like to work on some projects to increase its capital before the IPO. Since it has limited resources, it can only finish at most k distinct projects before the IPO. Help LeetCode design the best way to maximize its total capital after finishing at most k distinct projects.\n",
    "\n",
    "You are given n projects where the ith project has a pure profit profits[i] and a minimum capital of capital[i] is needed to start it.\n",
    "\n",
    "Initially, you have w capital. When you finish a project, you will obtain its pure profit and the profit will be added to your total capital.\n",
    "\n",
    "Pick a list of at most k distinct projects from given projects to maximize your final capital, and return the final maximized capital.\n",
    "\n",
    "The answer is guaranteed to fit in a 32-bit signed integer.\n",
    "\n"
   ]
  },
  {
   "cell_type": "markdown",
   "metadata": {},
   "source": [
    "Смотрим на проекты, на которые у нас хватает денег сейчас и из них выбираем макс профик"
   ]
  },
  {
   "cell_type": "code",
   "execution_count": null,
   "metadata": {},
   "outputs": [],
   "source": [
    "class Solution:\n",
    "    def findMaximizedCapital(self, k: int, w: int, profits: List[int], capital: List[int]) -> int:\n",
    "        projects = sorted(list(zip(capital,profits))) # O(n logn)\n",
    "        can_afford = []\n",
    "        checked = 0\n",
    "\n",
    "        for _ in range(k):\n",
    "            while checked < len(projects) and projects[checked][0] <= w: # O(n) max за две строчки\n",
    "                heapq.heappush(can_afford,-projects[checked][1])\n",
    "                checked +=1\n",
    "\n",
    "            if not can_afford:\n",
    "                break\n",
    "\n",
    "            w += -heapq.heappop(can_afford)\n",
    "        return w\n",
    "# Time O(nlogn) Memory O(n)"
   ]
  },
  {
   "cell_type": "markdown",
   "metadata": {},
   "source": [
    "## Leetcode 295. Find Median from Data Stream\n",
    "The median is the middle value in an ordered integer list. If the size of the list is even, there is no middle value, and the median is the mean of the two middle values.\n",
    "\n",
    "For example, for arr = [2,3,4], the median is 3.\n",
    "For example, for arr = [2,3], the median is (2 + 3) / 2 = 2.5.\n",
    "Implement the MedianFinder class:\n",
    "\n",
    "MedianFinder() initializes the MedianFinder object.\n",
    "void addNum(int num) adds the integer num from the data stream to the data structure.\n",
    "double findMedian() returns the median of all elements so far. Answers within 10-5 of the actual answer will be accepted."
   ]
  },
  {
   "cell_type": "code",
   "execution_count": null,
   "metadata": {},
   "outputs": [],
   "source": [
    "class MedianFinder:\n",
    "\n",
    "    def __init__(self):\n",
    "        self.max_heap = []\n",
    "        self.min_heap = []\n",
    "\n",
    "    def addNum(self, num: int) -> None: #O(logn)\n",
    "        heapq.heappush(self.max_heap, -num)\n",
    "        heapq.heappush(self.min_heap, -heapq.heappop(self.max_heap))\n",
    "        if len(self.max_heap) < len(self.min_heap):\n",
    "            heapq.heappush(self.max_heap, -heapq.heappop(self.min_heap))\n",
    "        \n",
    "\n",
    "    def findMedian(self) -> float: #O(1)\n",
    "        if len(self.max_heap) > len(self.min_heap):\n",
    "            return -self.max_heap[0]\n",
    "        return (self.min_heap[0] + -self.max_heap[0])/2\n",
    "\n",
    "\n",
    "# Your MedianFinder object will be instantiated and called as such:\n",
    "# obj = MedianFinder()\n",
    "# obj.addNum(num)\n",
    "# param_2 = obj.findMedian()"
   ]
  },
  {
   "cell_type": "markdown",
   "metadata": {},
   "source": [
    "## Leetcode 1962. Remove Stones to Minimize the Total\n",
    "You are given a 0-indexed integer array piles, where piles[i] represents the number of stones in the ith pile, and an integer k. You should apply the following operation exactly k times:\n",
    "\n",
    "Choose any piles[i] and remove floor(piles[i] / 2) stones from it.\n",
    "Notice that you can apply the operation on the same pile more than once.\n",
    "\n",
    "Return the minimum possible total number of stones remaining after applying the k operations.\n",
    "\n",
    "floor(x) is the greatest integer that is smaller than or equal to x (i.e., rounds x down)."
   ]
  },
  {
   "cell_type": "code",
   "execution_count": null,
   "metadata": {},
   "outputs": [],
   "source": [
    "class Solution:\n",
    "    def minStoneSum(self, piles: List[int], k: int) -> int:\n",
    "        heap = [-pile for pile in piles]\n",
    "        heapq.heapify(heap)\n",
    "\n",
    "        for _ in range(k):\n",
    "            cur = -heapq.heappop(heap)\n",
    "            heapq.heappush(heap, -(cur-cur//2))\n",
    "\n",
    "        return -(sum(heap))"
   ]
  },
  {
   "cell_type": "markdown",
   "metadata": {},
   "source": [
    "## Leetcode 23. Merge k Sorted Lists\n",
    "You are given an array of k linked-lists lists, each linked-list is sorted in ascending order.\n",
    "\n",
    "Merge all the linked-lists into one sorted linked-list and return it."
   ]
  },
  {
   "cell_type": "code",
   "execution_count": null,
   "metadata": {},
   "outputs": [],
   "source": [
    "# Definition for singly-linked list.\n",
    "# class ListNode:\n",
    "#     def __init__(self, val=0, next=None):\n",
    "#         self.val = val\n",
    "#         self.next = next\n",
    "class Solution:\n",
    "    def mergeKLists(self, lists: List[Optional[ListNode]]) -> Optional[ListNode]:\n",
    "        dummy = ListNode()\n",
    "        current = dummy\n",
    "        min_heap = []\n",
    "\n",
    "        for i in range(len(lists)):\n",
    "            if lists[i]:\n",
    "                heapq.heappush(min_heap,(lists[i].val,i))\n",
    "        print(min_heap)\n",
    "        while min_heap:\n",
    "            val, i = heapq.heappop(min_heap)\n",
    "            print(val,i)\n",
    "            current.next = lists[i]\n",
    "            print(lists[i])\n",
    "            current = current.next\n",
    "\n",
    "            if lists[i].next:\n",
    "                lists[i] = lists[i].next\n",
    "                heapq.heappush(min_heap, (lists[i].val,i))\n",
    "\n",
    "        return dummy.next"
   ]
  },
  {
   "cell_type": "markdown",
   "metadata": {},
   "source": [
    "## Leetcode 1845. Seat Reservation Manager\n",
    "Design a system that manages the reservation state of n seats that are numbered from 1 to n.\n",
    "\n",
    "Implement the SeatManager class:\n",
    "\n",
    "SeatManager(int n) Initializes a SeatManager object that will manage n seats numbered from 1 to n. All seats are initially available.\n",
    "int reserve() Fetches the smallest-numbered unreserved seat, reserves it, and returns its number.\n",
    "void unreserve(int seatNumber) Unreserves the seat with the given seatNumber."
   ]
  },
  {
   "cell_type": "code",
   "execution_count": null,
   "metadata": {},
   "outputs": [],
   "source": [
    "class SeatManager: \n",
    "\n",
    "    def __init__(self, n: int):\n",
    "        self.available_seats = list(range(1,n+1))\n",
    "\n",
    "    def reserve(self) -> int: # O(logn)\n",
    "        return heapq.heappop(self.available_seats)\n",
    "\n",
    "    def unreserve(self, seatNumber: int) -> None: #O(logn)\n",
    "        heapq.heappush(self.available_seats, seatNumber)\n",
    "\n",
    "\n",
    "# Your SeatManager object will be instantiated and called as such:\n",
    "# obj = SeatManager(n)\n",
    "# param_1 = obj.reserve()\n",
    "# obj.unreserve(seatNumber)"
   ]
  },
  {
   "cell_type": "markdown",
   "metadata": {},
   "source": [
    "## Leetcode 1642. Furthest Building You Can Reach\n",
    "You are given an integer array heights representing the heights of buildings, some bricks, and some ladders.\n",
    "\n",
    "You start your journey from building 0 and move to the next building by possibly using bricks or ladders.\n",
    "\n",
    "While moving from building i to building i+1 (0-indexed),\n",
    "\n",
    "If the current building's height is greater than or equal to the next building's height, you do not need a ladder or bricks.\n",
    "If the current building's height is less than the next building's height, you can either use one ladder or (h[i+1] - h[i]) bricks.\n",
    "Return the furthest building index (0-indexed) you can reach if you use the given ladders and bricks optimally."
   ]
  },
  {
   "cell_type": "markdown",
   "metadata": {},
   "source": [
    "В начале все подъемы совершаем лестницей.В куче храним на сколько мы подняли с помощью лестницы. Как они закончились используем кирпичи, и в том месте, где их не хватает смотрим мин высоту, на которую поднимались по лестнице, если ее можно преодалеть с помощью кирпичей, то меняем лестницу на кирпичи и лестницу используем на след дом( куда не залезли кирпичами),обновляем кучу и колво кирпичей. Далее идем так же по зданиям, до того момента, как кирпичей не хватит на какой-либо подъем с заменой лестницы."
   ]
  },
  {
   "cell_type": "code",
   "execution_count": null,
   "metadata": {},
   "outputs": [],
   "source": [
    "class Solution:\n",
    "    def furthestBuilding(self, heights: List[int], bricks: int, ladders: int) -> int: # Time O(n) Mem O(n)\n",
    "        heap = []\n",
    "        for building_idx in range(len(heights) - 1):\n",
    "            diff = heights[building_idx + 1] -heights[building_idx] \n",
    "            if diff <=0:\n",
    "                continue\n",
    "            heapq.heappush(heap,diff)\n",
    "            if len(heap) > ladders:\n",
    "                min_diff = heapq.heappop(heap)\n",
    "                bricks -= min_diff\n",
    "                if bricks < 0:\n",
    "                    return building_idx\n",
    "\n",
    "        return len(heights) - 1"
   ]
  },
  {
   "cell_type": "markdown",
   "metadata": {},
   "source": [
    "## Leetcode 621. Task Scheduler\n",
    "You are given an array of CPU tasks, each labeled with a letter from A to Z, and a number n. Each CPU interval can be idle or allow the completion of one task. Tasks can be completed in any order, but there's a constraint: there has to be a gap of at least n intervals between two tasks with the same label.\n",
    "\n",
    "Return the minimum number of CPU intervals required to complete all tasks.\n",
    "\n"
   ]
  },
  {
   "cell_type": "markdown",
   "metadata": {},
   "source": [
    "Используем MaxHeap,где будем хранить количество элементов каждого типа и очередь, в которой будем добавлять используемый элемент и время, когда ее можно будет снова использовать. . Добавляем в кучу частоту вхождения элемента в массив. Берем макс элемент убираем один элемент и добавляем в очередь новое значение"
   ]
  },
  {
   "cell_type": "code",
   "execution_count": null,
   "metadata": {},
   "outputs": [],
   "source": [
    "from collections import Counter,deque\n",
    "import heapq\n",
    "class Solution:\n",
    "    def leastInterval(self, tasks: List[str], n: int) -> int: ## Time O(n*m) n - колво элементов m - время простоя  Memory O(n) \n",
    "        count = Counter(tasks)\n",
    "        maxHeap = [-cnt for cnt in count.values()] \n",
    "        heapq.heapify(maxHeap)\n",
    "\n",
    "        time = 0\n",
    "        q = deque() # Пара [-cnt,idleTime]\n",
    "\n",
    "        while maxHeap or q:\n",
    "            time += 1\n",
    "\n",
    "            if maxHeap:\n",
    "                cnt = 1+ heapq.heappop(maxHeap)\n",
    "                if cnt:\n",
    "                    q.append([cnt,time + n])\n",
    "            if q and q[0][1] == time:\n",
    "                heapq.heappush(maxHeap,q.popleft()[0])\n",
    "                \n",
    "        return time"
   ]
  },
  {
   "cell_type": "markdown",
   "metadata": {},
   "source": [
    "## Leetcode 264. Ugly Number II\n",
    "An ugly number is a positive integer whose prime factors are limited to 2, 3, and 5.\n",
    "\n",
    "Given an integer n, return the nth ugly number."
   ]
  },
  {
   "cell_type": "markdown",
   "metadata": {},
   "source": [
    "### Решение через кучу(Min Heap) \n",
    "Не самое оптимальное решение"
   ]
  },
  {
   "cell_type": "code",
   "execution_count": null,
   "metadata": {},
   "outputs": [],
   "source": [
    "class Solution:\n",
    "    def nthUglyNumber(self, n: int) -> int: # Time O(nlogn) Memory O(n)\n",
    "        minHeap = [1]\n",
    "        visit = set()\n",
    "        factors = [2,3,5]\n",
    "        for i in range(n):\n",
    "            num = heapq.heappop(minHeap)\n",
    "            if i == n-1:\n",
    "                return num\n",
    "            \n",
    "            for f in factors:\n",
    "                if num*f not in visit:\n",
    "                    visit.add(num*f)\n",
    "                    heapq.heappush(minHeap,num*f)\n",
    "        "
   ]
  },
  {
   "cell_type": "markdown",
   "metadata": {},
   "source": [
    "### Решение через массив\n",
    "Используем три указателя(i2,i3,i5). Изначально все стоят на 1, далее передвигаем определенный указатель туда, где след число после умножения будет минимально. Но возможно будут дубликаты, пожтому если указатели будут указывать на один и тот же элемент, то увеличиваем их все"
   ]
  },
  {
   "cell_type": "code",
   "execution_count": null,
   "metadata": {},
   "outputs": [],
   "source": [
    "class Solution:\n",
    "    def nthUglyNumber(self, n: int) -> int:\n",
    "        nums = [1]\n",
    "        i2,i3,i5 = 0,0,0\n",
    "        \n",
    "        for i in range(1,n):\n",
    "            next_num = min(\n",
    "                nums[i2] * 2,\n",
    "                nums[i3] * 3,\n",
    "                nums[i5] * 5\n",
    "            )\n",
    "            nums.append(next_num)\n",
    "            if next_num == nums[i2] * 2:\n",
    "                i2+=1\n",
    "            if next_num == nums[i3] * 3:\n",
    "                i3+=1\n",
    "            if next_num == nums[i5] * 5:\n",
    "                i5+=1\n",
    "\n",
    "        return nums[n-1]"
   ]
  },
  {
   "cell_type": "markdown",
   "metadata": {},
   "source": [
    "## Leetcode 506. Relative Ranks\n",
    "You are given an integer array score of size n, where score[i] is the score of the ith athlete in a competition. All the scores are guaranteed to be unique.\n",
    "\n",
    "The athletes are placed based on their scores, where the 1st place athlete has the highest score, the 2nd place athlete has the 2nd highest score, and so on. The placement of each athlete determines their rank:\n",
    "\n",
    "The 1st place athlete's rank is \"Gold Medal\".\n",
    "The 2nd place athlete's rank is \"Silver Medal\".\n",
    "The 3rd place athlete's rank is \"Bronze Medal\".\n",
    "For the 4th place to the nth place athlete, their rank is their placement number (i.e., the xth place athlete's rank is \"x\").\n",
    "Return an array answer of size n where answer[i] is the rank of the ith athlete."
   ]
  },
  {
   "cell_type": "code",
   "execution_count": null,
   "metadata": {},
   "outputs": [],
   "source": [
    "class Solution:\n",
    "    def findRelativeRanks(self, score: List[int]) -> List[str]:\n",
    "        n = len(score)\n",
    "\n",
    "        maxheap =[]\n",
    "        for i,sc in enumerate(score):\n",
    "            heapq.heappush(maxheap,(-sc,i))\n",
    "        \n",
    "        rank = [0] * n\n",
    "        place = 1\n",
    "        while maxheap:\n",
    "            original_index = heapq.heappop(maxheap)[1]\n",
    "            if place == 1:\n",
    "                rank[original_index] = \"Gold Medal\"\n",
    "            elif place == 2:\n",
    "                rank[original_index] = \"Silver Medal\"\n",
    "            elif place == 3:\n",
    "                rank[original_index] = \"Bronze Medal\"\n",
    "            else:\n",
    "                rank[original_index] = str(place)\n",
    "            place +=1\n",
    "        return rank\n"
   ]
  },
  {
   "cell_type": "markdown",
   "metadata": {},
   "source": [
    "## Leetcode 2500. Delete Greatest Value in Each Row\n",
    "You are given an m x n matrix grid consisting of positive integers.\n",
    "\n",
    "Perform the following operation until grid becomes empty:\n",
    "\n",
    "Delete the element with the greatest value from each row. If multiple such elements exist, delete any of them.\n",
    "Add the maximum of deleted elements to the answer.\n",
    "Note that the number of columns decreases by one after each operation.\n",
    "\n",
    "Return the answer after performing the operations described above.\n",
    "\n"
   ]
  },
  {
   "cell_type": "code",
   "execution_count": null,
   "metadata": {},
   "outputs": [],
   "source": [
    "class Solution:\n",
    "    def deleteGreatestValue(self, grid: List[List[int]]) -> int: \n",
    "        # Time - O(m * logn + n*m)\n",
    "        #Space -  O(1)\n",
    "        for row in grid: row.sort()\n",
    "        return sum(max([grid[r][c] for r in range(len(grid))]) for c in range(len(grid[0])))"
   ]
  },
  {
   "cell_type": "markdown",
   "metadata": {},
   "source": [
    "## Leetcode 973. K Closest Points to Origin\n",
    "Given an array of points where points[i] = [xi, yi] represents a point on the X-Y plane and an integer k, return the k closest points to the origin (0, 0).\n",
    "\n",
    "The distance between two points on the X-Y plane is the Euclidean distance (i.e., √(x1 - x2)2 + (y1 - y2)2).\n",
    "\n",
    "You may return the answer in any order. The answer is guaranteed to be unique (except for the order that it is in)."
   ]
  },
  {
   "cell_type": "code",
   "execution_count": null,
   "metadata": {},
   "outputs": [],
   "source": [
    "import heapq\n",
    "class Solution:\n",
    "    def kClosest(self, points: List[List[int]], k: int) -> List[List[int]]:\n",
    "        # Time O(klogn) Space O(n) n=len(points)\n",
    "        minHeap = []\n",
    "        for x,y in points:\n",
    "            dist = (x**2) + (y**2)\n",
    "            minHeap.append([dist,x,y])\n",
    "        heapq.heapify(minHeap)\n",
    "        res = []\n",
    "        while k>0:\n",
    "            dist,x,y = heapq.heappop(minHeap)\n",
    "            res.append([x,y])\n",
    "            k-=1\n",
    "        return res"
   ]
  },
  {
   "cell_type": "markdown",
   "metadata": {},
   "source": [
    "## Leetcode 912. Sort an Array\n",
    "Given an array of integers nums, sort the array in ascending order and return it.\n",
    "\n",
    "You must solve the problem without using any built-in functions in O(nlog(n)) time complexity and with the smallest space complexity possible."
   ]
  },
  {
   "cell_type": "code",
   "execution_count": null,
   "metadata": {},
   "outputs": [],
   "source": [
    "class Solution:\n",
    "    def sortArray(self, nums: List[int]) -> List[int]:\n",
    "        \n",
    "        def merge(arr,L,M,R):\n",
    "            left,right = arr[L:M+1],arr[M+1:R+1]\n",
    "            i,j,k = L, 0, 0\n",
    "            while j < len(left) and k < len(right):\n",
    "                if left[j]<=right[k]:\n",
    "                    arr[i] = left[j]\n",
    "                    j+=1\n",
    "                else:\n",
    "                    arr[i] = right[k]\n",
    "                    k+=1\n",
    "                i+=1\n",
    "\n",
    "            while j<len(left):\n",
    "                nums[i] = left[j]\n",
    "                i+=1\n",
    "                j+=1\n",
    "            \n",
    "            while k<len(right):\n",
    "                nums[i] = right[k]\n",
    "                i+=1\n",
    "                k+=1\n",
    "\n",
    "        def mergeSort(arr,l,r):\n",
    "            if l == r:\n",
    "                return arr\n",
    "            \n",
    "            m = (l+r)//2\n",
    "            mergeSort(arr,l,m)\n",
    "            mergeSort(arr,m+1,r)\n",
    "            merge(arr,l,m,r)\n",
    "            \n",
    "            return arr\n",
    "        return mergeSort(nums,0,len(nums)-1)\n"
   ]
  },
  {
   "cell_type": "markdown",
   "metadata": {},
   "source": [
    "## Leetcode 2558. Take Gifts From the Richest Pile\n",
    "You are given an integer array gifts denoting the number of gifts in various piles. Every second, you do the following:\n",
    "\n",
    "Choose the pile with the maximum number of gifts.\n",
    "If there is more than one pile with the maximum number of gifts, choose any.\n",
    "Reduce the number of gifts in the pile to the floor of the square root of the original number of gifts in the pile.\n",
    "Return the number of gifts remaining after k seconds."
   ]
  },
  {
   "cell_type": "code",
   "execution_count": null,
   "metadata": {},
   "outputs": [],
   "source": [
    "class Solution:\n",
    "    def pickGifts(self, gifts: List[int], k: int) -> int:\n",
    "        gifts = [-g for g in gifts]        \n",
    "        heapq.heapify(gifts)\n",
    "\n",
    "        for _ in range(k):\n",
    "            n= -heapq.heappop(gifts)\n",
    "            heapq.heappush(gifts,-floor(sqrt(n)))\n",
    "\n",
    "        return -sum(gifts)\n"
   ]
  },
  {
   "cell_type": "markdown",
   "metadata": {},
   "source": [
    "## Leetcode 1464. Maximum Product of Two Elements in an Array\n",
    "Given the array of integers nums, you will choose two different indices i and j of that array. Return the maximum value of (nums[i]-1)*(nums[j]-1)."
   ]
  },
  {
   "cell_type": "code",
   "execution_count": null,
   "metadata": {},
   "outputs": [],
   "source": [
    "class Solution:\n",
    "    def maxProduct(self, nums: List[int]) -> int:\n",
    "        nums = [-n for n in nums]\n",
    "        heapq.heapify(nums)\n",
    "        a = -heapq.heappop(nums)\n",
    "        b = -heapq.heappop(nums)\n",
    "        return (a-1)*(b-1)"
   ]
  },
  {
   "cell_type": "markdown",
   "metadata": {},
   "source": [
    "## Leetcode 3318. Find X-Sum of All K-Long Subarrays I\n",
    "You are given an array nums of n integers and two integers k and x.\n",
    "\n",
    "The x-sum of an array is calculated by the following procedure:\n",
    "\n",
    "Count the occurrences of all elements in the array.\n",
    "Keep only the occurrences of the top x most frequent elements. If two elements have the same number of occurrences, the element with the bigger value is considered more frequent.\n",
    "Calculate the sum of the resulting array.\n",
    "Note that if an array has less than x distinct elements, its x-sum is the sum of the array.\n",
    "\n",
    "Return an integer array answer of length n - k + 1 where answer[i] is the x-sum of the subarray nums[i..i + k - 1]."
   ]
  },
  {
   "cell_type": "code",
   "execution_count": null,
   "metadata": {},
   "outputs": [],
   "source": [
    "class Solution:\n",
    "    def findXSum(self, nums: List[int], k: int, x: int) -> List[int]:\n",
    "        n = len(nums)\n",
    "        res = []\n",
    "\n",
    "        for i in range(n-k+1):\n",
    "            subarray = nums[i:i+k]\n",
    "            freq_map = Counter(subarray)\n",
    "            sorted_elements = sorted(freq_map.items(), key = lambda item:(-item[1],-item[0]))\n",
    "\n",
    "            top_x_sum = 0\n",
    "            count = 0\n",
    "            for element,freq in sorted_elements:\n",
    "                if count < x:\n",
    "                    top_x_sum += element*freq\n",
    "                    count+=1\n",
    "                else:\n",
    "                    break\n",
    "            res.append(top_x_sum)\n",
    "\n",
    "        return res"
   ]
  },
  {
   "cell_type": "code",
   "execution_count": null,
   "metadata": {},
   "outputs": [],
   "source": []
  },
  {
   "cell_type": "code",
   "execution_count": null,
   "metadata": {},
   "outputs": [],
   "source": []
  },
  {
   "cell_type": "code",
   "execution_count": null,
   "metadata": {},
   "outputs": [],
   "source": []
  },
  {
   "cell_type": "code",
   "execution_count": null,
   "metadata": {},
   "outputs": [],
   "source": []
  },
  {
   "cell_type": "code",
   "execution_count": null,
   "metadata": {},
   "outputs": [],
   "source": []
  },
  {
   "cell_type": "code",
   "execution_count": null,
   "metadata": {},
   "outputs": [],
   "source": []
  },
  {
   "cell_type": "code",
   "execution_count": null,
   "metadata": {},
   "outputs": [],
   "source": []
  },
  {
   "cell_type": "code",
   "execution_count": null,
   "metadata": {},
   "outputs": [],
   "source": []
  },
  {
   "cell_type": "code",
   "execution_count": null,
   "metadata": {},
   "outputs": [],
   "source": []
  },
  {
   "cell_type": "code",
   "execution_count": null,
   "metadata": {},
   "outputs": [],
   "source": []
  },
  {
   "cell_type": "code",
   "execution_count": null,
   "metadata": {},
   "outputs": [],
   "source": []
  },
  {
   "cell_type": "code",
   "execution_count": null,
   "metadata": {},
   "outputs": [],
   "source": []
  },
  {
   "cell_type": "code",
   "execution_count": null,
   "metadata": {},
   "outputs": [],
   "source": []
  },
  {
   "cell_type": "code",
   "execution_count": null,
   "metadata": {},
   "outputs": [],
   "source": []
  },
  {
   "cell_type": "code",
   "execution_count": null,
   "metadata": {},
   "outputs": [],
   "source": []
  },
  {
   "cell_type": "code",
   "execution_count": null,
   "metadata": {},
   "outputs": [],
   "source": []
  },
  {
   "cell_type": "code",
   "execution_count": null,
   "metadata": {},
   "outputs": [],
   "source": []
  },
  {
   "cell_type": "code",
   "execution_count": null,
   "metadata": {},
   "outputs": [],
   "source": []
  },
  {
   "cell_type": "code",
   "execution_count": null,
   "metadata": {},
   "outputs": [],
   "source": []
  },
  {
   "cell_type": "code",
   "execution_count": null,
   "metadata": {},
   "outputs": [],
   "source": []
  },
  {
   "cell_type": "code",
   "execution_count": null,
   "metadata": {},
   "outputs": [],
   "source": []
  },
  {
   "cell_type": "code",
   "execution_count": null,
   "metadata": {},
   "outputs": [],
   "source": []
  },
  {
   "cell_type": "code",
   "execution_count": null,
   "metadata": {},
   "outputs": [],
   "source": []
  },
  {
   "cell_type": "code",
   "execution_count": null,
   "metadata": {},
   "outputs": [],
   "source": []
  },
  {
   "cell_type": "code",
   "execution_count": null,
   "metadata": {},
   "outputs": [],
   "source": []
  },
  {
   "cell_type": "code",
   "execution_count": null,
   "metadata": {},
   "outputs": [],
   "source": []
  },
  {
   "cell_type": "code",
   "execution_count": null,
   "metadata": {},
   "outputs": [],
   "source": []
  },
  {
   "cell_type": "code",
   "execution_count": null,
   "metadata": {},
   "outputs": [],
   "source": []
  },
  {
   "cell_type": "code",
   "execution_count": null,
   "metadata": {},
   "outputs": [],
   "source": []
  },
  {
   "cell_type": "code",
   "execution_count": null,
   "metadata": {},
   "outputs": [],
   "source": []
  },
  {
   "cell_type": "code",
   "execution_count": null,
   "metadata": {},
   "outputs": [],
   "source": []
  },
  {
   "cell_type": "code",
   "execution_count": null,
   "metadata": {},
   "outputs": [],
   "source": []
  },
  {
   "cell_type": "code",
   "execution_count": null,
   "metadata": {},
   "outputs": [],
   "source": []
  },
  {
   "cell_type": "code",
   "execution_count": null,
   "metadata": {},
   "outputs": [],
   "source": []
  },
  {
   "cell_type": "code",
   "execution_count": null,
   "metadata": {},
   "outputs": [],
   "source": []
  },
  {
   "cell_type": "code",
   "execution_count": null,
   "metadata": {},
   "outputs": [],
   "source": []
  },
  {
   "cell_type": "code",
   "execution_count": null,
   "metadata": {},
   "outputs": [],
   "source": []
  },
  {
   "cell_type": "code",
   "execution_count": null,
   "metadata": {},
   "outputs": [],
   "source": []
  },
  {
   "cell_type": "code",
   "execution_count": null,
   "metadata": {},
   "outputs": [],
   "source": []
  },
  {
   "cell_type": "code",
   "execution_count": null,
   "metadata": {},
   "outputs": [],
   "source": []
  },
  {
   "cell_type": "code",
   "execution_count": null,
   "metadata": {},
   "outputs": [],
   "source": []
  },
  {
   "cell_type": "code",
   "execution_count": null,
   "metadata": {},
   "outputs": [],
   "source": []
  },
  {
   "cell_type": "code",
   "execution_count": null,
   "metadata": {},
   "outputs": [],
   "source": []
  },
  {
   "cell_type": "code",
   "execution_count": null,
   "metadata": {},
   "outputs": [],
   "source": []
  },
  {
   "cell_type": "code",
   "execution_count": null,
   "metadata": {},
   "outputs": [],
   "source": []
  },
  {
   "cell_type": "code",
   "execution_count": null,
   "metadata": {},
   "outputs": [],
   "source": []
  },
  {
   "cell_type": "code",
   "execution_count": null,
   "metadata": {},
   "outputs": [],
   "source": []
  },
  {
   "cell_type": "code",
   "execution_count": null,
   "metadata": {},
   "outputs": [],
   "source": []
  },
  {
   "cell_type": "code",
   "execution_count": null,
   "metadata": {},
   "outputs": [],
   "source": []
  },
  {
   "cell_type": "code",
   "execution_count": null,
   "metadata": {},
   "outputs": [],
   "source": []
  },
  {
   "cell_type": "code",
   "execution_count": null,
   "metadata": {},
   "outputs": [],
   "source": []
  },
  {
   "cell_type": "code",
   "execution_count": null,
   "metadata": {},
   "outputs": [],
   "source": []
  },
  {
   "cell_type": "code",
   "execution_count": null,
   "metadata": {},
   "outputs": [],
   "source": []
  },
  {
   "cell_type": "code",
   "execution_count": null,
   "metadata": {},
   "outputs": [],
   "source": []
  },
  {
   "cell_type": "code",
   "execution_count": null,
   "metadata": {},
   "outputs": [],
   "source": []
  },
  {
   "cell_type": "code",
   "execution_count": null,
   "metadata": {},
   "outputs": [],
   "source": []
  },
  {
   "cell_type": "code",
   "execution_count": null,
   "metadata": {},
   "outputs": [],
   "source": []
  },
  {
   "cell_type": "code",
   "execution_count": null,
   "metadata": {},
   "outputs": [],
   "source": []
  },
  {
   "cell_type": "code",
   "execution_count": null,
   "metadata": {},
   "outputs": [],
   "source": []
  },
  {
   "cell_type": "code",
   "execution_count": null,
   "metadata": {},
   "outputs": [],
   "source": []
  },
  {
   "cell_type": "code",
   "execution_count": null,
   "metadata": {},
   "outputs": [],
   "source": []
  },
  {
   "cell_type": "code",
   "execution_count": null,
   "metadata": {},
   "outputs": [],
   "source": []
  },
  {
   "cell_type": "code",
   "execution_count": null,
   "metadata": {},
   "outputs": [],
   "source": []
  },
  {
   "cell_type": "code",
   "execution_count": null,
   "metadata": {},
   "outputs": [],
   "source": []
  },
  {
   "cell_type": "code",
   "execution_count": null,
   "metadata": {},
   "outputs": [],
   "source": []
  }
 ],
 "metadata": {
  "kernelspec": {
   "display_name": "base",
   "language": "python",
   "name": "python3"
  },
  "language_info": {
   "codemirror_mode": {
    "name": "ipython",
    "version": 3
   },
   "file_extension": ".py",
   "mimetype": "text/x-python",
   "name": "python",
   "nbconvert_exporter": "python",
   "pygments_lexer": "ipython3",
   "version": "3.10.9"
  }
 },
 "nbformat": 4,
 "nbformat_minor": 2
}
