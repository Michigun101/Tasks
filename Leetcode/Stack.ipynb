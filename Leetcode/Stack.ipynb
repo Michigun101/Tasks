{
 "cells": [
  {
   "cell_type": "markdown",
   "metadata": {},
   "source": [
    "## Реализация"
   ]
  },
  {
   "cell_type": "code",
   "execution_count": null,
   "metadata": {},
   "outputs": [],
   "source": []
  },
  {
   "cell_type": "markdown",
   "metadata": {},
   "source": [
    "## Leetcode 20. Valid Parentheses\n",
    "Given a string s containing just the characters '(', ')', '{', '}', '[' and ']', determine if the input string is valid.\n",
    "\n",
    "An input string is valid if:\n",
    "\n",
    "Open brackets must be closed by the same type of brackets.\n",
    "Open brackets must be closed in the correct order.\n",
    "Every close bracket has a corresponding open bracket of the same type."
   ]
  },
  {
   "cell_type": "code",
   "execution_count": 1,
   "metadata": {},
   "outputs": [],
   "source": [
    "class Solution:\n",
    "    def isValid(self, s: str) -> bool:\n",
    "        stack = []\n",
    "        memory = {\n",
    "            ')':'(',\n",
    "            ']':'[',\n",
    "            '}':'{'\n",
    "        }\n",
    "\n",
    "        for char in s:\n",
    "            if char in memory:\n",
    "                if stack and stack[-1]==memory[char]:\n",
    "                    stack.pop()\n",
    "                else:\n",
    "                    return False\n",
    "            else:\n",
    "                stack.append(char)\n",
    "        \n",
    "        return len(stack)==0\n",
    "        "
   ]
  },
  {
   "cell_type": "markdown",
   "metadata": {},
   "source": [
    "### Реализация 2"
   ]
  },
  {
   "cell_type": "code",
   "execution_count": 1,
   "metadata": {},
   "outputs": [],
   "source": [
    "class Solution:\n",
    "    def isValid(self, s: str) -> bool:\n",
    "        stack = []\n",
    "        pair = {\n",
    "            '(':')',\n",
    "            '[':']',\n",
    "            '{':'}'\n",
    "        }\n",
    "\n",
    "        for c in s:\n",
    "            if c in pair:\n",
    "                stack.append(c)\n",
    "            else:\n",
    "                if not stack:\n",
    "                    return False\n",
    "                \n",
    "                prev = stack.pop()\n",
    "                if c!=pair[prev]:\n",
    "                    return False\n",
    "                \n",
    "        return len(stack) == 0\n",
    "\n",
    "\n"
   ]
  },
  {
   "cell_type": "markdown",
   "metadata": {},
   "source": [
    "## Leetcode 1047. Remove All Adjacent Duplicates In String\n",
    "You are given a string s consisting of lowercase English letters. A duplicate removal consists of choosing two adjacent and equal letters and removing them.\n",
    "\n",
    "We repeatedly make duplicate removals on s until we no longer can.\n",
    "\n",
    "Return the final string after all such duplicate removals have been made. It can be proven that the answer is unique."
   ]
  },
  {
   "cell_type": "code",
   "execution_count": 2,
   "metadata": {},
   "outputs": [],
   "source": [
    "class Solution:\n",
    "    def removeDuplicates(self, s: str) -> str:\n",
    "        stack = []\n",
    "        for c in s:\n",
    "            if stack and c ==stack[-1]:\n",
    "                stack.pop()\n",
    "            else:\n",
    "                stack.append(c)\n",
    "\n",
    "        return ''.join(stack)"
   ]
  },
  {
   "cell_type": "markdown",
   "metadata": {},
   "source": [
    "## Leetcode 2390. Removing Stars From a String\n",
    "You are given a string s, which contains stars *.\n",
    "\n",
    "In one operation, you can:\n",
    "\n",
    "Choose a star in s.\n",
    "Remove the closest non-star character to its left, as well as remove the star itself.\n",
    "Return the string after all stars have been removed.\n",
    "\n",
    "Note:\n",
    "\n",
    "The input will be generated such that the operation is always possible.\n",
    "It can be shown that the resulting string will always be unique."
   ]
  },
  {
   "cell_type": "code",
   "execution_count": 3,
   "metadata": {},
   "outputs": [],
   "source": [
    "class Solution:\n",
    "    def removeStars(self, s: str) -> str:\n",
    "        stack = []\n",
    "        for c in s:\n",
    "            if stack and c=='*':\n",
    "                stack.pop()\n",
    "            else:\n",
    "                stack.append(c)\n",
    "\n",
    "        return ''.join(stack)"
   ]
  },
  {
   "cell_type": "markdown",
   "metadata": {},
   "source": [
    "## Leetcode 71. Simplify Path\n",
    "You are given an absolute path for a Unix-style file system, which always begins with a slash '/'. Your task is to transform this absolute path into its simplified canonical path.\n",
    "\n",
    "The rules of a Unix-style file system are as follows:\n",
    "\n",
    "A single period '.' represents the current directory.\n",
    "A double period '..' represents the previous/parent directory.\n",
    "Multiple consecutive slashes such as '//' and '///' are treated as a single slash '/'.\n",
    "Any sequence of periods that does not match the rules above should be treated as a valid directory or file name. For example, '...' and '....' are valid directory or file names.\n",
    "The simplified canonical path should follow these rules:\n",
    "\n",
    "The path must start with a single slash '/'.\n",
    "Directories within the path must be separated by exactly one slash '/'.\n",
    "The path must not end with a slash '/', unless it is the root directory.\n",
    "The path must not have any single or double periods ('.' and '..') used to denote current or parent directories.\n",
    "Return the simplified canonical path."
   ]
  },
  {
   "cell_type": "code",
   "execution_count": 4,
   "metadata": {},
   "outputs": [],
   "source": [
    "class Solution:\n",
    "    def simplifyPath(self, path: str) -> str:\n",
    "        stack = []\n",
    "\n",
    "        for p in path.split('/'):\n",
    "            if p =='' or p=='.':\n",
    "                continue\n",
    "            if p == '..':\n",
    "                if stack:\n",
    "                    stack.pop()\n",
    "            else:\n",
    "                stack.append(p)\n",
    "        \n",
    "        return '/'+'/'.join(stack)"
   ]
  },
  {
   "cell_type": "code",
   "execution_count": null,
   "metadata": {},
   "outputs": [],
   "source": [
    "class Solution:\n",
    "    \"\"\"\n",
    "    @param path: the original path\n",
    "    @return: the simplified path\n",
    "    \"\"\"\n",
    "    def simplify_path(self, path: str) -> str:\n",
    "        # write your code here\n",
    "        stack = []\n",
    "        cur = ''\n",
    "        for c in path + '/':\n",
    "            if c == '/':\n",
    "                if cur == '..':\n",
    "                    if stack: stack.pop()\n",
    "                elif cur != '' and cur!='.':\n",
    "                    stack.append(cur)\n",
    "                cur = ''\n",
    "            else:\n",
    "                cur += c\n",
    "\n",
    "        return '/'+'/'.join(stack)"
   ]
  },
  {
   "cell_type": "markdown",
   "metadata": {},
   "source": [
    "## Leetcode 232. Implement Queue using Stacks\n",
    "Implement a first in first out (FIFO) queue using only two stacks. The implemented queue should support all the functions of a normal queue (push, peek, pop, and empty).\n",
    "\n",
    "Implement the MyQueue class:\n",
    "\n",
    "void push(int x) Pushes element x to the back of the queue.\n",
    "int pop() Removes the element from the front of the queue and returns it.\n",
    "int peek() Returns the element at the front of the queue.\n",
    "boolean empty() Returns true if the queue is empty, false otherwise.\n",
    "Notes:\n",
    "\n",
    "You must use only standard operations of a stack, which means only push to top, peek/pop from top, size, and is empty operations are valid.\n",
    "Depending on your language, the stack may not be supported natively. You may simulate a stack using a list or deque (double-ended queue) as long as you use only a stack's standard operations."
   ]
  },
  {
   "cell_type": "code",
   "execution_count": null,
   "metadata": {},
   "outputs": [],
   "source": [
    "# Очередь из двух стеков\n",
    "\n",
    "class MyQueue:\n",
    "\n",
    "    def __init__(self):\n",
    "        self.s1 = []\n",
    "        self.s2 = []\n",
    "\n",
    "    def push(self, x: int) -> None:\n",
    "        self.s1.append(x)\n",
    "\n",
    "    def pop(self) -> int:\n",
    "        if not self.s2:\n",
    "            while self.s1:\n",
    "                self.s2.append(self.s1.pop())\n",
    "        return self.s2.pop()\n",
    "\n",
    "    def peek(self) -> int:\n",
    "        if not self.s2:\n",
    "            while self.s1:\n",
    "                self.s2.append(self.s1.pop())\n",
    "        return self.s2[-1]\n",
    "\n",
    "    def empty(self) -> bool:\n",
    "        return max(len(self.s1),len(self.s2)) == 0\n",
    "\n",
    "\n",
    "# Your MyQueue object will be instantiated and called as such:\n",
    "# obj = MyQueue()\n",
    "# obj.push(x)\n",
    "# param_2 = obj.pop()\n",
    "# param_3 = obj.peek()\n",
    "# param_4 = obj.empty()"
   ]
  },
  {
   "cell_type": "markdown",
   "metadata": {},
   "source": [
    "## Leetcode 150. Evaluate Reverse Polish Notation\n",
    "You are given an array of strings tokens that represents an arithmetic expression in a Reverse Polish Notation.\n",
    "\n",
    "Evaluate the expression. Return an integer that represents the value of the expression.\n",
    "\n",
    "Note that:\n",
    "\n",
    "The valid operators are '+', '-', '*', and '/'.\n",
    "Each operand may be an integer or another expression.\n",
    "The division between two integers always truncates toward zero.\n",
    "There will not be any division by zero.\n",
    "The input represents a valid arithmetic expression in a reverse polish notation.\n",
    "The answer and all the intermediate calculations can be represented in a 32-bit integer.\n"
   ]
  },
  {
   "cell_type": "code",
   "execution_count": null,
   "metadata": {},
   "outputs": [],
   "source": [
    "#Time O(2n) = O(n)\n",
    "class Solution:\n",
    "    def evalRPN(self, tokens: List[str]) -> int:\n",
    "        stack = []\n",
    "\n",
    "        for token in tokens:\n",
    "            if token == '+':\n",
    "                stack.append(\n",
    "                    stack.pop() + stack.pop()\n",
    "                )\n",
    "            elif token=='-':\n",
    "                a=stack.pop()\n",
    "                b=stack.pop()\n",
    "                stack.append(b-a)\n",
    "            elif token == '*':\n",
    "                stack.append(\n",
    "                    stack.pop() * stack.pop()\n",
    "                )\n",
    "            elif token == '/':\n",
    "                a=stack.pop()\n",
    "                b=stack.pop()\n",
    "                stack.append(int(b/a))\n",
    "            else:\n",
    "                stack.append(int(token))\n",
    "        return stack[0]"
   ]
  },
  {
   "cell_type": "markdown",
   "metadata": {},
   "source": [
    "## Leetcode 155. Min Stack\n",
    "Design a stack that supports push, pop, top, and retrieving the minimum element in constant time.\n",
    "\n",
    "Implement the MinStack class:\n",
    "\n",
    "MinStack() initializes the stack object.\n",
    "void push(int val) pushes the element val onto the stack.\n",
    "void pop() removes the element on the top of the stack.\n",
    "int top() gets the top element of the stack.\n",
    "int getMin() retrieves the minimum element in the stack.\n",
    "You must implement a solution with O(1) time complexity for each function."
   ]
  },
  {
   "cell_type": "code",
   "execution_count": null,
   "metadata": {},
   "outputs": [],
   "source": [
    "class MinStack:\n",
    "\n",
    "    def __init__(self):\n",
    "        self.stack = []\n",
    "        self.stack_min = []\n",
    "\n",
    "    def push(self, val: int) -> None:\n",
    "        self.stack.append(val)\n",
    "        if self.stack_min:\n",
    "            val = min(val, self.stack_min[-1])\n",
    "        self.stack_min.append(val)\n",
    "\n",
    "    def pop(self) -> None:\n",
    "        self.stack.pop()\n",
    "        self.stack_min.pop()\n",
    "\n",
    "    def top(self) -> int:\n",
    "        return self.stack[-1]\n",
    "\n",
    "    def getMin(self) -> int:\n",
    "        return self.stack_min[-1]\n",
    "\n",
    "\n",
    "# Your MinStack object will be instantiated and called as such:\n",
    "# obj = MinStack()\n",
    "# obj.push(val)\n",
    "# obj.pop()\n",
    "# param_3 = obj.top()\n",
    "# param_4 = obj.getMin()"
   ]
  },
  {
   "cell_type": "markdown",
   "metadata": {},
   "source": [
    "## Leetcode 22. Generate Parentheses\n",
    "Given n pairs of parentheses, write a function to generate all combinations of well-formed parentheses.\n",
    "\n"
   ]
  },
  {
   "cell_type": "code",
   "execution_count": null,
   "metadata": {},
   "outputs": [],
   "source": [
    "class Solution:\n",
    "    def generateParenthesis(self, n: int) -> List[str]:\n",
    "        self.stack = []\n",
    "        self.res = []\n",
    "        self.n = n\n",
    "\n",
    "        self.backtrack(0,0)\n",
    "        return self.res\n",
    "\n",
    "    def backtrack(self, opened, closed):\n",
    "        if opened == closed == self.n:\n",
    "            self.res.append(''.join(self.stack))\n",
    "            return \n",
    "\n",
    "        if opened < self.n:\n",
    "            self.stack.append('(')\n",
    "            self.backtrack(opened + 1, closed)\n",
    "            self.stack.pop()\n",
    "\n",
    "        if closed < opened:\n",
    "            self.stack.append(')')\n",
    "            self.backtrack(opened, closed + 1)\n",
    "            self.stack.pop()"
   ]
  },
  {
   "cell_type": "markdown",
   "metadata": {},
   "source": [
    "## Leetcode 739. Daily Temperatures\n",
    "Given an array of integers temperatures represents the daily temperatures, return an array answer such that answer[i] is the number of days you have to wait after the ith day to get a warmer temperature. If there is no future day for which this is possible, keep answer[i] == 0 instead."
   ]
  },
  {
   "cell_type": "markdown",
   "metadata": {},
   "source": [
    "#### Monotonic decreasing stack\n",
    "\n",
    "Input: temperatures = [73,74,75,71,69,72,76,73]\n",
    "\n",
    "Output: [1,1,4,2,1,1,0,0]\n",
    "\n",
    "Сначала инициализируем новый массив нулями.Идем по массиву и складываем в стек значение и индекс (73,0), дальше кладем пока элементы меньше предыдущего, если больше, то вычисляем разницу индексов и кладем больший элемент в стек"
   ]
  },
  {
   "cell_type": "code",
   "execution_count": null,
   "metadata": {},
   "outputs": [],
   "source": [
    "class Solution: #Time O(n) Memory O(n)\n",
    "    def dailyTemperatures(self, temperatures: List[int]) -> List[int]:\n",
    "        res = [0] * len(temperatures)\n",
    "        stack = [] # (temp, idx)\n",
    "\n",
    "\n",
    "        for i,temp in enumerate(temperatures):\n",
    "            while stack and stack[-1][0] < temp:\n",
    "                prev_temp,prev_idx = stack.pop()\n",
    "                res[prev_idx] = i -prev_idx\n",
    "            stack.append([temp,i])\n",
    "\n",
    "        return res"
   ]
  },
  {
   "cell_type": "markdown",
   "metadata": {},
   "source": [
    "## Leetcode 225. Implement Stack using Queues\n",
    "Implement a last-in-first-out (LIFO) stack using only two queues. The implemented stack should support all the functions of a normal stack (push, top, pop, and empty).\n",
    "\n",
    "Implement the MyStack class:\n",
    "\n",
    "void push(int x) Pushes element x to the top of the stack.\n",
    "int pop() Removes the element on the top of the stack and returns it.\n",
    "int top() Returns the element on the top of the stack.\n",
    "boolean empty() Returns true if the stack is empty, false otherwise.\n",
    "Notes:\n",
    "\n",
    "You must use only standard operations of a queue, which means that only push to back, peek/pop from front, size and is empty operations are valid.\n",
    "Depending on your language, the queue may not be supported natively. You may simulate a queue using a list or deque (double-ended queue) as long as you use only a queue's standard operations."
   ]
  },
  {
   "cell_type": "code",
   "execution_count": 1,
   "metadata": {},
   "outputs": [],
   "source": [
    "from collections import deque\n",
    "class MyStack:\n",
    "\n",
    "    def __init__(self):\n",
    "        self.q = deque()\n",
    "\n",
    "    def push(self, x: int) -> None:\n",
    "        self.q.append(x)\n",
    "\n",
    "    def pop(self) -> int:\n",
    "        for i in range(len(self.q)-1):\n",
    "            self.push(self.q.popleft())\n",
    "        return self.q.popleft()\n",
    "\n",
    "    def top(self) -> int:\n",
    "        return self.q[-1]\n",
    "\n",
    "    def empty(self) -> bool:\n",
    "        return len(self.q) == 0\n",
    "        \n",
    "\n",
    "\n",
    "# Your MyStack object will be instantiated and called as such:\n",
    "# obj = MyStack()\n",
    "# obj.push(x)\n",
    "# param_2 = obj.pop()\n",
    "# param_3 = obj.top()\n",
    "# param_4 = obj.empty()"
   ]
  },
  {
   "cell_type": "markdown",
   "metadata": {},
   "source": [
    "## Leetcode 682. Baseball Game\n",
    "You are keeping the scores for a baseball game with strange rules. At the beginning of the game, you start with an empty record.\n",
    "\n",
    "You are given a list of strings operations, where operations[i] is the ith operation you must apply to the record and is one of the following:\n",
    "\n",
    "An integer x.\n",
    "Record a new score of x.\n",
    "'+'.\n",
    "Record a new score that is the sum of the previous two scores.\n",
    "'D'.\n",
    "Record a new score that is the double of the previous score.\n",
    "'C'.\n",
    "Invalidate the previous score, removing it from the record.\n",
    "Return the sum of all the scores on the record after applying all the operations.\n",
    "\n",
    "The test cases are generated such that the answer and all intermediate calculations fit in a 32-bit integer and that all operations are valid."
   ]
  },
  {
   "cell_type": "code",
   "execution_count": null,
   "metadata": {},
   "outputs": [],
   "source": [
    "class Solution:\n",
    "    def calPoints(self, operations: List[str]) -> int:\n",
    "        stack = []\n",
    "\n",
    "        for op in operations:\n",
    "            if op == '+':\n",
    "                stack.append(stack[-1] + stack[-2])\n",
    "            elif op == 'C':\n",
    "                stack.pop()\n",
    "            elif op =='D':\n",
    "                stack.append(2*stack[-1])\n",
    "            else:\n",
    "                stack.append(int(op))\n",
    "\n",
    "        return sum(stack)"
   ]
  },
  {
   "cell_type": "markdown",
   "metadata": {},
   "source": [
    "## Leetcode 735. Asteroid Collision\n",
    "We are given an array asteroids of integers representing asteroids in a row. The indices of the asteriod in the array represent their relative position in space.\n",
    "\n",
    "For each asteroid, the absolute value represents its size, and the sign represents its direction (positive meaning right, negative meaning left). Each asteroid moves at the same speed.\n",
    "\n",
    "Find out the state of the asteroids after all collisions. If two asteroids meet, the smaller one will explode. If both are the same size, both will explode. Two asteroids moving in the same direction will never meet."
   ]
  },
  {
   "cell_type": "code",
   "execution_count": null,
   "metadata": {},
   "outputs": [],
   "source": [
    "class Solution:\n",
    "    def asteroidCollision(self, asteroids: List[int]) -> List[int]: #  Time O(n) Memory O(n)\n",
    "        stack=[]\n",
    "\n",
    "        for a in asteroids:\n",
    "            while stack and a < 0 and stack[-1] > 0:\n",
    "                diff = a + stack[-1]\n",
    "                if diff < 0:\n",
    "                    stack.pop()\n",
    "                elif diff > 0:\n",
    "                    a = 0\n",
    "                else:\n",
    "                    a = 0\n",
    "                    stack.pop()\n",
    "            if a != 0:\n",
    "                stack.append(a)\n",
    "        return stack"
   ]
  },
  {
   "cell_type": "markdown",
   "metadata": {},
   "source": [
    "## Leetcode 456. 132 Pattern\n",
    "Given an array of n integers nums, a 132 pattern is a subsequence of three integers nums[i], nums[j] and nums[k] such that i < j < k and nums[i] < nums[k] < nums[j].\n",
    "\n",
    "Return true if there is a 132 pattern in nums, otherwise, return false."
   ]
  },
  {
   "cell_type": "code",
   "execution_count": null,
   "metadata": {},
   "outputs": [],
   "source": [
    "class Solution:\n",
    "    def find132pattern(self, nums: List[int]) -> bool:\n",
    "        stack = [] # pair [num,minLeft]\n",
    "        curMin = nums[0]\n",
    "\n",
    "        for n in nums[1:]:\n",
    "            while stack and n >=stack[-1][0]:\n",
    "                stack.pop()\n",
    "            if stack and n < stack[-1][0] and n > stack[-1][1]:\n",
    "                return True\n",
    "            stack.append([n,curMin])\n",
    "            curMin = min(curMin,n)\n",
    "\n",
    "        return False"
   ]
  },
  {
   "cell_type": "markdown",
   "metadata": {},
   "source": [
    "## Leetcode 853. Car Fleet\n",
    "There are n cars at given miles away from the starting mile 0, traveling to reach the mile target.\n",
    "\n",
    "You are given two integer array position and speed, both of length n, where position[i] is the starting mile of the ith car and speed[i] is the speed of the ith car in miles per hour.\n",
    "\n",
    "A car cannot pass another car, but it can catch up and then travel next to it at the speed of the slower car.\n",
    "\n",
    "A car fleet is a car or cars driving next to each other. The speed of the car fleet is the minimum speed of any car in the fleet.\n",
    "\n",
    "If a car catches up to a car fleet at the mile target, it will still be considered as part of the car fleet.\n",
    "\n",
    "Return the number of car fleets that will arrive at the destination."
   ]
  },
  {
   "cell_type": "code",
   "execution_count": null,
   "metadata": {},
   "outputs": [],
   "source": [
    "class Solution:\n",
    "    def carFleet(self, target: int, position: List[int], speed: List[int]) -> int: \n",
    "        # Time O(n logn)\n",
    "        # Space O(n)\n",
    "        cars = list(zip(position,speed))        \n",
    "        cars.sort(reverse=True)\n",
    "        fleets = 0\n",
    "        slowest_car_time_to_dest = 0\n",
    "        for start,speed in cars:\n",
    "            current_car_time_to_dest = (target - start)/speed\n",
    "            if slowest_car_time_to_dest < current_car_time_to_dest:\n",
    "                fleets +=1\n",
    "                slowest_car_time_to_dest = current_car_time_to_dest\n",
    "        return fleets"
   ]
  },
  {
   "cell_type": "code",
   "execution_count": null,
   "metadata": {},
   "outputs": [],
   "source": []
  },
  {
   "cell_type": "code",
   "execution_count": null,
   "metadata": {},
   "outputs": [],
   "source": []
  },
  {
   "cell_type": "code",
   "execution_count": null,
   "metadata": {},
   "outputs": [],
   "source": []
  },
  {
   "cell_type": "code",
   "execution_count": null,
   "metadata": {},
   "outputs": [],
   "source": []
  },
  {
   "cell_type": "code",
   "execution_count": null,
   "metadata": {},
   "outputs": [],
   "source": []
  },
  {
   "cell_type": "code",
   "execution_count": null,
   "metadata": {},
   "outputs": [],
   "source": []
  },
  {
   "cell_type": "code",
   "execution_count": null,
   "metadata": {},
   "outputs": [],
   "source": []
  },
  {
   "cell_type": "code",
   "execution_count": null,
   "metadata": {},
   "outputs": [],
   "source": []
  },
  {
   "cell_type": "code",
   "execution_count": null,
   "metadata": {},
   "outputs": [],
   "source": []
  },
  {
   "cell_type": "code",
   "execution_count": null,
   "metadata": {},
   "outputs": [],
   "source": []
  },
  {
   "cell_type": "code",
   "execution_count": null,
   "metadata": {},
   "outputs": [],
   "source": []
  },
  {
   "cell_type": "code",
   "execution_count": null,
   "metadata": {},
   "outputs": [],
   "source": []
  },
  {
   "cell_type": "code",
   "execution_count": null,
   "metadata": {},
   "outputs": [],
   "source": []
  },
  {
   "cell_type": "code",
   "execution_count": null,
   "metadata": {},
   "outputs": [],
   "source": []
  },
  {
   "cell_type": "code",
   "execution_count": null,
   "metadata": {},
   "outputs": [],
   "source": []
  },
  {
   "cell_type": "code",
   "execution_count": null,
   "metadata": {},
   "outputs": [],
   "source": []
  },
  {
   "cell_type": "code",
   "execution_count": null,
   "metadata": {},
   "outputs": [],
   "source": []
  },
  {
   "cell_type": "code",
   "execution_count": null,
   "metadata": {},
   "outputs": [],
   "source": []
  },
  {
   "cell_type": "code",
   "execution_count": null,
   "metadata": {},
   "outputs": [],
   "source": []
  },
  {
   "cell_type": "code",
   "execution_count": null,
   "metadata": {},
   "outputs": [],
   "source": []
  },
  {
   "cell_type": "code",
   "execution_count": null,
   "metadata": {},
   "outputs": [],
   "source": []
  },
  {
   "cell_type": "code",
   "execution_count": null,
   "metadata": {},
   "outputs": [],
   "source": []
  },
  {
   "cell_type": "code",
   "execution_count": null,
   "metadata": {},
   "outputs": [],
   "source": []
  },
  {
   "cell_type": "code",
   "execution_count": null,
   "metadata": {},
   "outputs": [],
   "source": []
  },
  {
   "cell_type": "code",
   "execution_count": null,
   "metadata": {},
   "outputs": [],
   "source": []
  },
  {
   "cell_type": "code",
   "execution_count": null,
   "metadata": {},
   "outputs": [],
   "source": []
  },
  {
   "cell_type": "code",
   "execution_count": null,
   "metadata": {},
   "outputs": [],
   "source": []
  },
  {
   "cell_type": "code",
   "execution_count": null,
   "metadata": {},
   "outputs": [],
   "source": []
  },
  {
   "cell_type": "code",
   "execution_count": null,
   "metadata": {},
   "outputs": [],
   "source": []
  },
  {
   "cell_type": "code",
   "execution_count": null,
   "metadata": {},
   "outputs": [],
   "source": []
  },
  {
   "cell_type": "code",
   "execution_count": null,
   "metadata": {},
   "outputs": [],
   "source": []
  },
  {
   "cell_type": "code",
   "execution_count": null,
   "metadata": {},
   "outputs": [],
   "source": []
  },
  {
   "cell_type": "code",
   "execution_count": null,
   "metadata": {},
   "outputs": [],
   "source": []
  },
  {
   "cell_type": "code",
   "execution_count": null,
   "metadata": {},
   "outputs": [],
   "source": []
  },
  {
   "cell_type": "code",
   "execution_count": null,
   "metadata": {},
   "outputs": [],
   "source": []
  },
  {
   "cell_type": "code",
   "execution_count": null,
   "metadata": {},
   "outputs": [],
   "source": []
  },
  {
   "cell_type": "code",
   "execution_count": null,
   "metadata": {},
   "outputs": [],
   "source": []
  },
  {
   "cell_type": "code",
   "execution_count": null,
   "metadata": {},
   "outputs": [],
   "source": []
  },
  {
   "cell_type": "code",
   "execution_count": null,
   "metadata": {},
   "outputs": [],
   "source": []
  },
  {
   "cell_type": "code",
   "execution_count": null,
   "metadata": {},
   "outputs": [],
   "source": []
  },
  {
   "cell_type": "code",
   "execution_count": null,
   "metadata": {},
   "outputs": [],
   "source": []
  },
  {
   "cell_type": "code",
   "execution_count": null,
   "metadata": {},
   "outputs": [],
   "source": []
  },
  {
   "cell_type": "code",
   "execution_count": null,
   "metadata": {},
   "outputs": [],
   "source": []
  },
  {
   "cell_type": "code",
   "execution_count": null,
   "metadata": {},
   "outputs": [],
   "source": []
  },
  {
   "cell_type": "code",
   "execution_count": null,
   "metadata": {},
   "outputs": [],
   "source": []
  },
  {
   "cell_type": "code",
   "execution_count": null,
   "metadata": {},
   "outputs": [],
   "source": []
  },
  {
   "cell_type": "code",
   "execution_count": null,
   "metadata": {},
   "outputs": [],
   "source": []
  },
  {
   "cell_type": "code",
   "execution_count": null,
   "metadata": {},
   "outputs": [],
   "source": []
  },
  {
   "cell_type": "code",
   "execution_count": null,
   "metadata": {},
   "outputs": [],
   "source": []
  },
  {
   "cell_type": "code",
   "execution_count": null,
   "metadata": {},
   "outputs": [],
   "source": []
  }
 ],
 "metadata": {
  "kernelspec": {
   "display_name": "base",
   "language": "python",
   "name": "python3"
  },
  "language_info": {
   "codemirror_mode": {
    "name": "ipython",
    "version": 3
   },
   "file_extension": ".py",
   "mimetype": "text/x-python",
   "name": "python",
   "nbconvert_exporter": "python",
   "pygments_lexer": "ipython3",
   "version": "3.10.9"
  }
 },
 "nbformat": 4,
 "nbformat_minor": 2
}
