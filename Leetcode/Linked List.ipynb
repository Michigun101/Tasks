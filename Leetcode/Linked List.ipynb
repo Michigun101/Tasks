{
 "cells": [
  {
   "cell_type": "markdown",
   "id": "bde33b68",
   "metadata": {},
   "source": [
    "# Leetcode 707. Design Linked List ( Реализация Linked List)"
   ]
  },
  {
   "cell_type": "code",
   "execution_count": 1,
   "id": "146a89e8",
   "metadata": {},
   "outputs": [],
   "source": [
    "class Node:\n",
    "        def __init__(self, value):\n",
    "            self.value = value\n",
    "            self.next = None\n",
    "class MyLinkedList:\n",
    "    def __init__(self):\n",
    "        self.head = None\n",
    "        self.size = 0\n",
    "\n",
    "    def get(self, index: int) -> int:\n",
    "        if index < 0 or index>= self.size:\n",
    "            return -1\n",
    "        current = self.head\n",
    "        for _ in range(0,index):\n",
    "            current = current.next\n",
    "        return current.value\n",
    "\n",
    "    def addAtHead(self, val: int) -> None:\n",
    "        self.addAtIndex(0,val)    \n",
    "\n",
    "    def addAtTail(self, val: int) -> None:\n",
    "        self.addAtIndex(self.size,val)\n",
    "\n",
    "    def addAtIndex(self, index: int, val: int) -> None:\n",
    "        if index > self.size:\n",
    "            return\n",
    "        new_node = Node(val)\n",
    "        current = self.head\n",
    "\n",
    "        if index <=0:\n",
    "            new_node.next = current\n",
    "            self.head = new_node\n",
    "        else:\n",
    "            for _ in range(index-1):\n",
    "                current = current.next\n",
    "            new_node.next = current.next\n",
    "            current.next = new_node\n",
    "\n",
    "        self.size +=1    \n",
    "\n",
    "    def deleteAtIndex(self, index: int) -> None:\n",
    "        if index < 0 or index >=self.size:\n",
    "            return\n",
    "\n",
    "        current = self.head\n",
    "        if index == 0:\n",
    "            self.head = self.head.next \n",
    "        else:\n",
    "            for _ in range(0,index-1):\n",
    "                current = current.next\n",
    "            current.next = current.next.next\n",
    "\n",
    "        self.size -=1\n",
    "\n",
    "# Your MyLinkedList object will be instantiated and called as such:\n",
    "# obj = MyLinkedList()\n",
    "# param_1 = obj.get(index)\n",
    "# obj.addAtHead(val)\n",
    "# obj.addAtTail(val)\n",
    "# obj.addAtIndex(index,val)\n",
    "# obj.deleteAtIndex(index)"
   ]
  },
  {
   "cell_type": "markdown",
   "id": "47cc8540",
   "metadata": {},
   "source": [
    "## Leetcode 876. Middle of the Linked List"
   ]
  },
  {
   "cell_type": "code",
   "execution_count": 4,
   "id": "bbb15c82",
   "metadata": {},
   "outputs": [],
   "source": [
    "# Definition for singly-linked list.\n",
    "# class ListNode:\n",
    "#     def __init__(self, val=0, next=None):\n",
    "#         self.val = val\n",
    "#         self.next = next\n",
    "class Solution:\n",
    "    def middleNode(self, head):\n",
    "        slow = head\n",
    "        fast = head\n",
    "        while fast and fast.next:\n",
    "            fast = fast.next.next\n",
    "            slow = slow.next\n",
    "        return slow\n",
    "        "
   ]
  },
  {
   "cell_type": "markdown",
   "id": "ee89dee1",
   "metadata": {},
   "source": [
    "## Leetcode 2095. Delete the Middle Node of a Linked List"
   ]
  },
  {
   "cell_type": "code",
   "execution_count": 5,
   "id": "9924ff86",
   "metadata": {},
   "outputs": [],
   "source": [
    "# Definition for singly-linked list.\n",
    "# class ListNode:\n",
    "#     def __init__(self, val=0, next=None):\n",
    "#         self.val = val\n",
    "#         self.next = next\n",
    "class Solution:\n",
    "    def deleteMiddle(self, head):\n",
    "        if not head.next:\n",
    "            return None\n",
    "        \n",
    "        slow = head\n",
    "        fast = head.next.next\n",
    "\n",
    "        while fast and fast.next:\n",
    "            fast = fast.next.next\n",
    "            slow = slow.next\n",
    "\n",
    "        slow.next = slow.next.next\n",
    "        return head"
   ]
  },
  {
   "cell_type": "markdown",
   "id": "eef44841",
   "metadata": {},
   "source": [
    "## Leetcode 206. Reverse Linked List"
   ]
  },
  {
   "cell_type": "code",
   "execution_count": null,
   "id": "e9df60f6",
   "metadata": {},
   "outputs": [],
   "source": [
    "# Definition for singly-linked list.\n",
    "# class ListNode:\n",
    "#     def __init__(self, val=0, next=None):\n",
    "#         self.val = val\n",
    "#         self.next = next\n",
    "class Solution:\n",
    "    def reverseList(self, head):\n",
    "        prev = None\n",
    "        current = head\n",
    "        while current:\n",
    "            tmp = current.next\n",
    "            current.next = prev\n",
    "            prev = current\n",
    "            current = tmp\n",
    "        return prev"
   ]
  },
  {
   "cell_type": "markdown",
   "id": "7bfd982c",
   "metadata": {},
   "source": [
    "### Реализация 2"
   ]
  },
  {
   "cell_type": "code",
   "execution_count": null,
   "id": "c4136b68",
   "metadata": {},
   "outputs": [],
   "source": [
    "class Solution:\n",
    "    def reverseList(self, head):\n",
    "        prev = None\n",
    "        cur = head\n",
    "        while cur:\n",
    "            next_node = cur.next\n",
    "            cur.next = prev\n",
    "            prev = cur\n",
    "            cur = next_node\n",
    "        return prev"
   ]
  },
  {
   "cell_type": "markdown",
   "id": "522a8cad",
   "metadata": {},
   "source": [
    "## Leetcode 234. Palindrome Linked List "
   ]
  },
  {
   "cell_type": "code",
   "execution_count": 9,
   "id": "8847d876",
   "metadata": {},
   "outputs": [],
   "source": [
    "# Definition for singly-linked list.\n",
    "# class ListNode:\n",
    "#     def __init__(self, val=0, next=None):\n",
    "#         self.val = val\n",
    "#         self.next = next\n",
    "class Solution:\n",
    "    def isPalindrome(self, head) -> bool:\n",
    "        def middle(head):\n",
    "            slow = head\n",
    "            fast = head\n",
    "            while fast and fast.next:\n",
    "                fast = fast.next.next\n",
    "                slow = slow.next\n",
    "            return slow\n",
    "\n",
    "        def reverse(head):\n",
    "            prev = None\n",
    "            current = head\n",
    "            while current:\n",
    "                tmp = current.next\n",
    "                current.next = prev\n",
    "                prev = current\n",
    "                current = tmp\n",
    "            return prev\n",
    "\n",
    "        mid = middle(head)\n",
    "        second = reverse(mid)\n",
    "        first = head\n",
    "\n",
    "        while first and second:\n",
    "            if first.val != second.val:\n",
    "                return False\n",
    "            first = first.next\n",
    "            second = second.next\n",
    "        \n",
    "        return True"
   ]
  },
  {
   "cell_type": "markdown",
   "id": "8e8cd9c9",
   "metadata": {},
   "source": [
    "## Leetcode 83. Remove Duplicates from Sorted List"
   ]
  },
  {
   "cell_type": "code",
   "execution_count": 10,
   "id": "4f162ba5",
   "metadata": {},
   "outputs": [],
   "source": [
    "# Definition for singly-linked list.\n",
    "# class ListNode:\n",
    "#     def __init__(self, val=0, next=None):\n",
    "#         self.val = val\n",
    "#         self.next = next\n",
    "class Solution:\n",
    "    def deleteDuplicates(self, head):\n",
    "        current = head\n",
    "        while current and current.next:\n",
    "            if current.val == current.next.val:\n",
    "                current.next = current.next.next\n",
    "            else:\n",
    "                current = current.next\n",
    "        return head\n",
    "        "
   ]
  },
  {
   "cell_type": "markdown",
   "id": "71fcbbdf",
   "metadata": {},
   "source": [
    "## Leetcode 19. Remove Nth Node From End of List\n"
   ]
  },
  {
   "cell_type": "code",
   "execution_count": 12,
   "id": "0b7133e4",
   "metadata": {},
   "outputs": [],
   "source": [
    "# Definition for singly-linked list.\n",
    "# class ListNode:\n",
    "#     def __init__(self, val=0, next=None):\n",
    "#         self.val = val\n",
    "#         self.next = next\n",
    "class Solution:\n",
    "    def removeNthFromEnd(self, head, n: int):\n",
    "        dummy = ListNode()\n",
    "        dummy.next = head\n",
    "        first = dummy\n",
    "        second = dummy\n",
    "        for _ in range(n+1):\n",
    "            first = first.next\n",
    "\n",
    "        while first:\n",
    "            first = first.next\n",
    "            second = second.next\n",
    "\n",
    "        second.next= second.next.next\n",
    "\n",
    "        return dummy.next"
   ]
  },
  {
   "cell_type": "markdown",
   "id": "7c6d5f95",
   "metadata": {},
   "source": [
    "## Leetcode 24. Swap Nodes in Pairs( Перевернуть ноды попарно)"
   ]
  },
  {
   "cell_type": "code",
   "execution_count": 13,
   "id": "02a69a0e",
   "metadata": {},
   "outputs": [],
   "source": [
    "# Definition for singly-linked list.\n",
    "# class ListNode:\n",
    "#     def __init__(self, val=0, next=None):\n",
    "#         self.val = val\n",
    "#         self.next = next\n",
    "class Solution:\n",
    "    def swapPairs(self, head):\n",
    "        dummy = ListNode()\n",
    "        dummy.next = head\n",
    "\n",
    "        current = dummy\n",
    "        while current.next and current.next.next:\n",
    "            first = current.next\n",
    "            second = current.next.next\n",
    "\n",
    "            first.next = second.next\n",
    "            second.next = first\n",
    "            current.next = second\n",
    "            current = first\n",
    "\n",
    "        return dummy.next\n",
    "        "
   ]
  },
  {
   "cell_type": "markdown",
   "id": "5b48b638",
   "metadata": {},
   "source": [
    "## Leetcode 21. Merge Two Sorted Lists"
   ]
  },
  {
   "cell_type": "code",
   "execution_count": 14,
   "id": "28cff77c",
   "metadata": {},
   "outputs": [],
   "source": [
    "# Definition for singly-linked list.\n",
    "# class ListNode:\n",
    "#     def __init__(self, val=0, next=None):\n",
    "#         self.val = val\n",
    "#         self.next = next\n",
    "class Solution:\n",
    "    def mergeTwoLists(self, list1, list2):\n",
    "        dummy = ListNode()\n",
    "        current = dummy\n",
    "\n",
    "        p1 = list1\n",
    "        p2=list2\n",
    "        while p1 and p2:\n",
    "            if p1.val < p2.val:\n",
    "                current.next = p1\n",
    "                p1=p1.next\n",
    "            else:\n",
    "                current.next = p2\n",
    "                p2=p2.next\n",
    "            current = current.next\n",
    "        \n",
    "        if p1:\n",
    "            current.next = p1\n",
    "        if p2:\n",
    "            current.next = p2\n",
    "            \n",
    "        return dummy.next"
   ]
  },
  {
   "cell_type": "markdown",
   "id": "f5b64492",
   "metadata": {},
   "source": [
    "## Leetcode 141. Linked List Cycle (Есть ли цикл в Linked List)\n",
    "### Алгоритм Флойда"
   ]
  },
  {
   "cell_type": "code",
   "execution_count": 16,
   "id": "fbe811f4",
   "metadata": {},
   "outputs": [],
   "source": [
    "# Definition for singly-linked list.\n",
    "# class ListNode:\n",
    "#     def __init__(self, x):\n",
    "#         self.val = x\n",
    "#         self.next = None\n",
    "\n",
    "class Solution:\n",
    "    def hasCycle(self, head) -> bool:\n",
    "        slow = head\n",
    "        fast = head\n",
    "        while fast and fast.next:\n",
    "            slow = slow.next\n",
    "            fast = fast.next.next\n",
    "\n",
    "            if slow==fast:\n",
    "                return True\n",
    "\n",
    "        return False"
   ]
  },
  {
   "cell_type": "markdown",
   "id": "498df7cc",
   "metadata": {},
   "source": [
    "## Leetcode 92. Reverse Linked List II\n",
    "Given the head of a singly linked list and two integers left and right where left <= right, reverse the nodes of the list from position left to position right, and return the reversed list."
   ]
  },
  {
   "cell_type": "code",
   "execution_count": 1,
   "id": "e4604eb5",
   "metadata": {},
   "outputs": [],
   "source": [
    "# Definition for singly-linked list.\n",
    "# class ListNode:\n",
    "#     def __init__(self, val=0, next=None):\n",
    "#         self.val = val\n",
    "#         self.next = next\n",
    "class Solution:\n",
    "    def reverseBetween(self, head, left: int, right: int):\n",
    "        prev , cur = None, head\n",
    "\n",
    "        for _ in range(left - 1):\n",
    "            prev , cur = cur , cur.next\n",
    "\n",
    "        connector_node, new_tail = prev, cur\n",
    "\n",
    "        for _ in range(left-1, right):\n",
    "            next_node = cur.next\n",
    "            cur.next = prev\n",
    "            prev = cur\n",
    "            cur = next_node \n",
    "\n",
    "        new_tail.next = next_node\n",
    "\n",
    "        if connector_node:\n",
    "            connector_node.next = prev\n",
    "        else:\n",
    "            head = prev\n",
    "\n",
    "        return head\n",
    "\n",
    "#Time O(n)\n",
    "#Space O(1)"
   ]
  },
  {
   "cell_type": "markdown",
   "id": "fed1d3fc",
   "metadata": {},
   "source": [
    "## Leetcode 2. Add Two Numbers\n",
    "You are given two non-empty linked lists representing two non-negative integers. The digits are stored in reverse order, and each of their nodes contains a single digit. Add the two numbers and return the sum as a linked list.\n",
    "\n",
    "You may assume the two numbers do not contain any leading zero, except the number 0 itself."
   ]
  },
  {
   "cell_type": "code",
   "execution_count": null,
   "id": "89b49a30",
   "metadata": {},
   "outputs": [],
   "source": [
    "# Definition for singly-linked list.\n",
    "# class ListNode:\n",
    "#     def __init__(self, val=0, next=None):\n",
    "#         self.val = val\n",
    "#         self.next = next\n",
    "\n",
    "# Time O(max(l1,l2)) Memory O(1)\n",
    "class Solution:\n",
    "    def addTwoNumbers(self, l1: Optional[ListNode], l2: Optional[ListNode]) -> Optional[ListNode]:\n",
    "        dummy = ListNode()\n",
    "        cur = dummy\n",
    "        extra = 0\n",
    "\n",
    "        while l1 or l2:\n",
    "            a,b=0,0\n",
    "            \n",
    "            if l1:\n",
    "                a=l1.val\n",
    "                l1=l1.next\n",
    "\n",
    "            if l2:\n",
    "                b=l2.val\n",
    "                l2=l2.next\n",
    "\n",
    "            total = a+b+extra\n",
    "            extra = total // 10\n",
    "\n",
    "            cur.next = ListNode(total % 10)\n",
    "            cur = cur.next\n",
    "            \n",
    "        if extra:\n",
    "            cur.next = ListNode(extra)\n",
    "\n",
    "        return dummy.next"
   ]
  },
  {
   "cell_type": "markdown",
   "id": "22e52efa",
   "metadata": {},
   "source": [
    "## Leetcode 23. Merge k Sorted Lists\n",
    "You are given an array of k linked-lists lists, each linked-list is sorted in ascending order.\n",
    "\n",
    "Merge all the linked-lists into one sorted linked-list and return it."
   ]
  },
  {
   "cell_type": "markdown",
   "id": "e850f0e3",
   "metadata": {},
   "source": [
    "Берем первые два списка, сортируем. Далее отсортированный список сортируем идентично со следующим и так далее. Но чтобы было быстрее делим список пополам, сортируем каждую пару в один и идем также, пока не будет 1 список."
   ]
  },
  {
   "cell_type": "code",
   "execution_count": null,
   "id": "14429e9c",
   "metadata": {},
   "outputs": [],
   "source": [
    "# Definition for singly-linked list.\n",
    "# class ListNode:\n",
    "#     def __init__(self, val=0, next=None):\n",
    "#         self.val = val\n",
    "#         self.next = next\n",
    "class Solution:\n",
    "    def mergeKLists(self, lists: List[Optional[ListNode]]) -> Optional[ListNode]: # T(O (log k)) M(O(1))\n",
    "        if not lists:\n",
    "            return None\n",
    "        while len(lists)>1:\n",
    "            merged_lists = []\n",
    "            lists_len = len(lists)\n",
    "            for idx in range(0,lists_len,2):\n",
    "                l1 = lists[idx]\n",
    "                next_id = idx + 1\n",
    "                l2 = lists[next_id] if next_id < lists_len else None\n",
    "                new_list = self.merge_two_sorted_lists(l1,l2)\n",
    "                merged_lists.append(new_list)\n",
    "            lists = merged_lists\n",
    "\n",
    "\n",
    "        return lists[0]\n",
    "\n",
    "    def merge_two_sorted_lists(\n",
    "            self, list1: Optional[ListNode], list2:Optional[ListNode]\n",
    "    )-> Optional[ListNode]:\n",
    "        dummy = ListNode()\n",
    "        tail = dummy\n",
    "        while list1 and list2:\n",
    "            if list1.val < list2.val:\n",
    "                tail.next = list1\n",
    "                list1 = list1.next\n",
    "            else:\n",
    "                tail.next = list2\n",
    "                list2 = list2.next\n",
    "            tail = tail.next\n",
    "        tail.next = list1 or list2\n",
    "        return dummy.next"
   ]
  },
  {
   "cell_type": "code",
   "execution_count": null,
   "id": "d4f15fa4",
   "metadata": {},
   "outputs": [],
   "source": []
  },
  {
   "cell_type": "code",
   "execution_count": null,
   "id": "dc58ac28",
   "metadata": {},
   "outputs": [],
   "source": []
  },
  {
   "cell_type": "code",
   "execution_count": null,
   "id": "a0ee673f",
   "metadata": {},
   "outputs": [],
   "source": []
  },
  {
   "cell_type": "code",
   "execution_count": null,
   "id": "dc644afd",
   "metadata": {},
   "outputs": [],
   "source": []
  },
  {
   "cell_type": "code",
   "execution_count": null,
   "id": "bb741888",
   "metadata": {},
   "outputs": [],
   "source": []
  },
  {
   "cell_type": "code",
   "execution_count": null,
   "id": "4aaabde9",
   "metadata": {},
   "outputs": [],
   "source": []
  },
  {
   "cell_type": "code",
   "execution_count": null,
   "id": "7ebb75b7",
   "metadata": {},
   "outputs": [],
   "source": []
  },
  {
   "cell_type": "code",
   "execution_count": null,
   "id": "75e5ad3b",
   "metadata": {},
   "outputs": [],
   "source": []
  },
  {
   "cell_type": "code",
   "execution_count": null,
   "id": "d6e07c01",
   "metadata": {},
   "outputs": [],
   "source": []
  },
  {
   "cell_type": "code",
   "execution_count": null,
   "id": "56f1cda6",
   "metadata": {},
   "outputs": [],
   "source": []
  },
  {
   "cell_type": "code",
   "execution_count": null,
   "id": "493f83d4",
   "metadata": {},
   "outputs": [],
   "source": []
  },
  {
   "cell_type": "code",
   "execution_count": null,
   "id": "bbc6f5a8",
   "metadata": {},
   "outputs": [],
   "source": []
  },
  {
   "cell_type": "code",
   "execution_count": null,
   "id": "5edb15b6",
   "metadata": {},
   "outputs": [],
   "source": []
  },
  {
   "cell_type": "code",
   "execution_count": null,
   "id": "15cb19cd",
   "metadata": {},
   "outputs": [],
   "source": []
  },
  {
   "cell_type": "code",
   "execution_count": null,
   "id": "f4f035f6",
   "metadata": {},
   "outputs": [],
   "source": []
  },
  {
   "cell_type": "code",
   "execution_count": null,
   "id": "f717e892",
   "metadata": {},
   "outputs": [],
   "source": []
  }
 ],
 "metadata": {
  "kernelspec": {
   "display_name": "base",
   "language": "python",
   "name": "python3"
  },
  "language_info": {
   "codemirror_mode": {
    "name": "ipython",
    "version": 3
   },
   "file_extension": ".py",
   "mimetype": "text/x-python",
   "name": "python",
   "nbconvert_exporter": "python",
   "pygments_lexer": "ipython3",
   "version": "3.10.9"
  }
 },
 "nbformat": 4,
 "nbformat_minor": 5
}
