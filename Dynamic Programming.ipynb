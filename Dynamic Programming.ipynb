{
 "cells": [
  {
   "cell_type": "markdown",
   "metadata": {},
   "source": [
    "## Leetcode 509. Fibonacci Number\n",
    "The Fibonacci numbers, commonly denoted F(n) form a sequence, called the Fibonacci sequence, such that each number is the sum of the two preceding ones, starting from 0 and 1. That is,\n",
    "\n",
    "F(0) = 0, F(1) = 1\n",
    "F(n) = F(n - 1) + F(n - 2), for n > 1.\n",
    "Given n, calculate F(n)."
   ]
  },
  {
   "cell_type": "markdown",
   "metadata": {},
   "source": [
    "### 1-я реализация через рекурсию (очень медленно)"
   ]
  },
  {
   "cell_type": "code",
   "execution_count": null,
   "metadata": {},
   "outputs": [],
   "source": [
    "class Solution:\n",
    "    def fib(self, n: int) -> int: # Time O(2^n)\n",
    "        if n <= 0:\n",
    "            return 0\n",
    "        if n == 1:\n",
    "            return 1\n",
    "\n",
    "        return self.fib(n-1) + self.fib(n-2)"
   ]
  },
  {
   "cell_type": "markdown",
   "metadata": {},
   "source": [
    "### 2-я реализация через меморизацию (может быть глубокая рекурсия)"
   ]
  },
  {
   "cell_type": "code",
   "execution_count": null,
   "metadata": {},
   "outputs": [],
   "source": [
    "class Solution:\n",
    "    def fib(self, n: int) -> int: # Time O(n)\n",
    "        cache = {}\n",
    "\n",
    "        def inner(n):\n",
    "            if n == 0:\n",
    "                return 0\n",
    "            if n == 1:\n",
    "                return 1\n",
    "            \n",
    "            if n in cache:\n",
    "                return cache[n]\n",
    "            \n",
    "            cache[n] = inner(n-1) + inner(n-2)\n",
    "            return cache[n]\n",
    "        \n",
    "        return inner(n)"
   ]
  },
  {
   "cell_type": "markdown",
   "metadata": {},
   "source": [
    "### 3-я реализация через массив (теперь нет рекурсивных вызовов)"
   ]
  },
  {
   "cell_type": "code",
   "execution_count": null,
   "metadata": {},
   "outputs": [],
   "source": [
    "class Solution:\n",
    "    def fib(self, n: int) -> int: # Time O(n) Space O(n)\n",
    "        if n == 0:\n",
    "            return 0\n",
    "            \n",
    "        dp = [0]*(n+1)\n",
    "        dp[1]=1\n",
    "        \n",
    "        for i in range(2,n+1):\n",
    "            dp[i] = dp[i-1] + dp[i-2]\n",
    "\n",
    "        return dp[n]"
   ]
  },
  {
   "cell_type": "markdown",
   "metadata": {},
   "source": [
    "### 4-я реализация через две переменных (без лишнего остатка массива)"
   ]
  },
  {
   "cell_type": "code",
   "execution_count": null,
   "metadata": {},
   "outputs": [],
   "source": [
    "class Solution:\n",
    "    def fib(self, n: int) -> int: # Time O(n) Space O(1)\n",
    "        if n == 0:\n",
    "            return 0\n",
    "            \n",
    "        a=0\n",
    "        b=1\n",
    "        \n",
    "        for i in range(2,n+1):\n",
    "            tmp = a+b\n",
    "            a = b\n",
    "            b = tmp\n",
    "\n",
    "        return b"
   ]
  },
  {
   "cell_type": "markdown",
   "metadata": {},
   "source": [
    "## Leetcode 70. Climbing Stairs\n",
    "You are climbing a staircase. It takes n steps to reach the top.\n",
    "\n",
    "Each time you can either climb 1 or 2 steps. In how many distinct ways can you climb to the top?\n",
    "\n"
   ]
  },
  {
   "cell_type": "markdown",
   "metadata": {},
   "source": [
    "От чисел фибоначи отличается только начальным условием"
   ]
  },
  {
   "cell_type": "code",
   "execution_count": null,
   "metadata": {},
   "outputs": [],
   "source": [
    "class Solution:\n",
    "    def climbStairs(self, n: int) -> int:\n",
    "        cache = {}\n",
    "\n",
    "        def inner(n):\n",
    "            if n == 0:\n",
    "                return 1\n",
    "            if n == 1:\n",
    "                return 1\n",
    "            \n",
    "            if n in cache:\n",
    "                return cache[n]\n",
    "            \n",
    "            cache[n] = inner(n-1) + inner(n-2)\n",
    "            return cache[n]\n",
    "        \n",
    "        return inner(n)"
   ]
  },
  {
   "cell_type": "markdown",
   "metadata": {},
   "source": [
    "## Leetcode 746. Min Cost Climbing Stairs\n",
    "You are given an integer array cost where cost[i] is the cost of ith step on a staircase. Once you pay the cost, you can either climb one or two steps.\n",
    "\n",
    "You can either start from the step with index 0, or the step with index 1.\n",
    "\n",
    "Return the minimum cost to reach the top of the floor."
   ]
  },
  {
   "cell_type": "code",
   "execution_count": null,
   "metadata": {},
   "outputs": [],
   "source": [
    "class Solution:\n",
    "    def minCostClimbingStairs(self, cost: List[int]) -> int:\n",
    "        cache = {}\n",
    "        n = len(cost)\n",
    "\n",
    "        def inner(n):\n",
    "            if n<=1:\n",
    "                return 0\n",
    "\n",
    "            if n in cache:\n",
    "                return cache[n]\n",
    "            \n",
    "            cache[n] = min(inner(n-1)+cost[n-1],inner(n-2)+cost[n-2])\n",
    "            return cache[n]\n",
    "\n",
    "        return inner(n)\n"
   ]
  },
  {
   "cell_type": "markdown",
   "metadata": {},
   "source": [
    "### Снизу вверх"
   ]
  },
  {
   "cell_type": "code",
   "execution_count": null,
   "metadata": {},
   "outputs": [],
   "source": [
    "class Solution:\n",
    "    def minCostClimbingStairs(self, cost: List[int]) -> int: # Time O(n) Space O(n) но можно O(1)\n",
    "        n = len(cost)\n",
    "        dp = [0] * (n+1)\n",
    "\n",
    "        for i in range(2,n+1):\n",
    "            dp[i] = min(dp[i-1]+cost[i-1],dp[i-2]+cost[i-2])\n",
    "\n",
    "        return dp[n]"
   ]
  },
  {
   "cell_type": "markdown",
   "metadata": {},
   "source": [
    "## Leetcode 322. Coin Change\n",
    "You are given an integer array coins representing coins of different denominations and an integer amount representing a total amount of money.\n",
    "\n",
    "Return the fewest number of coins that you need to make up that amount. If that amount of money cannot be made up by any combination of the coins, return -1.\n",
    "\n",
    "You may assume that you have an infinite number of each kind of coin."
   ]
  },
  {
   "cell_type": "code",
   "execution_count": null,
   "metadata": {},
   "outputs": [],
   "source": [
    "class Solution:\n",
    "    def coinChange(self, coins: List[int], amount: int) -> int:\n",
    "        dp = [float('inf')] * (amount+1)\n",
    "        dp[0] = 0\n",
    "\n",
    "        for coin in coins:\n",
    "            for i in range(coin,amount+1):\n",
    "                dp[i] = min(dp[i],dp[i-coin] + 1)\n",
    "\n",
    "        if dp[amount] == float('inf'):\n",
    "            return -1\n",
    "        return dp[amount]"
   ]
  },
  {
   "cell_type": "markdown",
   "metadata": {},
   "source": [
    "## Leetcode 198. House Robber\n",
    "You are a professional robber planning to rob houses along a street. Each house has a certain amount of money stashed, the only constraint stopping you from robbing each of them is that adjacent houses have security systems connected and it will automatically contact the police if two adjacent houses were broken into on the same night.\n",
    "\n",
    "Given an integer array nums representing the amount of money of each house, return the maximum amount of money you can rob tonight without alerting the police."
   ]
  },
  {
   "cell_type": "markdown",
   "metadata": {},
   "source": [
    "### Сверху вниз"
   ]
  },
  {
   "cell_type": "code",
   "execution_count": null,
   "metadata": {},
   "outputs": [],
   "source": [
    "class Solution:\n",
    "    def rob(self, nums: List[int]) -> int:\n",
    "        cache = {}\n",
    "\n",
    "        def inner(nums):\n",
    "            n = len(nums)\n",
    "            if len(nums) == 0:\n",
    "                return 0\n",
    "            if len(nums) == 1:\n",
    "                return nums[0]\n",
    "\n",
    "            if n in cache:\n",
    "                return cache[n]\n",
    "            \n",
    "            cache[n] = max(nums[0] + inner(nums[2:]),inner(nums[1:]))\n",
    "            return cache[n]\n",
    "\n",
    "        return inner(nums)"
   ]
  },
  {
   "cell_type": "markdown",
   "metadata": {},
   "source": [
    "### Снизу вверх"
   ]
  },
  {
   "cell_type": "code",
   "execution_count": null,
   "metadata": {},
   "outputs": [],
   "source": [
    "class Solution:\n",
    "    def rob(self, nums: List[int]) -> int: #Space O(n)\n",
    "        n = len(nums)\n",
    "        dp = [0] * (n+1)\n",
    "\n",
    "        dp[1] = nums[0]\n",
    "\n",
    "        for i in range(2,n+1):\n",
    "            dp[i] = max(nums[i-1]+dp[i-2],dp[i-1])\n",
    "        return dp[n]"
   ]
  },
  {
   "cell_type": "code",
   "execution_count": null,
   "metadata": {},
   "outputs": [],
   "source": [
    "class Solution:\n",
    "    def rob(self, nums: List[int]) -> int: # Space O(1)\n",
    "        a=0\n",
    "        b=0\n",
    "\n",
    "        for num in nums:\n",
    "            tmp = max(a+num,b)\n",
    "            a=b\n",
    "            b=tmp\n",
    "        return b"
   ]
  },
  {
   "cell_type": "markdown",
   "metadata": {},
   "source": [
    "## Leetcode 91. Decode Ways\n",
    "You have intercepted a secret message encoded as a string of numbers. The message is decoded via the following mapping:\n",
    "\n",
    "\"1\" -> 'A'\n",
    "\n",
    "\"2\" -> 'B'\n",
    "\n",
    "...\n",
    "\n",
    "\"25\" -> 'Y'\n",
    "\n",
    "\"26\" -> 'Z'\n",
    "\n",
    "However, while decoding the message, you realize that there are many different ways you can decode the message because some codes are contained in other codes (\"2\" and \"5\" vs \"25\").\n",
    "\n",
    "For example, \"11106\" can be decoded into:\n",
    "\n",
    "\"AAJF\" with the grouping (1, 1, 10, 6)\n",
    "\"KJF\" with the grouping (11, 10, 6)\n",
    "The grouping (1, 11, 06) is invalid because \"06\" is not a valid code (only \"6\" is valid).\n",
    "Note: there may be strings that are impossible to decode.\n",
    "\n",
    "Given a string s containing only digits, return the number of ways to decode it. If the entire string cannot be decoded in any valid way, return 0.\n",
    "\n",
    "The test cases are generated so that the answer fits in a 32-bit integer."
   ]
  },
  {
   "cell_type": "markdown",
   "metadata": {},
   "source": [
    "### Сверху вниз"
   ]
  },
  {
   "cell_type": "code",
   "execution_count": null,
   "metadata": {},
   "outputs": [],
   "source": [
    "class Solution:\n",
    "    def numDecodings(self, s: str) -> int:\n",
    "        cache = {}\n",
    "\n",
    "        def inner(s):\n",
    "            if len(s) == 0:\n",
    "                return 1\n",
    "            if s[0] == '0':\n",
    "                return 0\n",
    "            \n",
    "            if len(s) == 1:\n",
    "                return 1\n",
    "            \n",
    "            if s[:2] > '26':\n",
    "                if s[1:] not in cache:\n",
    "                    cache[s[1:]] = inner(s[1:])\n",
    "                return cache[s[1:]]\n",
    "            \n",
    "            if not(s[1:] in cache and s[2:] in cache):\n",
    "                cache[s[1:]] = inner(s[1:])\n",
    "                cache[s[2:]] = inner(s[2:])\n",
    "            elif s[1:] in cache and s[2:] not in cache:\n",
    "                cache[s[2:]] = inner(s[2:])\n",
    "            elif s[2:] in cache and s[1:] not in cache:\n",
    "                cache[s[1:]] = inner(s[1:])\n",
    "\n",
    "            return cache[s[1:]] +cache[s[2:]]\n",
    "        \n",
    "        return inner(s)"
   ]
  },
  {
   "cell_type": "markdown",
   "metadata": {},
   "source": [
    "## Leetcode 62. Unique Paths\n",
    "There is a robot on an m x n grid. The robot is initially located at the top-left corner (i.e., grid[0][0]). The robot tries to move to the bottom-right corner (i.e., grid[m - 1][n - 1]). The robot can only move either down or right at any point in time.\n",
    "\n",
    "Given the two integers m and n, return the number of possible unique paths that the robot can take to reach the bottom-right corner.\n",
    "\n",
    "The test cases are generated so that the answer will be less than or equal to 2 * 109."
   ]
  },
  {
   "cell_type": "markdown",
   "metadata": {},
   "source": [
    "### 1-я реализация C(n,k)"
   ]
  },
  {
   "cell_type": "code",
   "execution_count": 4,
   "metadata": {},
   "outputs": [],
   "source": [
    "def c(n,k):\n",
    "        k=min(k,n-k)\n",
    "        result=1\n",
    "        for i in range(1,k+1):\n",
    "            result=result*(n-k+i)/i\n",
    "        return int(result)\n",
    "class Solution:\n",
    "    def uniquePaths(self, m: int, n: int) -> int:\n",
    "        return c(n+m-2,m-1)"
   ]
  },
  {
   "cell_type": "markdown",
   "metadata": {},
   "source": [
    "### 2-я реализация ДП"
   ]
  },
  {
   "cell_type": "code",
   "execution_count": null,
   "metadata": {},
   "outputs": [],
   "source": [
    "class Solution:\n",
    "    def uniquePaths(self, m: int, n: int) -> int:\n",
    "        dp = [[1]*m for _ in range(n)]\n",
    "\n",
    "        for i in range(1,n):\n",
    "            for j in range(1,m):\n",
    "                dp[i][j] = dp[i-1][j] + dp[i][j-1]\n",
    "\n",
    "        return dp[n-1][m-1]"
   ]
  },
  {
   "cell_type": "markdown",
   "metadata": {},
   "source": [
    "## Leetcode 64. Minimum Path Sum\n",
    "Given a m x n grid filled with non-negative numbers, find a path from top left to bottom right, which minimizes the sum of all numbers along its path.\n",
    "\n",
    "Note: You can only move either down or right at any point in time."
   ]
  },
  {
   "cell_type": "code",
   "execution_count": null,
   "metadata": {},
   "outputs": [],
   "source": [
    "class Solution:\n",
    "    def minPathSum(self, grid: List[List[int]]) -> int:\n",
    "        n = len(grid)\n",
    "        m=len(grid[0])\n",
    "        dp = [[0]*m for _ in range(n)]\n",
    "\n",
    "        for i in range(1,n):\n",
    "            dp[i][0] = dp[i-1][0] + grid[i-1][0]\n",
    "        for j in range(1,m):\n",
    "            dp[0][j] = dp[0][j-1] + grid[0][j-1]\n",
    "\n",
    "        for i in range(1,n):\n",
    "            for j in range(1,m):\n",
    "                dp[i][j] = min(dp[i-1][j] + grid[i-1][j],dp[i][j-1] + grid[i][j-1])\n",
    "\n",
    "        return dp[n-1][m-1] + grid[n-1][m-1]"
   ]
  },
  {
   "cell_type": "markdown",
   "metadata": {},
   "source": [
    "### Вариант, когда мы вшиваем в grid сумму, а не делаем dp"
   ]
  },
  {
   "cell_type": "code",
   "execution_count": null,
   "metadata": {},
   "outputs": [],
   "source": [
    "class Solution:\n",
    "    def minPathSum(self, grid: List[List[int]]) -> int:\n",
    "            \n",
    "        m, n = len(grid), len(grid[0])\n",
    "        \n",
    "        for i in range(1, m):\n",
    "            grid[i][0] += grid[i-1][0]\n",
    "        \n",
    "        for i in range(1, n):\n",
    "            grid[0][i] += grid[0][i-1]\n",
    "        \n",
    "        for i in range(1, m):\n",
    "            for j in range(1, n):\n",
    "                grid[i][j] += min(grid[i-1][j], grid[i][j-1])\n",
    "        \n",
    "        return grid[-1][-1]\n",
    "    "
   ]
  },
  {
   "cell_type": "markdown",
   "metadata": {},
   "source": [
    "## Leetcode 72. Edit Distance\n",
    "Given two strings word1 and word2, return the minimum number of operations required to convert word1 to word2.\n",
    "\n",
    "You have the following three operations permitted on a word:\n",
    "\n",
    "Insert a character\n",
    "Delete a character\n",
    "Replace a character"
   ]
  },
  {
   "cell_type": "markdown",
   "metadata": {},
   "source": [
    "### Реализацию через меморизацию"
   ]
  },
  {
   "cell_type": "code",
   "execution_count": 7,
   "metadata": {},
   "outputs": [],
   "source": [
    "class Solution:\n",
    "    def minDistance(self, word1: str, word2: str) -> int:\n",
    "        cache = {}\n",
    "        def lev(a,b):\n",
    "            if len(a) == 0:\n",
    "                return len(b)\n",
    "            if len(b) == 0:\n",
    "                return len(a)\n",
    "            \n",
    "            if a[0] == b[0]:\n",
    "                if (a[1:],b[1:]) not in cache:\n",
    "                    cache[(a[1:],b[1:])] =lev(a[1:],b[1:])\n",
    "                return cache[(a[1:],b[1:])]\n",
    "            \n",
    "            if (a[1:],b) not in cache:\n",
    "                cache[(a[1:],b)] = lev(a[1:],b)\n",
    "            \n",
    "            if (a,b[1:]) not in cache:\n",
    "                cache[(a,b[1:])] = lev(a,b[1:])\n",
    "\n",
    "            if (a[1:],b[1:]) not in cache:\n",
    "                    cache[(a[1:],b[1:])] =lev(a[1:],b[1:])\n",
    "\n",
    "            return 1+ min(\n",
    "                cache[(a[1:],b)],\n",
    "                cache[(a,b[1:])],\n",
    "                cache[(a[1:],b[1:])]\n",
    "            )\n",
    "        \n",
    "        return lev(word1,word2)\n",
    "            "
   ]
  },
  {
   "cell_type": "markdown",
   "metadata": {},
   "source": [
    "### Более красивая реализация"
   ]
  },
  {
   "cell_type": "code",
   "execution_count": 6,
   "metadata": {},
   "outputs": [],
   "source": [
    "class Solution:\n",
    "    def minDistance(self, word1: str, word2: str) -> int:\n",
    "        n = len(word1)\n",
    "        m = len(word2)\n",
    "\n",
    "        dp = [[0]*(m+1) for _ in range(n+1)]\n",
    "        for i in range(1,n+1):\n",
    "            dp[i][0] = dp[i-1][0] + 1\n",
    "\n",
    "        for j in range(1, m+1):\n",
    "            dp[0][j] = dp[0][j-1] + 1\n",
    "\n",
    "        for i in range(1,n+1):\n",
    "            for j in range(1,m+1):\n",
    "                if word1[i-1] == word2[j-1]:\n",
    "                    dp[i][j] = dp[i-1][j-1]\n",
    "                else:\n",
    "                    dp[i][j] = 1 + min(\n",
    "                        dp[i-1][j-1],\n",
    "                        dp[i-1][j],\n",
    "                        dp[i][j-1]\n",
    "                    )\n",
    "        return dp[n][m]"
   ]
  },
  {
   "cell_type": "code",
   "execution_count": null,
   "metadata": {},
   "outputs": [],
   "source": []
  },
  {
   "cell_type": "code",
   "execution_count": null,
   "metadata": {},
   "outputs": [],
   "source": []
  },
  {
   "cell_type": "code",
   "execution_count": null,
   "metadata": {},
   "outputs": [],
   "source": []
  },
  {
   "cell_type": "code",
   "execution_count": null,
   "metadata": {},
   "outputs": [],
   "source": []
  },
  {
   "cell_type": "code",
   "execution_count": null,
   "metadata": {},
   "outputs": [],
   "source": []
  },
  {
   "cell_type": "code",
   "execution_count": null,
   "metadata": {},
   "outputs": [],
   "source": []
  },
  {
   "cell_type": "code",
   "execution_count": null,
   "metadata": {},
   "outputs": [],
   "source": []
  },
  {
   "cell_type": "code",
   "execution_count": null,
   "metadata": {},
   "outputs": [],
   "source": []
  },
  {
   "cell_type": "code",
   "execution_count": null,
   "metadata": {},
   "outputs": [],
   "source": []
  },
  {
   "cell_type": "code",
   "execution_count": null,
   "metadata": {},
   "outputs": [],
   "source": []
  },
  {
   "cell_type": "code",
   "execution_count": null,
   "metadata": {},
   "outputs": [],
   "source": []
  },
  {
   "cell_type": "code",
   "execution_count": null,
   "metadata": {},
   "outputs": [],
   "source": []
  },
  {
   "cell_type": "code",
   "execution_count": null,
   "metadata": {},
   "outputs": [],
   "source": []
  },
  {
   "cell_type": "code",
   "execution_count": null,
   "metadata": {},
   "outputs": [],
   "source": []
  },
  {
   "cell_type": "code",
   "execution_count": null,
   "metadata": {},
   "outputs": [],
   "source": []
  },
  {
   "cell_type": "code",
   "execution_count": null,
   "metadata": {},
   "outputs": [],
   "source": []
  },
  {
   "cell_type": "code",
   "execution_count": null,
   "metadata": {},
   "outputs": [],
   "source": []
  },
  {
   "cell_type": "code",
   "execution_count": null,
   "metadata": {},
   "outputs": [],
   "source": []
  },
  {
   "cell_type": "code",
   "execution_count": null,
   "metadata": {},
   "outputs": [],
   "source": []
  },
  {
   "cell_type": "code",
   "execution_count": null,
   "metadata": {},
   "outputs": [],
   "source": []
  },
  {
   "cell_type": "code",
   "execution_count": null,
   "metadata": {},
   "outputs": [],
   "source": []
  },
  {
   "cell_type": "code",
   "execution_count": null,
   "metadata": {},
   "outputs": [],
   "source": []
  },
  {
   "cell_type": "code",
   "execution_count": null,
   "metadata": {},
   "outputs": [],
   "source": []
  },
  {
   "cell_type": "code",
   "execution_count": null,
   "metadata": {},
   "outputs": [],
   "source": []
  },
  {
   "cell_type": "code",
   "execution_count": null,
   "metadata": {},
   "outputs": [],
   "source": []
  },
  {
   "cell_type": "code",
   "execution_count": null,
   "metadata": {},
   "outputs": [],
   "source": []
  },
  {
   "cell_type": "code",
   "execution_count": null,
   "metadata": {},
   "outputs": [],
   "source": []
  },
  {
   "cell_type": "code",
   "execution_count": null,
   "metadata": {},
   "outputs": [],
   "source": []
  },
  {
   "cell_type": "code",
   "execution_count": null,
   "metadata": {},
   "outputs": [],
   "source": []
  }
 ],
 "metadata": {
  "kernelspec": {
   "display_name": "base",
   "language": "python",
   "name": "python3"
  },
  "language_info": {
   "codemirror_mode": {
    "name": "ipython",
    "version": 3
   },
   "file_extension": ".py",
   "mimetype": "text/x-python",
   "name": "python",
   "nbconvert_exporter": "python",
   "pygments_lexer": "ipython3",
   "version": "3.10.9"
  }
 },
 "nbformat": 4,
 "nbformat_minor": 2
}
